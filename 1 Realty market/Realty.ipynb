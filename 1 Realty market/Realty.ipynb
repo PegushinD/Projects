{
 "cells": [
  {
   "cell_type": "markdown",
   "metadata": {},
   "source": [
    "# Исследование объявлений о продаже квартир\n",
    "\n",
    "В вашем распоряжении данные сервиса Яндекс.Недвижимость — архив объявлений о продаже квартир в Санкт-Петербурге и соседних населённых пунктов за несколько лет. Нужно научиться определять рыночную стоимость объектов недвижимости. Ваша задача — установить параметры. Это позволит построить автоматизированную систему: она отследит аномалии и мошенническую деятельность. \n",
    "\n",
    "По каждой квартире на продажу доступны два вида данных. Первые вписаны пользователем, вторые — получены автоматически на основе картографических данных. Например, расстояние до центра, аэропорта, ближайшего парка и водоёма. "
   ]
  },
  {
   "cell_type": "markdown",
   "metadata": {},
   "source": [
    "### Откройте файл с данными и изучите общую информацию. "
   ]
  },
  {
   "cell_type": "code",
   "execution_count": 1,
   "metadata": {},
   "outputs": [],
   "source": [
    "import pandas as pd\n",
    "import warnings\n",
    "import seaborn as sb"
   ]
  },
  {
   "cell_type": "code",
   "execution_count": 2,
   "metadata": {},
   "outputs": [
    {
     "data": {
      "text/html": [
       "<div>\n",
       "<style scoped>\n",
       "    .dataframe tbody tr th:only-of-type {\n",
       "        vertical-align: middle;\n",
       "    }\n",
       "\n",
       "    .dataframe tbody tr th {\n",
       "        vertical-align: top;\n",
       "    }\n",
       "\n",
       "    .dataframe thead th {\n",
       "        text-align: right;\n",
       "    }\n",
       "</style>\n",
       "<table border=\"1\" class=\"dataframe\">\n",
       "  <thead>\n",
       "    <tr style=\"text-align: right;\">\n",
       "      <th></th>\n",
       "      <th>total_images</th>\n",
       "      <th>last_price</th>\n",
       "      <th>total_area</th>\n",
       "      <th>first_day_exposition</th>\n",
       "      <th>rooms</th>\n",
       "      <th>ceiling_height</th>\n",
       "      <th>floors_total</th>\n",
       "      <th>living_area</th>\n",
       "      <th>floor</th>\n",
       "      <th>is_apartment</th>\n",
       "      <th>...</th>\n",
       "      <th>kitchen_area</th>\n",
       "      <th>balcony</th>\n",
       "      <th>locality_name</th>\n",
       "      <th>airports_nearest</th>\n",
       "      <th>cityCenters_nearest</th>\n",
       "      <th>parks_around3000</th>\n",
       "      <th>parks_nearest</th>\n",
       "      <th>ponds_around3000</th>\n",
       "      <th>ponds_nearest</th>\n",
       "      <th>days_exposition</th>\n",
       "    </tr>\n",
       "  </thead>\n",
       "  <tbody>\n",
       "    <tr>\n",
       "      <th>0</th>\n",
       "      <td>20</td>\n",
       "      <td>13000000.0</td>\n",
       "      <td>108.00</td>\n",
       "      <td>2019-03-07T00:00:00</td>\n",
       "      <td>3</td>\n",
       "      <td>2.70</td>\n",
       "      <td>16.0</td>\n",
       "      <td>51.00</td>\n",
       "      <td>8</td>\n",
       "      <td>NaN</td>\n",
       "      <td>...</td>\n",
       "      <td>25.00</td>\n",
       "      <td>NaN</td>\n",
       "      <td>Санкт-Петербург</td>\n",
       "      <td>18863.0</td>\n",
       "      <td>16028.0</td>\n",
       "      <td>1.0</td>\n",
       "      <td>482.0</td>\n",
       "      <td>2.0</td>\n",
       "      <td>755.0</td>\n",
       "      <td>NaN</td>\n",
       "    </tr>\n",
       "    <tr>\n",
       "      <th>1</th>\n",
       "      <td>7</td>\n",
       "      <td>3350000.0</td>\n",
       "      <td>40.40</td>\n",
       "      <td>2018-12-04T00:00:00</td>\n",
       "      <td>1</td>\n",
       "      <td>NaN</td>\n",
       "      <td>11.0</td>\n",
       "      <td>18.60</td>\n",
       "      <td>1</td>\n",
       "      <td>NaN</td>\n",
       "      <td>...</td>\n",
       "      <td>11.00</td>\n",
       "      <td>2.0</td>\n",
       "      <td>посёлок Шушары</td>\n",
       "      <td>12817.0</td>\n",
       "      <td>18603.0</td>\n",
       "      <td>0.0</td>\n",
       "      <td>NaN</td>\n",
       "      <td>0.0</td>\n",
       "      <td>NaN</td>\n",
       "      <td>81.0</td>\n",
       "    </tr>\n",
       "    <tr>\n",
       "      <th>2</th>\n",
       "      <td>10</td>\n",
       "      <td>5196000.0</td>\n",
       "      <td>56.00</td>\n",
       "      <td>2015-08-20T00:00:00</td>\n",
       "      <td>2</td>\n",
       "      <td>NaN</td>\n",
       "      <td>5.0</td>\n",
       "      <td>34.30</td>\n",
       "      <td>4</td>\n",
       "      <td>NaN</td>\n",
       "      <td>...</td>\n",
       "      <td>8.30</td>\n",
       "      <td>0.0</td>\n",
       "      <td>Санкт-Петербург</td>\n",
       "      <td>21741.0</td>\n",
       "      <td>13933.0</td>\n",
       "      <td>1.0</td>\n",
       "      <td>90.0</td>\n",
       "      <td>2.0</td>\n",
       "      <td>574.0</td>\n",
       "      <td>558.0</td>\n",
       "    </tr>\n",
       "    <tr>\n",
       "      <th>3</th>\n",
       "      <td>0</td>\n",
       "      <td>64900000.0</td>\n",
       "      <td>159.00</td>\n",
       "      <td>2015-07-24T00:00:00</td>\n",
       "      <td>3</td>\n",
       "      <td>NaN</td>\n",
       "      <td>14.0</td>\n",
       "      <td>NaN</td>\n",
       "      <td>9</td>\n",
       "      <td>NaN</td>\n",
       "      <td>...</td>\n",
       "      <td>NaN</td>\n",
       "      <td>0.0</td>\n",
       "      <td>Санкт-Петербург</td>\n",
       "      <td>28098.0</td>\n",
       "      <td>6800.0</td>\n",
       "      <td>2.0</td>\n",
       "      <td>84.0</td>\n",
       "      <td>3.0</td>\n",
       "      <td>234.0</td>\n",
       "      <td>424.0</td>\n",
       "    </tr>\n",
       "    <tr>\n",
       "      <th>4</th>\n",
       "      <td>2</td>\n",
       "      <td>10000000.0</td>\n",
       "      <td>100.00</td>\n",
       "      <td>2018-06-19T00:00:00</td>\n",
       "      <td>2</td>\n",
       "      <td>3.03</td>\n",
       "      <td>14.0</td>\n",
       "      <td>32.00</td>\n",
       "      <td>13</td>\n",
       "      <td>NaN</td>\n",
       "      <td>...</td>\n",
       "      <td>41.00</td>\n",
       "      <td>NaN</td>\n",
       "      <td>Санкт-Петербург</td>\n",
       "      <td>31856.0</td>\n",
       "      <td>8098.0</td>\n",
       "      <td>2.0</td>\n",
       "      <td>112.0</td>\n",
       "      <td>1.0</td>\n",
       "      <td>48.0</td>\n",
       "      <td>121.0</td>\n",
       "    </tr>\n",
       "    <tr>\n",
       "      <th>5</th>\n",
       "      <td>10</td>\n",
       "      <td>2890000.0</td>\n",
       "      <td>30.40</td>\n",
       "      <td>2018-09-10T00:00:00</td>\n",
       "      <td>1</td>\n",
       "      <td>NaN</td>\n",
       "      <td>12.0</td>\n",
       "      <td>14.40</td>\n",
       "      <td>5</td>\n",
       "      <td>NaN</td>\n",
       "      <td>...</td>\n",
       "      <td>9.10</td>\n",
       "      <td>NaN</td>\n",
       "      <td>городской посёлок Янино-1</td>\n",
       "      <td>NaN</td>\n",
       "      <td>NaN</td>\n",
       "      <td>NaN</td>\n",
       "      <td>NaN</td>\n",
       "      <td>NaN</td>\n",
       "      <td>NaN</td>\n",
       "      <td>55.0</td>\n",
       "    </tr>\n",
       "    <tr>\n",
       "      <th>6</th>\n",
       "      <td>6</td>\n",
       "      <td>3700000.0</td>\n",
       "      <td>37.30</td>\n",
       "      <td>2017-11-02T00:00:00</td>\n",
       "      <td>1</td>\n",
       "      <td>NaN</td>\n",
       "      <td>26.0</td>\n",
       "      <td>10.60</td>\n",
       "      <td>6</td>\n",
       "      <td>NaN</td>\n",
       "      <td>...</td>\n",
       "      <td>14.40</td>\n",
       "      <td>1.0</td>\n",
       "      <td>посёлок Парголово</td>\n",
       "      <td>52996.0</td>\n",
       "      <td>19143.0</td>\n",
       "      <td>0.0</td>\n",
       "      <td>NaN</td>\n",
       "      <td>0.0</td>\n",
       "      <td>NaN</td>\n",
       "      <td>155.0</td>\n",
       "    </tr>\n",
       "    <tr>\n",
       "      <th>7</th>\n",
       "      <td>5</td>\n",
       "      <td>7915000.0</td>\n",
       "      <td>71.60</td>\n",
       "      <td>2019-04-18T00:00:00</td>\n",
       "      <td>2</td>\n",
       "      <td>NaN</td>\n",
       "      <td>24.0</td>\n",
       "      <td>NaN</td>\n",
       "      <td>22</td>\n",
       "      <td>NaN</td>\n",
       "      <td>...</td>\n",
       "      <td>18.90</td>\n",
       "      <td>2.0</td>\n",
       "      <td>Санкт-Петербург</td>\n",
       "      <td>23982.0</td>\n",
       "      <td>11634.0</td>\n",
       "      <td>0.0</td>\n",
       "      <td>NaN</td>\n",
       "      <td>0.0</td>\n",
       "      <td>NaN</td>\n",
       "      <td>NaN</td>\n",
       "    </tr>\n",
       "    <tr>\n",
       "      <th>8</th>\n",
       "      <td>20</td>\n",
       "      <td>2900000.0</td>\n",
       "      <td>33.16</td>\n",
       "      <td>2018-05-23T00:00:00</td>\n",
       "      <td>1</td>\n",
       "      <td>NaN</td>\n",
       "      <td>27.0</td>\n",
       "      <td>15.43</td>\n",
       "      <td>26</td>\n",
       "      <td>NaN</td>\n",
       "      <td>...</td>\n",
       "      <td>8.81</td>\n",
       "      <td>NaN</td>\n",
       "      <td>посёлок Мурино</td>\n",
       "      <td>NaN</td>\n",
       "      <td>NaN</td>\n",
       "      <td>NaN</td>\n",
       "      <td>NaN</td>\n",
       "      <td>NaN</td>\n",
       "      <td>NaN</td>\n",
       "      <td>189.0</td>\n",
       "    </tr>\n",
       "    <tr>\n",
       "      <th>9</th>\n",
       "      <td>18</td>\n",
       "      <td>5400000.0</td>\n",
       "      <td>61.00</td>\n",
       "      <td>2017-02-26T00:00:00</td>\n",
       "      <td>3</td>\n",
       "      <td>2.50</td>\n",
       "      <td>9.0</td>\n",
       "      <td>43.60</td>\n",
       "      <td>7</td>\n",
       "      <td>NaN</td>\n",
       "      <td>...</td>\n",
       "      <td>6.50</td>\n",
       "      <td>2.0</td>\n",
       "      <td>Санкт-Петербург</td>\n",
       "      <td>50898.0</td>\n",
       "      <td>15008.0</td>\n",
       "      <td>0.0</td>\n",
       "      <td>NaN</td>\n",
       "      <td>0.0</td>\n",
       "      <td>NaN</td>\n",
       "      <td>289.0</td>\n",
       "    </tr>\n",
       "  </tbody>\n",
       "</table>\n",
       "<p>10 rows × 22 columns</p>\n",
       "</div>"
      ],
      "text/plain": [
       "   total_images  last_price  total_area first_day_exposition  rooms  \\\n",
       "0            20  13000000.0      108.00  2019-03-07T00:00:00      3   \n",
       "1             7   3350000.0       40.40  2018-12-04T00:00:00      1   \n",
       "2            10   5196000.0       56.00  2015-08-20T00:00:00      2   \n",
       "3             0  64900000.0      159.00  2015-07-24T00:00:00      3   \n",
       "4             2  10000000.0      100.00  2018-06-19T00:00:00      2   \n",
       "5            10   2890000.0       30.40  2018-09-10T00:00:00      1   \n",
       "6             6   3700000.0       37.30  2017-11-02T00:00:00      1   \n",
       "7             5   7915000.0       71.60  2019-04-18T00:00:00      2   \n",
       "8            20   2900000.0       33.16  2018-05-23T00:00:00      1   \n",
       "9            18   5400000.0       61.00  2017-02-26T00:00:00      3   \n",
       "\n",
       "   ceiling_height  floors_total  living_area  floor is_apartment  ...  \\\n",
       "0            2.70          16.0        51.00      8          NaN  ...   \n",
       "1             NaN          11.0        18.60      1          NaN  ...   \n",
       "2             NaN           5.0        34.30      4          NaN  ...   \n",
       "3             NaN          14.0          NaN      9          NaN  ...   \n",
       "4            3.03          14.0        32.00     13          NaN  ...   \n",
       "5             NaN          12.0        14.40      5          NaN  ...   \n",
       "6             NaN          26.0        10.60      6          NaN  ...   \n",
       "7             NaN          24.0          NaN     22          NaN  ...   \n",
       "8             NaN          27.0        15.43     26          NaN  ...   \n",
       "9            2.50           9.0        43.60      7          NaN  ...   \n",
       "\n",
       "   kitchen_area  balcony              locality_name  airports_nearest  \\\n",
       "0         25.00      NaN            Санкт-Петербург           18863.0   \n",
       "1         11.00      2.0             посёлок Шушары           12817.0   \n",
       "2          8.30      0.0            Санкт-Петербург           21741.0   \n",
       "3           NaN      0.0            Санкт-Петербург           28098.0   \n",
       "4         41.00      NaN            Санкт-Петербург           31856.0   \n",
       "5          9.10      NaN  городской посёлок Янино-1               NaN   \n",
       "6         14.40      1.0          посёлок Парголово           52996.0   \n",
       "7         18.90      2.0            Санкт-Петербург           23982.0   \n",
       "8          8.81      NaN             посёлок Мурино               NaN   \n",
       "9          6.50      2.0            Санкт-Петербург           50898.0   \n",
       "\n",
       "  cityCenters_nearest  parks_around3000  parks_nearest  ponds_around3000  \\\n",
       "0             16028.0               1.0          482.0               2.0   \n",
       "1             18603.0               0.0            NaN               0.0   \n",
       "2             13933.0               1.0           90.0               2.0   \n",
       "3              6800.0               2.0           84.0               3.0   \n",
       "4              8098.0               2.0          112.0               1.0   \n",
       "5                 NaN               NaN            NaN               NaN   \n",
       "6             19143.0               0.0            NaN               0.0   \n",
       "7             11634.0               0.0            NaN               0.0   \n",
       "8                 NaN               NaN            NaN               NaN   \n",
       "9             15008.0               0.0            NaN               0.0   \n",
       "\n",
       "   ponds_nearest  days_exposition  \n",
       "0          755.0              NaN  \n",
       "1            NaN             81.0  \n",
       "2          574.0            558.0  \n",
       "3          234.0            424.0  \n",
       "4           48.0            121.0  \n",
       "5            NaN             55.0  \n",
       "6            NaN            155.0  \n",
       "7            NaN              NaN  \n",
       "8            NaN            189.0  \n",
       "9            NaN            289.0  \n",
       "\n",
       "[10 rows x 22 columns]"
      ]
     },
     "metadata": {},
     "output_type": "display_data"
    },
    {
     "name": "stdout",
     "output_type": "stream",
     "text": [
      "<class 'pandas.core.frame.DataFrame'>\n",
      "RangeIndex: 23699 entries, 0 to 23698\n",
      "Data columns (total 22 columns):\n",
      " #   Column                Non-Null Count  Dtype  \n",
      "---  ------                --------------  -----  \n",
      " 0   total_images          23699 non-null  int64  \n",
      " 1   last_price            23699 non-null  float64\n",
      " 2   total_area            23699 non-null  float64\n",
      " 3   first_day_exposition  23699 non-null  object \n",
      " 4   rooms                 23699 non-null  int64  \n",
      " 5   ceiling_height        14504 non-null  float64\n",
      " 6   floors_total          23613 non-null  float64\n",
      " 7   living_area           21796 non-null  float64\n",
      " 8   floor                 23699 non-null  int64  \n",
      " 9   is_apartment          2775 non-null   object \n",
      " 10  studio                23699 non-null  bool   \n",
      " 11  open_plan             23699 non-null  bool   \n",
      " 12  kitchen_area          21421 non-null  float64\n",
      " 13  balcony               12180 non-null  float64\n",
      " 14  locality_name         23650 non-null  object \n",
      " 15  airports_nearest      18157 non-null  float64\n",
      " 16  cityCenters_nearest   18180 non-null  float64\n",
      " 17  parks_around3000      18181 non-null  float64\n",
      " 18  parks_nearest         8079 non-null   float64\n",
      " 19  ponds_around3000      18181 non-null  float64\n",
      " 20  ponds_nearest         9110 non-null   float64\n",
      " 21  days_exposition       20518 non-null  float64\n",
      "dtypes: bool(2), float64(14), int64(3), object(3)\n",
      "memory usage: 3.7+ MB\n"
     ]
    },
    {
     "data": {
      "image/png": "[encoded data removed]",
      "text/plain": [
       "<Figure size 1080x1440 with 20 Axes>"
      ]
     },
     "metadata": {
      "needs_background": "light"
     },
     "output_type": "display_data"
    }
   ],
   "source": [
    "df = pd.read_csv('/datasets/real_estate_data.csv', sep='\\t')\n",
    "display(df.head(10))\n",
    "df.info()\n",
    "pd.set_option('display.max_columns', None)\n",
    "df.hist(figsize=(15,20));"
   ]
  },
  {
   "cell_type": "markdown",
   "metadata": {},
   "source": [
    "### Предобработка данных"
   ]
  },
  {
   "cell_type": "markdown",
   "metadata": {},
   "source": [
    "#### Пропущенные значения\n"
   ]
  },
  {
   "cell_type": "code",
   "execution_count": 3,
   "metadata": {},
   "outputs": [
    {
     "data": {
      "text/plain": [
       "total_images                0\n",
       "last_price                  0\n",
       "total_area                  0\n",
       "first_day_exposition        0\n",
       "rooms                       0\n",
       "ceiling_height           9195\n",
       "floors_total               86\n",
       "living_area              1903\n",
       "floor                       0\n",
       "is_apartment            20924\n",
       "studio                      0\n",
       "open_plan                   0\n",
       "kitchen_area             2278\n",
       "balcony                 11519\n",
       "locality_name              49\n",
       "airports_nearest         5542\n",
       "cityCenters_nearest      5519\n",
       "parks_around3000         5518\n",
       "parks_nearest           15620\n",
       "ponds_around3000         5518\n",
       "ponds_nearest           14589\n",
       "days_exposition          3181\n",
       "dtype: int64"
      ]
     },
     "execution_count": 3,
     "metadata": {},
     "output_type": "execute_result"
    }
   ],
   "source": [
    "df.isna().sum() #находим количство пропущеных значенией в каждом столбце,\n",
    "#и хоть эти данные есть после вызова информации о датасете, нагляднее видеть именно количество пропусков\n",
    "# начинаем поочереди обрабатывать значения в столбцах"
   ]
  },
  {
   "cell_type": "code",
   "execution_count": 4,
   "metadata": {},
   "outputs": [
    {
     "data": {
      "text/plain": [
       "0"
      ]
     },
     "execution_count": 4,
     "metadata": {},
     "output_type": "execute_result"
    }
   ],
   "source": [
    "#df['ceiling_height'].isna().sum()\n",
    "#чтобы заполнить пропуски в высоте потолков найдем медианное значение\n",
    "#df['ceiling_height'].median()\n",
    "#заполним пропуски медианными значениями\n",
    "df['ceiling_height'] = df['ceiling_height'].fillna(2.65)\n",
    "#проверим количество пропусков\n",
    "df['ceiling_height'].isna().sum()\n"
   ]
  },
  {
   "cell_type": "code",
   "execution_count": 5,
   "metadata": {
    "scrolled": true
   },
   "outputs": [],
   "source": [
    "#чтобы разобраться со строками с пропущени=ыми значениями с всего жтажей посмотрим на эти данные. \n",
    "#Для этого заменим пропуски на ноль и сделаем срез по этим строкам\n",
    "df['floors_total'] = df['floors_total'].fillna(0)\n",
    "df.query('floors_total == 0')\n",
    "#никаких закономерностей по пропускам нет, значит оставим нулевые значения, но заменим тип данных на int, \n",
    "#пропущенных значений всего 86 строки с этими данными можн о и удалить.\n",
    "df['floors_total'] = df['floors_total'].astype(int)\n"
   ]
  },
  {
   "cell_type": "code",
   "execution_count": 6,
   "metadata": {},
   "outputs": [
    {
     "data": {
      "text/plain": [
       "0"
      ]
     },
     "execution_count": 6,
     "metadata": {},
     "output_type": "execute_result"
    }
   ],
   "source": [
    "# заполним пропуски данных о количестве балконов нулевыми данными так как вероятно,\n",
    "#что в большей степени причиной возникновение пропусков является не заполнение этих данных продавцом\n",
    "df['balcony'] = df['balcony'].fillna(0)\n",
    "df['balcony'].isna().sum()"
   ]
  },
  {
   "cell_type": "code",
   "execution_count": 7,
   "metadata": {},
   "outputs": [
    {
     "data": {
      "text/plain": [
       "parks_around3000    0\n",
       "ponds_around3000    0\n",
       "dtype: int64"
      ]
     },
     "execution_count": 7,
     "metadata": {},
     "output_type": "execute_result"
    }
   ],
   "source": [
    "#заменим все пропуски данных о количестве прудов и парков в радиусе 3000 м, нулями, так эти данные заполняются автоматически то вероятнее всего\n",
    "#это програмный сбой или в указанном радиусе нет прудов и парков\n",
    "df[['parks_around3000', 'ponds_around3000']] = df[['parks_around3000', 'ponds_around3000']].fillna(0)\n",
    "df[['parks_around3000', 'ponds_around3000']].isna().sum()"
   ]
  },
  {
   "cell_type": "code",
   "execution_count": 8,
   "metadata": {},
   "outputs": [
    {
     "data": {
      "text/plain": [
       "0"
      ]
     },
     "execution_count": 8,
     "metadata": {},
     "output_type": "execute_result"
    }
   ],
   "source": [
    "#пропуски значений в столбце is_apatment логично заменить на False, а затем заменить тип данных на bool, в описании данных\n",
    "# указано что в данном столбце хранятся булевы значения. По информации о датасете в данном стобце используется тип данных\n",
    "# object\n",
    "df['is_apartment'] = df['is_apartment'].fillna(False).astype(bool)\n",
    "df['is_apartment'].isna().sum()\n"
   ]
  },
  {
   "cell_type": "code",
   "execution_count": 9,
   "metadata": {},
   "outputs": [],
   "source": [
    "# попробуем найти закономерности в пропусках занчений площади кужни и жилой площади, возможно при продаже квартир-студий \n",
    "#продавцы не указывали эти данные\n",
    "# сделаем срез по квартирам студиям\n",
    "df.query('studio == True')['kitchen_area'].isna().sum()\n",
    "#df.query('studio == True').info()\n",
    "# делаем вывод что для типа квартир студия площад кухни не указано совсем. \n",
    "#Согласно строительным нормам и правилам (СНиП), площадь комнаты в однокомнатной квартире должна\n",
    "#быть не менее 14 квадратных метров, а кухни, по самым «мягким» правилам, — 5 квадратных метров\n",
    "#заменим пустые значения площади кухни для студий на минимально разрешенное.\n",
    "df.loc[(df['studio']==True, 'kitchen_area')] = 5\n"
   ]
  },
  {
   "cell_type": "code",
   "execution_count": 10,
   "metadata": {},
   "outputs": [
    {
     "data": {
      "text/html": [
       "<div>\n",
       "<style scoped>\n",
       "    .dataframe tbody tr th:only-of-type {\n",
       "        vertical-align: middle;\n",
       "    }\n",
       "\n",
       "    .dataframe tbody tr th {\n",
       "        vertical-align: top;\n",
       "    }\n",
       "\n",
       "    .dataframe thead th {\n",
       "        text-align: right;\n",
       "    }\n",
       "</style>\n",
       "<table border=\"1\" class=\"dataframe\">\n",
       "  <thead>\n",
       "    <tr style=\"text-align: right;\">\n",
       "      <th></th>\n",
       "      <th>total_images</th>\n",
       "      <th>last_price</th>\n",
       "      <th>total_area</th>\n",
       "      <th>first_day_exposition</th>\n",
       "      <th>rooms</th>\n",
       "      <th>ceiling_height</th>\n",
       "      <th>floors_total</th>\n",
       "      <th>living_area</th>\n",
       "      <th>floor</th>\n",
       "      <th>is_apartment</th>\n",
       "      <th>studio</th>\n",
       "      <th>open_plan</th>\n",
       "      <th>kitchen_area</th>\n",
       "      <th>balcony</th>\n",
       "      <th>locality_name</th>\n",
       "      <th>airports_nearest</th>\n",
       "      <th>cityCenters_nearest</th>\n",
       "      <th>parks_around3000</th>\n",
       "      <th>parks_nearest</th>\n",
       "      <th>ponds_around3000</th>\n",
       "      <th>ponds_nearest</th>\n",
       "      <th>days_exposition</th>\n",
       "    </tr>\n",
       "  </thead>\n",
       "  <tbody>\n",
       "    <tr>\n",
       "      <th>3</th>\n",
       "      <td>0</td>\n",
       "      <td>64900000.0</td>\n",
       "      <td>159.0</td>\n",
       "      <td>2015-07-24T00:00:00</td>\n",
       "      <td>3</td>\n",
       "      <td>2.65</td>\n",
       "      <td>14</td>\n",
       "      <td>NaN</td>\n",
       "      <td>9</td>\n",
       "      <td>False</td>\n",
       "      <td>False</td>\n",
       "      <td>False</td>\n",
       "      <td>NaN</td>\n",
       "      <td>0.0</td>\n",
       "      <td>Санкт-Петербург</td>\n",
       "      <td>28098.0</td>\n",
       "      <td>6800.0</td>\n",
       "      <td>2.0</td>\n",
       "      <td>84.0</td>\n",
       "      <td>3.0</td>\n",
       "      <td>234.0</td>\n",
       "      <td>424.0</td>\n",
       "    </tr>\n",
       "    <tr>\n",
       "      <th>30</th>\n",
       "      <td>12</td>\n",
       "      <td>2200000.0</td>\n",
       "      <td>32.8</td>\n",
       "      <td>2018-02-19T00:00:00</td>\n",
       "      <td>1</td>\n",
       "      <td>2.65</td>\n",
       "      <td>9</td>\n",
       "      <td>NaN</td>\n",
       "      <td>2</td>\n",
       "      <td>False</td>\n",
       "      <td>False</td>\n",
       "      <td>False</td>\n",
       "      <td>NaN</td>\n",
       "      <td>0.0</td>\n",
       "      <td>Коммунар</td>\n",
       "      <td>NaN</td>\n",
       "      <td>NaN</td>\n",
       "      <td>0.0</td>\n",
       "      <td>NaN</td>\n",
       "      <td>0.0</td>\n",
       "      <td>NaN</td>\n",
       "      <td>63.0</td>\n",
       "    </tr>\n",
       "    <tr>\n",
       "      <th>37</th>\n",
       "      <td>10</td>\n",
       "      <td>1990000.0</td>\n",
       "      <td>45.8</td>\n",
       "      <td>2017-10-28T00:00:00</td>\n",
       "      <td>2</td>\n",
       "      <td>2.50</td>\n",
       "      <td>5</td>\n",
       "      <td>NaN</td>\n",
       "      <td>1</td>\n",
       "      <td>False</td>\n",
       "      <td>False</td>\n",
       "      <td>False</td>\n",
       "      <td>NaN</td>\n",
       "      <td>0.0</td>\n",
       "      <td>поселок городского типа Красный Бор</td>\n",
       "      <td>NaN</td>\n",
       "      <td>NaN</td>\n",
       "      <td>0.0</td>\n",
       "      <td>NaN</td>\n",
       "      <td>0.0</td>\n",
       "      <td>NaN</td>\n",
       "      <td>196.0</td>\n",
       "    </tr>\n",
       "    <tr>\n",
       "      <th>44</th>\n",
       "      <td>13</td>\n",
       "      <td>5350000.0</td>\n",
       "      <td>40.0</td>\n",
       "      <td>2018-11-18T00:00:00</td>\n",
       "      <td>1</td>\n",
       "      <td>2.65</td>\n",
       "      <td>22</td>\n",
       "      <td>NaN</td>\n",
       "      <td>3</td>\n",
       "      <td>False</td>\n",
       "      <td>False</td>\n",
       "      <td>False</td>\n",
       "      <td>NaN</td>\n",
       "      <td>1.0</td>\n",
       "      <td>Санкт-Петербург</td>\n",
       "      <td>30471.0</td>\n",
       "      <td>11603.0</td>\n",
       "      <td>1.0</td>\n",
       "      <td>620.0</td>\n",
       "      <td>1.0</td>\n",
       "      <td>1152.0</td>\n",
       "      <td>NaN</td>\n",
       "    </tr>\n",
       "    <tr>\n",
       "      <th>59</th>\n",
       "      <td>15</td>\n",
       "      <td>6300000.0</td>\n",
       "      <td>46.5</td>\n",
       "      <td>2017-03-06T00:00:00</td>\n",
       "      <td>1</td>\n",
       "      <td>2.65</td>\n",
       "      <td>13</td>\n",
       "      <td>NaN</td>\n",
       "      <td>13</td>\n",
       "      <td>False</td>\n",
       "      <td>False</td>\n",
       "      <td>False</td>\n",
       "      <td>NaN</td>\n",
       "      <td>0.0</td>\n",
       "      <td>Санкт-Петербург</td>\n",
       "      <td>11125.0</td>\n",
       "      <td>14501.0</td>\n",
       "      <td>0.0</td>\n",
       "      <td>NaN</td>\n",
       "      <td>0.0</td>\n",
       "      <td>NaN</td>\n",
       "      <td>336.0</td>\n",
       "    </tr>\n",
       "    <tr>\n",
       "      <th>...</th>\n",
       "      <td>...</td>\n",
       "      <td>...</td>\n",
       "      <td>...</td>\n",
       "      <td>...</td>\n",
       "      <td>...</td>\n",
       "      <td>...</td>\n",
       "      <td>...</td>\n",
       "      <td>...</td>\n",
       "      <td>...</td>\n",
       "      <td>...</td>\n",
       "      <td>...</td>\n",
       "      <td>...</td>\n",
       "      <td>...</td>\n",
       "      <td>...</td>\n",
       "      <td>...</td>\n",
       "      <td>...</td>\n",
       "      <td>...</td>\n",
       "      <td>...</td>\n",
       "      <td>...</td>\n",
       "      <td>...</td>\n",
       "      <td>...</td>\n",
       "      <td>...</td>\n",
       "    </tr>\n",
       "    <tr>\n",
       "      <th>23655</th>\n",
       "      <td>1</td>\n",
       "      <td>2414306.0</td>\n",
       "      <td>40.5</td>\n",
       "      <td>2016-09-08T00:00:00</td>\n",
       "      <td>1</td>\n",
       "      <td>2.56</td>\n",
       "      <td>18</td>\n",
       "      <td>19.6</td>\n",
       "      <td>10</td>\n",
       "      <td>False</td>\n",
       "      <td>False</td>\n",
       "      <td>False</td>\n",
       "      <td>NaN</td>\n",
       "      <td>0.0</td>\n",
       "      <td>Никольское</td>\n",
       "      <td>NaN</td>\n",
       "      <td>NaN</td>\n",
       "      <td>0.0</td>\n",
       "      <td>NaN</td>\n",
       "      <td>0.0</td>\n",
       "      <td>NaN</td>\n",
       "      <td>627.0</td>\n",
       "    </tr>\n",
       "    <tr>\n",
       "      <th>23663</th>\n",
       "      <td>12</td>\n",
       "      <td>6400000.0</td>\n",
       "      <td>88.0</td>\n",
       "      <td>2018-01-12T00:00:00</td>\n",
       "      <td>4</td>\n",
       "      <td>2.55</td>\n",
       "      <td>10</td>\n",
       "      <td>NaN</td>\n",
       "      <td>1</td>\n",
       "      <td>False</td>\n",
       "      <td>False</td>\n",
       "      <td>False</td>\n",
       "      <td>NaN</td>\n",
       "      <td>0.0</td>\n",
       "      <td>Санкт-Петербург</td>\n",
       "      <td>33642.0</td>\n",
       "      <td>13943.0</td>\n",
       "      <td>0.0</td>\n",
       "      <td>NaN</td>\n",
       "      <td>2.0</td>\n",
       "      <td>844.0</td>\n",
       "      <td>59.0</td>\n",
       "    </tr>\n",
       "    <tr>\n",
       "      <th>23670</th>\n",
       "      <td>9</td>\n",
       "      <td>2450000.0</td>\n",
       "      <td>45.6</td>\n",
       "      <td>2018-02-08T00:00:00</td>\n",
       "      <td>1</td>\n",
       "      <td>2.80</td>\n",
       "      <td>9</td>\n",
       "      <td>NaN</td>\n",
       "      <td>2</td>\n",
       "      <td>False</td>\n",
       "      <td>False</td>\n",
       "      <td>False</td>\n",
       "      <td>NaN</td>\n",
       "      <td>0.0</td>\n",
       "      <td>поселок городского типа Синявино</td>\n",
       "      <td>NaN</td>\n",
       "      <td>NaN</td>\n",
       "      <td>0.0</td>\n",
       "      <td>NaN</td>\n",
       "      <td>0.0</td>\n",
       "      <td>NaN</td>\n",
       "      <td>45.0</td>\n",
       "    </tr>\n",
       "    <tr>\n",
       "      <th>23679</th>\n",
       "      <td>0</td>\n",
       "      <td>2500000.0</td>\n",
       "      <td>35.0</td>\n",
       "      <td>2017-12-08T00:00:00</td>\n",
       "      <td>1</td>\n",
       "      <td>2.65</td>\n",
       "      <td>9</td>\n",
       "      <td>NaN</td>\n",
       "      <td>4</td>\n",
       "      <td>False</td>\n",
       "      <td>False</td>\n",
       "      <td>False</td>\n",
       "      <td>NaN</td>\n",
       "      <td>0.0</td>\n",
       "      <td>Сосновый Бор</td>\n",
       "      <td>NaN</td>\n",
       "      <td>NaN</td>\n",
       "      <td>0.0</td>\n",
       "      <td>NaN</td>\n",
       "      <td>0.0</td>\n",
       "      <td>NaN</td>\n",
       "      <td>45.0</td>\n",
       "    </tr>\n",
       "    <tr>\n",
       "      <th>23696</th>\n",
       "      <td>18</td>\n",
       "      <td>2500000.0</td>\n",
       "      <td>56.7</td>\n",
       "      <td>2018-02-11T00:00:00</td>\n",
       "      <td>2</td>\n",
       "      <td>2.65</td>\n",
       "      <td>3</td>\n",
       "      <td>29.7</td>\n",
       "      <td>1</td>\n",
       "      <td>False</td>\n",
       "      <td>False</td>\n",
       "      <td>False</td>\n",
       "      <td>NaN</td>\n",
       "      <td>0.0</td>\n",
       "      <td>село Рождествено</td>\n",
       "      <td>NaN</td>\n",
       "      <td>NaN</td>\n",
       "      <td>0.0</td>\n",
       "      <td>NaN</td>\n",
       "      <td>0.0</td>\n",
       "      <td>NaN</td>\n",
       "      <td>NaN</td>\n",
       "    </tr>\n",
       "  </tbody>\n",
       "</table>\n",
       "<p>2129 rows × 22 columns</p>\n",
       "</div>"
      ],
      "text/plain": [
       "       total_images  last_price  total_area first_day_exposition  rooms  \\\n",
       "3                 0  64900000.0       159.0  2015-07-24T00:00:00      3   \n",
       "30               12   2200000.0        32.8  2018-02-19T00:00:00      1   \n",
       "37               10   1990000.0        45.8  2017-10-28T00:00:00      2   \n",
       "44               13   5350000.0        40.0  2018-11-18T00:00:00      1   \n",
       "59               15   6300000.0        46.5  2017-03-06T00:00:00      1   \n",
       "...             ...         ...         ...                  ...    ...   \n",
       "23655             1   2414306.0        40.5  2016-09-08T00:00:00      1   \n",
       "23663            12   6400000.0        88.0  2018-01-12T00:00:00      4   \n",
       "23670             9   2450000.0        45.6  2018-02-08T00:00:00      1   \n",
       "23679             0   2500000.0        35.0  2017-12-08T00:00:00      1   \n",
       "23696            18   2500000.0        56.7  2018-02-11T00:00:00      2   \n",
       "\n",
       "       ceiling_height  floors_total  living_area  floor  is_apartment  studio  \\\n",
       "3                2.65            14          NaN      9         False   False   \n",
       "30               2.65             9          NaN      2         False   False   \n",
       "37               2.50             5          NaN      1         False   False   \n",
       "44               2.65            22          NaN      3         False   False   \n",
       "59               2.65            13          NaN     13         False   False   \n",
       "...               ...           ...          ...    ...           ...     ...   \n",
       "23655            2.56            18         19.6     10         False   False   \n",
       "23663            2.55            10          NaN      1         False   False   \n",
       "23670            2.80             9          NaN      2         False   False   \n",
       "23679            2.65             9          NaN      4         False   False   \n",
       "23696            2.65             3         29.7      1         False   False   \n",
       "\n",
       "       open_plan  kitchen_area  balcony                        locality_name  \\\n",
       "3          False           NaN      0.0                      Санкт-Петербург   \n",
       "30         False           NaN      0.0                             Коммунар   \n",
       "37         False           NaN      0.0  поселок городского типа Красный Бор   \n",
       "44         False           NaN      1.0                      Санкт-Петербург   \n",
       "59         False           NaN      0.0                      Санкт-Петербург   \n",
       "...          ...           ...      ...                                  ...   \n",
       "23655      False           NaN      0.0                           Никольское   \n",
       "23663      False           NaN      0.0                      Санкт-Петербург   \n",
       "23670      False           NaN      0.0     поселок городского типа Синявино   \n",
       "23679      False           NaN      0.0                         Сосновый Бор   \n",
       "23696      False           NaN      0.0                     село Рождествено   \n",
       "\n",
       "       airports_nearest  cityCenters_nearest  parks_around3000  parks_nearest  \\\n",
       "3               28098.0               6800.0               2.0           84.0   \n",
       "30                  NaN                  NaN               0.0            NaN   \n",
       "37                  NaN                  NaN               0.0            NaN   \n",
       "44              30471.0              11603.0               1.0          620.0   \n",
       "59              11125.0              14501.0               0.0            NaN   \n",
       "...                 ...                  ...               ...            ...   \n",
       "23655               NaN                  NaN               0.0            NaN   \n",
       "23663           33642.0              13943.0               0.0            NaN   \n",
       "23670               NaN                  NaN               0.0            NaN   \n",
       "23679               NaN                  NaN               0.0            NaN   \n",
       "23696               NaN                  NaN               0.0            NaN   \n",
       "\n",
       "       ponds_around3000  ponds_nearest  days_exposition  \n",
       "3                   3.0          234.0            424.0  \n",
       "30                  0.0            NaN             63.0  \n",
       "37                  0.0            NaN            196.0  \n",
       "44                  1.0         1152.0              NaN  \n",
       "59                  0.0            NaN            336.0  \n",
       "...                 ...            ...              ...  \n",
       "23655               0.0            NaN            627.0  \n",
       "23663               2.0          844.0             59.0  \n",
       "23670               0.0            NaN             45.0  \n",
       "23679               0.0            NaN             45.0  \n",
       "23696               0.0            NaN              NaN  \n",
       "\n",
       "[2129 rows x 22 columns]"
      ]
     },
     "execution_count": 10,
     "metadata": {},
     "output_type": "execute_result"
    }
   ],
   "source": [
    "#посмотри в каких случаях еще не указана площадь кухни\n",
    "df[df['kitchen_area'].isna()]"
   ]
  },
  {
   "cell_type": "code",
   "execution_count": 11,
   "metadata": {},
   "outputs": [
    {
     "data": {
      "text/plain": [
       "<AxesSubplot:xlabel='rooms', ylabel='kitchen_area'>"
      ]
     },
     "execution_count": 11,
     "metadata": {},
     "output_type": "execute_result"
    },
    {
     "data": {
      "image/png": "[encoded data removed]",
      "text/plain": [
       "<Figure size 432x288 with 1 Axes>"
      ]
     },
     "metadata": {
      "needs_background": "light"
     },
     "output_type": "display_data"
    },
    {
     "data": {
      "image/png": "[encoded data removed]",
      "text/plain": [
       "<Figure size 432x288 with 1 Axes>"
      ]
     },
     "metadata": {
      "needs_background": "light"
     },
     "output_type": "display_data"
    }
   ],
   "source": [
    "#чтобы правильнее заполнить пропуски данных по площади кухни высним есть ли зависимость площади кухни от общей площади\n",
    "#для этого построим диаграмму рассеяния\n",
    "df.plot(kind='scatter', x='total_area', y='kitchen_area')\n",
    "# прямой и очевидной зависимости нет, проверим зависимость от количества комнат\n",
    "df.plot(kind='scatter', x='rooms', y='kitchen_area')\n",
    "#так же прямой зависимоти нет, поэтому оставшиеся пропуски \n"
   ]
  },
  {
   "cell_type": "code",
   "execution_count": 12,
   "metadata": {},
   "outputs": [],
   "source": [
    "#так же прямой зависимоти нет, поэтому оставшиеся пропуски заменим медианными значениями\n",
    "df['kitchen_area'] = df['kitchen_area'].fillna(df['kitchen_area'].median())\n"
   ]
  },
  {
   "cell_type": "code",
   "execution_count": 13,
   "metadata": {},
   "outputs": [
    {
     "data": {
      "text/plain": [
       "total_images            0\n",
       "last_price              0\n",
       "total_area              0\n",
       "first_day_exposition    0\n",
       "rooms                   0\n",
       "ceiling_height          0\n",
       "floors_total            0\n",
       "living_area             0\n",
       "floor                   0\n",
       "is_apartment            0\n",
       "studio                  0\n",
       "open_plan               0\n",
       "kitchen_area            0\n",
       "balcony                 0\n",
       "locality_name           0\n",
       "airports_nearest        0\n",
       "cityCenters_nearest     0\n",
       "parks_around3000        0\n",
       "parks_nearest           0\n",
       "ponds_around3000        0\n",
       "ponds_nearest           0\n",
       "days_exposition         0\n",
       "dtype: int64"
      ]
     },
     "execution_count": 13,
     "metadata": {},
     "output_type": "execute_result"
    }
   ],
   "source": [
    "df.loc[df['kitchen_area'] > df['total_area']].count()"
   ]
  },
  {
   "cell_type": "code",
   "execution_count": 14,
   "metadata": {},
   "outputs": [],
   "source": [
    "#пропущенных значений в столбце с названием населенного пункта всего 49 можно удалить данные строки, \n",
    "#так как их значения не повлияют на показатели, а заполнить населеные пункты не представляется возможным\n",
    "df = df.dropna(subset=['locality_name'])"
   ]
  },
  {
   "cell_type": "code",
   "execution_count": 15,
   "metadata": {
    "scrolled": true
   },
   "outputs": [
    {
     "data": {
      "text/plain": [
       "30.0"
      ]
     },
     "metadata": {},
     "output_type": "display_data"
    },
    {
     "data": {
      "text/plain": [
       "0.5769230769230769"
      ]
     },
     "metadata": {},
     "output_type": "display_data"
    },
    {
     "data": {
      "text/plain": [
       "30.0"
      ]
     },
     "metadata": {},
     "output_type": "display_data"
    },
    {
     "data": {
      "image/png": "[encoded data removed]",
      "text/plain": [
       "<Figure size 432x288 with 1 Axes>"
      ]
     },
     "metadata": {
      "needs_background": "light"
     },
     "output_type": "display_data"
    }
   ],
   "source": [
    "warnings.simplefilter(\"ignore\")\n",
    "#если размер кухни не значительно зависил от общей площади, то размер жилой площади от нее очень зависит, посторим диаграмму\n",
    "df.plot(kind='scatter', x='total_area', y='living_area')\n",
    "#я вная зависимость чем выше общая площадь тем больше жилая площадь.\n",
    "#найдем численную составляющую зависимости и заполним в соответсвии ей\n",
    "display(df['living_area'].median())\n",
    "total_living_area = df['living_area'].median()/df['total_area'].median()\n",
    "display(total_living_area)\n",
    "df['living_area'] = df['living_area'].fillna(df['total_area'] * 0.57)\n",
    "df.head()\n",
    "#проверим изменение медианы жилой площади, она не изменилась\n",
    "display(df['living_area'].median())"
   ]
  },
  {
   "cell_type": "code",
   "execution_count": 16,
   "metadata": {},
   "outputs": [
    {
     "data": {
      "text/plain": [
       "array(['городской посёлок Янино-1', 'посёлок Мурино', 'Сертолово',\n",
       "       'деревня Кудрово', 'Коммунар',\n",
       "       'поселок городского типа Красный Бор', 'Гатчина', 'поселок Мурино',\n",
       "       'деревня Фёдоровское', 'Выборг', 'Кировск',\n",
       "       'деревня Новое Девяткино', 'Санкт-Петербург',\n",
       "       'посёлок городского типа Лебяжье',\n",
       "       'посёлок городского типа Сиверский', 'поселок Молодцово',\n",
       "       'поселок городского типа Кузьмоловский',\n",
       "       'садовое товарищество Новая Ропша', 'деревня Пикколово',\n",
       "       'Всеволожск', 'Волхов', 'Кингисепп', 'Приозерск',\n",
       "       'деревня Куттузи', 'посёлок Аннино',\n",
       "       'поселок городского типа Ефимовский', 'посёлок Плодовое',\n",
       "       'деревня Заклинье', 'поселок Торковичи', 'поселок Первомайское',\n",
       "       'Сясьстрой', 'деревня Старая', 'деревня Лесколово',\n",
       "       'посёлок Новый Свет', 'Сланцы', 'село Путилово', 'Ивангород',\n",
       "       'Мурино', 'Шлиссельбург', 'Никольское', 'Сосновый Бор',\n",
       "       'поселок Новый Свет', 'деревня Оржицы', 'деревня Кальтино',\n",
       "       'Кудрово', 'поселок Романовка', 'посёлок Бугры', 'поселок Бугры',\n",
       "       'поселок городского типа Рощино', 'Кириши', 'Луга', 'Волосово',\n",
       "       'Отрадное', 'село Павлово', 'поселок Оредеж', 'село Копорье',\n",
       "       'посёлок городского типа Красный Бор', 'Тихвин', 'посёлок Победа',\n",
       "       'деревня Нурма', 'поселок городского типа Синявино',\n",
       "       'посёлок Шушары', 'Тосно', 'посёлок городского типа Кузьмоловский',\n",
       "       'Бокситогорск', 'деревня Лопухинка', 'Пикалёво',\n",
       "       'поселок Терволово', 'поселок городского типа Советский',\n",
       "       'Подпорожье', 'посёлок Петровское',\n",
       "       'посёлок городского типа Токсово', 'поселок Сельцо',\n",
       "       'посёлок городского типа Вырица', 'деревня Кипень',\n",
       "       'деревня Келози', 'деревня Вартемяги', 'посёлок Тельмана',\n",
       "       'поселок Севастьяново', 'городской поселок Большая Ижора',\n",
       "       'городской посёлок Павлово', 'деревня Агалатово',\n",
       "       'посёлок Новогорелово', 'городской посёлок Лесогорский',\n",
       "       'деревня Лаголово', 'поселок Цвелодубово',\n",
       "       'поселок городского типа Рахья', 'поселок городского типа Вырица',\n",
       "       'деревня Белогорка', 'поселок Заводской',\n",
       "       'городской посёлок Новоселье', 'деревня Большие Колпаны',\n",
       "       'деревня Горбунки', 'деревня Батово', 'деревня Заневка',\n",
       "       'деревня Иссад', 'Приморск', 'городской посёлок Фёдоровское',\n",
       "       'деревня Мистолово', 'Новая Ладога', 'поселок Зимитицы',\n",
       "       'поселок Барышево', 'деревня Разметелево',\n",
       "       'поселок городского типа имени Свердлова', 'деревня Пеники',\n",
       "       'поселок Рябово', 'деревня Пудомяги', 'поселок станции Корнево',\n",
       "       'деревня Низино', 'деревня Бегуницы', 'посёлок Поляны',\n",
       "       'городской посёлок Мга', 'поселок Елизаветино',\n",
       "       'посёлок городского типа Кузнечное', 'деревня Колтуши',\n",
       "       'поселок Запорожское', 'посёлок городского типа Рощино',\n",
       "       'деревня Гостилицы', 'деревня Малое Карлино',\n",
       "       'посёлок Мичуринское', 'посёлок городского типа имени Морозова',\n",
       "       'посёлок Сосново', 'деревня Аро', 'поселок Ильичёво',\n",
       "       'посёлок городского типа Тайцы', 'деревня Малое Верево',\n",
       "       'деревня Извара', 'поселок станции Вещево', 'село Паша',\n",
       "       'деревня Калитино', 'посёлок городского типа Ульяновка',\n",
       "       'деревня Чудской Бор', 'поселок городского типа Дубровка',\n",
       "       'деревня Мины', 'поселок Войсковицы',\n",
       "       'посёлок городского типа имени Свердлова', 'деревня Коркино',\n",
       "       'посёлок Ропша', 'поселок городского типа Приладожский',\n",
       "       'посёлок Щеглово', 'посёлок Гаврилово', 'Лодейное Поле',\n",
       "       'деревня Рабитицы', 'поселок городского типа Никольский',\n",
       "       'деревня Кузьмолово', 'деревня Малые Колпаны', 'поселок Тельмана',\n",
       "       'городской посёлок Назия', 'посёлок Ильичёво', 'поселок Углово',\n",
       "       'поселок Старая Малукса', 'садовое товарищество Рахья',\n",
       "       'поселок Аннино', 'поселок Победа', 'деревня Меньково',\n",
       "       'деревня Старые Бегуницы', 'поселок Семрино', 'поселок Гаврилово',\n",
       "       'поселок Глажево', 'поселок Кобринское', 'деревня Гарболово',\n",
       "       'деревня Юкки', 'поселок станции Приветнинское',\n",
       "       'деревня Мануйлово', 'деревня Пчева', 'поселок Поляны',\n",
       "       'поселок Цвылёво', 'поселок Мельниково', 'посёлок Пудость',\n",
       "       'посёлок Усть-Луга', 'Светогорск', 'Любань', 'поселок Селезнёво',\n",
       "       'поселок городского типа Рябово', 'Каменногорск', 'деревня Кривко',\n",
       "       'поселок Глебычево', 'деревня Парицы', 'поселок Жилпосёлок',\n",
       "       'посёлок городского типа Мга', 'городской поселок Янино-1',\n",
       "       'посёлок Войскорово', 'село Никольское', 'посёлок Терволово',\n",
       "       'поселок Стеклянный', 'посёлок городского типа Важины',\n",
       "       'посёлок Мыза-Ивановка', 'село Русско-Высоцкое',\n",
       "       'поселок городского типа Лебяжье',\n",
       "       'поселок городского типа Форносово', 'Красное Село',\n",
       "       'село Старая Ладога', 'поселок Житково',\n",
       "       'городской посёлок Виллози', 'деревня Лампово',\n",
       "       'деревня Шпаньково', 'деревня Лаврики', 'посёлок Сумино',\n",
       "       'посёлок Возрождение', 'деревня Старосиверская',\n",
       "       'посёлок Кикерино', 'поселок Возрождение',\n",
       "       'деревня Старое Хинколово', 'посёлок Пригородный',\n",
       "       'посёлок Торфяное', 'городской посёлок Будогощь',\n",
       "       'поселок Суходолье', 'поселок Красная Долина', 'деревня Хапо-Ое',\n",
       "       'поселок городского типа Дружная Горка', 'деревня Яльгелево',\n",
       "       'посёлок Стеклянный', 'село Рождествено', 'деревня Старополье',\n",
       "       'деревня Сяськелево', 'деревня Камышовка',\n",
       "       'садоводческое некоммерческое товарищество Лесная Поляна',\n",
       "       'деревня Хязельки', 'поселок Жилгородок',\n",
       "       'посёлок городского типа Павлово', 'деревня Ялгино', 'Ломоносов',\n",
       "       'поселок Новый Учхоз', 'городской посёлок Рощино',\n",
       "       'поселок Гончарово', 'поселок Почап', 'посёлок Сапёрное',\n",
       "       'посёлок Платформа 69-й километр', 'поселок Каложицы',\n",
       "       'деревня Фалилеево', 'деревня Пельгора',\n",
       "       'поселок городского типа Лесогорский', 'деревня Торошковичи',\n",
       "       'посёлок Алексеевка', 'поселок Серебрянский', 'поселок Лукаши',\n",
       "       'поселок Петровское', 'деревня Щеглово', 'Кронштадт',\n",
       "       'поселок Мичуринское', 'деревня Тарасово', 'поселок Кингисеппский',\n",
       "       'посёлок при железнодорожной станции Вещево', 'поселок Ушаки',\n",
       "       'деревня Котлы', 'деревня Сижно', 'деревня Торосово',\n",
       "       'посёлок Форт Красная Горка', 'поселок городского типа Токсово',\n",
       "       'деревня Новолисино', 'посёлок станции Громово', 'деревня Глинка',\n",
       "       'посёлок Мельниково', 'поселок городского типа Назия',\n",
       "       'деревня Старая Пустошь', 'поселок Коммунары', 'поселок Починок',\n",
       "       'посёлок городского типа Вознесенье', 'деревня Разбегаево',\n",
       "       'посёлок городского типа Рябово', 'поселок Гладкое',\n",
       "       'посёлок при железнодорожной станции Приветнинское',\n",
       "       'поселок Тёсово-4', 'посёлок Жилгородок', 'деревня Бор',\n",
       "       'посёлок Коробицыно', 'деревня Большая Вруда', 'деревня Курковицы',\n",
       "       'городской посёлок Советский', 'посёлок Кобралово',\n",
       "       'деревня Суоранда', 'поселок Кобралово',\n",
       "       'поселок городского типа Кондратьево',\n",
       "       'коттеджный поселок Счастье', 'поселок Любань', 'деревня Реброво',\n",
       "       'деревня Зимитицы', 'деревня Тойворово', 'поселок Семиозерье',\n",
       "       'поселок Лесное', 'поселок Совхозный', 'поселок Усть-Луга',\n",
       "       'посёлок Ленинское', 'посёлок Суйда',\n",
       "       'посёлок городского типа Форносово', 'деревня Нижние Осельки',\n",
       "       'посёлок станции Свирь', 'поселок Перово', 'Высоцк',\n",
       "       'поселок Гарболово', 'село Шум', 'поселок Котельский',\n",
       "       'поселок станции Лужайка', 'деревня Большая Пустомержа',\n",
       "       'поселок Красносельское', 'деревня Вахнова Кара', 'деревня Пижма',\n",
       "       'коттеджный поселок Кивеннапа Север', 'поселок Коробицыно',\n",
       "       'поселок Ромашки', 'посёлок Перово', 'деревня Каськово',\n",
       "       'деревня Куровицы', 'посёлок Плоское', 'поселок Сумино',\n",
       "       'поселок городского типа Большая Ижора', 'поселок Кирпичное',\n",
       "       'деревня Ям-Тесово', 'деревня Раздолье', 'деревня Терпилицы',\n",
       "       'посёлок Шугозеро', 'деревня Ваганово', 'поселок Пушное',\n",
       "       'садовое товарищество Садко', 'деревня Выскатка',\n",
       "       'городской посёлок Свирьстрой', 'поселок Громово',\n",
       "       'деревня Кисельня', 'посёлок Старая Малукса',\n",
       "       'деревня Трубников Бор', 'поселок Калитино',\n",
       "       'посёлок Высокоключевой', 'садовое товарищество Приладожский',\n",
       "       'посёлок Пансионат Зелёный Бор', 'деревня Ненимяки',\n",
       "       'поселок Пансионат Зелёный Бор', 'деревня Снегирёвка', 'Пушкин',\n",
       "       'деревня Рапполово', 'деревня Пустынка', 'Колпино',\n",
       "       'поселок Рабитицы', 'деревня Большой Сабск', 'деревня Русско',\n",
       "       'деревня Лупполово', 'деревня Большое Рейзино',\n",
       "       'деревня Малая Романовка', 'поселок Дружноселье', 'поселок Пчевжа',\n",
       "       'поселок Володарское', 'деревня Нижняя',\n",
       "       'коттеджный посёлок Лесное', 'деревня Тихковицы',\n",
       "       'деревня Борисова Грива', 'посёлок Дзержинского'], dtype=object)"
      ]
     },
     "execution_count": 16,
     "metadata": {},
     "output_type": "execute_result"
    }
   ],
   "source": [
    "#осталось проверить пропуски в значениях расстояний. Поищем закономерности в пропусках расстояний:\n",
    "#выведем строки с пустыми значениями по колонкам airports_nearest и cityCenters_nearest так как \n",
    "#в них количество пропусков примерно одинаковое и проверим гипотезу что значения не указаны для населенных пунктов за чертой\n",
    "# города\n",
    "df[df['airports_nearest'].isna()]['locality_name'].unique()\n",
    "df[df['cityCenters_nearest'].isna()]['locality_name'].unique()\n",
    "#Санкт-Петербург присутствует во всех списках, полностью гипотеза не подтвердилась, однако большое количество уникальных значений\n",
    "#позволяет сделать вывод что частично гипотеза верна\n",
    "\n"
   ]
  },
  {
   "cell_type": "markdown",
   "metadata": {},
   "source": [
    "*Пропущенные значения расстояний заменять на 0 нельзя, так как тогда это будет означать что объект находится непосредственно в центре, аэропорте, парке или пруду. Заменять на медианные тоже неправильно, так как это может в дальнейшем исказить выводы. Оставим данные пропуски без изменений и в дальнейшем при группировке по нас пунктам при необходимости мы заполним пропуски данных значений*\n",
    "\n",
    "\n"
   ]
  },
  {
   "cell_type": "markdown",
   "metadata": {},
   "source": [
    "Итак мы проверили дата сет на пропущенные значения, исходя из того что в таблице есть 2 типа данных- заполняемые пользователем и заполняемые автоматически на основании картографических данных, источника пропусков соотвектсвенно два - человеческий фактор и программные ошибки. Пользователь в свою очередь может намеренно не указать некоторые данные (как в случае с балконами: нет балконов- нет данных) или по не знанию не заполнить (как в случае со студиями)\n"
   ]
  },
  {
   "cell_type": "markdown",
   "metadata": {},
   "source": [
    "#### Замена типов данных\n"
   ]
  },
  {
   "cell_type": "code",
   "execution_count": 17,
   "metadata": {},
   "outputs": [
    {
     "name": "stdout",
     "output_type": "stream",
     "text": [
      "<class 'pandas.core.frame.DataFrame'>\n",
      "Int64Index: 23650 entries, 0 to 23698\n",
      "Data columns (total 22 columns):\n",
      " #   Column                Non-Null Count  Dtype         \n",
      "---  ------                --------------  -----         \n",
      " 0   total_images          23650 non-null  int64         \n",
      " 1   last_price            23650 non-null  float64       \n",
      " 2   total_area            23650 non-null  float64       \n",
      " 3   first_day_exposition  23650 non-null  datetime64[ns]\n",
      " 4   rooms                 23650 non-null  int64         \n",
      " 5   ceiling_height        23650 non-null  float64       \n",
      " 6   floors_total          23650 non-null  int64         \n",
      " 7   living_area           23650 non-null  float64       \n",
      " 8   floor                 23650 non-null  int64         \n",
      " 9   is_apartment          23650 non-null  bool          \n",
      " 10  studio                23650 non-null  bool          \n",
      " 11  open_plan             23650 non-null  bool          \n",
      " 12  kitchen_area          23650 non-null  float64       \n",
      " 13  balcony               23650 non-null  int64         \n",
      " 14  locality_name         23650 non-null  object        \n",
      " 15  airports_nearest      18116 non-null  float64       \n",
      " 16  cityCenters_nearest   18139 non-null  float64       \n",
      " 17  parks_around3000      23650 non-null  float64       \n",
      " 18  parks_nearest         8064 non-null   float64       \n",
      " 19  ponds_around3000      23650 non-null  float64       \n",
      " 20  ponds_nearest         9085 non-null   float64       \n",
      " 21  days_exposition       20470 non-null  float64       \n",
      "dtypes: bool(3), datetime64[ns](1), float64(12), int64(5), object(1)\n",
      "memory usage: 3.7+ MB\n"
     ]
    }
   ],
   "source": [
    "\n",
    "# при заполнении пропуском мы уже изменили тип данных в столбце is_apartment на основании описания к датасету\n",
    "# остались изменить тип данных а first_day_exposition, и перевести его в формат даты, и balcony, который необходимо перевести\n",
    "# в целые числа, \n",
    "df['first_day_exposition'] = pd.to_datetime(df['first_day_exposition'], format='%Y.%m.%d %H:%M:%S')\n",
    "df['balcony'] = df['balcony'].astype(int)\n",
    "df.info()"
   ]
  },
  {
   "cell_type": "markdown",
   "metadata": {},
   "source": [
    "*Мы заменили тип данных в трех столбцах:*\n",
    "1. is_apartment на булево значение, это было в пояснении к датасету, и логично было заполнить этот столбец именно таким типом данных, объект либо является аппартаментами (True) либо нет (False)\n",
    "2. balcony заменили на цельночисленные значения, ведь не может быть 1,5 балкона\n",
    "3. first_day_exposition заменили на тип данных datetime для дальнейшей работы с датой"
   ]
  },
  {
   "cell_type": "markdown",
   "metadata": {},
   "source": [
    "#### Исправление неявных дубликатов\n"
   ]
  },
  {
   "cell_type": "code",
   "execution_count": 18,
   "metadata": {},
   "outputs": [],
   "source": [
    "#найдем все уникальные значения в столбце locality_name и посчитаем их количество\n",
    "#display(df['locality_name'].value_counts())\n",
    "df['locality_name'].nunique()\n",
    "#количество уникальных значений 364\n",
    "#df['locality_name'].unique()\n",
    "\n",
    "# напишем функцию заменяющая ё на е, применим ее\n",
    "def del_duplicates(locality_name):\n",
    "    if 'ё' in locality_name:\n",
    "        return locality_name.replace('ё', 'е')\n",
    "    else:\n",
    "        return locality_name\n",
    "\n",
    "\n",
    "# функция заменяющая ё на е, применим ее\n",
    "\n"
   ]
  },
  {
   "cell_type": "code",
   "execution_count": 19,
   "metadata": {},
   "outputs": [
    {
     "data": {
      "text/plain": [
       "330"
      ]
     },
     "execution_count": 19,
     "metadata": {},
     "output_type": "execute_result"
    }
   ],
   "source": [
    "# применили функцию, передали значния вновьсозданного столбца исходному, и удалили ненужный теперь столбец.\n",
    "df['locality_name_renamed'] = df['locality_name'].apply(del_duplicates) \n",
    "#передали значния вновьсозданного столбца исходному,\n",
    "df['locality_name'] = df['locality_name_renamed']\n",
    "#и удалили ненужный теперь столбец.\n",
    "df = df.drop(columns = ['locality_name_renamed'], axis=1)\n",
    "# проверили количество уникальных значений. Было 364 стало 330. \n",
    "df['locality_name'].nunique()"
   ]
  },
  {
   "cell_type": "markdown",
   "metadata": {},
   "source": [
    "#### Исправление артефактных значений\n"
   ]
  },
  {
   "cell_type": "code",
   "execution_count": 20,
   "metadata": {},
   "outputs": [
    {
     "data": {
      "text/plain": [
       "2.724310782241014"
      ]
     },
     "metadata": {},
     "output_type": "display_data"
    },
    {
     "data": {
      "text/plain": [
       "22869    100.0\n",
       "3148      32.0\n",
       "22336     32.0\n",
       "21377     27.5\n",
       "17857     27.0\n",
       "5246      27.0\n",
       "20478     27.0\n",
       "21824     27.0\n",
       "10773     27.0\n",
       "4876      27.0\n",
       "5807      27.0\n",
       "22938     27.0\n",
       "5669      26.0\n",
       "11285     25.0\n",
       "6246      25.0\n",
       "9379      25.0\n",
       "355       25.0\n",
       "18545     25.0\n",
       "4643      25.0\n",
       "14382     25.0\n",
       "5076      24.0\n",
       "20507     22.6\n",
       "17496     20.0\n",
       "15061     14.0\n",
       "22309     10.3\n",
       "5863       8.3\n",
       "17442      8.0\n",
       "3474       8.0\n",
       "15743      8.0\n",
       "20264      6.0\n",
       "Name: ceiling_height, dtype: float64"
      ]
     },
     "execution_count": 20,
     "metadata": {},
     "output_type": "execute_result"
    },
    {
     "data": {
      "image/png": "[encoded data removed]",
      "text/plain": [
       "<Figure size 432x288 with 1 Axes>"
      ]
     },
     "metadata": {
      "needs_background": "light"
     },
     "output_type": "display_data"
    }
   ],
   "source": [
    "df['ceiling_height'].plot(y = 'ceiling_height', kind = 'hist', bins = 50)\n",
    "display(df['ceiling_height'].mean())\n",
    "df['ceiling_height'].median()\n",
    "df['ceiling_height'].sort_values(ascending=False).head(30)\n",
    "# видим что есть значения не овечающие реальности и если природу значений от 8 до 22.6 метров нам не выяснить, то значения \n",
    "#от 25 до 32 возможно являются от 2,5 до 3,2"
   ]
  },
  {
   "cell_type": "code",
   "execution_count": 21,
   "metadata": {},
   "outputs": [
    {
     "data": {
      "text/plain": [
       "<AxesSubplot:ylabel='Frequency'>"
      ]
     },
     "execution_count": 21,
     "metadata": {},
     "output_type": "execute_result"
    },
    {
     "data": {
      "image/png": "[encoded data removed]",
      "text/plain": [
       "<Figure size 432x288 with 1 Axes>"
      ]
     },
     "metadata": {
      "needs_background": "light"
     },
     "output_type": "display_data"
    }
   ],
   "source": [
    "df.loc[df['ceiling_height'] > 23, 'ceiling_height'] = df.loc[df['ceiling_height'] > 23, 'ceiling_height']/10\n",
    "df['ceiling_height'].sort_values(ascending=False).head(30)\n",
    "#значения выше 5м заменим на медианное\n",
    "df.loc[df['ceiling_height'] >=5 , 'ceiling_height'] = df['ceiling_height'].median()\n",
    "# построим гистограмму по обновленным данным\n",
    "df['ceiling_height'].plot(y = 'ceiling_height', kind = 'hist', bins = 50, range=(2,5))"
   ]
  },
  {
   "cell_type": "code",
   "execution_count": 22,
   "metadata": {},
   "outputs": [
    {
     "data": {
      "text/html": [
       "<div>\n",
       "<style scoped>\n",
       "    .dataframe tbody tr th:only-of-type {\n",
       "        vertical-align: middle;\n",
       "    }\n",
       "\n",
       "    .dataframe tbody tr th {\n",
       "        vertical-align: top;\n",
       "    }\n",
       "\n",
       "    .dataframe thead th {\n",
       "        text-align: right;\n",
       "    }\n",
       "</style>\n",
       "<table border=\"1\" class=\"dataframe\">\n",
       "  <thead>\n",
       "    <tr style=\"text-align: right;\">\n",
       "      <th></th>\n",
       "      <th>total_images</th>\n",
       "      <th>last_price</th>\n",
       "      <th>total_area</th>\n",
       "      <th>first_day_exposition</th>\n",
       "      <th>rooms</th>\n",
       "      <th>ceiling_height</th>\n",
       "      <th>floors_total</th>\n",
       "      <th>living_area</th>\n",
       "      <th>floor</th>\n",
       "      <th>is_apartment</th>\n",
       "      <th>studio</th>\n",
       "      <th>open_plan</th>\n",
       "      <th>kitchen_area</th>\n",
       "      <th>balcony</th>\n",
       "      <th>locality_name</th>\n",
       "      <th>airports_nearest</th>\n",
       "      <th>cityCenters_nearest</th>\n",
       "      <th>parks_around3000</th>\n",
       "      <th>parks_nearest</th>\n",
       "      <th>ponds_around3000</th>\n",
       "      <th>ponds_nearest</th>\n",
       "      <th>days_exposition</th>\n",
       "    </tr>\n",
       "  </thead>\n",
       "  <tbody>\n",
       "  </tbody>\n",
       "</table>\n",
       "</div>"
      ],
      "text/plain": [
       "Empty DataFrame\n",
       "Columns: [total_images, last_price, total_area, first_day_exposition, rooms, ceiling_height, floors_total, living_area, floor, is_apartment, studio, open_plan, kitchen_area, balcony, locality_name, airports_nearest, cityCenters_nearest, parks_around3000, parks_nearest, ponds_around3000, ponds_nearest, days_exposition]\n",
       "Index: []"
      ]
     },
     "execution_count": 22,
     "metadata": {},
     "output_type": "execute_result"
    }
   ],
   "source": [
    "# в столбце со значениями жилой площади есть нереально низкие значения при нормальных показателях общей площади.\n",
    "# заменим значения жилой площади меньше 5м кв на соотношение медианной жилой площади к медианной общей\n",
    "df.loc[df['living_area'] < 5, 'living_area'] = df.loc[df['living_area'] < 5, 'total_area'] * 0.57\n",
    "df.loc[df['living_area'] < 5]"
   ]
  },
  {
   "cell_type": "code",
   "execution_count": 23,
   "metadata": {},
   "outputs": [
    {
     "data": {
      "text/html": [
       "<div>\n",
       "<style scoped>\n",
       "    .dataframe tbody tr th:only-of-type {\n",
       "        vertical-align: middle;\n",
       "    }\n",
       "\n",
       "    .dataframe tbody tr th {\n",
       "        vertical-align: top;\n",
       "    }\n",
       "\n",
       "    .dataframe thead th {\n",
       "        text-align: right;\n",
       "    }\n",
       "</style>\n",
       "<table border=\"1\" class=\"dataframe\">\n",
       "  <thead>\n",
       "    <tr style=\"text-align: right;\">\n",
       "      <th></th>\n",
       "      <th>total_images</th>\n",
       "      <th>last_price</th>\n",
       "      <th>total_area</th>\n",
       "      <th>first_day_exposition</th>\n",
       "      <th>rooms</th>\n",
       "      <th>ceiling_height</th>\n",
       "      <th>floors_total</th>\n",
       "      <th>living_area</th>\n",
       "      <th>floor</th>\n",
       "      <th>is_apartment</th>\n",
       "      <th>studio</th>\n",
       "      <th>open_plan</th>\n",
       "      <th>kitchen_area</th>\n",
       "      <th>balcony</th>\n",
       "      <th>locality_name</th>\n",
       "      <th>airports_nearest</th>\n",
       "      <th>cityCenters_nearest</th>\n",
       "      <th>parks_around3000</th>\n",
       "      <th>parks_nearest</th>\n",
       "      <th>ponds_around3000</th>\n",
       "      <th>ponds_nearest</th>\n",
       "      <th>days_exposition</th>\n",
       "    </tr>\n",
       "  </thead>\n",
       "  <tbody>\n",
       "    <tr>\n",
       "      <th>14498</th>\n",
       "      <td>6</td>\n",
       "      <td>32250000.0</td>\n",
       "      <td>374.6</td>\n",
       "      <td>2018-06-09</td>\n",
       "      <td>19</td>\n",
       "      <td>2.65</td>\n",
       "      <td>5</td>\n",
       "      <td>264.5</td>\n",
       "      <td>2</td>\n",
       "      <td>False</td>\n",
       "      <td>False</td>\n",
       "      <td>False</td>\n",
       "      <td>27.6</td>\n",
       "      <td>0</td>\n",
       "      <td>Санкт-Петербург</td>\n",
       "      <td>19497.0</td>\n",
       "      <td>3574.0</td>\n",
       "      <td>0.0</td>\n",
       "      <td>NaN</td>\n",
       "      <td>2.0</td>\n",
       "      <td>548.0</td>\n",
       "      <td>114.0</td>\n",
       "    </tr>\n",
       "    <tr>\n",
       "      <th>18848</th>\n",
       "      <td>6</td>\n",
       "      <td>28500000.0</td>\n",
       "      <td>270.0</td>\n",
       "      <td>2015-03-02</td>\n",
       "      <td>16</td>\n",
       "      <td>3.00</td>\n",
       "      <td>4</td>\n",
       "      <td>180.0</td>\n",
       "      <td>4</td>\n",
       "      <td>False</td>\n",
       "      <td>False</td>\n",
       "      <td>False</td>\n",
       "      <td>13.0</td>\n",
       "      <td>1</td>\n",
       "      <td>Санкт-Петербург</td>\n",
       "      <td>23575.0</td>\n",
       "      <td>4142.0</td>\n",
       "      <td>1.0</td>\n",
       "      <td>516.0</td>\n",
       "      <td>0.0</td>\n",
       "      <td>NaN</td>\n",
       "      <td>1365.0</td>\n",
       "    </tr>\n",
       "    <tr>\n",
       "      <th>5358</th>\n",
       "      <td>20</td>\n",
       "      <td>65000000.0</td>\n",
       "      <td>590.0</td>\n",
       "      <td>2019-02-14</td>\n",
       "      <td>15</td>\n",
       "      <td>3.50</td>\n",
       "      <td>6</td>\n",
       "      <td>409.0</td>\n",
       "      <td>3</td>\n",
       "      <td>False</td>\n",
       "      <td>False</td>\n",
       "      <td>False</td>\n",
       "      <td>100.0</td>\n",
       "      <td>0</td>\n",
       "      <td>Санкт-Петербург</td>\n",
       "      <td>24447.0</td>\n",
       "      <td>4666.0</td>\n",
       "      <td>1.0</td>\n",
       "      <td>767.0</td>\n",
       "      <td>0.0</td>\n",
       "      <td>NaN</td>\n",
       "      <td>14.0</td>\n",
       "    </tr>\n",
       "    <tr>\n",
       "      <th>866</th>\n",
       "      <td>5</td>\n",
       "      <td>25000000.0</td>\n",
       "      <td>363.0</td>\n",
       "      <td>2017-12-23</td>\n",
       "      <td>14</td>\n",
       "      <td>3.16</td>\n",
       "      <td>5</td>\n",
       "      <td>222.0</td>\n",
       "      <td>4</td>\n",
       "      <td>False</td>\n",
       "      <td>False</td>\n",
       "      <td>False</td>\n",
       "      <td>16.6</td>\n",
       "      <td>0</td>\n",
       "      <td>Санкт-Петербург</td>\n",
       "      <td>38076.0</td>\n",
       "      <td>7950.0</td>\n",
       "      <td>0.0</td>\n",
       "      <td>NaN</td>\n",
       "      <td>2.0</td>\n",
       "      <td>435.0</td>\n",
       "      <td>418.0</td>\n",
       "    </tr>\n",
       "    <tr>\n",
       "      <th>20829</th>\n",
       "      <td>6</td>\n",
       "      <td>28659000.0</td>\n",
       "      <td>245.4</td>\n",
       "      <td>2016-03-31</td>\n",
       "      <td>14</td>\n",
       "      <td>2.65</td>\n",
       "      <td>4</td>\n",
       "      <td>168.3</td>\n",
       "      <td>2</td>\n",
       "      <td>False</td>\n",
       "      <td>False</td>\n",
       "      <td>False</td>\n",
       "      <td>25.9</td>\n",
       "      <td>0</td>\n",
       "      <td>Санкт-Петербург</td>\n",
       "      <td>21104.0</td>\n",
       "      <td>2054.0</td>\n",
       "      <td>3.0</td>\n",
       "      <td>541.0</td>\n",
       "      <td>2.0</td>\n",
       "      <td>118.0</td>\n",
       "      <td>95.0</td>\n",
       "    </tr>\n",
       "    <tr>\n",
       "      <th>19540</th>\n",
       "      <td>8</td>\n",
       "      <td>420000000.0</td>\n",
       "      <td>900.0</td>\n",
       "      <td>2017-12-06</td>\n",
       "      <td>12</td>\n",
       "      <td>2.80</td>\n",
       "      <td>25</td>\n",
       "      <td>409.7</td>\n",
       "      <td>25</td>\n",
       "      <td>False</td>\n",
       "      <td>False</td>\n",
       "      <td>False</td>\n",
       "      <td>112.0</td>\n",
       "      <td>0</td>\n",
       "      <td>Санкт-Петербург</td>\n",
       "      <td>30706.0</td>\n",
       "      <td>7877.0</td>\n",
       "      <td>0.0</td>\n",
       "      <td>NaN</td>\n",
       "      <td>2.0</td>\n",
       "      <td>318.0</td>\n",
       "      <td>106.0</td>\n",
       "    </tr>\n",
       "    <tr>\n",
       "      <th>9688</th>\n",
       "      <td>8</td>\n",
       "      <td>33000000.0</td>\n",
       "      <td>194.1</td>\n",
       "      <td>2017-02-07</td>\n",
       "      <td>11</td>\n",
       "      <td>3.43</td>\n",
       "      <td>5</td>\n",
       "      <td>129.0</td>\n",
       "      <td>2</td>\n",
       "      <td>False</td>\n",
       "      <td>False</td>\n",
       "      <td>False</td>\n",
       "      <td>11.9</td>\n",
       "      <td>0</td>\n",
       "      <td>Санкт-Петербург</td>\n",
       "      <td>21469.0</td>\n",
       "      <td>1015.0</td>\n",
       "      <td>1.0</td>\n",
       "      <td>686.0</td>\n",
       "      <td>2.0</td>\n",
       "      <td>66.0</td>\n",
       "      <td>813.0</td>\n",
       "    </tr>\n",
       "    <tr>\n",
       "      <th>648</th>\n",
       "      <td>3</td>\n",
       "      <td>17500000.0</td>\n",
       "      <td>183.7</td>\n",
       "      <td>2018-07-01</td>\n",
       "      <td>11</td>\n",
       "      <td>3.40</td>\n",
       "      <td>7</td>\n",
       "      <td>138.8</td>\n",
       "      <td>7</td>\n",
       "      <td>False</td>\n",
       "      <td>False</td>\n",
       "      <td>False</td>\n",
       "      <td>13.3</td>\n",
       "      <td>0</td>\n",
       "      <td>Санкт-Петербург</td>\n",
       "      <td>23606.0</td>\n",
       "      <td>3148.0</td>\n",
       "      <td>0.0</td>\n",
       "      <td>NaN</td>\n",
       "      <td>0.0</td>\n",
       "      <td>NaN</td>\n",
       "      <td>NaN</td>\n",
       "    </tr>\n",
       "    <tr>\n",
       "      <th>18891</th>\n",
       "      <td>11</td>\n",
       "      <td>40000000.0</td>\n",
       "      <td>290.0</td>\n",
       "      <td>2016-06-21</td>\n",
       "      <td>10</td>\n",
       "      <td>3.50</td>\n",
       "      <td>6</td>\n",
       "      <td>189.4</td>\n",
       "      <td>6</td>\n",
       "      <td>False</td>\n",
       "      <td>False</td>\n",
       "      <td>False</td>\n",
       "      <td>30.0</td>\n",
       "      <td>1</td>\n",
       "      <td>Санкт-Петербург</td>\n",
       "      <td>26229.0</td>\n",
       "      <td>4932.0</td>\n",
       "      <td>3.0</td>\n",
       "      <td>316.0</td>\n",
       "      <td>1.0</td>\n",
       "      <td>227.0</td>\n",
       "      <td>77.0</td>\n",
       "    </tr>\n",
       "    <tr>\n",
       "      <th>4149</th>\n",
       "      <td>6</td>\n",
       "      <td>23000000.0</td>\n",
       "      <td>272.6</td>\n",
       "      <td>2018-01-11</td>\n",
       "      <td>10</td>\n",
       "      <td>3.14</td>\n",
       "      <td>7</td>\n",
       "      <td>145.9</td>\n",
       "      <td>7</td>\n",
       "      <td>False</td>\n",
       "      <td>False</td>\n",
       "      <td>False</td>\n",
       "      <td>18.8</td>\n",
       "      <td>1</td>\n",
       "      <td>Санкт-Петербург</td>\n",
       "      <td>10726.0</td>\n",
       "      <td>12169.0</td>\n",
       "      <td>1.0</td>\n",
       "      <td>191.0</td>\n",
       "      <td>1.0</td>\n",
       "      <td>531.0</td>\n",
       "      <td>NaN</td>\n",
       "    </tr>\n",
       "  </tbody>\n",
       "</table>\n",
       "</div>"
      ],
      "text/plain": [
       "       total_images   last_price  total_area first_day_exposition  rooms  \\\n",
       "14498             6   32250000.0       374.6           2018-06-09     19   \n",
       "18848             6   28500000.0       270.0           2015-03-02     16   \n",
       "5358             20   65000000.0       590.0           2019-02-14     15   \n",
       "866               5   25000000.0       363.0           2017-12-23     14   \n",
       "20829             6   28659000.0       245.4           2016-03-31     14   \n",
       "19540             8  420000000.0       900.0           2017-12-06     12   \n",
       "9688              8   33000000.0       194.1           2017-02-07     11   \n",
       "648               3   17500000.0       183.7           2018-07-01     11   \n",
       "18891            11   40000000.0       290.0           2016-06-21     10   \n",
       "4149              6   23000000.0       272.6           2018-01-11     10   \n",
       "\n",
       "       ceiling_height  floors_total  living_area  floor  is_apartment  studio  \\\n",
       "14498            2.65             5        264.5      2         False   False   \n",
       "18848            3.00             4        180.0      4         False   False   \n",
       "5358             3.50             6        409.0      3         False   False   \n",
       "866              3.16             5        222.0      4         False   False   \n",
       "20829            2.65             4        168.3      2         False   False   \n",
       "19540            2.80            25        409.7     25         False   False   \n",
       "9688             3.43             5        129.0      2         False   False   \n",
       "648              3.40             7        138.8      7         False   False   \n",
       "18891            3.50             6        189.4      6         False   False   \n",
       "4149             3.14             7        145.9      7         False   False   \n",
       "\n",
       "       open_plan  kitchen_area  balcony    locality_name  airports_nearest  \\\n",
       "14498      False          27.6        0  Санкт-Петербург           19497.0   \n",
       "18848      False          13.0        1  Санкт-Петербург           23575.0   \n",
       "5358       False         100.0        0  Санкт-Петербург           24447.0   \n",
       "866        False          16.6        0  Санкт-Петербург           38076.0   \n",
       "20829      False          25.9        0  Санкт-Петербург           21104.0   \n",
       "19540      False         112.0        0  Санкт-Петербург           30706.0   \n",
       "9688       False          11.9        0  Санкт-Петербург           21469.0   \n",
       "648        False          13.3        0  Санкт-Петербург           23606.0   \n",
       "18891      False          30.0        1  Санкт-Петербург           26229.0   \n",
       "4149       False          18.8        1  Санкт-Петербург           10726.0   \n",
       "\n",
       "       cityCenters_nearest  parks_around3000  parks_nearest  ponds_around3000  \\\n",
       "14498               3574.0               0.0            NaN               2.0   \n",
       "18848               4142.0               1.0          516.0               0.0   \n",
       "5358                4666.0               1.0          767.0               0.0   \n",
       "866                 7950.0               0.0            NaN               2.0   \n",
       "20829               2054.0               3.0          541.0               2.0   \n",
       "19540               7877.0               0.0            NaN               2.0   \n",
       "9688                1015.0               1.0          686.0               2.0   \n",
       "648                 3148.0               0.0            NaN               0.0   \n",
       "18891               4932.0               3.0          316.0               1.0   \n",
       "4149               12169.0               1.0          191.0               1.0   \n",
       "\n",
       "       ponds_nearest  days_exposition  \n",
       "14498          548.0            114.0  \n",
       "18848            NaN           1365.0  \n",
       "5358             NaN             14.0  \n",
       "866            435.0            418.0  \n",
       "20829          118.0             95.0  \n",
       "19540          318.0            106.0  \n",
       "9688            66.0            813.0  \n",
       "648              NaN              NaN  \n",
       "18891          227.0             77.0  \n",
       "4149           531.0              NaN  "
      ]
     },
     "execution_count": 23,
     "metadata": {},
     "output_type": "execute_result"
    },
    {
     "data": {
      "image/png": "[encoded data removed]",
      "text/plain": [
       "<Figure size 432x288 with 1 Axes>"
      ]
     },
     "metadata": {
      "needs_background": "light"
     },
     "output_type": "display_data"
    }
   ],
   "source": [
    "# изучим артефактные значения в других столбцах с числовыми данными: количество комнат, общая площад, стоимость квартиры\n",
    "df['rooms'].plot(y = 'rooms', kind = 'hist', bins = 20)\n",
    "df['rooms'].describe()\n",
    "#Максимальное количество комнат 19, а вдруг это бывшие царские покои? проверим есть ли значения меньше,\n",
    "#отосртируем данные по количеству комнат и выведем на экран первые 10 строк\n",
    "df.sort_values(by = 'rooms', ascending = False).head(10)\n",
    "\n"
   ]
  },
  {
   "cell_type": "markdown",
   "metadata": {},
   "source": [
    "*Исходя из данных можно сделать вывод что 19 комнат вполне реальное значене, как и 16,15 и 10. Общие и жилые пложади примерно\n",
    "соответсвуют количеству жилых комнат. Например в 19ти комнатной квартире общая площадь 374 кв м а жилая 264, \n",
    "на 19 комнат это в среднем по 13 кв метров на жилую комнату, хороший показатель. Однако нашему исследованию такие выбивающиеся значения будут мешать, удалим строки с количеством комнат более 7*"
   ]
  },
  {
   "cell_type": "code",
   "execution_count": 24,
   "metadata": {},
   "outputs": [],
   "source": [
    "\n",
    "df = df.loc[df['rooms']<7]"
   ]
  },
  {
   "cell_type": "code",
   "execution_count": 25,
   "metadata": {},
   "outputs": [
    {
     "data": {
      "text/html": [
       "<div>\n",
       "<style scoped>\n",
       "    .dataframe tbody tr th:only-of-type {\n",
       "        vertical-align: middle;\n",
       "    }\n",
       "\n",
       "    .dataframe tbody tr th {\n",
       "        vertical-align: top;\n",
       "    }\n",
       "\n",
       "    .dataframe thead th {\n",
       "        text-align: right;\n",
       "    }\n",
       "</style>\n",
       "<table border=\"1\" class=\"dataframe\">\n",
       "  <thead>\n",
       "    <tr style=\"text-align: right;\">\n",
       "      <th></th>\n",
       "      <th>total_images</th>\n",
       "      <th>last_price</th>\n",
       "      <th>total_area</th>\n",
       "      <th>first_day_exposition</th>\n",
       "      <th>rooms</th>\n",
       "      <th>ceiling_height</th>\n",
       "      <th>floors_total</th>\n",
       "      <th>living_area</th>\n",
       "      <th>floor</th>\n",
       "      <th>is_apartment</th>\n",
       "      <th>studio</th>\n",
       "      <th>open_plan</th>\n",
       "      <th>kitchen_area</th>\n",
       "      <th>balcony</th>\n",
       "      <th>locality_name</th>\n",
       "      <th>airports_nearest</th>\n",
       "      <th>cityCenters_nearest</th>\n",
       "      <th>parks_around3000</th>\n",
       "      <th>parks_nearest</th>\n",
       "      <th>ponds_around3000</th>\n",
       "      <th>ponds_nearest</th>\n",
       "      <th>days_exposition</th>\n",
       "    </tr>\n",
       "  </thead>\n",
       "  <tbody>\n",
       "    <tr>\n",
       "      <th>14706</th>\n",
       "      <td>15</td>\n",
       "      <td>401300000.0</td>\n",
       "      <td>401.0</td>\n",
       "      <td>2016-02-20</td>\n",
       "      <td>5</td>\n",
       "      <td>2.65</td>\n",
       "      <td>9</td>\n",
       "      <td>204.00</td>\n",
       "      <td>9</td>\n",
       "      <td>False</td>\n",
       "      <td>False</td>\n",
       "      <td>False</td>\n",
       "      <td>24.00</td>\n",
       "      <td>3</td>\n",
       "      <td>Санкт-Петербург</td>\n",
       "      <td>21912.0</td>\n",
       "      <td>2389.0</td>\n",
       "      <td>1.0</td>\n",
       "      <td>545.0</td>\n",
       "      <td>1.0</td>\n",
       "      <td>478.0</td>\n",
       "      <td>393.0</td>\n",
       "    </tr>\n",
       "    <tr>\n",
       "      <th>1436</th>\n",
       "      <td>19</td>\n",
       "      <td>330000000.0</td>\n",
       "      <td>190.0</td>\n",
       "      <td>2018-04-04</td>\n",
       "      <td>3</td>\n",
       "      <td>3.50</td>\n",
       "      <td>7</td>\n",
       "      <td>95.00</td>\n",
       "      <td>5</td>\n",
       "      <td>False</td>\n",
       "      <td>False</td>\n",
       "      <td>False</td>\n",
       "      <td>40.00</td>\n",
       "      <td>0</td>\n",
       "      <td>Санкт-Петербург</td>\n",
       "      <td>23011.0</td>\n",
       "      <td>1197.0</td>\n",
       "      <td>3.0</td>\n",
       "      <td>519.0</td>\n",
       "      <td>3.0</td>\n",
       "      <td>285.0</td>\n",
       "      <td>233.0</td>\n",
       "    </tr>\n",
       "    <tr>\n",
       "      <th>22831</th>\n",
       "      <td>18</td>\n",
       "      <td>289238400.0</td>\n",
       "      <td>187.5</td>\n",
       "      <td>2019-03-19</td>\n",
       "      <td>2</td>\n",
       "      <td>3.37</td>\n",
       "      <td>6</td>\n",
       "      <td>63.70</td>\n",
       "      <td>6</td>\n",
       "      <td>False</td>\n",
       "      <td>False</td>\n",
       "      <td>False</td>\n",
       "      <td>30.20</td>\n",
       "      <td>0</td>\n",
       "      <td>Санкт-Петербург</td>\n",
       "      <td>22494.0</td>\n",
       "      <td>1073.0</td>\n",
       "      <td>3.0</td>\n",
       "      <td>386.0</td>\n",
       "      <td>3.0</td>\n",
       "      <td>188.0</td>\n",
       "      <td>NaN</td>\n",
       "    </tr>\n",
       "    <tr>\n",
       "      <th>16461</th>\n",
       "      <td>17</td>\n",
       "      <td>245000000.0</td>\n",
       "      <td>285.7</td>\n",
       "      <td>2017-04-10</td>\n",
       "      <td>6</td>\n",
       "      <td>3.35</td>\n",
       "      <td>7</td>\n",
       "      <td>182.80</td>\n",
       "      <td>4</td>\n",
       "      <td>False</td>\n",
       "      <td>False</td>\n",
       "      <td>False</td>\n",
       "      <td>29.80</td>\n",
       "      <td>0</td>\n",
       "      <td>Санкт-Петербург</td>\n",
       "      <td>33143.0</td>\n",
       "      <td>6235.0</td>\n",
       "      <td>3.0</td>\n",
       "      <td>400.0</td>\n",
       "      <td>3.0</td>\n",
       "      <td>140.0</td>\n",
       "      <td>249.0</td>\n",
       "    </tr>\n",
       "    <tr>\n",
       "      <th>13749</th>\n",
       "      <td>7</td>\n",
       "      <td>240000000.0</td>\n",
       "      <td>410.0</td>\n",
       "      <td>2017-04-01</td>\n",
       "      <td>6</td>\n",
       "      <td>3.40</td>\n",
       "      <td>7</td>\n",
       "      <td>218.00</td>\n",
       "      <td>7</td>\n",
       "      <td>False</td>\n",
       "      <td>False</td>\n",
       "      <td>False</td>\n",
       "      <td>40.00</td>\n",
       "      <td>0</td>\n",
       "      <td>Санкт-Петербург</td>\n",
       "      <td>32440.0</td>\n",
       "      <td>5297.0</td>\n",
       "      <td>0.0</td>\n",
       "      <td>NaN</td>\n",
       "      <td>2.0</td>\n",
       "      <td>198.0</td>\n",
       "      <td>199.0</td>\n",
       "    </tr>\n",
       "    <tr>\n",
       "      <th>...</th>\n",
       "      <td>...</td>\n",
       "      <td>...</td>\n",
       "      <td>...</td>\n",
       "      <td>...</td>\n",
       "      <td>...</td>\n",
       "      <td>...</td>\n",
       "      <td>...</td>\n",
       "      <td>...</td>\n",
       "      <td>...</td>\n",
       "      <td>...</td>\n",
       "      <td>...</td>\n",
       "      <td>...</td>\n",
       "      <td>...</td>\n",
       "      <td>...</td>\n",
       "      <td>...</td>\n",
       "      <td>...</td>\n",
       "      <td>...</td>\n",
       "      <td>...</td>\n",
       "      <td>...</td>\n",
       "      <td>...</td>\n",
       "      <td>...</td>\n",
       "      <td>...</td>\n",
       "    </tr>\n",
       "    <tr>\n",
       "      <th>17676</th>\n",
       "      <td>0</td>\n",
       "      <td>450000.0</td>\n",
       "      <td>36.5</td>\n",
       "      <td>2018-02-01</td>\n",
       "      <td>1</td>\n",
       "      <td>2.65</td>\n",
       "      <td>5</td>\n",
       "      <td>17.30</td>\n",
       "      <td>4</td>\n",
       "      <td>False</td>\n",
       "      <td>False</td>\n",
       "      <td>False</td>\n",
       "      <td>8.50</td>\n",
       "      <td>1</td>\n",
       "      <td>деревня Ям-Тесово</td>\n",
       "      <td>NaN</td>\n",
       "      <td>NaN</td>\n",
       "      <td>0.0</td>\n",
       "      <td>NaN</td>\n",
       "      <td>0.0</td>\n",
       "      <td>NaN</td>\n",
       "      <td>120.0</td>\n",
       "    </tr>\n",
       "    <tr>\n",
       "      <th>16274</th>\n",
       "      <td>18</td>\n",
       "      <td>440000.0</td>\n",
       "      <td>40.0</td>\n",
       "      <td>2018-07-10</td>\n",
       "      <td>1</td>\n",
       "      <td>2.65</td>\n",
       "      <td>5</td>\n",
       "      <td>22.80</td>\n",
       "      <td>1</td>\n",
       "      <td>False</td>\n",
       "      <td>False</td>\n",
       "      <td>False</td>\n",
       "      <td>9.01</td>\n",
       "      <td>0</td>\n",
       "      <td>деревня Старополье</td>\n",
       "      <td>NaN</td>\n",
       "      <td>NaN</td>\n",
       "      <td>0.0</td>\n",
       "      <td>NaN</td>\n",
       "      <td>0.0</td>\n",
       "      <td>NaN</td>\n",
       "      <td>45.0</td>\n",
       "    </tr>\n",
       "    <tr>\n",
       "      <th>17456</th>\n",
       "      <td>7</td>\n",
       "      <td>430000.0</td>\n",
       "      <td>30.4</td>\n",
       "      <td>2019-04-22</td>\n",
       "      <td>1</td>\n",
       "      <td>2.65</td>\n",
       "      <td>2</td>\n",
       "      <td>16.00</td>\n",
       "      <td>1</td>\n",
       "      <td>False</td>\n",
       "      <td>False</td>\n",
       "      <td>False</td>\n",
       "      <td>6.00</td>\n",
       "      <td>0</td>\n",
       "      <td>Сланцы</td>\n",
       "      <td>NaN</td>\n",
       "      <td>NaN</td>\n",
       "      <td>0.0</td>\n",
       "      <td>NaN</td>\n",
       "      <td>0.0</td>\n",
       "      <td>NaN</td>\n",
       "      <td>NaN</td>\n",
       "    </tr>\n",
       "    <tr>\n",
       "      <th>14911</th>\n",
       "      <td>5</td>\n",
       "      <td>430000.0</td>\n",
       "      <td>54.0</td>\n",
       "      <td>2018-06-26</td>\n",
       "      <td>2</td>\n",
       "      <td>2.65</td>\n",
       "      <td>3</td>\n",
       "      <td>30.78</td>\n",
       "      <td>3</td>\n",
       "      <td>False</td>\n",
       "      <td>False</td>\n",
       "      <td>False</td>\n",
       "      <td>9.01</td>\n",
       "      <td>0</td>\n",
       "      <td>поселок станции Свирь</td>\n",
       "      <td>NaN</td>\n",
       "      <td>NaN</td>\n",
       "      <td>0.0</td>\n",
       "      <td>NaN</td>\n",
       "      <td>0.0</td>\n",
       "      <td>NaN</td>\n",
       "      <td>44.0</td>\n",
       "    </tr>\n",
       "    <tr>\n",
       "      <th>8793</th>\n",
       "      <td>7</td>\n",
       "      <td>12190.0</td>\n",
       "      <td>109.0</td>\n",
       "      <td>2019-03-20</td>\n",
       "      <td>2</td>\n",
       "      <td>2.75</td>\n",
       "      <td>25</td>\n",
       "      <td>32.00</td>\n",
       "      <td>25</td>\n",
       "      <td>False</td>\n",
       "      <td>False</td>\n",
       "      <td>False</td>\n",
       "      <td>40.50</td>\n",
       "      <td>0</td>\n",
       "      <td>Санкт-Петербург</td>\n",
       "      <td>36421.0</td>\n",
       "      <td>9176.0</td>\n",
       "      <td>1.0</td>\n",
       "      <td>805.0</td>\n",
       "      <td>0.0</td>\n",
       "      <td>NaN</td>\n",
       "      <td>8.0</td>\n",
       "    </tr>\n",
       "  </tbody>\n",
       "</table>\n",
       "<p>23560 rows × 22 columns</p>\n",
       "</div>"
      ],
      "text/plain": [
       "       total_images   last_price  total_area first_day_exposition  rooms  \\\n",
       "14706            15  401300000.0       401.0           2016-02-20      5   \n",
       "1436             19  330000000.0       190.0           2018-04-04      3   \n",
       "22831            18  289238400.0       187.5           2019-03-19      2   \n",
       "16461            17  245000000.0       285.7           2017-04-10      6   \n",
       "13749             7  240000000.0       410.0           2017-04-01      6   \n",
       "...             ...          ...         ...                  ...    ...   \n",
       "17676             0     450000.0        36.5           2018-02-01      1   \n",
       "16274            18     440000.0        40.0           2018-07-10      1   \n",
       "17456             7     430000.0        30.4           2019-04-22      1   \n",
       "14911             5     430000.0        54.0           2018-06-26      2   \n",
       "8793              7      12190.0       109.0           2019-03-20      2   \n",
       "\n",
       "       ceiling_height  floors_total  living_area  floor  is_apartment  studio  \\\n",
       "14706            2.65             9       204.00      9         False   False   \n",
       "1436             3.50             7        95.00      5         False   False   \n",
       "22831            3.37             6        63.70      6         False   False   \n",
       "16461            3.35             7       182.80      4         False   False   \n",
       "13749            3.40             7       218.00      7         False   False   \n",
       "...               ...           ...          ...    ...           ...     ...   \n",
       "17676            2.65             5        17.30      4         False   False   \n",
       "16274            2.65             5        22.80      1         False   False   \n",
       "17456            2.65             2        16.00      1         False   False   \n",
       "14911            2.65             3        30.78      3         False   False   \n",
       "8793             2.75            25        32.00     25         False   False   \n",
       "\n",
       "       open_plan  kitchen_area  balcony          locality_name  \\\n",
       "14706      False         24.00        3        Санкт-Петербург   \n",
       "1436       False         40.00        0        Санкт-Петербург   \n",
       "22831      False         30.20        0        Санкт-Петербург   \n",
       "16461      False         29.80        0        Санкт-Петербург   \n",
       "13749      False         40.00        0        Санкт-Петербург   \n",
       "...          ...           ...      ...                    ...   \n",
       "17676      False          8.50        1      деревня Ям-Тесово   \n",
       "16274      False          9.01        0     деревня Старополье   \n",
       "17456      False          6.00        0                 Сланцы   \n",
       "14911      False          9.01        0  поселок станции Свирь   \n",
       "8793       False         40.50        0        Санкт-Петербург   \n",
       "\n",
       "       airports_nearest  cityCenters_nearest  parks_around3000  parks_nearest  \\\n",
       "14706           21912.0               2389.0               1.0          545.0   \n",
       "1436            23011.0               1197.0               3.0          519.0   \n",
       "22831           22494.0               1073.0               3.0          386.0   \n",
       "16461           33143.0               6235.0               3.0          400.0   \n",
       "13749           32440.0               5297.0               0.0            NaN   \n",
       "...                 ...                  ...               ...            ...   \n",
       "17676               NaN                  NaN               0.0            NaN   \n",
       "16274               NaN                  NaN               0.0            NaN   \n",
       "17456               NaN                  NaN               0.0            NaN   \n",
       "14911               NaN                  NaN               0.0            NaN   \n",
       "8793            36421.0               9176.0               1.0          805.0   \n",
       "\n",
       "       ponds_around3000  ponds_nearest  days_exposition  \n",
       "14706               1.0          478.0            393.0  \n",
       "1436                3.0          285.0            233.0  \n",
       "22831               3.0          188.0              NaN  \n",
       "16461               3.0          140.0            249.0  \n",
       "13749               2.0          198.0            199.0  \n",
       "...                 ...            ...              ...  \n",
       "17676               0.0            NaN            120.0  \n",
       "16274               0.0            NaN             45.0  \n",
       "17456               0.0            NaN              NaN  \n",
       "14911               0.0            NaN             44.0  \n",
       "8793                0.0            NaN              8.0  \n",
       "\n",
       "[23560 rows x 22 columns]"
      ]
     },
     "execution_count": 25,
     "metadata": {},
     "output_type": "execute_result"
    },
    {
     "data": {
      "image/png": "[encoded data removed]",
      "text/plain": [
       "<Figure size 432x288 with 1 Axes>"
      ]
     },
     "metadata": {
      "needs_background": "light"
     },
     "output_type": "display_data"
    }
   ],
   "source": [
    "df['last_price'].plot(y = 'last_price', kind = 'hist', bins = 50)\n",
    "df.sort_values(by='last_price', ascending=False)\n"
   ]
  },
  {
   "cell_type": "code",
   "execution_count": 26,
   "metadata": {},
   "outputs": [],
   "source": [
    "df['last_price'] = df['last_price']/1000000"
   ]
  },
  {
   "cell_type": "markdown",
   "metadata": {},
   "source": [
    "*интересная особенность, 3 самые дорогие квартиры - на последнем этаже с большой пложадью, скорее всего это пентхаусы, поэтому и цена вполне обоснована и не кажется такой высокой, эти квартиры всегда высоко ценились. К тому же случаи продаж квртир стоимостью более 100 млн не еденичны, их нельзя считать артефактами, скорее еще одна причина использовать медиану в расчетах.\n",
    "А вот самое нижнее значение всего 12,19 тыс рублей, еще и не далеко от центра с общей площадью 109 кв метров. более подходящая цена 12 млн. умножим данное значение на 1000 чтобы привести к реальности*"
   ]
  },
  {
   "cell_type": "code",
   "execution_count": 27,
   "metadata": {},
   "outputs": [],
   "source": [
    "#удалим слишком высокие значения стоимости квартиры так как их количество слишком мало для статистики \n",
    "#но сильно влияет на средний показатель\n",
    "df = df.loc[df['last_price'] < 45000000]"
   ]
  },
  {
   "cell_type": "code",
   "execution_count": 28,
   "metadata": {},
   "outputs": [
    {
     "data": {
      "text/plain": [
       "12.19"
      ]
     },
     "execution_count": 28,
     "metadata": {},
     "output_type": "execute_result"
    }
   ],
   "source": [
    "df.loc[8793, 'last_price'] = df.loc[8793, 'last_price']*1000\n",
    "df.loc[8793, 'last_price']\n",
    "#12 млн 190 тыс -вполне адекватная цена на квартиру"
   ]
  },
  {
   "cell_type": "code",
   "execution_count": 29,
   "metadata": {},
   "outputs": [
    {
     "data": {
      "image/png": "[encoded data removed]",
      "text/plain": [
       "<Figure size 432x288 with 1 Axes>"
      ]
     },
     "metadata": {
      "needs_background": "light"
     },
     "output_type": "display_data"
    }
   ],
   "source": [
    "#код ревьюера\n",
    "df['total_area'].hist(bins=30);"
   ]
  },
  {
   "cell_type": "code",
   "execution_count": 30,
   "metadata": {},
   "outputs": [],
   "source": [
    "#отбросим квартиры с общей площадью более 300 м кв\n",
    "df = df.loc[df['total_area'] < 300]"
   ]
  },
  {
   "cell_type": "code",
   "execution_count": 31,
   "metadata": {},
   "outputs": [
    {
     "data": {
      "text/plain": [
       "23525"
      ]
     },
     "execution_count": 31,
     "metadata": {},
     "output_type": "execute_result"
    }
   ],
   "source": [
    "df.shape[0]"
   ]
  },
  {
   "cell_type": "markdown",
   "metadata": {},
   "source": [
    "*До удаления выбивающихся значений общей площади, количества комнат и цены, количество строк сотсавляло 23699, после - 23453\n",
    "удалили менее 1%*"
   ]
  },
  {
   "cell_type": "markdown",
   "metadata": {},
   "source": [
    "### Посчитайте и добавьте в таблицу новые столбцы"
   ]
  },
  {
   "cell_type": "markdown",
   "metadata": {},
   "source": []
  },
  {
   "cell_type": "code",
   "execution_count": 32,
   "metadata": {},
   "outputs": [],
   "source": [
    "df['sq_metre_coast'] = df['last_price']/df['total_area']"
   ]
  },
  {
   "cell_type": "code",
   "execution_count": 33,
   "metadata": {},
   "outputs": [],
   "source": [
    "df['month_exposition'] = pd.DatetimeIndex(df['first_day_exposition']).month"
   ]
  },
  {
   "cell_type": "code",
   "execution_count": 34,
   "metadata": {},
   "outputs": [],
   "source": [
    "df['year_exposition'] = pd.DatetimeIndex(df['first_day_exposition']).year"
   ]
  },
  {
   "cell_type": "code",
   "execution_count": 35,
   "metadata": {},
   "outputs": [],
   "source": [
    "df['weekday'] = df['weekday'] = df['first_day_exposition'].dt.weekday"
   ]
  },
  {
   "cell_type": "code",
   "execution_count": 36,
   "metadata": {},
   "outputs": [],
   "source": [
    "#для категоризации по типу этажа напишем функцию\n",
    "def floor_category(index):\n",
    "    if index['floor'] == 1:\n",
    "        return 'первый'\n",
    "    elif index['floor'] == index['floors_total']:\n",
    "        return 'последний'\n",
    "    else:\n",
    "        return 'другой'\n",
    "df['floor_type'] = df.apply(floor_category, axis=1)\n"
   ]
  },
  {
   "cell_type": "code",
   "execution_count": 37,
   "metadata": {},
   "outputs": [],
   "source": [
    "df['cityCenters_nearest_km'] = df['cityCenters_nearest']/1000\n",
    "df['cityCenters_nearest_km'] = df.loc[df['cityCenters_nearest_km'] > 0, 'cityCenters_nearest_km'].astype(int)\n"
   ]
  },
  {
   "cell_type": "code",
   "execution_count": 38,
   "metadata": {},
   "outputs": [
    {
     "data": {
      "text/html": [
       "<div>\n",
       "<style scoped>\n",
       "    .dataframe tbody tr th:only-of-type {\n",
       "        vertical-align: middle;\n",
       "    }\n",
       "\n",
       "    .dataframe tbody tr th {\n",
       "        vertical-align: top;\n",
       "    }\n",
       "\n",
       "    .dataframe thead th {\n",
       "        text-align: right;\n",
       "    }\n",
       "</style>\n",
       "<table border=\"1\" class=\"dataframe\">\n",
       "  <thead>\n",
       "    <tr style=\"text-align: right;\">\n",
       "      <th></th>\n",
       "      <th>total_images</th>\n",
       "      <th>last_price</th>\n",
       "      <th>total_area</th>\n",
       "      <th>first_day_exposition</th>\n",
       "      <th>rooms</th>\n",
       "      <th>ceiling_height</th>\n",
       "      <th>floors_total</th>\n",
       "      <th>living_area</th>\n",
       "      <th>floor</th>\n",
       "      <th>is_apartment</th>\n",
       "      <th>studio</th>\n",
       "      <th>open_plan</th>\n",
       "      <th>kitchen_area</th>\n",
       "      <th>balcony</th>\n",
       "      <th>locality_name</th>\n",
       "      <th>airports_nearest</th>\n",
       "      <th>cityCenters_nearest</th>\n",
       "      <th>parks_around3000</th>\n",
       "      <th>parks_nearest</th>\n",
       "      <th>ponds_around3000</th>\n",
       "      <th>ponds_nearest</th>\n",
       "      <th>days_exposition</th>\n",
       "      <th>sq_metre_coast</th>\n",
       "      <th>month_exposition</th>\n",
       "      <th>year_exposition</th>\n",
       "      <th>weekday</th>\n",
       "      <th>floor_type</th>\n",
       "      <th>cityCenters_nearest_km</th>\n",
       "    </tr>\n",
       "  </thead>\n",
       "  <tbody>\n",
       "    <tr>\n",
       "      <th>0</th>\n",
       "      <td>20</td>\n",
       "      <td>13.000</td>\n",
       "      <td>108.0</td>\n",
       "      <td>2019-03-07</td>\n",
       "      <td>3</td>\n",
       "      <td>2.70</td>\n",
       "      <td>16</td>\n",
       "      <td>51.00</td>\n",
       "      <td>8</td>\n",
       "      <td>False</td>\n",
       "      <td>False</td>\n",
       "      <td>False</td>\n",
       "      <td>25.00</td>\n",
       "      <td>0</td>\n",
       "      <td>Санкт-Петербург</td>\n",
       "      <td>18863.0</td>\n",
       "      <td>16028.0</td>\n",
       "      <td>1.0</td>\n",
       "      <td>482.0</td>\n",
       "      <td>2.0</td>\n",
       "      <td>755.0</td>\n",
       "      <td>NaN</td>\n",
       "      <td>0.120370</td>\n",
       "      <td>3</td>\n",
       "      <td>2019</td>\n",
       "      <td>3</td>\n",
       "      <td>другой</td>\n",
       "      <td>16.0</td>\n",
       "    </tr>\n",
       "    <tr>\n",
       "      <th>1</th>\n",
       "      <td>7</td>\n",
       "      <td>3.350</td>\n",
       "      <td>40.4</td>\n",
       "      <td>2018-12-04</td>\n",
       "      <td>1</td>\n",
       "      <td>2.65</td>\n",
       "      <td>11</td>\n",
       "      <td>18.60</td>\n",
       "      <td>1</td>\n",
       "      <td>False</td>\n",
       "      <td>False</td>\n",
       "      <td>False</td>\n",
       "      <td>11.00</td>\n",
       "      <td>2</td>\n",
       "      <td>поселок Шушары</td>\n",
       "      <td>12817.0</td>\n",
       "      <td>18603.0</td>\n",
       "      <td>0.0</td>\n",
       "      <td>NaN</td>\n",
       "      <td>0.0</td>\n",
       "      <td>NaN</td>\n",
       "      <td>81.0</td>\n",
       "      <td>0.082921</td>\n",
       "      <td>12</td>\n",
       "      <td>2018</td>\n",
       "      <td>1</td>\n",
       "      <td>первый</td>\n",
       "      <td>18.0</td>\n",
       "    </tr>\n",
       "    <tr>\n",
       "      <th>2</th>\n",
       "      <td>10</td>\n",
       "      <td>5.196</td>\n",
       "      <td>56.0</td>\n",
       "      <td>2015-08-20</td>\n",
       "      <td>2</td>\n",
       "      <td>2.65</td>\n",
       "      <td>5</td>\n",
       "      <td>34.30</td>\n",
       "      <td>4</td>\n",
       "      <td>False</td>\n",
       "      <td>False</td>\n",
       "      <td>False</td>\n",
       "      <td>8.30</td>\n",
       "      <td>0</td>\n",
       "      <td>Санкт-Петербург</td>\n",
       "      <td>21741.0</td>\n",
       "      <td>13933.0</td>\n",
       "      <td>1.0</td>\n",
       "      <td>90.0</td>\n",
       "      <td>2.0</td>\n",
       "      <td>574.0</td>\n",
       "      <td>558.0</td>\n",
       "      <td>0.092786</td>\n",
       "      <td>8</td>\n",
       "      <td>2015</td>\n",
       "      <td>3</td>\n",
       "      <td>другой</td>\n",
       "      <td>13.0</td>\n",
       "    </tr>\n",
       "    <tr>\n",
       "      <th>3</th>\n",
       "      <td>0</td>\n",
       "      <td>64.900</td>\n",
       "      <td>159.0</td>\n",
       "      <td>2015-07-24</td>\n",
       "      <td>3</td>\n",
       "      <td>2.65</td>\n",
       "      <td>14</td>\n",
       "      <td>90.63</td>\n",
       "      <td>9</td>\n",
       "      <td>False</td>\n",
       "      <td>False</td>\n",
       "      <td>False</td>\n",
       "      <td>9.01</td>\n",
       "      <td>0</td>\n",
       "      <td>Санкт-Петербург</td>\n",
       "      <td>28098.0</td>\n",
       "      <td>6800.0</td>\n",
       "      <td>2.0</td>\n",
       "      <td>84.0</td>\n",
       "      <td>3.0</td>\n",
       "      <td>234.0</td>\n",
       "      <td>424.0</td>\n",
       "      <td>0.408176</td>\n",
       "      <td>7</td>\n",
       "      <td>2015</td>\n",
       "      <td>4</td>\n",
       "      <td>другой</td>\n",
       "      <td>6.0</td>\n",
       "    </tr>\n",
       "    <tr>\n",
       "      <th>4</th>\n",
       "      <td>2</td>\n",
       "      <td>10.000</td>\n",
       "      <td>100.0</td>\n",
       "      <td>2018-06-19</td>\n",
       "      <td>2</td>\n",
       "      <td>3.03</td>\n",
       "      <td>14</td>\n",
       "      <td>32.00</td>\n",
       "      <td>13</td>\n",
       "      <td>False</td>\n",
       "      <td>False</td>\n",
       "      <td>False</td>\n",
       "      <td>41.00</td>\n",
       "      <td>0</td>\n",
       "      <td>Санкт-Петербург</td>\n",
       "      <td>31856.0</td>\n",
       "      <td>8098.0</td>\n",
       "      <td>2.0</td>\n",
       "      <td>112.0</td>\n",
       "      <td>1.0</td>\n",
       "      <td>48.0</td>\n",
       "      <td>121.0</td>\n",
       "      <td>0.100000</td>\n",
       "      <td>6</td>\n",
       "      <td>2018</td>\n",
       "      <td>1</td>\n",
       "      <td>другой</td>\n",
       "      <td>8.0</td>\n",
       "    </tr>\n",
       "  </tbody>\n",
       "</table>\n",
       "</div>"
      ],
      "text/plain": [
       "   total_images  last_price  total_area first_day_exposition  rooms  \\\n",
       "0            20      13.000       108.0           2019-03-07      3   \n",
       "1             7       3.350        40.4           2018-12-04      1   \n",
       "2            10       5.196        56.0           2015-08-20      2   \n",
       "3             0      64.900       159.0           2015-07-24      3   \n",
       "4             2      10.000       100.0           2018-06-19      2   \n",
       "\n",
       "   ceiling_height  floors_total  living_area  floor  is_apartment  studio  \\\n",
       "0            2.70            16        51.00      8         False   False   \n",
       "1            2.65            11        18.60      1         False   False   \n",
       "2            2.65             5        34.30      4         False   False   \n",
       "3            2.65            14        90.63      9         False   False   \n",
       "4            3.03            14        32.00     13         False   False   \n",
       "\n",
       "   open_plan  kitchen_area  balcony    locality_name  airports_nearest  \\\n",
       "0      False         25.00        0  Санкт-Петербург           18863.0   \n",
       "1      False         11.00        2   поселок Шушары           12817.0   \n",
       "2      False          8.30        0  Санкт-Петербург           21741.0   \n",
       "3      False          9.01        0  Санкт-Петербург           28098.0   \n",
       "4      False         41.00        0  Санкт-Петербург           31856.0   \n",
       "\n",
       "   cityCenters_nearest  parks_around3000  parks_nearest  ponds_around3000  \\\n",
       "0              16028.0               1.0          482.0               2.0   \n",
       "1              18603.0               0.0            NaN               0.0   \n",
       "2              13933.0               1.0           90.0               2.0   \n",
       "3               6800.0               2.0           84.0               3.0   \n",
       "4               8098.0               2.0          112.0               1.0   \n",
       "\n",
       "   ponds_nearest  days_exposition  sq_metre_coast  month_exposition  \\\n",
       "0          755.0              NaN        0.120370                 3   \n",
       "1            NaN             81.0        0.082921                12   \n",
       "2          574.0            558.0        0.092786                 8   \n",
       "3          234.0            424.0        0.408176                 7   \n",
       "4           48.0            121.0        0.100000                 6   \n",
       "\n",
       "   year_exposition  weekday floor_type  cityCenters_nearest_km  \n",
       "0             2019        3     другой                    16.0  \n",
       "1             2018        1     первый                    18.0  \n",
       "2             2015        3     другой                    13.0  \n",
       "3             2015        4     другой                     6.0  \n",
       "4             2018        1     другой                     8.0  "
      ]
     },
     "execution_count": 38,
     "metadata": {},
     "output_type": "execute_result"
    }
   ],
   "source": [
    "df.head()"
   ]
  },
  {
   "cell_type": "markdown",
   "metadata": {},
   "source": [
    "### Проведите исследовательский анализ данных"
   ]
  },
  {
   "cell_type": "code",
   "execution_count": 39,
   "metadata": {},
   "outputs": [
    {
     "data": {
      "text/plain": [
       "count    23525.000000\n",
       "mean        59.017463\n",
       "std         29.435781\n",
       "min         12.000000\n",
       "25%         40.000000\n",
       "50%         52.000000\n",
       "75%         69.000000\n",
       "max        297.500000\n",
       "Name: total_area, dtype: float64"
      ]
     },
     "metadata": {},
     "output_type": "display_data"
    },
    {
     "data": {
      "text/plain": [
       "<AxesSubplot:>"
      ]
     },
     "execution_count": 39,
     "metadata": {},
     "output_type": "execute_result"
    },
    {
     "data": {
      "image/png": "[encoded data removed]",
      "text/plain": [
       "<Figure size 432x288 with 1 Axes>"
      ]
     },
     "metadata": {
      "needs_background": "light"
     },
     "output_type": "display_data"
    }
   ],
   "source": [
    "# изучим по очереди данные датасета\n",
    "display(df['total_area'].describe())\n",
    "df['total_area'].hist(bins=50, range=(12,300))\n",
    "#после того как мы удалили максимальные значения общей площади, гистограмма стала более наглядной, квартиры с площадью более\n",
    "#250 кв м встречаются редко"
   ]
  },
  {
   "cell_type": "markdown",
   "metadata": {},
   "source": [
    "Средняя общая площадь продаваемых квартир 60кв, м , при этом основная масса это квартиры до 70 кв.м."
   ]
  },
  {
   "cell_type": "code",
   "execution_count": 40,
   "metadata": {},
   "outputs": [
    {
     "data": {
      "text/plain": [
       "count    23525.000000\n",
       "mean        33.784001\n",
       "std         18.880967\n",
       "min          5.000000\n",
       "25%         19.000000\n",
       "50%         30.000000\n",
       "75%         42.000000\n",
       "max        250.000000\n",
       "Name: living_area, dtype: float64"
      ]
     },
     "metadata": {},
     "output_type": "display_data"
    },
    {
     "data": {
      "text/plain": [
       "<AxesSubplot:>"
      ]
     },
     "execution_count": 40,
     "metadata": {},
     "output_type": "execute_result"
    },
    {
     "data": {
      "image/png": "[encoded data removed]",
      "text/plain": [
       "<Figure size 432x288 with 1 Axes>"
      ]
     },
     "metadata": {
      "needs_background": "light"
     },
     "output_type": "display_data"
    }
   ],
   "source": [
    "display(df['living_area'].describe())\n",
    "df['living_area'].hist(bins=50, range=(2,300))\n"
   ]
  },
  {
   "cell_type": "markdown",
   "metadata": {},
   "source": [
    "При исследовании данных о жилой площади мы удалили нереально низкие значения менее 5 кв.м\n",
    "Нашли медианное соотношение жилой и общей площади оно сотавляет 0.57, и выяснили что большинство продаваемых квартир имее жилую площад от 19 до 42 кв.м."
   ]
  },
  {
   "cell_type": "code",
   "execution_count": 41,
   "metadata": {},
   "outputs": [
    {
     "data": {
      "text/plain": [
       "count    23525.000000\n",
       "mean        10.313390\n",
       "std          5.399879\n",
       "min          1.300000\n",
       "25%          7.200000\n",
       "50%          9.010000\n",
       "75%         11.400000\n",
       "max        107.000000\n",
       "Name: kitchen_area, dtype: float64"
      ]
     },
     "metadata": {},
     "output_type": "display_data"
    },
    {
     "data": {
      "text/plain": [
       "<AxesSubplot:>"
      ]
     },
     "execution_count": 41,
     "metadata": {},
     "output_type": "execute_result"
    },
    {
     "data": {
      "image/png": "[encoded data removed]",
      "text/plain": [
       "<Figure size 432x288 with 1 Axes>"
      ]
     },
     "metadata": {
      "needs_background": "light"
     },
     "output_type": "display_data"
    }
   ],
   "source": [
    "display(df['kitchen_area'].describe())\n",
    "df['kitchen_area'].hist(bins=50, range=(1,112))"
   ]
  },
  {
   "cell_type": "markdown",
   "metadata": {},
   "source": [
    "Средний расмер Петербуржской кухни 9 метров, что довольно неплохо, стандартная \"хрущевская\" кухня это 6 м. На кухнях Санкт-Петербурга намного уютнее"
   ]
  },
  {
   "cell_type": "code",
   "execution_count": 42,
   "metadata": {
    "scrolled": true
   },
   "outputs": [
    {
     "data": {
      "text/plain": [
       "count    23525.000000\n",
       "mean         6.250258\n",
       "std          7.639616\n",
       "min          0.430000\n",
       "25%          3.400000\n",
       "50%          4.600000\n",
       "75%          6.700000\n",
       "max        330.000000\n",
       "Name: last_price, dtype: float64"
      ]
     },
     "metadata": {},
     "output_type": "display_data"
    },
    {
     "data": {
      "text/plain": [
       "<AxesSubplot:>"
      ]
     },
     "execution_count": 42,
     "metadata": {},
     "output_type": "execute_result"
    },
    {
     "data": {
      "image/png": "[encoded data removed]",
      "text/plain": [
       "<Figure size 432x288 with 1 Axes>"
      ]
     },
     "metadata": {
      "needs_background": "light"
     },
     "output_type": "display_data"
    }
   ],
   "source": [
    "#для наглядности гистограммы переведем стоимость кварт в тыс. руб\n",
    "#df.loc[df['last_price']] = df.loc[df['last_price']]/10000000\n",
    "#df.head()\n",
    "display(df['last_price'].describe())\n",
    "df['last_price'].hist(bins=50, range = (0.5,40))\n"
   ]
  },
  {
   "cell_type": "markdown",
   "metadata": {},
   "source": [
    "Средняя стоимость от медианной отличается, это влияние значений верхнего порога стоимости которые мы оставили в датасете - 45 млн р. \n",
    "Медианная стоимость составляет 4,65 млн что вполне соответсвует реальности\n"
   ]
  },
  {
   "cell_type": "code",
   "execution_count": 43,
   "metadata": {},
   "outputs": [],
   "source": [
    "#удалим строки с нулевым значением количества комнат, их всего 196\n",
    "#display(df.loc[df['rooms'] == 0].shape[0])\n",
    "df = df.loc[df['rooms'] != 0]"
   ]
  },
  {
   "cell_type": "code",
   "execution_count": 44,
   "metadata": {},
   "outputs": [
    {
     "data": {
      "text/plain": [
       "count    23329.000000\n",
       "mean         2.060311\n",
       "std          0.986886\n",
       "min          1.000000\n",
       "25%          1.000000\n",
       "50%          2.000000\n",
       "75%          3.000000\n",
       "max          6.000000\n",
       "Name: rooms, dtype: float64"
      ]
     },
     "metadata": {},
     "output_type": "display_data"
    },
    {
     "data": {
      "text/plain": [
       "<AxesSubplot:>"
      ]
     },
     "execution_count": 44,
     "metadata": {},
     "output_type": "execute_result"
    },
    {
     "data": {
      "image/png": "[encoded data removed]",
      "text/plain": [
       "<Figure size 432x288 with 1 Axes>"
      ]
     },
     "metadata": {
      "needs_background": "light"
     },
     "output_type": "display_data"
    }
   ],
   "source": [
    "display(df['rooms'].describe())\n",
    "df['rooms'].hist(bins=6)\n",
    "\n"
   ]
  },
  {
   "cell_type": "markdown",
   "metadata": {},
   "source": [
    "Оснвная масса продаваемых квартир 1 - 2 комнатные, совсем редко встречаются квартиры с количеством комнат более 5"
   ]
  },
  {
   "cell_type": "code",
   "execution_count": 45,
   "metadata": {},
   "outputs": [
    {
     "data": {
      "text/plain": [
       "count    23329.000000\n",
       "mean         2.693355\n",
       "std          0.211706\n",
       "min          1.000000\n",
       "25%          2.600000\n",
       "50%          2.650000\n",
       "75%          2.700000\n",
       "max          4.900000\n",
       "Name: ceiling_height, dtype: float64"
      ]
     },
     "execution_count": 45,
     "metadata": {},
     "output_type": "execute_result"
    },
    {
     "data": {
      "image/png": "[encoded data removed]",
      "text/plain": [
       "<Figure size 432x288 with 1 Axes>"
      ]
     },
     "metadata": {
      "needs_background": "light"
     },
     "output_type": "display_data"
    }
   ],
   "source": [
    "df['ceiling_height'].hist(bins=20)\n",
    "df['ceiling_height'].describe()"
   ]
  },
  {
   "cell_type": "markdown",
   "metadata": {},
   "source": [
    "средняя высота потолков 2.6 метра, показатель выше за счет высоких потолков в старых домах"
   ]
  },
  {
   "cell_type": "code",
   "execution_count": 46,
   "metadata": {},
   "outputs": [
    {
     "data": {
      "text/plain": [
       "count    23329.000000\n",
       "mean         5.877749\n",
       "std          4.869161\n",
       "min          1.000000\n",
       "25%          2.000000\n",
       "50%          4.000000\n",
       "75%          8.000000\n",
       "max         33.000000\n",
       "Name: floor, dtype: float64"
      ]
     },
     "execution_count": 46,
     "metadata": {},
     "output_type": "execute_result"
    },
    {
     "data": {
      "image/png": "[encoded data removed]",
      "text/plain": [
       "<Figure size 432x288 with 1 Axes>"
      ]
     },
     "metadata": {
      "needs_background": "light"
     },
     "output_type": "display_data"
    }
   ],
   "source": [
    "df['floor'].hist(bins=33)\n",
    "df['floor'].describe()"
   ]
  },
  {
   "cell_type": "markdown",
   "metadata": {},
   "source": [
    "Квартиры продаются как в старом жилом фонде так и вновостройках с высокой этажностью, но в большинстве своем продают на этажах от 1 до 6. второй по численности блок от 6 до 10."
   ]
  },
  {
   "cell_type": "code",
   "execution_count": 47,
   "metadata": {},
   "outputs": [
    {
     "data": {
      "text/plain": [
       "<AxesSubplot:>"
      ]
     },
     "execution_count": 47,
     "metadata": {},
     "output_type": "execute_result"
    },
    {
     "data": {
      "image/png": "[encoded data removed]",
      "text/plain": [
       "<Figure size 432x288 with 1 Axes>"
      ]
     },
     "metadata": {
      "needs_background": "light"
     },
     "output_type": "display_data"
    }
   ],
   "source": [
    "df['floor_type'].hist(bins=3)"
   ]
  },
  {
   "cell_type": "markdown",
   "metadata": {},
   "source": [
    "Меньше всего объявлений о проаже квартир на первом этаже, на последнем нескуолько больше"
   ]
  },
  {
   "cell_type": "code",
   "execution_count": 48,
   "metadata": {},
   "outputs": [
    {
     "data": {
      "text/plain": [
       "count    23329.000000\n",
       "mean        10.611685\n",
       "std          6.590229\n",
       "min          0.000000\n",
       "25%          5.000000\n",
       "50%          9.000000\n",
       "75%         16.000000\n",
       "max         60.000000\n",
       "Name: floors_total, dtype: float64"
      ]
     },
     "execution_count": 48,
     "metadata": {},
     "output_type": "execute_result"
    },
    {
     "data": {
      "image/png": "[encoded data removed]",
      "text/plain": [
       "<Figure size 432x288 with 1 Axes>"
      ]
     },
     "metadata": {
      "needs_background": "light"
     },
     "output_type": "display_data"
    }
   ],
   "source": [
    "df['floors_total'].hist(bins=30)\n",
    "df['floors_total'].describe()"
   ]
  },
  {
   "cell_type": "markdown",
   "metadata": {},
   "source": [
    "В продаже преобладают дома от 5 до 10 этажей, при этом пятиэтажек подавляющее большинство. Интересно будет сравнить с этажностью домов в Москве."
   ]
  },
  {
   "cell_type": "code",
   "execution_count": 49,
   "metadata": {},
   "outputs": [
    {
     "data": {
      "text/plain": [
       "count    17899.000000\n",
       "mean     14256.039779\n",
       "std       8616.704301\n",
       "min        181.000000\n",
       "25%       9360.000000\n",
       "50%      13138.000000\n",
       "75%      16313.500000\n",
       "max      65968.000000\n",
       "Name: cityCenters_nearest, dtype: float64"
      ]
     },
     "execution_count": 49,
     "metadata": {},
     "output_type": "execute_result"
    },
    {
     "data": {
      "image/png": "[encoded data removed]",
      "text/plain": [
       "<Figure size 432x288 with 1 Axes>"
      ]
     },
     "metadata": {
      "needs_background": "light"
     },
     "output_type": "display_data"
    }
   ],
   "source": [
    "df['cityCenters_nearest'].hist(bins=50)\n",
    "df['cityCenters_nearest'].describe()"
   ]
  },
  {
   "cell_type": "markdown",
   "metadata": {},
   "source": [
    "Данные о расстоянии до центра есть только для квартир Санкт-Петербурга, основная масса продаваемых квартир находятся в радиусе от 10 до 18 километров от центра"
   ]
  },
  {
   "cell_type": "code",
   "execution_count": 50,
   "metadata": {},
   "outputs": [
    {
     "data": {
      "text/plain": [
       "count    17878.000000\n",
       "mean     28853.481821\n",
       "std      12660.488793\n",
       "min          0.000000\n",
       "25%      18557.000000\n",
       "50%      26838.500000\n",
       "75%      37364.000000\n",
       "max      84869.000000\n",
       "Name: airports_nearest, dtype: float64"
      ]
     },
     "execution_count": 50,
     "metadata": {},
     "output_type": "execute_result"
    },
    {
     "data": {
      "image/png": "[encoded data removed]",
      "text/plain": [
       "<Figure size 432x288 with 1 Axes>"
      ]
     },
     "metadata": {
      "needs_background": "light"
     },
     "output_type": "display_data"
    }
   ],
   "source": [
    "df['airports_nearest'].hist(bins=30)\n",
    "df['airports_nearest'].describe()"
   ]
  },
  {
   "cell_type": "markdown",
   "metadata": {},
   "source": [
    "Среднее расстояние до аэропорта 26 км. максимальное 84 км, Жаль что аэропорт только 1"
   ]
  },
  {
   "cell_type": "code",
   "execution_count": 51,
   "metadata": {},
   "outputs": [
    {
     "data": {
      "text/plain": [
       "count    7950.000000\n",
       "mean      491.016226\n",
       "std       343.403233\n",
       "min         1.000000\n",
       "25%       288.000000\n",
       "50%       454.000000\n",
       "75%       612.000000\n",
       "max      3190.000000\n",
       "Name: parks_nearest, dtype: float64"
      ]
     },
     "execution_count": 51,
     "metadata": {},
     "output_type": "execute_result"
    },
    {
     "data": {
      "image/png": "[encoded data removed]",
      "text/plain": [
       "<Figure size 432x288 with 1 Axes>"
      ]
     },
     "metadata": {
      "needs_background": "light"
     },
     "output_type": "display_data"
    }
   ],
   "source": [
    "df['parks_nearest'].hist(bins=30)\n",
    "df['parks_nearest'].describe()"
   ]
  },
  {
   "cell_type": "markdown",
   "metadata": {},
   "source": [
    "Далеко ходить до парков не придется. В СПб парков много, и ежедневная прогулка в стреднем 454 метра будет полезна."
   ]
  },
  {
   "cell_type": "code",
   "execution_count": 52,
   "metadata": {},
   "outputs": [
    {
     "data": {
      "text/plain": [
       "<AxesSubplot:>"
      ]
     },
     "metadata": {},
     "output_type": "display_data"
    },
    {
     "data": {
      "text/plain": [
       "count    23329.000000\n",
       "mean         2.567191\n",
       "std          1.790116\n",
       "min          0.000000\n",
       "25%          1.000000\n",
       "50%          3.000000\n",
       "75%          4.000000\n",
       "max          6.000000\n",
       "Name: weekday, dtype: float64"
      ]
     },
     "execution_count": 52,
     "metadata": {},
     "output_type": "execute_result"
    },
    {
     "data": {
      "image/png": "[encoded data removed]",
      "text/plain": [
       "<Figure size 432x288 with 1 Axes>"
      ]
     },
     "metadata": {
      "needs_background": "light"
     },
     "output_type": "display_data"
    }
   ],
   "source": [
    "display(df['weekday'].hist(bins=7))\n",
    "df['weekday'].describe()\n"
   ]
  },
  {
   "cell_type": "markdown",
   "metadata": {},
   "source": [
    "С понедельника по пятницу объявления о продаже появлялись чаще. Выходные есть выходные"
   ]
  },
  {
   "cell_type": "code",
   "execution_count": 53,
   "metadata": {},
   "outputs": [
    {
     "data": {
      "text/plain": [
       "<AxesSubplot:>"
      ]
     },
     "execution_count": 53,
     "metadata": {},
     "output_type": "execute_result"
    },
    {
     "data": {
      "image/png": "[encoded data removed]",
      "text/plain": [
       "<Figure size 432x288 with 1 Axes>"
      ]
     },
     "metadata": {
      "needs_background": "light"
     },
     "output_type": "display_data"
    }
   ],
   "source": [
    "df['month_exposition'].hist(bins=12)"
   ]
  },
  {
   "cell_type": "markdown",
   "metadata": {},
   "source": [
    "Меньше всего желающих продать квартиру мае, Больше всего в феврале"
   ]
  },
  {
   "cell_type": "code",
   "execution_count": 54,
   "metadata": {},
   "outputs": [
    {
     "data": {
      "text/plain": [
       "count    20198.000000\n",
       "mean       180.929498\n",
       "std        219.640038\n",
       "min          1.000000\n",
       "25%         45.000000\n",
       "50%         96.000000\n",
       "75%        232.000000\n",
       "max       1580.000000\n",
       "Name: days_exposition, dtype: float64"
      ]
     },
     "execution_count": 54,
     "metadata": {},
     "output_type": "execute_result"
    },
    {
     "data": {
      "image/png": "[encoded data removed]",
      "text/plain": [
       "<Figure size 432x288 with 1 Axes>"
      ]
     },
     "metadata": {
      "needs_background": "light"
     },
     "output_type": "display_data"
    }
   ],
   "source": [
    "#Изучим как быстро продавались квартиры, для этого проанализируем стобец days_exposition\n",
    "df['days_exposition'].hist(bins=30)\n",
    "df['days_exposition'].describe()"
   ]
  },
  {
   "cell_type": "markdown",
   "metadata": {},
   "source": [
    "*большинство всех квартир продается менее чем за 231 день, самая длительная продажа длилась 1580 дней, необычно длинными можно считать продажи свыше 800 дней, их не много, самая быстра продажа состоялась за 1 день.\n",
    "медианная скорость продажи составлят 95 дней*\n"
   ]
  },
  {
   "cell_type": "markdown",
   "metadata": {},
   "source": [
    "#### Зависимость цены"
   ]
  },
  {
   "cell_type": "code",
   "execution_count": 55,
   "metadata": {},
   "outputs": [
    {
     "data": {
      "text/plain": [
       "<AxesSubplot:xlabel='total_area', ylabel='last_price'>"
      ]
     },
     "execution_count": 55,
     "metadata": {},
     "output_type": "execute_result"
    },
    {
     "data": {
      "image/png": "[encoded data removed]",
      "text/plain": [
       "<Figure size 648x360 with 1 Axes>"
      ]
     },
     "metadata": {
      "needs_background": "light"
     },
     "output_type": "display_data"
    },
    {
     "data": {
      "image/png": "[encoded data removed]",
      "text/plain": [
       "<Figure size 648x360 with 1 Axes>"
      ]
     },
     "metadata": {
      "needs_background": "light"
     },
     "output_type": "display_data"
    }
   ],
   "source": [
    "#для изучения зависмости цены от различных параметров квартиры будем использовать диаграмму рассеяния\n",
    "(\n",
    "    df.pivot_table(index='total_area', values ='last_price', aggfunc='median')\n",
    "    .plot(grid=True, figsize=(9,5))\n",
    ")\n",
    "df.plot(kind='scatter', x ='total_area', y = 'last_price', grid=True, figsize=(9,5))"
   ]
  },
  {
   "cell_type": "code",
   "execution_count": 56,
   "metadata": {
    "scrolled": true
   },
   "outputs": [
    {
     "data": {
      "text/plain": [
       "<AxesSubplot:xlabel='living_area', ylabel='last_price'>"
      ]
     },
     "execution_count": 56,
     "metadata": {},
     "output_type": "execute_result"
    },
    {
     "data": {
      "image/png": "[encoded data removed]",
      "text/plain": [
       "<Figure size 648x360 with 1 Axes>"
      ]
     },
     "metadata": {
      "needs_background": "light"
     },
     "output_type": "display_data"
    },
    {
     "data": {
      "image/png": "[encoded data removed]",
      "text/plain": [
       "<Figure size 648x360 with 1 Axes>"
      ]
     },
     "metadata": {
      "needs_background": "light"
     },
     "output_type": "display_data"
    }
   ],
   "source": [
    "(\n",
    "    df.pivot_table(index='living_area', values ='last_price', aggfunc='median')\n",
    "    .plot(grid=True, figsize=(9,5))\n",
    ")\n",
    "df.plot(kind='scatter', x ='living_area', y = 'last_price', grid=True, figsize=(9,5))"
   ]
  },
  {
   "cell_type": "code",
   "execution_count": 57,
   "metadata": {},
   "outputs": [
    {
     "data": {
      "text/plain": [
       "<AxesSubplot:xlabel='kitchen_area', ylabel='last_price'>"
      ]
     },
     "execution_count": 57,
     "metadata": {},
     "output_type": "execute_result"
    },
    {
     "data": {
      "image/png": "[encoded data removed]",
      "text/plain": [
       "<Figure size 648x360 with 1 Axes>"
      ]
     },
     "metadata": {
      "needs_background": "light"
     },
     "output_type": "display_data"
    },
    {
     "data": {
      "image/png": "[encoded data removed]",
      "text/plain": [
       "<Figure size 648x360 with 1 Axes>"
      ]
     },
     "metadata": {
      "needs_background": "light"
     },
     "output_type": "display_data"
    }
   ],
   "source": [
    "(\n",
    "    df.pivot_table(index='kitchen_area', values ='last_price', aggfunc='median')\n",
    "    .plot(grid=True, figsize=(9,5))\n",
    ")\n",
    "df.plot(kind='scatter', x ='kitchen_area', y = 'last_price', grid=True, figsize=(9,5))"
   ]
  },
  {
   "cell_type": "markdown",
   "metadata": {},
   "source": [
    "*Если рассмотреть графики зависимости цены на квартру от площадей общей жилой или площади кухни, вилно что они примерно одинаковы, с увеличением размеров, увеличивается цена но в каждом диапазоне рамеров есть как пики высоких цен так и низких. Из этого можно слелать вывод что на цену влияет не только размер квартиры, ее жилой площади и кухни."
   ]
  },
  {
   "cell_type": "code",
   "execution_count": 58,
   "metadata": {},
   "outputs": [
    {
     "data": {
      "text/plain": [
       "<AxesSubplot:xlabel='rooms'>"
      ]
     },
     "execution_count": 58,
     "metadata": {},
     "output_type": "execute_result"
    },
    {
     "data": {
      "image/png": "[encoded data removed]",
      "text/plain": [
       "<Figure size 648x360 with 1 Axes>"
      ]
     },
     "metadata": {
      "needs_background": "light"
     },
     "output_type": "display_data"
    },
    {
     "data": {
      "image/png": "[encoded data removed]",
      "text/plain": [
       "<Figure size 648x360 with 1 Axes>"
      ]
     },
     "metadata": {
      "needs_background": "light"
     },
     "output_type": "display_data"
    }
   ],
   "source": [
    "#зависимость медианной цены от колличества комнат\n",
    "(\n",
    "    df.pivot_table(index='rooms', values ='last_price', aggfunc='median')\n",
    "    .plot(grid=True, figsize=(9,5))\n",
    ")\n",
    "(\n",
    "    df.pivot_table(index='rooms', values ='sq_metre_coast', aggfunc='median')\n",
    "    .plot(grid=True, figsize=(9,5))\n",
    ")"
   ]
  },
  {
   "cell_type": "markdown",
   "metadata": {},
   "source": [
    "*Зависимость медианной цены от количества комнат прослеживается четче. Чем больше комнат тем выше цена, это естесственно чем больше комнат тем больше жилая площадь.*"
   ]
  },
  {
   "cell_type": "code",
   "execution_count": 59,
   "metadata": {},
   "outputs": [
    {
     "data": {
      "text/plain": [
       "<AxesSubplot:xlabel='floor_type'>"
      ]
     },
     "execution_count": 59,
     "metadata": {},
     "output_type": "execute_result"
    },
    {
     "data": {
      "image/png": "[encoded data removed]",
      "text/plain": [
       "<Figure size 648x360 with 1 Axes>"
      ]
     },
     "metadata": {
      "needs_background": "light"
     },
     "output_type": "display_data"
    }
   ],
   "source": [
    "(\n",
    "    df.pivot_table(index='floor_type', values ='last_price', aggfunc='median')\n",
    "    .plot(kind = 'bar', grid=True, figsize=(9,5))\n",
    ")\n",
    "# медианная цена первого этаже самая низкая, последний ценится выше, но на квартиры на \"других\" этажах цены выше"
   ]
  },
  {
   "cell_type": "code",
   "execution_count": 60,
   "metadata": {},
   "outputs": [
    {
     "data": {
      "text/plain": [
       "<AxesSubplot:xlabel='year_exposition'>"
      ]
     },
     "execution_count": 60,
     "metadata": {},
     "output_type": "execute_result"
    },
    {
     "data": {
      "image/png": "[encoded data removed]",
      "text/plain": [
       "<Figure size 648x360 with 1 Axes>"
      ]
     },
     "metadata": {
      "needs_background": "light"
     },
     "output_type": "display_data"
    },
    {
     "data": {
      "image/png": "[encoded data removed]",
      "text/plain": [
       "<Figure size 648x360 with 1 Axes>"
      ]
     },
     "metadata": {
      "needs_background": "light"
     },
     "output_type": "display_data"
    },
    {
     "data": {
      "image/png": "[encoded data removed]",
      "text/plain": [
       "<Figure size 648x360 with 1 Axes>"
      ]
     },
     "metadata": {
      "needs_background": "light"
     },
     "output_type": "display_data"
    }
   ],
   "source": [
    "(\n",
    "    df.pivot_table(index='weekday', values ='last_price', aggfunc='median')\n",
    "    .plot(grid=True, figsize=(9,5))\n",
    ")\n",
    "(\n",
    "    df.pivot_table(index='month_exposition', values ='last_price', aggfunc='median')\n",
    "    .plot(grid=True, figsize=(9,5))\n",
    ")\n",
    "(\n",
    "    df.pivot_table(index='year_exposition', values ='last_price', aggfunc='median')\n",
    "    .plot(grid=True, figsize=(9,5))\n",
    ")\n"
   ]
  },
  {
   "cell_type": "markdown",
   "metadata": {},
   "source": [
    "*Из грфикоф выше можно сделать выводы:*\n",
    "1. что самые высокие цены указывают при размещении объявления во вторник и среду.\n",
    "2. стоимось квартир выше весной, и ниже летом. Прослеживается сезонность на рынке недвижимости\n",
    "3. Медианная стоимость квартир с 214 по 217 снижалась, после 2017 года пошел рост\n",
    "\n"
   ]
  },
  {
   "cell_type": "code",
   "execution_count": 61,
   "metadata": {},
   "outputs": [
    {
     "data": {
      "text/plain": [
       "0.6749705507994619"
      ]
     },
     "execution_count": 61,
     "metadata": {},
     "output_type": "execute_result"
    }
   ],
   "source": [
    "df['total_area'].corr(df['last_price'])"
   ]
  },
  {
   "cell_type": "code",
   "execution_count": 62,
   "metadata": {},
   "outputs": [
    {
     "data": {
      "text/plain": [
       "0.49082616088313713"
      ]
     },
     "execution_count": 62,
     "metadata": {},
     "output_type": "execute_result"
    }
   ],
   "source": [
    "df['kitchen_area'].corr(df['last_price'])"
   ]
  },
  {
   "cell_type": "code",
   "execution_count": 63,
   "metadata": {},
   "outputs": [
    {
     "data": {
      "text/plain": [
       "0.37973141397197946"
      ]
     },
     "execution_count": 63,
     "metadata": {},
     "output_type": "execute_result"
    }
   ],
   "source": [
    "df['rooms'].corr(df['last_price'])"
   ]
  },
  {
   "cell_type": "markdown",
   "metadata": {},
   "source": [
    "Посчитаем среднюю цену одного квадратного метра в 10 населённых пунктах с наибольшим числом объявлений. Выделим населённые пункты с самой высокой и низкой стоимостью квадратного метра"
   ]
  },
  {
   "cell_type": "code",
   "execution_count": 64,
   "metadata": {},
   "outputs": [
    {
     "data": {
      "text/html": [
       "<div>\n",
       "<style scoped>\n",
       "    .dataframe tbody tr th:only-of-type {\n",
       "        vertical-align: middle;\n",
       "    }\n",
       "\n",
       "    .dataframe tbody tr th {\n",
       "        vertical-align: top;\n",
       "    }\n",
       "\n",
       "    .dataframe thead tr th {\n",
       "        text-align: left;\n",
       "    }\n",
       "\n",
       "    .dataframe thead tr:last-of-type th {\n",
       "        text-align: right;\n",
       "    }\n",
       "</style>\n",
       "<table border=\"1\" class=\"dataframe\">\n",
       "  <thead>\n",
       "    <tr>\n",
       "      <th></th>\n",
       "      <th>count</th>\n",
       "      <th>mean_sq_m_coast</th>\n",
       "    </tr>\n",
       "    <tr>\n",
       "      <th></th>\n",
       "      <th></th>\n",
       "      <th></th>\n",
       "    </tr>\n",
       "    <tr>\n",
       "      <th>locality_name</th>\n",
       "      <th></th>\n",
       "      <th></th>\n",
       "    </tr>\n",
       "  </thead>\n",
       "  <tbody>\n",
       "    <tr>\n",
       "      <th>Санкт-Петербург</th>\n",
       "      <td>15492</td>\n",
       "      <td>0.114279</td>\n",
       "    </tr>\n",
       "    <tr>\n",
       "      <th>поселок Мурино</th>\n",
       "      <td>529</td>\n",
       "      <td>0.085004</td>\n",
       "    </tr>\n",
       "    <tr>\n",
       "      <th>поселок Шушары</th>\n",
       "      <td>436</td>\n",
       "      <td>0.078406</td>\n",
       "    </tr>\n",
       "    <tr>\n",
       "      <th>Всеволожск</th>\n",
       "      <td>392</td>\n",
       "      <td>0.068618</td>\n",
       "    </tr>\n",
       "    <tr>\n",
       "      <th>Пушкин</th>\n",
       "      <td>367</td>\n",
       "      <td>0.103131</td>\n",
       "    </tr>\n",
       "    <tr>\n",
       "      <th>Колпино</th>\n",
       "      <td>337</td>\n",
       "      <td>0.075333</td>\n",
       "    </tr>\n",
       "    <tr>\n",
       "      <th>поселок Парголово</th>\n",
       "      <td>322</td>\n",
       "      <td>0.090448</td>\n",
       "    </tr>\n",
       "    <tr>\n",
       "      <th>Гатчина</th>\n",
       "      <td>307</td>\n",
       "      <td>0.068746</td>\n",
       "    </tr>\n",
       "    <tr>\n",
       "      <th>деревня Кудрово</th>\n",
       "      <td>283</td>\n",
       "      <td>0.092297</td>\n",
       "    </tr>\n",
       "    <tr>\n",
       "      <th>Выборг</th>\n",
       "      <td>237</td>\n",
       "      <td>0.058142</td>\n",
       "    </tr>\n",
       "  </tbody>\n",
       "</table>\n",
       "</div>"
      ],
      "text/plain": [
       "                   count mean_sq_m_coast\n",
       "                                        \n",
       "locality_name                           \n",
       "Санкт-Петербург    15492        0.114279\n",
       "поселок Мурино       529        0.085004\n",
       "поселок Шушары       436        0.078406\n",
       "Всеволожск           392        0.068618\n",
       "Пушкин               367        0.103131\n",
       "Колпино              337        0.075333\n",
       "поселок Парголово    322        0.090448\n",
       "Гатчина              307        0.068746\n",
       "деревня Кудрово      283        0.092297\n",
       "Выборг               237        0.058142"
      ]
     },
     "execution_count": 64,
     "metadata": {},
     "output_type": "execute_result"
    }
   ],
   "source": [
    "df.head(1)\n",
    "df_ten_max_ad = (\n",
    "    df.pivot_table(index='locality_name', values='sq_metre_coast', aggfunc = ['count', 'mean'])\n",
    "    )\n",
    "df_ten_max_ad = df_ten_max_ad.rename(columns = {'sq_metre_coast':'', 'mean':'mean_sq_m_coast'})\n",
    "df_ten_max_ad.sort_values(by = 'count', ascending = False).head(10)\n",
    "#df.groupby(by = 'locality_name').count().sort_values(by ='total_images', ascending=False).head(10)\n",
    "#.sort_values(by = 'sq_metre_coast', ascending = False)"
   ]
  },
  {
   "cell_type": "markdown",
   "metadata": {},
   "source": [
    "*Получили сводную таблицу с 10 населенными пунктами с самым большим количеством объявлений. Максимальная средняя цена квадратного метра в Санкт -Петербурге, минимальнгая - в Выборге*\n"
   ]
  },
  {
   "cell_type": "markdown",
   "metadata": {},
   "source": [
    "Выделим квартиры в Санкт-Петербурге и вычислите среднюю цену каждого километра расстояния до центра. Опишите, как стоимость объектов зависит от расстояния до центра города.\""
   ]
  },
  {
   "cell_type": "code",
   "execution_count": 65,
   "metadata": {},
   "outputs": [
    {
     "data": {
      "text/plain": [
       "inf"
      ]
     },
     "metadata": {},
     "output_type": "display_data"
    },
    {
     "data": {
      "text/plain": [
       "<AxesSubplot:xlabel='cityCenters_nearest_km', ylabel='last_price'>"
      ]
     },
     "execution_count": 65,
     "metadata": {},
     "output_type": "execute_result"
    },
    {
     "data": {
      "image/png": "[encoded data removed]",
      "text/plain": [
       "<Figure size 432x288 with 1 Axes>"
      ]
     },
     "metadata": {
      "needs_background": "light"
     },
     "output_type": "display_data"
    }
   ],
   "source": [
    "# Отфильтруем объявления по Санкт_петербургу и сохраним получившийся датасет в новую переменную\n",
    "df_spb = df.loc[df['locality_name'] == 'Санкт-Петербург']\n",
    "# добавим новый столбец с данными о средней стоимости расстояния от центра\n",
    "df_spb['km_coast'] = df_spb['last_price']/df_spb['cityCenters_nearest_km']\n",
    "#расчитаем среднюю стоимость\n",
    "display(df_spb['km_coast'].mean())\n",
    "#построим диаграмму рассеяния зависимости стоимости от расстояния от центра\n",
    "\n",
    "df_spb.plot(kind ='scatter',  y='last_price', x='cityCenters_nearest_km', grid=True)"
   ]
  },
  {
   "cell_type": "markdown",
   "metadata": {},
   "source": [
    "*По получившейся диаграмме делаем вывод что для Санкт - Петербурга цены на квартиры в радиусе 8 километров от центра примерно одинаковы, а в остальном - чем дальше от центра тем дешевле*"
   ]
  },
  {
   "cell_type": "markdown",
   "metadata": {},
   "source": [
    "### Общий вывод"
   ]
  },
  {
   "cell_type": "markdown",
   "metadata": {},
   "source": [
    "*Итак, была проведена большая работа, прежде всего для того чтобы сделать правильные выводы пришлось значительное время и силы потратить на исправление некорретных и заполнение отсутсвующих данных: были удалены строки с пропусками названий населенных пунктов; медианными значениями заполнены пропуски полощади кухни, жилой площади и высоты потолков\n",
    "Были найдены и исправлены неявные дубликаты в названиях населенных пунктов\n",
    "Изменены типы данных в столбцак на соответсвующие значениям и необходимые для правильного анализа\n",
    "Изучены и пранализированны столбцы с числовыми значениями\n",
    "Обязательно нужно отправить фидбэк расработчикам. \n",
    "На основе проведенного исследования сделаны следующие выводы:\n",
    "- В среднем квартиры продаются за 3 месяца, что влияет на срок продажи можно выяснить проведя отдельное осследование.\n",
    "- На стоимость квартыры в комплексе влияют много факторов от времени года размещения объявления до количество кв. метров. но основной критерий это естесственно общая площадь\n",
    "- Пик сезона размещения объявлений - с февраля по апрель\n",
    "- Цены на квартиры в радиусе 8 километров от центра примерно одинаковы, а в остальном - чем дальше от центра тем дешевле\n",
    "- Самый дорогой кв метр в Санкт Петербурге, самый дешевый в Выборге, чем дальше от города тем дешевле\n",
    "- Три самые дорогие дорогие квартиры - пентхаусы с большой площадью и вероятнее всего с хорошим видом из окон\n",
    "- в 2014-2016 годах было резкое падение цен на квартиры, нужно было покупать в тот период, начиная с 2018 года - рост"
   ]
  }
 ],
 "metadata": {
  "ExecuteTimeLog": [
   {
    "duration": 445,
    "start_time": "2022-10-24T03:50:57.650Z"
   },
   {
    "duration": 89,
    "start_time": "2022-10-24T03:52:23.373Z"
   },
   {
    "duration": 128,
    "start_time": "2022-10-24T03:52:43.401Z"
   },
   {
    "duration": 115,
    "start_time": "2022-10-24T03:53:06.576Z"
   },
   {
    "duration": 111,
    "start_time": "2022-10-24T03:56:23.109Z"
   },
   {
    "duration": 103,
    "start_time": "2022-10-24T04:09:38.390Z"
   },
   {
    "duration": 2146,
    "start_time": "2022-10-24T04:10:21.373Z"
   },
   {
    "duration": 25,
    "start_time": "2022-10-24T04:15:55.686Z"
   },
   {
    "duration": 10,
    "start_time": "2022-10-24T04:22:48.407Z"
   },
   {
    "duration": 8,
    "start_time": "2022-10-24T04:31:00.727Z"
   },
   {
    "duration": 6,
    "start_time": "2022-10-24T04:34:49.076Z"
   },
   {
    "duration": 4,
    "start_time": "2022-10-24T04:34:58.376Z"
   },
   {
    "duration": 7,
    "start_time": "2022-10-24T04:36:23.999Z"
   },
   {
    "duration": 7,
    "start_time": "2022-10-24T04:36:31.287Z"
   },
   {
    "duration": 6,
    "start_time": "2022-10-24T04:37:16.879Z"
   },
   {
    "duration": 4,
    "start_time": "2022-10-24T04:38:08.444Z"
   },
   {
    "duration": 6,
    "start_time": "2022-10-24T04:38:28.433Z"
   },
   {
    "duration": 6,
    "start_time": "2022-10-24T04:38:37.072Z"
   },
   {
    "duration": 31,
    "start_time": "2022-10-24T06:21:48.939Z"
   },
   {
    "duration": 29,
    "start_time": "2022-10-24T06:24:35.440Z"
   },
   {
    "duration": 27,
    "start_time": "2022-10-24T06:25:23.695Z"
   },
   {
    "duration": 6,
    "start_time": "2022-10-24T06:26:14.260Z"
   },
   {
    "duration": 3321,
    "start_time": "2022-10-25T05:36:42.144Z"
   },
   {
    "duration": 17,
    "start_time": "2022-10-25T05:36:45.467Z"
   },
   {
    "duration": 6,
    "start_time": "2022-10-25T05:36:45.486Z"
   },
   {
    "duration": 6,
    "start_time": "2022-10-25T05:38:24.416Z"
   },
   {
    "duration": 108,
    "start_time": "2022-10-25T05:39:36.096Z"
   },
   {
    "duration": 41,
    "start_time": "2022-10-25T05:41:11.378Z"
   },
   {
    "duration": 13,
    "start_time": "2022-10-25T05:47:14.994Z"
   },
   {
    "duration": 9,
    "start_time": "2022-10-25T05:51:47.979Z"
   },
   {
    "duration": 21,
    "start_time": "2022-10-25T05:52:05.945Z"
   },
   {
    "duration": 7,
    "start_time": "2022-10-25T05:52:24.680Z"
   },
   {
    "duration": 27,
    "start_time": "2022-10-25T05:59:13.334Z"
   },
   {
    "duration": 10,
    "start_time": "2022-10-25T07:25:53.385Z"
   },
   {
    "duration": 5,
    "start_time": "2022-10-25T07:27:45.619Z"
   },
   {
    "duration": 6,
    "start_time": "2022-10-25T07:28:36.289Z"
   },
   {
    "duration": 19,
    "start_time": "2022-10-25T07:28:56.052Z"
   },
   {
    "duration": 36,
    "start_time": "2022-10-25T07:29:10.753Z"
   },
   {
    "duration": 66,
    "start_time": "2022-10-25T07:30:24.687Z"
   },
   {
    "duration": 5,
    "start_time": "2022-10-25T07:33:20.309Z"
   },
   {
    "duration": 33,
    "start_time": "2022-10-25T07:33:50.645Z"
   },
   {
    "duration": 46,
    "start_time": "2022-10-25T07:36:15.510Z"
   },
   {
    "duration": 2004,
    "start_time": "2022-10-25T07:36:31.315Z"
   },
   {
    "duration": 16,
    "start_time": "2022-10-25T07:36:33.321Z"
   },
   {
    "duration": 10,
    "start_time": "2022-10-25T07:36:33.338Z"
   },
   {
    "duration": 10,
    "start_time": "2022-10-25T07:36:33.350Z"
   },
   {
    "duration": 3,
    "start_time": "2022-10-25T07:36:33.362Z"
   },
   {
    "duration": 28,
    "start_time": "2022-10-25T07:36:51.486Z"
   },
   {
    "duration": 3125,
    "start_time": "2022-10-25T15:23:42.476Z"
   },
   {
    "duration": 11,
    "start_time": "2022-10-25T15:23:45.603Z"
   },
   {
    "duration": 13,
    "start_time": "2022-10-25T15:23:45.616Z"
   },
   {
    "duration": 39,
    "start_time": "2022-10-25T15:23:45.631Z"
   },
   {
    "duration": 50,
    "start_time": "2022-10-25T15:23:45.672Z"
   },
   {
    "duration": 4,
    "start_time": "2022-10-25T15:27:01.873Z"
   },
   {
    "duration": 5,
    "start_time": "2022-10-25T15:27:42.808Z"
   },
   {
    "duration": 2,
    "start_time": "2022-10-25T15:33:38.589Z"
   },
   {
    "duration": 2,
    "start_time": "2022-10-25T15:34:05.435Z"
   },
   {
    "duration": 9,
    "start_time": "2022-10-25T15:39:10.794Z"
   },
   {
    "duration": 69,
    "start_time": "2022-10-25T15:40:28.650Z"
   },
   {
    "duration": 10,
    "start_time": "2022-10-25T15:40:35.353Z"
   },
   {
    "duration": 3,
    "start_time": "2022-10-25T15:43:57.131Z"
   },
   {
    "duration": 9,
    "start_time": "2022-10-25T15:46:27.434Z"
   },
   {
    "duration": 8,
    "start_time": "2022-10-25T15:46:54.758Z"
   },
   {
    "duration": 6,
    "start_time": "2022-10-25T15:47:49.393Z"
   },
   {
    "duration": 7,
    "start_time": "2022-10-25T15:48:22.542Z"
   },
   {
    "duration": 6,
    "start_time": "2022-10-25T15:52:14.665Z"
   },
   {
    "duration": 6,
    "start_time": "2022-10-25T15:52:23.188Z"
   },
   {
    "duration": 8,
    "start_time": "2022-10-25T15:52:32.770Z"
   },
   {
    "duration": 36,
    "start_time": "2022-10-25T15:54:16.061Z"
   },
   {
    "duration": 5,
    "start_time": "2022-10-25T16:03:42.577Z"
   },
   {
    "duration": 35,
    "start_time": "2022-10-25T16:08:21.984Z"
   },
   {
    "duration": 31,
    "start_time": "2022-10-25T16:11:02.123Z"
   },
   {
    "duration": 28,
    "start_time": "2022-10-25T16:11:09.633Z"
   },
   {
    "duration": 42,
    "start_time": "2022-10-25T16:11:19.924Z"
   },
   {
    "duration": 15,
    "start_time": "2022-10-25T16:11:56.722Z"
   },
   {
    "duration": 36,
    "start_time": "2022-10-25T16:21:36.705Z"
   },
   {
    "duration": 6,
    "start_time": "2022-10-25T16:26:10.012Z"
   },
   {
    "duration": 6,
    "start_time": "2022-10-25T16:26:30.464Z"
   },
   {
    "duration": 12,
    "start_time": "2022-10-25T16:26:42.403Z"
   },
   {
    "duration": 15,
    "start_time": "2022-10-25T16:27:43.633Z"
   },
   {
    "duration": 23,
    "start_time": "2022-10-25T16:32:51.214Z"
   },
   {
    "duration": 29,
    "start_time": "2022-10-25T16:33:09.693Z"
   },
   {
    "duration": 21,
    "start_time": "2022-10-25T16:33:47.038Z"
   },
   {
    "duration": 49,
    "start_time": "2022-10-25T16:34:19.677Z"
   },
   {
    "duration": 62,
    "start_time": "2022-10-25T16:34:58.966Z"
   },
   {
    "duration": 59,
    "start_time": "2022-10-25T16:36:10.278Z"
   },
   {
    "duration": 25,
    "start_time": "2022-10-25T16:36:54.148Z"
   },
   {
    "duration": 28,
    "start_time": "2022-10-25T16:38:16.151Z"
   },
   {
    "duration": 10,
    "start_time": "2022-10-25T16:39:23.287Z"
   },
   {
    "duration": 20,
    "start_time": "2022-10-25T16:39:35.209Z"
   },
   {
    "duration": 1929,
    "start_time": "2022-10-25T16:39:42.651Z"
   },
   {
    "duration": 9,
    "start_time": "2022-10-25T16:39:44.582Z"
   },
   {
    "duration": 13,
    "start_time": "2022-10-25T16:39:44.592Z"
   },
   {
    "duration": 17,
    "start_time": "2022-10-25T16:39:44.607Z"
   },
   {
    "duration": 5,
    "start_time": "2022-10-25T16:39:44.627Z"
   },
   {
    "duration": 10,
    "start_time": "2022-10-25T16:39:44.634Z"
   },
   {
    "duration": 7,
    "start_time": "2022-10-25T16:39:44.645Z"
   },
   {
    "duration": 21,
    "start_time": "2022-10-25T16:39:44.653Z"
   },
   {
    "duration": 18,
    "start_time": "2022-10-25T16:42:50.058Z"
   },
   {
    "duration": 13,
    "start_time": "2022-10-25T16:42:58.173Z"
   },
   {
    "duration": 14,
    "start_time": "2022-10-25T16:44:17.130Z"
   },
   {
    "duration": 46,
    "start_time": "2022-10-25T16:55:23.241Z"
   },
   {
    "duration": 7,
    "start_time": "2022-10-25T16:59:46.452Z"
   },
   {
    "duration": 19,
    "start_time": "2022-10-25T17:00:00.966Z"
   },
   {
    "duration": 35,
    "start_time": "2022-10-25T17:05:19.519Z"
   },
   {
    "duration": 140,
    "start_time": "2022-10-25T17:18:57.248Z"
   },
   {
    "duration": 302,
    "start_time": "2022-10-25T17:21:06.872Z"
   },
   {
    "duration": 6,
    "start_time": "2022-10-25T17:26:40.546Z"
   },
   {
    "duration": 7,
    "start_time": "2022-10-25T17:28:51.260Z"
   },
   {
    "duration": 7,
    "start_time": "2022-10-25T17:29:23.753Z"
   },
   {
    "duration": 7,
    "start_time": "2022-10-25T17:30:46.489Z"
   },
   {
    "duration": 11,
    "start_time": "2022-10-25T17:31:07.089Z"
   },
   {
    "duration": 10,
    "start_time": "2022-10-25T17:31:25.798Z"
   },
   {
    "duration": 5,
    "start_time": "2022-10-25T17:34:41.704Z"
   },
   {
    "duration": 16,
    "start_time": "2022-10-25T17:34:51.718Z"
   },
   {
    "duration": 7,
    "start_time": "2022-10-25T17:39:40.157Z"
   },
   {
    "duration": 15,
    "start_time": "2022-10-25T17:40:03.250Z"
   },
   {
    "duration": 153,
    "start_time": "2022-10-25T17:42:17.547Z"
   },
   {
    "duration": 152,
    "start_time": "2022-10-25T17:46:56.173Z"
   },
   {
    "duration": 166,
    "start_time": "2022-10-25T17:47:05.052Z"
   },
   {
    "duration": 138,
    "start_time": "2022-10-25T17:47:53.650Z"
   },
   {
    "duration": 225,
    "start_time": "2022-10-25T17:48:08.605Z"
   },
   {
    "duration": 48,
    "start_time": "2022-10-25T17:49:28.770Z"
   },
   {
    "duration": 141,
    "start_time": "2022-10-25T17:49:59.172Z"
   },
   {
    "duration": 1794,
    "start_time": "2022-10-25T17:51:11.449Z"
   },
   {
    "duration": 9,
    "start_time": "2022-10-25T17:51:13.245Z"
   },
   {
    "duration": 35,
    "start_time": "2022-10-25T17:51:13.255Z"
   },
   {
    "duration": 41,
    "start_time": "2022-10-25T17:51:13.291Z"
   },
   {
    "duration": 31,
    "start_time": "2022-10-25T17:51:13.334Z"
   },
   {
    "duration": 38,
    "start_time": "2022-10-25T17:51:13.367Z"
   },
   {
    "duration": 27,
    "start_time": "2022-10-25T17:51:13.407Z"
   },
   {
    "duration": 18,
    "start_time": "2022-10-25T17:51:13.435Z"
   },
   {
    "duration": 130,
    "start_time": "2022-10-25T17:51:13.455Z"
   },
   {
    "duration": 295,
    "start_time": "2022-10-25T17:51:13.586Z"
   },
   {
    "duration": 15,
    "start_time": "2022-10-25T17:51:13.883Z"
   },
   {
    "duration": 27,
    "start_time": "2022-10-25T17:51:13.900Z"
   },
   {
    "duration": 167,
    "start_time": "2022-10-25T17:51:13.928Z"
   },
   {
    "duration": 3289,
    "start_time": "2022-10-26T03:29:01.128Z"
   },
   {
    "duration": 9,
    "start_time": "2022-10-26T03:29:04.419Z"
   },
   {
    "duration": 29,
    "start_time": "2022-10-26T03:29:04.430Z"
   },
   {
    "duration": 25,
    "start_time": "2022-10-26T03:29:04.461Z"
   },
   {
    "duration": 27,
    "start_time": "2022-10-26T03:29:04.489Z"
   },
   {
    "duration": 20,
    "start_time": "2022-10-26T03:29:04.517Z"
   },
   {
    "duration": 31,
    "start_time": "2022-10-26T03:29:04.539Z"
   },
   {
    "duration": 47,
    "start_time": "2022-10-26T03:29:04.572Z"
   },
   {
    "duration": 48,
    "start_time": "2022-10-26T03:29:04.621Z"
   },
   {
    "duration": 366,
    "start_time": "2022-10-26T03:29:04.671Z"
   },
   {
    "duration": 23,
    "start_time": "2022-10-26T03:29:05.039Z"
   },
   {
    "duration": 14,
    "start_time": "2022-10-26T03:29:05.065Z"
   },
   {
    "duration": 202,
    "start_time": "2022-10-26T03:29:05.081Z"
   },
   {
    "duration": 188,
    "start_time": "2022-10-26T03:30:33.787Z"
   },
   {
    "duration": 175,
    "start_time": "2022-10-26T03:31:20.200Z"
   },
   {
    "duration": 1010,
    "start_time": "2022-10-26T03:34:53.716Z"
   },
   {
    "duration": 883,
    "start_time": "2022-10-26T03:35:29.028Z"
   },
   {
    "duration": 174,
    "start_time": "2022-10-26T03:37:52.917Z"
   },
   {
    "duration": 212,
    "start_time": "2022-10-26T03:38:28.179Z"
   },
   {
    "duration": 177,
    "start_time": "2022-10-26T03:39:48.127Z"
   },
   {
    "duration": 179,
    "start_time": "2022-10-26T03:40:51.208Z"
   },
   {
    "duration": 3,
    "start_time": "2022-10-26T03:44:47.741Z"
   },
   {
    "duration": 9,
    "start_time": "2022-10-26T03:45:33.364Z"
   },
   {
    "duration": 755,
    "start_time": "2022-10-26T03:45:41.513Z"
   },
   {
    "duration": 722,
    "start_time": "2022-10-26T03:45:52.913Z"
   },
   {
    "duration": 38,
    "start_time": "2022-10-26T03:46:29.796Z"
   },
   {
    "duration": 373,
    "start_time": "2022-10-26T03:47:30.839Z"
   },
   {
    "duration": 346,
    "start_time": "2022-10-26T03:47:51.703Z"
   },
   {
    "duration": 700,
    "start_time": "2022-10-26T03:48:07.238Z"
   },
   {
    "duration": 38,
    "start_time": "2022-10-26T03:48:24.741Z"
   },
   {
    "duration": 12,
    "start_time": "2022-10-26T03:49:44.903Z"
   },
   {
    "duration": 11,
    "start_time": "2022-10-26T03:49:54.200Z"
   },
   {
    "duration": 14,
    "start_time": "2022-10-26T03:50:27.226Z"
   },
   {
    "duration": 10,
    "start_time": "2022-10-26T03:50:42.514Z"
   },
   {
    "duration": 9,
    "start_time": "2022-10-26T03:51:49.168Z"
   },
   {
    "duration": 9,
    "start_time": "2022-10-26T03:55:53.585Z"
   },
   {
    "duration": 11,
    "start_time": "2022-10-26T03:56:52.549Z"
   },
   {
    "duration": 12,
    "start_time": "2022-10-26T03:58:14.745Z"
   },
   {
    "duration": 11,
    "start_time": "2022-10-26T03:58:43.126Z"
   },
   {
    "duration": 12,
    "start_time": "2022-10-26T03:58:48.007Z"
   },
   {
    "duration": 19,
    "start_time": "2022-10-26T04:28:27.383Z"
   },
   {
    "duration": 15,
    "start_time": "2022-10-26T04:34:35.124Z"
   },
   {
    "duration": 17,
    "start_time": "2022-10-26T04:34:47.699Z"
   },
   {
    "duration": 32,
    "start_time": "2022-10-26T04:35:01.668Z"
   },
   {
    "duration": 14,
    "start_time": "2022-10-26T04:45:26.118Z"
   },
   {
    "duration": 399,
    "start_time": "2022-10-26T04:51:59.952Z"
   },
   {
    "duration": 342,
    "start_time": "2022-10-26T04:52:16.471Z"
   },
   {
    "duration": 388,
    "start_time": "2022-10-26T04:52:41.048Z"
   },
   {
    "duration": 384,
    "start_time": "2022-10-26T04:53:17.382Z"
   },
   {
    "duration": 384,
    "start_time": "2022-10-26T04:55:47.654Z"
   },
   {
    "duration": 356,
    "start_time": "2022-10-26T04:56:04.368Z"
   },
   {
    "duration": 36,
    "start_time": "2022-10-26T04:57:31.121Z"
   },
   {
    "duration": 27,
    "start_time": "2022-10-26T04:58:38.752Z"
   },
   {
    "duration": 31,
    "start_time": "2022-10-26T04:59:24.083Z"
   },
   {
    "duration": 26,
    "start_time": "2022-10-26T04:59:50.541Z"
   },
   {
    "duration": 30,
    "start_time": "2022-10-26T05:00:53.597Z"
   },
   {
    "duration": 13,
    "start_time": "2022-10-26T05:30:01.710Z"
   },
   {
    "duration": 9,
    "start_time": "2022-10-26T05:31:04.698Z"
   },
   {
    "duration": 8,
    "start_time": "2022-10-26T05:31:19.347Z"
   },
   {
    "duration": 10,
    "start_time": "2022-10-26T05:31:39.894Z"
   },
   {
    "duration": 11,
    "start_time": "2022-10-26T05:37:03.148Z"
   },
   {
    "duration": 12,
    "start_time": "2022-10-26T05:44:58.413Z"
   },
   {
    "duration": 24,
    "start_time": "2022-10-26T05:47:06.927Z"
   },
   {
    "duration": 21,
    "start_time": "2022-10-26T05:47:47.343Z"
   },
   {
    "duration": 28,
    "start_time": "2022-10-26T05:48:00.818Z"
   },
   {
    "duration": 35,
    "start_time": "2022-10-26T05:48:05.305Z"
   },
   {
    "duration": 25,
    "start_time": "2022-10-26T05:48:52.020Z"
   },
   {
    "duration": 2936,
    "start_time": "2022-10-26T13:22:45.963Z"
   },
   {
    "duration": 9,
    "start_time": "2022-10-26T13:22:48.901Z"
   },
   {
    "duration": 55,
    "start_time": "2022-10-26T13:22:48.912Z"
   },
   {
    "duration": 31,
    "start_time": "2022-10-26T13:22:48.970Z"
   },
   {
    "duration": 31,
    "start_time": "2022-10-26T13:22:49.004Z"
   },
   {
    "duration": 38,
    "start_time": "2022-10-26T13:22:49.036Z"
   },
   {
    "duration": 54,
    "start_time": "2022-10-26T13:22:49.076Z"
   },
   {
    "duration": 40,
    "start_time": "2022-10-26T13:22:49.132Z"
   },
   {
    "duration": 58,
    "start_time": "2022-10-26T13:22:49.174Z"
   },
   {
    "duration": 333,
    "start_time": "2022-10-26T13:22:49.235Z"
   },
   {
    "duration": 16,
    "start_time": "2022-10-26T13:22:49.571Z"
   },
   {
    "duration": 53,
    "start_time": "2022-10-26T13:22:49.589Z"
   },
   {
    "duration": 188,
    "start_time": "2022-10-26T13:22:49.643Z"
   },
   {
    "duration": 12,
    "start_time": "2022-10-26T13:22:49.833Z"
   },
   {
    "duration": 43,
    "start_time": "2022-10-26T13:22:49.846Z"
   },
   {
    "duration": 13,
    "start_time": "2022-10-26T13:22:49.891Z"
   },
   {
    "duration": 1904,
    "start_time": "2022-10-26T13:23:33.779Z"
   },
   {
    "duration": 5,
    "start_time": "2022-10-26T13:23:43.914Z"
   },
   {
    "duration": 8,
    "start_time": "2022-10-26T13:23:47.521Z"
   },
   {
    "duration": 6,
    "start_time": "2022-10-26T13:23:49.999Z"
   },
   {
    "duration": 9,
    "start_time": "2022-10-26T13:23:53.022Z"
   },
   {
    "duration": 8,
    "start_time": "2022-10-26T13:23:55.829Z"
   },
   {
    "duration": 36,
    "start_time": "2022-10-26T13:24:03.476Z"
   },
   {
    "duration": 309,
    "start_time": "2022-10-26T13:24:12.814Z"
   },
   {
    "duration": 14,
    "start_time": "2022-10-26T13:24:23.451Z"
   },
   {
    "duration": 12,
    "start_time": "2022-10-26T13:24:32.816Z"
   },
   {
    "duration": 164,
    "start_time": "2022-10-26T13:25:56.181Z"
   },
   {
    "duration": 170,
    "start_time": "2022-10-26T13:26:15.920Z"
   },
   {
    "duration": 176,
    "start_time": "2022-10-26T13:27:24.430Z"
   },
   {
    "duration": 296,
    "start_time": "2022-10-26T13:28:18.816Z"
   },
   {
    "duration": 177,
    "start_time": "2022-10-26T13:29:44.896Z"
   },
   {
    "duration": 252,
    "start_time": "2022-10-26T13:51:18.333Z"
   },
   {
    "duration": 174,
    "start_time": "2022-10-26T13:52:08.344Z"
   },
   {
    "duration": 2024,
    "start_time": "2022-10-26T13:52:30.858Z"
   },
   {
    "duration": 9,
    "start_time": "2022-10-26T13:52:32.884Z"
   },
   {
    "duration": 6,
    "start_time": "2022-10-26T13:52:32.894Z"
   },
   {
    "duration": 25,
    "start_time": "2022-10-26T13:52:32.901Z"
   },
   {
    "duration": 6,
    "start_time": "2022-10-26T13:52:32.929Z"
   },
   {
    "duration": 10,
    "start_time": "2022-10-26T13:52:32.937Z"
   },
   {
    "duration": 7,
    "start_time": "2022-10-26T13:52:32.949Z"
   },
   {
    "duration": 23,
    "start_time": "2022-10-26T13:52:32.958Z"
   },
   {
    "duration": 73,
    "start_time": "2022-10-26T13:52:32.983Z"
   },
   {
    "duration": 340,
    "start_time": "2022-10-26T13:52:33.058Z"
   },
   {
    "duration": 23,
    "start_time": "2022-10-26T13:52:33.399Z"
   },
   {
    "duration": 12,
    "start_time": "2022-10-26T13:52:33.424Z"
   },
   {
    "duration": 203,
    "start_time": "2022-10-26T13:52:33.437Z"
   },
   {
    "duration": 15,
    "start_time": "2022-10-26T13:52:33.643Z"
   },
   {
    "duration": 28,
    "start_time": "2022-10-26T13:52:33.660Z"
   },
   {
    "duration": 12,
    "start_time": "2022-10-26T13:52:33.690Z"
   },
   {
    "duration": 228,
    "start_time": "2022-10-26T13:54:18.688Z"
   },
   {
    "duration": 189,
    "start_time": "2022-10-26T13:59:43.417Z"
   },
   {
    "duration": 192,
    "start_time": "2022-10-26T13:59:51.011Z"
   },
   {
    "duration": 2077,
    "start_time": "2022-10-26T14:00:26.877Z"
   },
   {
    "duration": 12,
    "start_time": "2022-10-26T14:00:28.956Z"
   },
   {
    "duration": 16,
    "start_time": "2022-10-26T14:00:28.970Z"
   },
   {
    "duration": 16,
    "start_time": "2022-10-26T14:00:28.988Z"
   },
   {
    "duration": 17,
    "start_time": "2022-10-26T14:00:29.007Z"
   },
   {
    "duration": 13,
    "start_time": "2022-10-26T14:00:29.026Z"
   },
   {
    "duration": 10,
    "start_time": "2022-10-26T14:00:29.041Z"
   },
   {
    "duration": 29,
    "start_time": "2022-10-26T14:00:29.053Z"
   },
   {
    "duration": 69,
    "start_time": "2022-10-26T14:00:29.085Z"
   },
   {
    "duration": 320,
    "start_time": "2022-10-26T14:00:29.157Z"
   },
   {
    "duration": 14,
    "start_time": "2022-10-26T14:00:29.479Z"
   },
   {
    "duration": 26,
    "start_time": "2022-10-26T14:00:29.495Z"
   },
   {
    "duration": 203,
    "start_time": "2022-10-26T14:00:29.523Z"
   },
   {
    "duration": 11,
    "start_time": "2022-10-26T14:00:29.728Z"
   },
   {
    "duration": 22,
    "start_time": "2022-10-26T14:00:29.740Z"
   },
   {
    "duration": 11,
    "start_time": "2022-10-26T14:00:29.764Z"
   },
   {
    "duration": 211,
    "start_time": "2022-10-26T14:07:32.649Z"
   },
   {
    "duration": 222,
    "start_time": "2022-10-26T14:09:03.217Z"
   },
   {
    "duration": 208,
    "start_time": "2022-10-26T14:10:01.699Z"
   },
   {
    "duration": 216,
    "start_time": "2022-10-26T14:11:11.783Z"
   },
   {
    "duration": 2023,
    "start_time": "2022-10-26T14:22:31.682Z"
   },
   {
    "duration": 17,
    "start_time": "2022-10-26T14:22:33.707Z"
   },
   {
    "duration": 6,
    "start_time": "2022-10-26T14:22:33.725Z"
   },
   {
    "duration": 36,
    "start_time": "2022-10-26T14:22:33.732Z"
   },
   {
    "duration": 6,
    "start_time": "2022-10-26T14:22:33.770Z"
   },
   {
    "duration": 19,
    "start_time": "2022-10-26T14:22:33.777Z"
   },
   {
    "duration": 36,
    "start_time": "2022-10-26T14:22:33.798Z"
   },
   {
    "duration": 59,
    "start_time": "2022-10-26T14:22:33.836Z"
   },
   {
    "duration": 35,
    "start_time": "2022-10-26T14:22:33.897Z"
   },
   {
    "duration": 320,
    "start_time": "2022-10-26T14:22:33.934Z"
   },
   {
    "duration": 14,
    "start_time": "2022-10-26T14:22:34.255Z"
   },
   {
    "duration": 20,
    "start_time": "2022-10-26T14:22:34.270Z"
   },
   {
    "duration": 166,
    "start_time": "2022-10-26T14:22:34.292Z"
   },
   {
    "duration": 11,
    "start_time": "2022-10-26T14:22:34.460Z"
   },
   {
    "duration": 59,
    "start_time": "2022-10-26T14:22:34.472Z"
   },
   {
    "duration": 11,
    "start_time": "2022-10-26T14:22:34.532Z"
   },
   {
    "duration": 23,
    "start_time": "2022-10-26T14:22:42.840Z"
   },
   {
    "duration": 11,
    "start_time": "2022-10-26T14:33:35.262Z"
   },
   {
    "duration": 15,
    "start_time": "2022-10-26T14:37:56.436Z"
   },
   {
    "duration": 16,
    "start_time": "2022-10-26T14:39:39.420Z"
   },
   {
    "duration": 23,
    "start_time": "2022-10-26T14:40:19.436Z"
   },
   {
    "duration": 15,
    "start_time": "2022-10-26T14:44:08.743Z"
   },
   {
    "duration": 10,
    "start_time": "2022-10-26T14:44:47.826Z"
   },
   {
    "duration": 10,
    "start_time": "2022-10-26T14:45:07.279Z"
   },
   {
    "duration": 200,
    "start_time": "2022-10-26T14:55:12.739Z"
   },
   {
    "duration": 11,
    "start_time": "2022-10-26T15:15:45.722Z"
   },
   {
    "duration": 14,
    "start_time": "2022-10-26T15:20:16.192Z"
   },
   {
    "duration": 8,
    "start_time": "2022-10-26T15:22:00.544Z"
   },
   {
    "duration": 8,
    "start_time": "2022-10-26T15:52:07.281Z"
   },
   {
    "duration": 19,
    "start_time": "2022-10-26T15:54:36.726Z"
   },
   {
    "duration": 18,
    "start_time": "2022-10-26T15:55:13.577Z"
   },
   {
    "duration": 141,
    "start_time": "2022-10-26T17:18:30.981Z"
   },
   {
    "duration": 148,
    "start_time": "2022-10-26T17:19:06.312Z"
   },
   {
    "duration": 7,
    "start_time": "2022-10-26T17:19:30.975Z"
   },
   {
    "duration": 8,
    "start_time": "2022-10-26T17:20:43.110Z"
   },
   {
    "duration": 155,
    "start_time": "2022-10-26T17:20:52.337Z"
   },
   {
    "duration": 7,
    "start_time": "2022-10-26T17:21:23.361Z"
   },
   {
    "duration": 7,
    "start_time": "2022-10-26T17:21:40.398Z"
   },
   {
    "duration": 8,
    "start_time": "2022-10-26T17:21:46.809Z"
   },
   {
    "duration": 7,
    "start_time": "2022-10-26T17:22:27.510Z"
   },
   {
    "duration": 7,
    "start_time": "2022-10-26T17:22:36.580Z"
   },
   {
    "duration": 402,
    "start_time": "2022-10-26T17:23:03.938Z"
   },
   {
    "duration": 125,
    "start_time": "2022-10-26T17:23:31.902Z"
   },
   {
    "duration": 132,
    "start_time": "2022-10-26T17:23:54.348Z"
   },
   {
    "duration": 114,
    "start_time": "2022-10-26T17:24:01.283Z"
   },
   {
    "duration": 110,
    "start_time": "2022-10-26T17:24:08.159Z"
   },
   {
    "duration": 8,
    "start_time": "2022-10-26T17:24:24.886Z"
   },
   {
    "duration": 153,
    "start_time": "2022-10-26T17:24:33.549Z"
   },
   {
    "duration": 146,
    "start_time": "2022-10-26T17:24:50.759Z"
   },
   {
    "duration": 163,
    "start_time": "2022-10-26T17:24:57.364Z"
   },
   {
    "duration": 187,
    "start_time": "2022-10-26T17:25:25.317Z"
   },
   {
    "duration": 179,
    "start_time": "2022-10-26T17:26:06.112Z"
   },
   {
    "duration": 167,
    "start_time": "2022-10-26T17:26:31.583Z"
   },
   {
    "duration": 172,
    "start_time": "2022-10-26T17:26:50.657Z"
   },
   {
    "duration": 179,
    "start_time": "2022-10-26T17:27:49.460Z"
   },
   {
    "duration": 180,
    "start_time": "2022-10-26T17:28:14.734Z"
   },
   {
    "duration": 217,
    "start_time": "2022-10-26T17:34:46.070Z"
   },
   {
    "duration": 237,
    "start_time": "2022-10-26T17:35:37.723Z"
   },
   {
    "duration": 45,
    "start_time": "2022-10-26T17:37:34.148Z"
   },
   {
    "duration": 227,
    "start_time": "2022-10-26T17:37:47.482Z"
   },
   {
    "duration": 49,
    "start_time": "2022-10-26T17:38:07.302Z"
   },
   {
    "duration": 221,
    "start_time": "2022-10-26T17:38:18.779Z"
   },
   {
    "duration": 196,
    "start_time": "2022-10-26T17:38:45.771Z"
   },
   {
    "duration": 174,
    "start_time": "2022-10-26T17:39:25.501Z"
   },
   {
    "duration": 5,
    "start_time": "2022-10-26T17:42:40.522Z"
   },
   {
    "duration": 9,
    "start_time": "2022-10-26T17:45:19.743Z"
   },
   {
    "duration": 6,
    "start_time": "2022-10-26T17:45:44.256Z"
   },
   {
    "duration": 5,
    "start_time": "2022-10-26T17:46:28.480Z"
   },
   {
    "duration": 10,
    "start_time": "2022-10-26T17:50:55.236Z"
   },
   {
    "duration": 541,
    "start_time": "2022-10-26T17:51:19.927Z"
   },
   {
    "duration": 527,
    "start_time": "2022-10-26T17:54:21.256Z"
   },
   {
    "duration": 560,
    "start_time": "2022-10-26T17:55:17.066Z"
   },
   {
    "duration": 293,
    "start_time": "2022-10-26T17:55:20.735Z"
   },
   {
    "duration": 4,
    "start_time": "2022-10-26T18:02:38.270Z"
   },
   {
    "duration": 15,
    "start_time": "2022-10-26T18:03:05.792Z"
   },
   {
    "duration": 45,
    "start_time": "2022-10-27T09:39:20.583Z"
   },
   {
    "duration": 3129,
    "start_time": "2022-10-27T09:39:29.136Z"
   },
   {
    "duration": 10,
    "start_time": "2022-10-27T09:39:32.267Z"
   },
   {
    "duration": 11,
    "start_time": "2022-10-27T09:39:32.279Z"
   },
   {
    "duration": 19,
    "start_time": "2022-10-27T09:39:32.292Z"
   },
   {
    "duration": 7,
    "start_time": "2022-10-27T09:39:32.313Z"
   },
   {
    "duration": 21,
    "start_time": "2022-10-27T09:39:32.321Z"
   },
   {
    "duration": 35,
    "start_time": "2022-10-27T09:39:32.343Z"
   },
   {
    "duration": 32,
    "start_time": "2022-10-27T09:39:32.380Z"
   },
   {
    "duration": 52,
    "start_time": "2022-10-27T09:39:32.413Z"
   },
   {
    "duration": 353,
    "start_time": "2022-10-27T09:39:32.466Z"
   },
   {
    "duration": 16,
    "start_time": "2022-10-27T09:39:32.821Z"
   },
   {
    "duration": 14,
    "start_time": "2022-10-27T09:39:32.839Z"
   },
   {
    "duration": 236,
    "start_time": "2022-10-27T09:39:32.854Z"
   },
   {
    "duration": 12,
    "start_time": "2022-10-27T09:39:33.093Z"
   },
   {
    "duration": 27,
    "start_time": "2022-10-27T09:39:33.106Z"
   },
   {
    "duration": 75,
    "start_time": "2022-10-27T09:39:33.135Z"
   },
   {
    "duration": 0,
    "start_time": "2022-10-27T09:39:33.212Z"
   },
   {
    "duration": 0,
    "start_time": "2022-10-27T09:39:33.213Z"
   },
   {
    "duration": 0,
    "start_time": "2022-10-27T09:39:33.214Z"
   },
   {
    "duration": 0,
    "start_time": "2022-10-27T09:39:33.216Z"
   },
   {
    "duration": 0,
    "start_time": "2022-10-27T09:39:33.217Z"
   },
   {
    "duration": 0,
    "start_time": "2022-10-27T09:39:33.218Z"
   },
   {
    "duration": 38,
    "start_time": "2022-10-27T09:39:37.232Z"
   },
   {
    "duration": 15,
    "start_time": "2022-10-27T09:39:53.652Z"
   },
   {
    "duration": 21,
    "start_time": "2022-10-27T09:46:11.135Z"
   },
   {
    "duration": 91,
    "start_time": "2022-10-27T09:46:36.836Z"
   },
   {
    "duration": 207,
    "start_time": "2022-10-27T09:47:17.548Z"
   },
   {
    "duration": 335,
    "start_time": "2022-10-27T09:47:53.858Z"
   },
   {
    "duration": 4,
    "start_time": "2022-10-27T09:48:24.132Z"
   },
   {
    "duration": 6,
    "start_time": "2022-10-27T09:48:26.695Z"
   },
   {
    "duration": 6,
    "start_time": "2022-10-27T09:48:30.472Z"
   },
   {
    "duration": 350,
    "start_time": "2022-10-27T09:48:32.903Z"
   },
   {
    "duration": 2,
    "start_time": "2022-10-27T09:55:34.924Z"
   },
   {
    "duration": 9,
    "start_time": "2022-10-27T09:57:03.738Z"
   },
   {
    "duration": 148,
    "start_time": "2022-10-27T09:59:05.931Z"
   },
   {
    "duration": 160,
    "start_time": "2022-10-27T10:06:32.648Z"
   },
   {
    "duration": 11,
    "start_time": "2022-10-27T10:07:20.241Z"
   },
   {
    "duration": 170,
    "start_time": "2022-10-27T10:08:43.923Z"
   },
   {
    "duration": 274,
    "start_time": "2022-10-27T10:12:09.286Z"
   },
   {
    "duration": 210,
    "start_time": "2022-10-27T10:12:26.484Z"
   },
   {
    "duration": 197,
    "start_time": "2022-10-27T10:13:19.496Z"
   },
   {
    "duration": 210,
    "start_time": "2022-10-27T10:13:30.749Z"
   },
   {
    "duration": 212,
    "start_time": "2022-10-27T10:13:49.223Z"
   },
   {
    "duration": 188,
    "start_time": "2022-10-27T10:14:24.741Z"
   },
   {
    "duration": 183,
    "start_time": "2022-10-27T10:15:32.600Z"
   },
   {
    "duration": 792,
    "start_time": "2022-10-27T10:17:17.581Z"
   },
   {
    "duration": 988,
    "start_time": "2022-10-27T10:17:37.118Z"
   },
   {
    "duration": 282,
    "start_time": "2022-10-27T10:17:50.330Z"
   },
   {
    "duration": 13,
    "start_time": "2022-10-27T10:20:20.082Z"
   },
   {
    "duration": 9,
    "start_time": "2022-10-27T10:21:26.205Z"
   },
   {
    "duration": 206,
    "start_time": "2022-10-27T10:22:58.087Z"
   },
   {
    "duration": 8,
    "start_time": "2022-10-27T10:26:09.161Z"
   },
   {
    "duration": 9,
    "start_time": "2022-10-27T10:26:17.985Z"
   },
   {
    "duration": 198,
    "start_time": "2022-10-27T10:27:06.335Z"
   },
   {
    "duration": 2091,
    "start_time": "2022-10-27T10:27:46.786Z"
   },
   {
    "duration": 10,
    "start_time": "2022-10-27T10:27:48.879Z"
   },
   {
    "duration": 10,
    "start_time": "2022-10-27T10:27:48.890Z"
   },
   {
    "duration": 18,
    "start_time": "2022-10-27T10:27:48.901Z"
   },
   {
    "duration": 5,
    "start_time": "2022-10-27T10:27:48.921Z"
   },
   {
    "duration": 16,
    "start_time": "2022-10-27T10:27:48.928Z"
   },
   {
    "duration": 8,
    "start_time": "2022-10-27T10:27:48.945Z"
   },
   {
    "duration": 37,
    "start_time": "2022-10-27T10:27:48.955Z"
   },
   {
    "duration": 36,
    "start_time": "2022-10-27T10:27:48.994Z"
   },
   {
    "duration": 345,
    "start_time": "2022-10-27T10:27:49.032Z"
   },
   {
    "duration": 15,
    "start_time": "2022-10-27T10:27:49.378Z"
   },
   {
    "duration": 21,
    "start_time": "2022-10-27T10:27:49.395Z"
   },
   {
    "duration": 220,
    "start_time": "2022-10-27T10:27:49.419Z"
   },
   {
    "duration": 11,
    "start_time": "2022-10-27T10:27:49.642Z"
   },
   {
    "duration": 45,
    "start_time": "2022-10-27T10:27:49.654Z"
   },
   {
    "duration": 3,
    "start_time": "2022-10-27T10:27:49.700Z"
   },
   {
    "duration": 200,
    "start_time": "2022-10-27T10:27:49.704Z"
   },
   {
    "duration": 5,
    "start_time": "2022-10-27T10:27:49.906Z"
   },
   {
    "duration": 13,
    "start_time": "2022-10-27T10:27:49.913Z"
   },
   {
    "duration": 11,
    "start_time": "2022-10-27T10:27:49.927Z"
   },
   {
    "duration": 375,
    "start_time": "2022-10-27T10:27:49.940Z"
   },
   {
    "duration": 3,
    "start_time": "2022-10-27T10:27:50.317Z"
   },
   {
    "duration": 195,
    "start_time": "2022-10-27T10:27:50.321Z"
   },
   {
    "duration": 224,
    "start_time": "2022-10-27T10:27:50.518Z"
   },
   {
    "duration": 194,
    "start_time": "2022-10-27T10:27:50.744Z"
   },
   {
    "duration": 201,
    "start_time": "2022-10-27T10:27:50.940Z"
   },
   {
    "duration": 342,
    "start_time": "2022-10-27T10:27:51.143Z"
   },
   {
    "duration": 199,
    "start_time": "2022-10-27T10:33:30.700Z"
   },
   {
    "duration": 210,
    "start_time": "2022-10-27T10:33:45.806Z"
   },
   {
    "duration": 205,
    "start_time": "2022-10-27T10:33:58.995Z"
   },
   {
    "duration": 183,
    "start_time": "2022-10-27T10:35:42.862Z"
   },
   {
    "duration": 46,
    "start_time": "2022-10-27T10:36:21.149Z"
   },
   {
    "duration": 181,
    "start_time": "2022-10-27T10:36:37.521Z"
   },
   {
    "duration": 213,
    "start_time": "2022-10-27T10:39:45.120Z"
   },
   {
    "duration": 235,
    "start_time": "2022-10-27T10:41:33.320Z"
   },
   {
    "duration": 185,
    "start_time": "2022-10-27T10:43:00.498Z"
   },
   {
    "duration": 113,
    "start_time": "2022-10-27T10:43:18.840Z"
   },
   {
    "duration": 218,
    "start_time": "2022-10-27T10:43:45.082Z"
   },
   {
    "duration": 120,
    "start_time": "2022-10-27T10:44:36.074Z"
   },
   {
    "duration": 117,
    "start_time": "2022-10-27T10:45:02.609Z"
   },
   {
    "duration": 284,
    "start_time": "2022-10-27T10:45:22.096Z"
   },
   {
    "duration": 165,
    "start_time": "2022-10-27T10:46:30.348Z"
   },
   {
    "duration": 178,
    "start_time": "2022-10-27T10:46:47.363Z"
   },
   {
    "duration": 188,
    "start_time": "2022-10-27T11:01:21.517Z"
   },
   {
    "duration": 201,
    "start_time": "2022-10-27T11:02:08.077Z"
   },
   {
    "duration": 174,
    "start_time": "2022-10-27T11:03:51.095Z"
   },
   {
    "duration": 156,
    "start_time": "2022-10-27T11:03:59.534Z"
   },
   {
    "duration": 159,
    "start_time": "2022-10-27T11:04:23.904Z"
   },
   {
    "duration": 46,
    "start_time": "2022-10-27T11:04:46.819Z"
   },
   {
    "duration": 155,
    "start_time": "2022-10-27T11:04:53.151Z"
   },
   {
    "duration": 155,
    "start_time": "2022-10-27T11:05:12.766Z"
   },
   {
    "duration": 163,
    "start_time": "2022-10-27T11:05:23.953Z"
   },
   {
    "duration": 165,
    "start_time": "2022-10-27T11:06:54.858Z"
   },
   {
    "duration": 169,
    "start_time": "2022-10-27T11:07:14.573Z"
   },
   {
    "duration": 10,
    "start_time": "2022-10-27T11:12:03.512Z"
   },
   {
    "duration": 5,
    "start_time": "2022-10-27T11:12:48.072Z"
   },
   {
    "duration": 6,
    "start_time": "2022-10-27T11:13:57.033Z"
   },
   {
    "duration": 6,
    "start_time": "2022-10-27T11:14:03.039Z"
   },
   {
    "duration": 356,
    "start_time": "2022-10-27T11:14:10.975Z"
   },
   {
    "duration": 351,
    "start_time": "2022-10-27T11:16:26.614Z"
   },
   {
    "duration": 667,
    "start_time": "2022-10-27T11:16:41.401Z"
   },
   {
    "duration": 158,
    "start_time": "2022-10-27T11:16:47.961Z"
   },
   {
    "duration": 295,
    "start_time": "2022-10-27T11:16:58.257Z"
   },
   {
    "duration": 153,
    "start_time": "2022-10-27T11:17:37.044Z"
   },
   {
    "duration": 123,
    "start_time": "2022-10-27T11:17:57.530Z"
   },
   {
    "duration": 123,
    "start_time": "2022-10-27T11:18:02.226Z"
   },
   {
    "duration": 136,
    "start_time": "2022-10-27T11:18:21.822Z"
   },
   {
    "duration": 153,
    "start_time": "2022-10-27T11:18:46.912Z"
   },
   {
    "duration": 132,
    "start_time": "2022-10-27T11:19:00.777Z"
   },
   {
    "duration": 120,
    "start_time": "2022-10-27T11:19:03.124Z"
   },
   {
    "duration": 50,
    "start_time": "2022-10-27T11:19:22.675Z"
   },
   {
    "duration": 130,
    "start_time": "2022-10-27T11:19:33.185Z"
   },
   {
    "duration": 11,
    "start_time": "2022-10-27T11:23:28.174Z"
   },
   {
    "duration": 8,
    "start_time": "2022-10-27T11:24:10.181Z"
   },
   {
    "duration": 166,
    "start_time": "2022-10-27T11:24:18.086Z"
   },
   {
    "duration": 28,
    "start_time": "2022-10-27T12:09:26.676Z"
   },
   {
    "duration": 28,
    "start_time": "2022-10-27T12:09:50.071Z"
   },
   {
    "duration": 165,
    "start_time": "2022-10-27T12:26:22.065Z"
   },
   {
    "duration": 197,
    "start_time": "2022-10-27T12:26:39.554Z"
   },
   {
    "duration": 182,
    "start_time": "2022-10-27T12:28:03.654Z"
   },
   {
    "duration": 787,
    "start_time": "2022-10-27T12:38:33.266Z"
   },
   {
    "duration": 193,
    "start_time": "2022-10-27T12:39:03.678Z"
   },
   {
    "duration": 209,
    "start_time": "2022-10-27T12:41:42.963Z"
   },
   {
    "duration": 211,
    "start_time": "2022-10-27T12:51:09.380Z"
   },
   {
    "duration": 193,
    "start_time": "2022-10-27T12:52:03.087Z"
   },
   {
    "duration": 8,
    "start_time": "2022-10-27T12:57:44.252Z"
   },
   {
    "duration": 18,
    "start_time": "2022-10-27T12:58:25.027Z"
   },
   {
    "duration": 839,
    "start_time": "2022-10-27T12:58:58.150Z"
   },
   {
    "duration": 18,
    "start_time": "2022-10-27T13:00:16.962Z"
   },
   {
    "duration": 1173,
    "start_time": "2022-10-27T13:00:43.066Z"
   },
   {
    "duration": 1503,
    "start_time": "2022-10-27T13:00:47.862Z"
   },
   {
    "duration": 15,
    "start_time": "2022-10-27T13:03:56.176Z"
   },
   {
    "duration": 169,
    "start_time": "2022-10-27T13:05:38.498Z"
   },
   {
    "duration": 159,
    "start_time": "2022-10-27T13:08:42.630Z"
   },
   {
    "duration": 513,
    "start_time": "2022-10-27T13:12:34.966Z"
   },
   {
    "duration": 171,
    "start_time": "2022-10-27T13:14:40.817Z"
   },
   {
    "duration": 687,
    "start_time": "2022-10-27T13:15:22.230Z"
   },
   {
    "duration": 157,
    "start_time": "2022-10-27T16:03:36.339Z"
   },
   {
    "duration": 148,
    "start_time": "2022-10-27T16:04:02.676Z"
   },
   {
    "duration": 180,
    "start_time": "2022-10-27T16:04:58.422Z"
   },
   {
    "duration": 142,
    "start_time": "2022-10-27T16:05:33.726Z"
   },
   {
    "duration": 16,
    "start_time": "2022-10-27T16:15:59.339Z"
   },
   {
    "duration": 2049,
    "start_time": "2022-10-27T16:17:53.419Z"
   },
   {
    "duration": 11,
    "start_time": "2022-10-27T16:17:55.470Z"
   },
   {
    "duration": 9,
    "start_time": "2022-10-27T16:17:55.482Z"
   },
   {
    "duration": 12,
    "start_time": "2022-10-27T16:17:55.493Z"
   },
   {
    "duration": 6,
    "start_time": "2022-10-27T16:17:55.508Z"
   },
   {
    "duration": 9,
    "start_time": "2022-10-27T16:17:55.516Z"
   },
   {
    "duration": 9,
    "start_time": "2022-10-27T16:17:55.527Z"
   },
   {
    "duration": 54,
    "start_time": "2022-10-27T16:17:55.538Z"
   },
   {
    "duration": 39,
    "start_time": "2022-10-27T16:17:55.594Z"
   },
   {
    "duration": 366,
    "start_time": "2022-10-27T16:17:55.635Z"
   },
   {
    "duration": 15,
    "start_time": "2022-10-27T16:17:56.003Z"
   },
   {
    "duration": 19,
    "start_time": "2022-10-27T16:17:56.020Z"
   },
   {
    "duration": 232,
    "start_time": "2022-10-27T16:17:56.041Z"
   },
   {
    "duration": 10,
    "start_time": "2022-10-27T16:17:56.276Z"
   },
   {
    "duration": 41,
    "start_time": "2022-10-27T16:17:56.288Z"
   },
   {
    "duration": 3,
    "start_time": "2022-10-27T16:17:56.331Z"
   },
   {
    "duration": 195,
    "start_time": "2022-10-27T16:17:56.336Z"
   },
   {
    "duration": 5,
    "start_time": "2022-10-27T16:17:56.533Z"
   },
   {
    "duration": 30,
    "start_time": "2022-10-27T16:17:56.539Z"
   },
   {
    "duration": 22,
    "start_time": "2022-10-27T16:17:56.570Z"
   },
   {
    "duration": 19,
    "start_time": "2022-10-27T16:17:56.594Z"
   },
   {
    "duration": 351,
    "start_time": "2022-10-27T16:17:56.615Z"
   },
   {
    "duration": 8,
    "start_time": "2022-10-27T16:17:56.968Z"
   },
   {
    "duration": 437,
    "start_time": "2022-10-27T16:17:56.978Z"
   },
   {
    "duration": 201,
    "start_time": "2022-10-27T16:17:57.416Z"
   },
   {
    "duration": 201,
    "start_time": "2022-10-27T16:17:57.619Z"
   },
   {
    "duration": 198,
    "start_time": "2022-10-27T16:17:57.822Z"
   },
   {
    "duration": 210,
    "start_time": "2022-10-27T16:17:58.022Z"
   },
   {
    "duration": 200,
    "start_time": "2022-10-27T16:17:58.234Z"
   },
   {
    "duration": 200,
    "start_time": "2022-10-27T16:17:58.436Z"
   },
   {
    "duration": 119,
    "start_time": "2022-10-27T16:17:58.638Z"
   },
   {
    "duration": 172,
    "start_time": "2022-10-27T16:17:58.759Z"
   },
   {
    "duration": 208,
    "start_time": "2022-10-27T16:17:58.932Z"
   },
   {
    "duration": 165,
    "start_time": "2022-10-27T16:17:59.141Z"
   },
   {
    "duration": 177,
    "start_time": "2022-10-27T16:17:59.308Z"
   },
   {
    "duration": 133,
    "start_time": "2022-10-27T16:17:59.486Z"
   },
   {
    "duration": 136,
    "start_time": "2022-10-27T16:17:59.621Z"
   },
   {
    "duration": 175,
    "start_time": "2022-10-27T16:17:59.758Z"
   },
   {
    "duration": 161,
    "start_time": "2022-10-27T16:17:59.934Z"
   },
   {
    "duration": 171,
    "start_time": "2022-10-27T16:18:00.097Z"
   },
   {
    "duration": 156,
    "start_time": "2022-10-27T16:18:00.276Z"
   },
   {
    "duration": 176,
    "start_time": "2022-10-27T16:18:00.433Z"
   },
   {
    "duration": 16,
    "start_time": "2022-10-27T16:18:00.611Z"
   },
   {
    "duration": 0,
    "start_time": "2022-10-27T16:18:00.628Z"
   },
   {
    "duration": 0,
    "start_time": "2022-10-27T16:18:00.630Z"
   },
   {
    "duration": 167,
    "start_time": "2022-10-27T16:18:34.316Z"
   },
   {
    "duration": 2404,
    "start_time": "2022-10-27T16:19:25.546Z"
   },
   {
    "duration": 23,
    "start_time": "2022-10-27T16:19:27.953Z"
   },
   {
    "duration": 9,
    "start_time": "2022-10-27T16:19:27.979Z"
   },
   {
    "duration": 12,
    "start_time": "2022-10-27T16:19:27.990Z"
   },
   {
    "duration": 6,
    "start_time": "2022-10-27T16:19:28.004Z"
   },
   {
    "duration": 13,
    "start_time": "2022-10-27T16:19:28.012Z"
   },
   {
    "duration": 11,
    "start_time": "2022-10-27T16:19:28.027Z"
   },
   {
    "duration": 60,
    "start_time": "2022-10-27T16:19:28.040Z"
   },
   {
    "duration": 38,
    "start_time": "2022-10-27T16:19:28.102Z"
   },
   {
    "duration": 354,
    "start_time": "2022-10-27T16:19:28.142Z"
   },
   {
    "duration": 22,
    "start_time": "2022-10-27T16:19:28.498Z"
   },
   {
    "duration": 15,
    "start_time": "2022-10-27T16:19:28.522Z"
   },
   {
    "duration": 268,
    "start_time": "2022-10-27T16:19:28.539Z"
   },
   {
    "duration": 11,
    "start_time": "2022-10-27T16:19:28.810Z"
   },
   {
    "duration": 24,
    "start_time": "2022-10-27T16:19:28.823Z"
   },
   {
    "duration": 3,
    "start_time": "2022-10-27T16:19:28.849Z"
   },
   {
    "duration": 202,
    "start_time": "2022-10-27T16:19:28.876Z"
   },
   {
    "duration": 5,
    "start_time": "2022-10-27T16:19:29.080Z"
   },
   {
    "duration": 22,
    "start_time": "2022-10-27T16:19:29.087Z"
   },
   {
    "duration": 6,
    "start_time": "2022-10-27T16:19:29.111Z"
   },
   {
    "duration": 11,
    "start_time": "2022-10-27T16:19:29.119Z"
   },
   {
    "duration": 380,
    "start_time": "2022-10-27T16:19:29.132Z"
   },
   {
    "duration": 2,
    "start_time": "2022-10-27T16:19:29.515Z"
   },
   {
    "duration": 203,
    "start_time": "2022-10-27T16:19:29.521Z"
   },
   {
    "duration": 220,
    "start_time": "2022-10-27T16:19:29.726Z"
   },
   {
    "duration": 214,
    "start_time": "2022-10-27T16:19:29.948Z"
   },
   {
    "duration": 220,
    "start_time": "2022-10-27T16:19:30.164Z"
   },
   {
    "duration": 238,
    "start_time": "2022-10-27T16:19:30.386Z"
   },
   {
    "duration": 211,
    "start_time": "2022-10-27T16:19:30.626Z"
   },
   {
    "duration": 198,
    "start_time": "2022-10-27T16:19:30.839Z"
   },
   {
    "duration": 131,
    "start_time": "2022-10-27T16:19:31.039Z"
   },
   {
    "duration": 189,
    "start_time": "2022-10-27T16:19:31.172Z"
   },
   {
    "duration": 223,
    "start_time": "2022-10-27T16:19:31.363Z"
   },
   {
    "duration": 245,
    "start_time": "2022-10-27T16:19:31.588Z"
   },
   {
    "duration": 217,
    "start_time": "2022-10-27T16:19:31.836Z"
   },
   {
    "duration": 166,
    "start_time": "2022-10-27T16:19:32.055Z"
   },
   {
    "duration": 157,
    "start_time": "2022-10-27T16:19:32.223Z"
   },
   {
    "duration": 204,
    "start_time": "2022-10-27T16:19:32.382Z"
   },
   {
    "duration": 175,
    "start_time": "2022-10-27T16:19:32.589Z"
   },
   {
    "duration": 194,
    "start_time": "2022-10-27T16:19:32.765Z"
   },
   {
    "duration": 477,
    "start_time": "2022-10-27T16:19:32.963Z"
   },
   {
    "duration": 166,
    "start_time": "2022-10-27T16:19:33.443Z"
   },
   {
    "duration": 157,
    "start_time": "2022-10-27T16:19:33.611Z"
   },
   {
    "duration": 491,
    "start_time": "2022-10-27T16:19:33.776Z"
   },
   {
    "duration": 4,
    "start_time": "2022-10-27T17:20:15.896Z"
   },
   {
    "duration": 14,
    "start_time": "2022-10-27T17:20:36.821Z"
   },
   {
    "duration": 18,
    "start_time": "2022-10-27T17:22:07.374Z"
   },
   {
    "duration": 13,
    "start_time": "2022-10-27T17:22:19.929Z"
   },
   {
    "duration": 3,
    "start_time": "2022-10-27T17:23:13.156Z"
   },
   {
    "duration": 1980,
    "start_time": "2022-10-27T17:23:21.138Z"
   },
   {
    "duration": 11,
    "start_time": "2022-10-27T17:23:23.121Z"
   },
   {
    "duration": 6,
    "start_time": "2022-10-27T17:23:23.133Z"
   },
   {
    "duration": 11,
    "start_time": "2022-10-27T17:23:23.141Z"
   },
   {
    "duration": 26,
    "start_time": "2022-10-27T17:23:23.155Z"
   },
   {
    "duration": 12,
    "start_time": "2022-10-27T17:23:23.182Z"
   },
   {
    "duration": 8,
    "start_time": "2022-10-27T17:23:23.196Z"
   },
   {
    "duration": 25,
    "start_time": "2022-10-27T17:23:23.206Z"
   },
   {
    "duration": 74,
    "start_time": "2022-10-27T17:23:23.232Z"
   },
   {
    "duration": 327,
    "start_time": "2022-10-27T17:23:23.308Z"
   },
   {
    "duration": 15,
    "start_time": "2022-10-27T17:23:23.637Z"
   },
   {
    "duration": 25,
    "start_time": "2022-10-27T17:23:23.654Z"
   },
   {
    "duration": 206,
    "start_time": "2022-10-27T17:23:23.681Z"
   },
   {
    "duration": 13,
    "start_time": "2022-10-27T17:23:23.890Z"
   },
   {
    "duration": 18,
    "start_time": "2022-10-27T17:23:23.905Z"
   },
   {
    "duration": 2,
    "start_time": "2022-10-27T17:23:23.925Z"
   },
   {
    "duration": 218,
    "start_time": "2022-10-27T17:23:23.929Z"
   },
   {
    "duration": 5,
    "start_time": "2022-10-27T17:23:24.148Z"
   },
   {
    "duration": 11,
    "start_time": "2022-10-27T17:23:24.154Z"
   },
   {
    "duration": 5,
    "start_time": "2022-10-27T17:23:24.176Z"
   },
   {
    "duration": 8,
    "start_time": "2022-10-27T17:23:24.183Z"
   },
   {
    "duration": 357,
    "start_time": "2022-10-27T17:23:24.192Z"
   },
   {
    "duration": 5,
    "start_time": "2022-10-27T17:23:24.551Z"
   },
   {
    "duration": 214,
    "start_time": "2022-10-27T17:23:24.557Z"
   },
   {
    "duration": 204,
    "start_time": "2022-10-27T17:23:24.773Z"
   },
   {
    "duration": 202,
    "start_time": "2022-10-27T17:23:24.979Z"
   },
   {
    "duration": 227,
    "start_time": "2022-10-27T17:23:25.184Z"
   },
   {
    "duration": 198,
    "start_time": "2022-10-27T17:23:25.412Z"
   },
   {
    "duration": 188,
    "start_time": "2022-10-27T17:23:25.612Z"
   },
   {
    "duration": 180,
    "start_time": "2022-10-27T17:23:25.802Z"
   },
   {
    "duration": 123,
    "start_time": "2022-10-27T17:23:25.984Z"
   },
   {
    "duration": 175,
    "start_time": "2022-10-27T17:23:26.109Z"
   },
   {
    "duration": 542,
    "start_time": "2022-10-27T17:23:26.286Z"
   },
   {
    "duration": 198,
    "start_time": "2022-10-27T17:23:26.830Z"
   },
   {
    "duration": 179,
    "start_time": "2022-10-27T17:23:27.030Z"
   },
   {
    "duration": 144,
    "start_time": "2022-10-27T17:23:27.212Z"
   },
   {
    "duration": 139,
    "start_time": "2022-10-27T17:23:27.357Z"
   },
   {
    "duration": 181,
    "start_time": "2022-10-27T17:23:27.498Z"
   },
   {
    "duration": 150,
    "start_time": "2022-10-27T17:23:27.680Z"
   },
   {
    "duration": 180,
    "start_time": "2022-10-27T17:23:27.832Z"
   },
   {
    "duration": 161,
    "start_time": "2022-10-27T17:23:28.017Z"
   },
   {
    "duration": 156,
    "start_time": "2022-10-27T17:23:28.180Z"
   },
   {
    "duration": 147,
    "start_time": "2022-10-27T17:23:28.337Z"
   },
   {
    "duration": 495,
    "start_time": "2022-10-27T17:23:28.486Z"
   },
   {
    "duration": 4,
    "start_time": "2022-10-27T17:24:22.470Z"
   },
   {
    "duration": 5,
    "start_time": "2022-10-27T17:24:25.911Z"
   },
   {
    "duration": 6,
    "start_time": "2022-10-27T17:24:27.575Z"
   },
   {
    "duration": 6,
    "start_time": "2022-10-27T17:24:28.729Z"
   },
   {
    "duration": 360,
    "start_time": "2022-10-27T17:24:30.099Z"
   },
   {
    "duration": 5,
    "start_time": "2022-10-27T17:24:34.551Z"
   },
   {
    "duration": 333,
    "start_time": "2022-10-27T17:24:43.543Z"
   },
   {
    "duration": 4,
    "start_time": "2022-10-27T17:24:46.413Z"
   },
   {
    "duration": 39,
    "start_time": "2022-10-27T17:24:51.008Z"
   },
   {
    "duration": 10,
    "start_time": "2022-10-27T17:27:27.174Z"
   },
   {
    "duration": 7,
    "start_time": "2022-10-27T17:30:08.597Z"
   },
   {
    "duration": 13,
    "start_time": "2022-10-27T17:30:45.454Z"
   },
   {
    "duration": 6,
    "start_time": "2022-10-27T17:31:15.013Z"
   },
   {
    "duration": 25,
    "start_time": "2022-10-27T17:31:32.087Z"
   },
   {
    "duration": 7,
    "start_time": "2022-10-27T17:31:51.184Z"
   },
   {
    "duration": 4,
    "start_time": "2022-10-27T17:32:10.648Z"
   },
   {
    "duration": 644,
    "start_time": "2022-10-27T17:32:22.788Z"
   },
   {
    "duration": 553,
    "start_time": "2022-10-27T17:32:42.744Z"
   },
   {
    "duration": 581,
    "start_time": "2022-10-27T17:34:05.237Z"
   },
   {
    "duration": 535,
    "start_time": "2022-10-27T17:34:16.789Z"
   },
   {
    "duration": 567,
    "start_time": "2022-10-27T17:34:30.793Z"
   },
   {
    "duration": 485,
    "start_time": "2022-10-27T17:34:31.628Z"
   },
   {
    "duration": 1966,
    "start_time": "2022-10-27T17:34:38.542Z"
   },
   {
    "duration": 13,
    "start_time": "2022-10-27T17:34:40.510Z"
   },
   {
    "duration": 16,
    "start_time": "2022-10-27T17:34:40.525Z"
   },
   {
    "duration": 30,
    "start_time": "2022-10-27T17:34:40.542Z"
   },
   {
    "duration": 20,
    "start_time": "2022-10-27T17:34:40.574Z"
   },
   {
    "duration": 14,
    "start_time": "2022-10-27T17:34:40.596Z"
   },
   {
    "duration": 8,
    "start_time": "2022-10-27T17:34:40.612Z"
   },
   {
    "duration": 21,
    "start_time": "2022-10-27T17:34:40.622Z"
   },
   {
    "duration": 39,
    "start_time": "2022-10-27T17:34:40.644Z"
   },
   {
    "duration": 315,
    "start_time": "2022-10-27T17:34:40.685Z"
   },
   {
    "duration": 15,
    "start_time": "2022-10-27T17:34:41.002Z"
   },
   {
    "duration": 12,
    "start_time": "2022-10-27T17:34:41.019Z"
   },
   {
    "duration": 217,
    "start_time": "2022-10-27T17:34:41.033Z"
   },
   {
    "duration": 23,
    "start_time": "2022-10-27T17:34:41.254Z"
   },
   {
    "duration": 18,
    "start_time": "2022-10-27T17:34:41.278Z"
   },
   {
    "duration": 3,
    "start_time": "2022-10-27T17:34:41.297Z"
   },
   {
    "duration": 217,
    "start_time": "2022-10-27T17:34:41.301Z"
   },
   {
    "duration": 5,
    "start_time": "2022-10-27T17:34:41.520Z"
   },
   {
    "duration": 12,
    "start_time": "2022-10-27T17:34:41.527Z"
   },
   {
    "duration": 11,
    "start_time": "2022-10-27T17:34:41.540Z"
   },
   {
    "duration": 25,
    "start_time": "2022-10-27T17:34:41.553Z"
   },
   {
    "duration": 328,
    "start_time": "2022-10-27T17:34:41.580Z"
   },
   {
    "duration": 4,
    "start_time": "2022-10-27T17:34:41.910Z"
   },
   {
    "duration": 533,
    "start_time": "2022-10-27T17:34:41.916Z"
   },
   {
    "duration": 202,
    "start_time": "2022-10-27T17:34:42.450Z"
   },
   {
    "duration": 201,
    "start_time": "2022-10-27T17:34:42.653Z"
   },
   {
    "duration": 198,
    "start_time": "2022-10-27T17:34:42.855Z"
   },
   {
    "duration": 221,
    "start_time": "2022-10-27T17:34:43.055Z"
   },
   {
    "duration": 241,
    "start_time": "2022-10-27T17:34:43.278Z"
   },
   {
    "duration": 183,
    "start_time": "2022-10-27T17:34:43.521Z"
   },
   {
    "duration": 124,
    "start_time": "2022-10-27T17:34:43.706Z"
   },
   {
    "duration": 169,
    "start_time": "2022-10-27T17:34:43.832Z"
   },
   {
    "duration": 216,
    "start_time": "2022-10-27T17:34:44.002Z"
   },
   {
    "duration": 165,
    "start_time": "2022-10-27T17:34:44.220Z"
   },
   {
    "duration": 178,
    "start_time": "2022-10-27T17:34:44.386Z"
   },
   {
    "duration": 155,
    "start_time": "2022-10-27T17:34:44.565Z"
   },
   {
    "duration": 135,
    "start_time": "2022-10-27T17:34:44.722Z"
   },
   {
    "duration": 191,
    "start_time": "2022-10-27T17:34:44.859Z"
   },
   {
    "duration": 180,
    "start_time": "2022-10-27T17:34:45.052Z"
   },
   {
    "duration": 221,
    "start_time": "2022-10-27T17:34:45.234Z"
   },
   {
    "duration": 166,
    "start_time": "2022-10-27T17:34:45.458Z"
   },
   {
    "duration": 172,
    "start_time": "2022-10-27T17:34:45.626Z"
   },
   {
    "duration": 163,
    "start_time": "2022-10-27T17:34:45.799Z"
   },
   {
    "duration": 498,
    "start_time": "2022-10-27T17:34:45.964Z"
   },
   {
    "duration": 4,
    "start_time": "2022-10-27T17:35:06.704Z"
   },
   {
    "duration": 6,
    "start_time": "2022-10-27T17:35:07.942Z"
   },
   {
    "duration": 6,
    "start_time": "2022-10-27T17:35:08.994Z"
   },
   {
    "duration": 7,
    "start_time": "2022-10-27T17:35:10.193Z"
   },
   {
    "duration": 319,
    "start_time": "2022-10-27T17:35:13.519Z"
   },
   {
    "duration": 4,
    "start_time": "2022-10-27T17:35:18.758Z"
   },
   {
    "duration": 6,
    "start_time": "2022-10-27T17:35:26.584Z"
   },
   {
    "duration": 5,
    "start_time": "2022-10-27T17:35:44.841Z"
   },
   {
    "duration": 172,
    "start_time": "2022-10-27T17:36:08.471Z"
   },
   {
    "duration": 700,
    "start_time": "2022-10-27T17:36:13.460Z"
   },
   {
    "duration": 1950,
    "start_time": "2022-10-27T17:36:20.219Z"
   },
   {
    "duration": 9,
    "start_time": "2022-10-27T17:36:22.176Z"
   },
   {
    "duration": 10,
    "start_time": "2022-10-27T17:36:22.187Z"
   },
   {
    "duration": 13,
    "start_time": "2022-10-27T17:36:22.198Z"
   },
   {
    "duration": 5,
    "start_time": "2022-10-27T17:36:22.213Z"
   },
   {
    "duration": 10,
    "start_time": "2022-10-27T17:36:22.220Z"
   },
   {
    "duration": 7,
    "start_time": "2022-10-27T17:36:22.231Z"
   },
   {
    "duration": 53,
    "start_time": "2022-10-27T17:36:22.239Z"
   },
   {
    "duration": 39,
    "start_time": "2022-10-27T17:36:22.293Z"
   },
   {
    "duration": 359,
    "start_time": "2022-10-27T17:36:22.334Z"
   },
   {
    "duration": 16,
    "start_time": "2022-10-27T17:36:22.694Z"
   },
   {
    "duration": 14,
    "start_time": "2022-10-27T17:36:22.711Z"
   },
   {
    "duration": 227,
    "start_time": "2022-10-27T17:36:22.726Z"
   },
   {
    "duration": 21,
    "start_time": "2022-10-27T17:36:22.957Z"
   },
   {
    "duration": 19,
    "start_time": "2022-10-27T17:36:22.982Z"
   },
   {
    "duration": 5,
    "start_time": "2022-10-27T17:36:23.004Z"
   },
   {
    "duration": 230,
    "start_time": "2022-10-27T17:36:23.011Z"
   },
   {
    "duration": 5,
    "start_time": "2022-10-27T17:36:23.243Z"
   },
   {
    "duration": 8,
    "start_time": "2022-10-27T17:36:23.250Z"
   },
   {
    "duration": 20,
    "start_time": "2022-10-27T17:36:23.260Z"
   },
   {
    "duration": 6,
    "start_time": "2022-10-27T17:36:23.281Z"
   },
   {
    "duration": 742,
    "start_time": "2022-10-27T17:36:23.289Z"
   },
   {
    "duration": 7,
    "start_time": "2022-10-27T17:36:24.032Z"
   },
   {
    "duration": 181,
    "start_time": "2022-10-27T17:36:24.041Z"
   },
   {
    "duration": 211,
    "start_time": "2022-10-27T17:36:24.223Z"
   },
   {
    "duration": 194,
    "start_time": "2022-10-27T17:36:24.435Z"
   },
   {
    "duration": 193,
    "start_time": "2022-10-27T17:36:24.631Z"
   },
   {
    "duration": 205,
    "start_time": "2022-10-27T17:36:24.826Z"
   },
   {
    "duration": 235,
    "start_time": "2022-10-27T17:36:25.033Z"
   },
   {
    "duration": 209,
    "start_time": "2022-10-27T17:36:25.270Z"
   },
   {
    "duration": 126,
    "start_time": "2022-10-27T17:36:25.481Z"
   },
   {
    "duration": 180,
    "start_time": "2022-10-27T17:36:25.609Z"
   },
   {
    "duration": 204,
    "start_time": "2022-10-27T17:36:25.791Z"
   },
   {
    "duration": 174,
    "start_time": "2022-10-27T17:36:25.997Z"
   },
   {
    "duration": 172,
    "start_time": "2022-10-27T17:36:26.173Z"
   },
   {
    "duration": 157,
    "start_time": "2022-10-27T17:36:26.347Z"
   },
   {
    "duration": 149,
    "start_time": "2022-10-27T17:36:26.506Z"
   },
   {
    "duration": 196,
    "start_time": "2022-10-27T17:36:26.657Z"
   },
   {
    "duration": 182,
    "start_time": "2022-10-27T17:36:26.855Z"
   },
   {
    "duration": 194,
    "start_time": "2022-10-27T17:36:27.038Z"
   },
   {
    "duration": 175,
    "start_time": "2022-10-27T17:36:27.236Z"
   },
   {
    "duration": 170,
    "start_time": "2022-10-27T17:36:27.412Z"
   },
   {
    "duration": 158,
    "start_time": "2022-10-27T17:36:27.583Z"
   },
   {
    "duration": 495,
    "start_time": "2022-10-27T17:36:27.743Z"
   },
   {
    "duration": 5,
    "start_time": "2022-10-27T17:36:35.104Z"
   },
   {
    "duration": 6,
    "start_time": "2022-10-27T17:36:37.625Z"
   },
   {
    "duration": 5,
    "start_time": "2022-10-27T17:36:38.295Z"
   },
   {
    "duration": 6,
    "start_time": "2022-10-27T17:36:39.067Z"
   },
   {
    "duration": 319,
    "start_time": "2022-10-27T17:36:40.810Z"
   },
   {
    "duration": 8,
    "start_time": "2022-10-27T17:36:43.193Z"
   },
   {
    "duration": 23,
    "start_time": "2022-10-27T17:37:57.251Z"
   },
   {
    "duration": 7,
    "start_time": "2022-10-27T17:39:08.875Z"
   },
   {
    "duration": 25,
    "start_time": "2022-10-27T17:39:13.101Z"
   },
   {
    "duration": 188,
    "start_time": "2022-10-27T17:44:53.568Z"
   },
   {
    "duration": 9,
    "start_time": "2022-10-27T17:46:00.471Z"
   },
   {
    "duration": 10,
    "start_time": "2022-10-27T17:48:38.653Z"
   },
   {
    "duration": 9,
    "start_time": "2022-10-27T17:51:53.963Z"
   },
   {
    "duration": 9,
    "start_time": "2022-10-27T17:52:03.720Z"
   },
   {
    "duration": 14,
    "start_time": "2022-10-27T17:52:08.480Z"
   },
   {
    "duration": 9,
    "start_time": "2022-10-27T17:52:22.613Z"
   },
   {
    "duration": 1979,
    "start_time": "2022-10-27T17:52:48.395Z"
   },
   {
    "duration": 11,
    "start_time": "2022-10-27T17:52:50.376Z"
   },
   {
    "duration": 6,
    "start_time": "2022-10-27T17:52:50.388Z"
   },
   {
    "duration": 9,
    "start_time": "2022-10-27T17:52:50.395Z"
   },
   {
    "duration": 6,
    "start_time": "2022-10-27T17:52:50.407Z"
   },
   {
    "duration": 9,
    "start_time": "2022-10-27T17:52:50.415Z"
   },
   {
    "duration": 8,
    "start_time": "2022-10-27T17:52:50.426Z"
   },
   {
    "duration": 57,
    "start_time": "2022-10-27T17:52:50.436Z"
   },
   {
    "duration": 42,
    "start_time": "2022-10-27T17:52:50.495Z"
   },
   {
    "duration": 352,
    "start_time": "2022-10-27T17:52:50.539Z"
   },
   {
    "duration": 15,
    "start_time": "2022-10-27T17:52:50.893Z"
   },
   {
    "duration": 13,
    "start_time": "2022-10-27T17:52:50.909Z"
   },
   {
    "duration": 229,
    "start_time": "2022-10-27T17:52:50.923Z"
   },
   {
    "duration": 23,
    "start_time": "2022-10-27T17:52:51.155Z"
   },
   {
    "duration": 26,
    "start_time": "2022-10-27T17:52:51.179Z"
   },
   {
    "duration": 19,
    "start_time": "2022-10-27T17:52:51.207Z"
   },
   {
    "duration": 222,
    "start_time": "2022-10-27T17:52:51.228Z"
   },
   {
    "duration": 10,
    "start_time": "2022-10-27T17:52:51.452Z"
   },
   {
    "duration": 5,
    "start_time": "2022-10-27T17:52:51.476Z"
   },
   {
    "duration": 10,
    "start_time": "2022-10-27T17:52:51.482Z"
   },
   {
    "duration": 6,
    "start_time": "2022-10-27T17:52:51.494Z"
   },
   {
    "duration": 12,
    "start_time": "2022-10-27T17:52:51.502Z"
   },
   {
    "duration": 348,
    "start_time": "2022-10-27T17:52:51.516Z"
   },
   {
    "duration": 12,
    "start_time": "2022-10-27T17:52:51.866Z"
   },
   {
    "duration": 29,
    "start_time": "2022-10-27T17:52:51.880Z"
   },
   {
    "duration": 180,
    "start_time": "2022-10-27T17:52:51.910Z"
   },
   {
    "duration": 657,
    "start_time": "2022-10-27T17:52:52.091Z"
   },
   {
    "duration": 183,
    "start_time": "2022-10-27T17:52:52.750Z"
   },
   {
    "duration": 187,
    "start_time": "2022-10-27T17:52:52.935Z"
   },
   {
    "duration": 210,
    "start_time": "2022-10-27T17:52:53.124Z"
   },
   {
    "duration": 192,
    "start_time": "2022-10-27T17:52:53.336Z"
   },
   {
    "duration": 183,
    "start_time": "2022-10-27T17:52:53.530Z"
   },
   {
    "duration": 129,
    "start_time": "2022-10-27T17:52:53.715Z"
   },
   {
    "duration": 182,
    "start_time": "2022-10-27T17:52:53.846Z"
   },
   {
    "duration": 189,
    "start_time": "2022-10-27T17:52:54.030Z"
   },
   {
    "duration": 162,
    "start_time": "2022-10-27T17:52:54.221Z"
   },
   {
    "duration": 172,
    "start_time": "2022-10-27T17:52:54.385Z"
   },
   {
    "duration": 147,
    "start_time": "2022-10-27T17:52:54.559Z"
   },
   {
    "duration": 132,
    "start_time": "2022-10-27T17:52:54.708Z"
   },
   {
    "duration": 177,
    "start_time": "2022-10-27T17:52:54.841Z"
   },
   {
    "duration": 161,
    "start_time": "2022-10-27T17:52:55.021Z"
   },
   {
    "duration": 212,
    "start_time": "2022-10-27T17:52:55.184Z"
   },
   {
    "duration": 147,
    "start_time": "2022-10-27T17:52:55.398Z"
   },
   {
    "duration": 158,
    "start_time": "2022-10-27T17:52:55.547Z"
   },
   {
    "duration": 149,
    "start_time": "2022-10-27T17:52:55.707Z"
   },
   {
    "duration": 484,
    "start_time": "2022-10-27T17:52:55.858Z"
   },
   {
    "duration": 9,
    "start_time": "2022-10-27T18:00:13.953Z"
   },
   {
    "duration": 4,
    "start_time": "2022-10-27T18:01:32.817Z"
   },
   {
    "duration": 10,
    "start_time": "2022-10-27T18:01:54.908Z"
   },
   {
    "duration": 209,
    "start_time": "2022-10-27T18:03:59.129Z"
   },
   {
    "duration": 187,
    "start_time": "2022-10-27T18:04:14.757Z"
   },
   {
    "duration": 11,
    "start_time": "2022-10-27T18:05:25.628Z"
   },
   {
    "duration": 22,
    "start_time": "2022-10-27T18:07:52.973Z"
   },
   {
    "duration": 12,
    "start_time": "2022-10-27T18:08:10.781Z"
   },
   {
    "duration": 23,
    "start_time": "2022-10-27T18:08:47.866Z"
   },
   {
    "duration": 14,
    "start_time": "2022-10-27T18:09:41.590Z"
   },
   {
    "duration": 27,
    "start_time": "2022-10-27T18:09:55.201Z"
   },
   {
    "duration": 10,
    "start_time": "2022-10-27T18:11:00.056Z"
   },
   {
    "duration": 4,
    "start_time": "2022-10-28T05:44:35.575Z"
   },
   {
    "duration": 7,
    "start_time": "2022-10-28T05:44:37.336Z"
   },
   {
    "duration": 6,
    "start_time": "2022-10-28T05:44:37.982Z"
   },
   {
    "duration": 6,
    "start_time": "2022-10-28T05:44:38.783Z"
   },
   {
    "duration": 308,
    "start_time": "2022-10-28T05:44:39.367Z"
   },
   {
    "duration": 6,
    "start_time": "2022-10-28T05:44:40.284Z"
   },
   {
    "duration": 24,
    "start_time": "2022-10-28T05:44:41.678Z"
   },
   {
    "duration": 8,
    "start_time": "2022-10-28T05:59:29.866Z"
   },
   {
    "duration": 7,
    "start_time": "2022-10-28T05:59:56.424Z"
   },
   {
    "duration": 10,
    "start_time": "2022-10-28T06:02:01.352Z"
   },
   {
    "duration": 6,
    "start_time": "2022-10-28T06:13:16.727Z"
   },
   {
    "duration": 6,
    "start_time": "2022-10-28T06:13:24.895Z"
   },
   {
    "duration": 8,
    "start_time": "2022-10-28T06:14:22.435Z"
   },
   {
    "duration": 224,
    "start_time": "2022-10-28T06:14:40.233Z"
   },
   {
    "duration": 5,
    "start_time": "2022-10-28T06:18:52.980Z"
   },
   {
    "duration": 194,
    "start_time": "2022-10-28T06:18:54.746Z"
   },
   {
    "duration": 217,
    "start_time": "2022-10-28T06:19:05.080Z"
   },
   {
    "duration": 186,
    "start_time": "2022-10-28T06:19:54.079Z"
   },
   {
    "duration": 210,
    "start_time": "2022-10-28T06:23:02.895Z"
   },
   {
    "duration": 2142,
    "start_time": "2022-10-28T06:23:16.825Z"
   },
   {
    "duration": 10,
    "start_time": "2022-10-28T06:23:18.976Z"
   },
   {
    "duration": 7,
    "start_time": "2022-10-28T06:23:18.988Z"
   },
   {
    "duration": 10,
    "start_time": "2022-10-28T06:23:18.996Z"
   },
   {
    "duration": 6,
    "start_time": "2022-10-28T06:23:19.009Z"
   },
   {
    "duration": 10,
    "start_time": "2022-10-28T06:23:19.017Z"
   },
   {
    "duration": 49,
    "start_time": "2022-10-28T06:23:19.029Z"
   },
   {
    "duration": 9,
    "start_time": "2022-10-28T06:23:19.080Z"
   },
   {
    "duration": 37,
    "start_time": "2022-10-28T06:23:19.091Z"
   },
   {
    "duration": 354,
    "start_time": "2022-10-28T06:23:19.130Z"
   },
   {
    "duration": 5,
    "start_time": "2022-10-28T06:23:19.486Z"
   },
   {
    "duration": 8,
    "start_time": "2022-10-28T06:23:19.493Z"
   },
   {
    "duration": 210,
    "start_time": "2022-10-28T06:23:19.503Z"
   },
   {
    "duration": 11,
    "start_time": "2022-10-28T06:23:19.718Z"
   },
   {
    "duration": 19,
    "start_time": "2022-10-28T06:23:19.731Z"
   },
   {
    "duration": 8,
    "start_time": "2022-10-28T06:23:19.777Z"
   },
   {
    "duration": 11,
    "start_time": "2022-10-28T06:23:19.786Z"
   },
   {
    "duration": 216,
    "start_time": "2022-10-28T06:23:19.799Z"
   },
   {
    "duration": 11,
    "start_time": "2022-10-28T06:23:20.017Z"
   },
   {
    "duration": 30,
    "start_time": "2022-10-28T06:23:20.030Z"
   },
   {
    "duration": 11,
    "start_time": "2022-10-28T06:23:20.061Z"
   },
   {
    "duration": 8,
    "start_time": "2022-10-28T06:23:20.074Z"
   },
   {
    "duration": 8,
    "start_time": "2022-10-28T06:23:20.084Z"
   },
   {
    "duration": 332,
    "start_time": "2022-10-28T06:23:20.094Z"
   },
   {
    "duration": 7,
    "start_time": "2022-10-28T06:23:20.428Z"
   },
   {
    "duration": 44,
    "start_time": "2022-10-28T06:23:20.436Z"
   },
   {
    "duration": 186,
    "start_time": "2022-10-28T06:23:20.482Z"
   },
   {
    "duration": 219,
    "start_time": "2022-10-28T06:23:20.670Z"
   },
   {
    "duration": 188,
    "start_time": "2022-10-28T06:23:20.891Z"
   },
   {
    "duration": 722,
    "start_time": "2022-10-28T06:23:21.081Z"
   },
   {
    "duration": 213,
    "start_time": "2022-10-28T06:23:21.805Z"
   },
   {
    "duration": 191,
    "start_time": "2022-10-28T06:23:22.019Z"
   },
   {
    "duration": 185,
    "start_time": "2022-10-28T06:23:22.212Z"
   },
   {
    "duration": 136,
    "start_time": "2022-10-28T06:23:22.399Z"
   },
   {
    "duration": 221,
    "start_time": "2022-10-28T06:23:22.537Z"
   },
   {
    "duration": 213,
    "start_time": "2022-10-28T06:23:22.760Z"
   },
   {
    "duration": 178,
    "start_time": "2022-10-28T06:23:22.976Z"
   },
   {
    "duration": 179,
    "start_time": "2022-10-28T06:23:23.156Z"
   },
   {
    "duration": 132,
    "start_time": "2022-10-28T06:23:23.337Z"
   },
   {
    "duration": 132,
    "start_time": "2022-10-28T06:23:23.476Z"
   },
   {
    "duration": 188,
    "start_time": "2022-10-28T06:23:23.613Z"
   },
   {
    "duration": 189,
    "start_time": "2022-10-28T06:23:23.804Z"
   },
   {
    "duration": 223,
    "start_time": "2022-10-28T06:23:23.996Z"
   },
   {
    "duration": 161,
    "start_time": "2022-10-28T06:23:24.221Z"
   },
   {
    "duration": 178,
    "start_time": "2022-10-28T06:23:24.384Z"
   },
   {
    "duration": 164,
    "start_time": "2022-10-28T06:23:24.563Z"
   },
   {
    "duration": 521,
    "start_time": "2022-10-28T06:23:24.728Z"
   },
   {
    "duration": 26,
    "start_time": "2022-10-28T06:24:46.159Z"
   },
   {
    "duration": 8,
    "start_time": "2022-10-28T06:24:52.148Z"
   },
   {
    "duration": 7,
    "start_time": "2022-10-28T06:25:03.020Z"
   },
   {
    "duration": 27,
    "start_time": "2022-10-28T06:25:31.865Z"
   },
   {
    "duration": 8,
    "start_time": "2022-10-28T06:30:53.064Z"
   },
   {
    "duration": 27,
    "start_time": "2022-10-28T06:30:54.103Z"
   },
   {
    "duration": 5,
    "start_time": "2022-10-28T06:31:08.312Z"
   },
   {
    "duration": 388,
    "start_time": "2022-10-28T06:31:09.552Z"
   },
   {
    "duration": 5,
    "start_time": "2022-10-28T06:32:43.328Z"
   },
   {
    "duration": 175,
    "start_time": "2022-10-28T06:32:45.103Z"
   },
   {
    "duration": 1995,
    "start_time": "2022-10-28T06:33:06.489Z"
   },
   {
    "duration": 9,
    "start_time": "2022-10-28T06:33:09.429Z"
   },
   {
    "duration": 6,
    "start_time": "2022-10-28T06:33:10.701Z"
   },
   {
    "duration": 10,
    "start_time": "2022-10-28T06:33:11.622Z"
   },
   {
    "duration": 6,
    "start_time": "2022-10-28T06:33:13.042Z"
   },
   {
    "duration": 9,
    "start_time": "2022-10-28T06:33:13.658Z"
   },
   {
    "duration": 8,
    "start_time": "2022-10-28T06:33:14.460Z"
   },
   {
    "duration": 13,
    "start_time": "2022-10-28T06:33:15.289Z"
   },
   {
    "duration": 39,
    "start_time": "2022-10-28T06:33:16.332Z"
   },
   {
    "duration": 326,
    "start_time": "2022-10-28T06:33:17.173Z"
   },
   {
    "duration": 4,
    "start_time": "2022-10-28T06:33:18.756Z"
   },
   {
    "duration": 8,
    "start_time": "2022-10-28T06:33:20.000Z"
   },
   {
    "duration": 176,
    "start_time": "2022-10-28T06:33:21.093Z"
   },
   {
    "duration": 12,
    "start_time": "2022-10-28T06:33:24.966Z"
   },
   {
    "duration": 20,
    "start_time": "2022-10-28T06:33:30.477Z"
   },
   {
    "duration": 7,
    "start_time": "2022-10-28T06:33:33.404Z"
   },
   {
    "duration": 8,
    "start_time": "2022-10-28T06:33:35.043Z"
   },
   {
    "duration": 28,
    "start_time": "2022-10-28T06:33:46.117Z"
   },
   {
    "duration": 12,
    "start_time": "2022-10-28T06:37:50.862Z"
   },
   {
    "duration": 8,
    "start_time": "2022-10-28T06:41:52.975Z"
   },
   {
    "duration": 7,
    "start_time": "2022-10-28T06:42:15.998Z"
   },
   {
    "duration": 8,
    "start_time": "2022-10-28T06:42:20.274Z"
   },
   {
    "duration": 9,
    "start_time": "2022-10-28T06:42:25.172Z"
   },
   {
    "duration": 28,
    "start_time": "2022-10-28T06:42:35.416Z"
   },
   {
    "duration": 8,
    "start_time": "2022-10-28T06:43:01.882Z"
   },
   {
    "duration": 8,
    "start_time": "2022-10-28T06:43:17.595Z"
   },
   {
    "duration": 7,
    "start_time": "2022-10-28T06:51:08.581Z"
   },
   {
    "duration": 24,
    "start_time": "2022-10-28T06:51:12.055Z"
   },
   {
    "duration": 7,
    "start_time": "2022-10-28T06:51:21.061Z"
   },
   {
    "duration": 13,
    "start_time": "2022-10-28T06:51:35.037Z"
   },
   {
    "duration": 9,
    "start_time": "2022-10-28T06:53:13.020Z"
   },
   {
    "duration": 8,
    "start_time": "2022-10-28T06:56:27.994Z"
   },
   {
    "duration": 13,
    "start_time": "2022-10-28T06:56:29.743Z"
   },
   {
    "duration": 184,
    "start_time": "2022-10-28T06:56:32.126Z"
   },
   {
    "duration": 187,
    "start_time": "2022-10-28T06:59:44.266Z"
   },
   {
    "duration": 8,
    "start_time": "2022-10-28T07:02:37.414Z"
   },
   {
    "duration": 12,
    "start_time": "2022-10-28T07:02:38.689Z"
   },
   {
    "duration": 8,
    "start_time": "2022-10-28T07:02:42.503Z"
   },
   {
    "duration": 35,
    "start_time": "2022-10-28T07:03:48.638Z"
   },
   {
    "duration": 9,
    "start_time": "2022-10-28T07:04:04.133Z"
   },
   {
    "duration": 8,
    "start_time": "2022-10-28T07:04:23.320Z"
   },
   {
    "duration": 7,
    "start_time": "2022-10-28T07:04:37.901Z"
   },
   {
    "duration": 7,
    "start_time": "2022-10-28T07:05:23.302Z"
   },
   {
    "duration": 13,
    "start_time": "2022-10-28T07:05:24.181Z"
   },
   {
    "duration": 7,
    "start_time": "2022-10-28T07:05:25.553Z"
   },
   {
    "duration": 27,
    "start_time": "2022-10-28T07:05:26.669Z"
   },
   {
    "duration": 7,
    "start_time": "2022-10-28T07:05:34.294Z"
   },
   {
    "duration": 7,
    "start_time": "2022-10-28T07:05:41.769Z"
   },
   {
    "duration": 8,
    "start_time": "2022-10-28T07:05:49.661Z"
   },
   {
    "duration": 7,
    "start_time": "2022-10-28T07:16:49.394Z"
   },
   {
    "duration": 13,
    "start_time": "2022-10-28T07:16:50.807Z"
   },
   {
    "duration": 8,
    "start_time": "2022-10-28T07:18:52.676Z"
   },
   {
    "duration": 17,
    "start_time": "2022-10-28T07:18:55.185Z"
   },
   {
    "duration": 7,
    "start_time": "2022-10-28T07:19:07.779Z"
   },
   {
    "duration": 13,
    "start_time": "2022-10-28T07:19:08.395Z"
   },
   {
    "duration": 8,
    "start_time": "2022-10-28T07:20:01.840Z"
   },
   {
    "duration": 13,
    "start_time": "2022-10-28T07:20:03.331Z"
   },
   {
    "duration": 13,
    "start_time": "2022-10-28T07:20:12.184Z"
   },
   {
    "duration": 8,
    "start_time": "2022-10-28T07:20:37.299Z"
   },
   {
    "duration": 14,
    "start_time": "2022-10-28T07:20:38.717Z"
   },
   {
    "duration": 13,
    "start_time": "2022-10-28T07:21:00.796Z"
   },
   {
    "duration": 8,
    "start_time": "2022-10-28T07:21:22.678Z"
   },
   {
    "duration": 13,
    "start_time": "2022-10-28T07:21:23.700Z"
   },
   {
    "duration": 20,
    "start_time": "2022-10-28T07:22:56.922Z"
   },
   {
    "duration": 4,
    "start_time": "2022-10-28T07:23:32.486Z"
   },
   {
    "duration": 35,
    "start_time": "2022-10-28T07:24:15.195Z"
   },
   {
    "duration": 2067,
    "start_time": "2022-10-28T07:24:47.348Z"
   },
   {
    "duration": 9,
    "start_time": "2022-10-28T07:24:49.417Z"
   },
   {
    "duration": 15,
    "start_time": "2022-10-28T07:24:49.427Z"
   },
   {
    "duration": 20,
    "start_time": "2022-10-28T07:24:49.444Z"
   },
   {
    "duration": 11,
    "start_time": "2022-10-28T07:24:49.466Z"
   },
   {
    "duration": 9,
    "start_time": "2022-10-28T07:24:49.478Z"
   },
   {
    "duration": 12,
    "start_time": "2022-10-28T07:24:49.488Z"
   },
   {
    "duration": 13,
    "start_time": "2022-10-28T07:24:49.501Z"
   },
   {
    "duration": 47,
    "start_time": "2022-10-28T07:24:49.515Z"
   },
   {
    "duration": 331,
    "start_time": "2022-10-28T07:24:49.564Z"
   },
   {
    "duration": 4,
    "start_time": "2022-10-28T07:24:49.896Z"
   },
   {
    "duration": 27,
    "start_time": "2022-10-28T07:24:49.902Z"
   },
   {
    "duration": 189,
    "start_time": "2022-10-28T07:24:49.931Z"
   },
   {
    "duration": 11,
    "start_time": "2022-10-28T07:24:50.122Z"
   },
   {
    "duration": 30,
    "start_time": "2022-10-28T07:24:50.135Z"
   },
   {
    "duration": 12,
    "start_time": "2022-10-28T07:24:50.167Z"
   },
   {
    "duration": 41,
    "start_time": "2022-10-28T07:24:50.181Z"
   },
   {
    "duration": 19,
    "start_time": "2022-10-28T07:24:50.224Z"
   },
   {
    "duration": 35,
    "start_time": "2022-10-28T07:24:50.244Z"
   },
   {
    "duration": 18,
    "start_time": "2022-10-28T07:24:50.281Z"
   },
   {
    "duration": 28,
    "start_time": "2022-10-28T07:24:50.301Z"
   },
   {
    "duration": 780,
    "start_time": "2022-10-28T07:24:50.331Z"
   },
   {
    "duration": 0,
    "start_time": "2022-10-28T07:24:51.113Z"
   },
   {
    "duration": 0,
    "start_time": "2022-10-28T07:24:51.114Z"
   },
   {
    "duration": 0,
    "start_time": "2022-10-28T07:24:51.116Z"
   },
   {
    "duration": 0,
    "start_time": "2022-10-28T07:24:51.117Z"
   },
   {
    "duration": 0,
    "start_time": "2022-10-28T07:24:51.119Z"
   },
   {
    "duration": 0,
    "start_time": "2022-10-28T07:24:51.120Z"
   },
   {
    "duration": 0,
    "start_time": "2022-10-28T07:24:51.121Z"
   },
   {
    "duration": 0,
    "start_time": "2022-10-28T07:24:51.122Z"
   },
   {
    "duration": 0,
    "start_time": "2022-10-28T07:24:51.123Z"
   },
   {
    "duration": 0,
    "start_time": "2022-10-28T07:24:51.124Z"
   },
   {
    "duration": 0,
    "start_time": "2022-10-28T07:24:51.125Z"
   },
   {
    "duration": 0,
    "start_time": "2022-10-28T07:24:51.127Z"
   },
   {
    "duration": 0,
    "start_time": "2022-10-28T07:24:51.128Z"
   },
   {
    "duration": 0,
    "start_time": "2022-10-28T07:24:51.129Z"
   },
   {
    "duration": 0,
    "start_time": "2022-10-28T07:24:51.130Z"
   },
   {
    "duration": 0,
    "start_time": "2022-10-28T07:24:51.131Z"
   },
   {
    "duration": 0,
    "start_time": "2022-10-28T07:24:51.132Z"
   },
   {
    "duration": 0,
    "start_time": "2022-10-28T07:24:51.134Z"
   },
   {
    "duration": 1,
    "start_time": "2022-10-28T07:24:51.134Z"
   },
   {
    "duration": 0,
    "start_time": "2022-10-28T07:24:51.136Z"
   },
   {
    "duration": 0,
    "start_time": "2022-10-28T07:24:51.137Z"
   },
   {
    "duration": 0,
    "start_time": "2022-10-28T07:24:51.138Z"
   },
   {
    "duration": 0,
    "start_time": "2022-10-28T07:24:51.139Z"
   },
   {
    "duration": 0,
    "start_time": "2022-10-28T07:24:51.140Z"
   },
   {
    "duration": 0,
    "start_time": "2022-10-28T07:24:51.141Z"
   },
   {
    "duration": 0,
    "start_time": "2022-10-28T07:24:51.142Z"
   },
   {
    "duration": 0,
    "start_time": "2022-10-28T07:24:51.143Z"
   },
   {
    "duration": 0,
    "start_time": "2022-10-28T07:24:51.144Z"
   },
   {
    "duration": 0,
    "start_time": "2022-10-28T07:24:51.145Z"
   },
   {
    "duration": 0,
    "start_time": "2022-10-28T07:24:51.146Z"
   },
   {
    "duration": 181,
    "start_time": "2022-10-28T07:25:07.713Z"
   },
   {
    "duration": 24,
    "start_time": "2022-10-28T07:25:28.944Z"
   },
   {
    "duration": 8,
    "start_time": "2022-10-28T07:29:25.798Z"
   },
   {
    "duration": 26,
    "start_time": "2022-10-28T07:29:30.483Z"
   },
   {
    "duration": 8,
    "start_time": "2022-10-28T07:30:00.604Z"
   },
   {
    "duration": 8,
    "start_time": "2022-10-28T07:30:19.482Z"
   },
   {
    "duration": 8,
    "start_time": "2022-10-28T07:30:20.685Z"
   },
   {
    "duration": 43,
    "start_time": "2022-10-28T07:37:14.265Z"
   },
   {
    "duration": 28,
    "start_time": "2022-10-28T07:37:34.749Z"
   },
   {
    "duration": 6,
    "start_time": "2022-10-28T07:38:03.569Z"
   },
   {
    "duration": 25,
    "start_time": "2022-10-28T07:38:05.832Z"
   },
   {
    "duration": 9,
    "start_time": "2022-10-28T09:32:34.640Z"
   },
   {
    "duration": 18,
    "start_time": "2022-10-28T09:32:35.232Z"
   },
   {
    "duration": 764,
    "start_time": "2022-10-28T09:32:35.880Z"
   },
   {
    "duration": 2704,
    "start_time": "2022-10-28T09:34:12.654Z"
   },
   {
    "duration": 21,
    "start_time": "2022-10-28T09:34:15.360Z"
   },
   {
    "duration": 7,
    "start_time": "2022-10-28T09:34:15.383Z"
   },
   {
    "duration": 13,
    "start_time": "2022-10-28T09:34:15.392Z"
   },
   {
    "duration": 6,
    "start_time": "2022-10-28T09:34:15.408Z"
   },
   {
    "duration": 13,
    "start_time": "2022-10-28T09:34:15.416Z"
   },
   {
    "duration": 9,
    "start_time": "2022-10-28T09:34:15.431Z"
   },
   {
    "duration": 38,
    "start_time": "2022-10-28T09:34:15.442Z"
   },
   {
    "duration": 40,
    "start_time": "2022-10-28T09:34:15.482Z"
   },
   {
    "duration": 366,
    "start_time": "2022-10-28T09:34:15.524Z"
   },
   {
    "duration": 6,
    "start_time": "2022-10-28T09:34:15.892Z"
   },
   {
    "duration": 22,
    "start_time": "2022-10-28T09:34:15.899Z"
   },
   {
    "duration": 195,
    "start_time": "2022-10-28T09:34:15.923Z"
   },
   {
    "duration": 11,
    "start_time": "2022-10-28T09:34:16.121Z"
   },
   {
    "duration": 28,
    "start_time": "2022-10-28T09:34:16.133Z"
   },
   {
    "duration": 18,
    "start_time": "2022-10-28T09:34:16.162Z"
   },
   {
    "duration": 30,
    "start_time": "2022-10-28T09:34:16.182Z"
   },
   {
    "duration": 215,
    "start_time": "2022-10-28T09:34:16.214Z"
   },
   {
    "duration": 9,
    "start_time": "2022-10-28T09:34:16.431Z"
   },
   {
    "duration": 12,
    "start_time": "2022-10-28T09:34:16.442Z"
   },
   {
    "duration": 9,
    "start_time": "2022-10-28T09:34:16.455Z"
   },
   {
    "duration": 14,
    "start_time": "2022-10-28T09:34:16.466Z"
   },
   {
    "duration": 6,
    "start_time": "2022-10-28T09:34:16.482Z"
   },
   {
    "duration": 332,
    "start_time": "2022-10-28T09:34:16.490Z"
   },
   {
    "duration": 6,
    "start_time": "2022-10-28T09:34:16.824Z"
   },
   {
    "duration": 27,
    "start_time": "2022-10-28T09:34:16.832Z"
   },
   {
    "duration": 205,
    "start_time": "2022-10-28T09:34:16.861Z"
   },
   {
    "duration": 214,
    "start_time": "2022-10-28T09:34:17.068Z"
   },
   {
    "duration": 204,
    "start_time": "2022-10-28T09:34:17.284Z"
   },
   {
    "duration": 207,
    "start_time": "2022-10-28T09:34:17.490Z"
   },
   {
    "duration": 202,
    "start_time": "2022-10-28T09:34:17.699Z"
   },
   {
    "duration": 199,
    "start_time": "2022-10-28T09:34:17.902Z"
   },
   {
    "duration": 189,
    "start_time": "2022-10-28T09:34:18.103Z"
   },
   {
    "duration": 120,
    "start_time": "2022-10-28T09:34:18.293Z"
   },
   {
    "duration": 178,
    "start_time": "2022-10-28T09:34:18.414Z"
   },
   {
    "duration": 211,
    "start_time": "2022-10-28T09:34:18.594Z"
   },
   {
    "duration": 177,
    "start_time": "2022-10-28T09:34:18.807Z"
   },
   {
    "duration": 175,
    "start_time": "2022-10-28T09:34:18.986Z"
   },
   {
    "duration": 140,
    "start_time": "2022-10-28T09:34:19.163Z"
   },
   {
    "duration": 131,
    "start_time": "2022-10-28T09:34:19.304Z"
   },
   {
    "duration": 197,
    "start_time": "2022-10-28T09:34:19.439Z"
   },
   {
    "duration": 162,
    "start_time": "2022-10-28T09:34:19.638Z"
   },
   {
    "duration": 172,
    "start_time": "2022-10-28T09:34:19.801Z"
   },
   {
    "duration": 152,
    "start_time": "2022-10-28T09:34:19.976Z"
   },
   {
    "duration": 160,
    "start_time": "2022-10-28T09:34:20.129Z"
   },
   {
    "duration": 163,
    "start_time": "2022-10-28T09:34:20.291Z"
   },
   {
    "duration": 481,
    "start_time": "2022-10-28T09:34:20.455Z"
   },
   {
    "duration": 189,
    "start_time": "2022-10-28T09:36:20.497Z"
   },
   {
    "duration": 194,
    "start_time": "2022-10-28T09:36:45.632Z"
   },
   {
    "duration": 2042,
    "start_time": "2022-10-28T09:39:03.764Z"
   },
   {
    "duration": 9,
    "start_time": "2022-10-28T09:39:05.808Z"
   },
   {
    "duration": 8,
    "start_time": "2022-10-28T09:39:05.819Z"
   },
   {
    "duration": 50,
    "start_time": "2022-10-28T09:39:05.829Z"
   },
   {
    "duration": 25,
    "start_time": "2022-10-28T09:39:05.881Z"
   },
   {
    "duration": 31,
    "start_time": "2022-10-28T09:39:05.908Z"
   },
   {
    "duration": 32,
    "start_time": "2022-10-28T09:39:05.940Z"
   },
   {
    "duration": 15,
    "start_time": "2022-10-28T09:39:05.974Z"
   },
   {
    "duration": 67,
    "start_time": "2022-10-28T09:39:05.990Z"
   },
   {
    "duration": 333,
    "start_time": "2022-10-28T09:39:06.060Z"
   },
   {
    "duration": 6,
    "start_time": "2022-10-28T09:39:06.394Z"
   },
   {
    "duration": 27,
    "start_time": "2022-10-28T09:39:06.401Z"
   },
   {
    "duration": 192,
    "start_time": "2022-10-28T09:39:06.430Z"
   },
   {
    "duration": 11,
    "start_time": "2022-10-28T09:39:06.626Z"
   },
   {
    "duration": 47,
    "start_time": "2022-10-28T09:39:06.638Z"
   },
   {
    "duration": 7,
    "start_time": "2022-10-28T09:39:06.686Z"
   },
   {
    "duration": 40,
    "start_time": "2022-10-28T09:39:06.694Z"
   },
   {
    "duration": 213,
    "start_time": "2022-10-28T09:39:06.735Z"
   },
   {
    "duration": 212,
    "start_time": "2022-10-28T09:39:06.951Z"
   },
   {
    "duration": 13,
    "start_time": "2022-10-28T09:39:07.165Z"
   },
   {
    "duration": 13,
    "start_time": "2022-10-28T09:39:07.180Z"
   },
   {
    "duration": 10,
    "start_time": "2022-10-28T09:39:07.195Z"
   },
   {
    "duration": 12,
    "start_time": "2022-10-28T09:39:07.206Z"
   },
   {
    "duration": 341,
    "start_time": "2022-10-28T09:39:07.220Z"
   },
   {
    "duration": 14,
    "start_time": "2022-10-28T09:39:07.562Z"
   },
   {
    "duration": 25,
    "start_time": "2022-10-28T09:39:07.578Z"
   },
   {
    "duration": 207,
    "start_time": "2022-10-28T09:39:07.605Z"
   },
   {
    "duration": 207,
    "start_time": "2022-10-28T09:39:07.814Z"
   },
   {
    "duration": 201,
    "start_time": "2022-10-28T09:39:08.023Z"
   },
   {
    "duration": 215,
    "start_time": "2022-10-28T09:39:08.225Z"
   },
   {
    "duration": 218,
    "start_time": "2022-10-28T09:39:08.442Z"
   },
   {
    "duration": 207,
    "start_time": "2022-10-28T09:39:08.662Z"
   },
   {
    "duration": 177,
    "start_time": "2022-10-28T09:39:08.871Z"
   },
   {
    "duration": 126,
    "start_time": "2022-10-28T09:39:09.050Z"
   },
   {
    "duration": 180,
    "start_time": "2022-10-28T09:39:09.178Z"
   },
   {
    "duration": 195,
    "start_time": "2022-10-28T09:39:09.360Z"
   },
   {
    "duration": 170,
    "start_time": "2022-10-28T09:39:09.556Z"
   },
   {
    "duration": 179,
    "start_time": "2022-10-28T09:39:09.728Z"
   },
   {
    "duration": 134,
    "start_time": "2022-10-28T09:39:09.908Z"
   },
   {
    "duration": 150,
    "start_time": "2022-10-28T09:39:10.044Z"
   },
   {
    "duration": 190,
    "start_time": "2022-10-28T09:39:10.198Z"
   },
   {
    "duration": 165,
    "start_time": "2022-10-28T09:39:10.390Z"
   },
   {
    "duration": 175,
    "start_time": "2022-10-28T09:39:10.558Z"
   },
   {
    "duration": 870,
    "start_time": "2022-10-28T09:39:10.734Z"
   },
   {
    "duration": 173,
    "start_time": "2022-10-28T09:39:11.605Z"
   },
   {
    "duration": 147,
    "start_time": "2022-10-28T09:39:11.780Z"
   },
   {
    "duration": 482,
    "start_time": "2022-10-28T09:39:11.929Z"
   },
   {
    "duration": 8,
    "start_time": "2022-10-28T09:41:46.235Z"
   },
   {
    "duration": 8,
    "start_time": "2022-10-28T09:42:24.526Z"
   },
   {
    "duration": 19,
    "start_time": "2022-10-28T09:43:22.734Z"
   },
   {
    "duration": 178,
    "start_time": "2022-10-28T09:44:34.540Z"
   },
   {
    "duration": 194,
    "start_time": "2022-10-28T09:45:01.398Z"
   },
   {
    "duration": 164,
    "start_time": "2022-10-28T09:45:08.954Z"
   },
   {
    "duration": 23,
    "start_time": "2022-10-28T09:57:36.902Z"
   },
   {
    "duration": 30,
    "start_time": "2022-10-28T10:01:42.314Z"
   },
   {
    "duration": 15,
    "start_time": "2022-10-28T10:03:05.880Z"
   },
   {
    "duration": 22,
    "start_time": "2022-10-28T10:04:10.348Z"
   },
   {
    "duration": 37,
    "start_time": "2022-10-28T10:04:45.359Z"
   },
   {
    "duration": 10,
    "start_time": "2022-10-28T10:05:01.722Z"
   },
   {
    "duration": 11,
    "start_time": "2022-10-28T10:05:10.065Z"
   },
   {
    "duration": 11,
    "start_time": "2022-10-28T10:05:46.692Z"
   },
   {
    "duration": 24,
    "start_time": "2022-10-28T10:05:58.277Z"
   },
   {
    "duration": 16,
    "start_time": "2022-10-28T10:06:23.909Z"
   },
   {
    "duration": 52,
    "start_time": "2022-10-28T10:07:53.618Z"
   },
   {
    "duration": 28,
    "start_time": "2022-10-28T10:08:50.973Z"
   },
   {
    "duration": 44,
    "start_time": "2022-10-28T10:09:14.667Z"
   },
   {
    "duration": 27,
    "start_time": "2022-10-28T10:09:34.793Z"
   },
   {
    "duration": 24,
    "start_time": "2022-10-28T10:09:59.407Z"
   },
   {
    "duration": 18,
    "start_time": "2022-10-28T10:33:46.534Z"
   },
   {
    "duration": 17,
    "start_time": "2022-10-28T10:33:56.447Z"
   },
   {
    "duration": 21,
    "start_time": "2022-10-28T10:34:07.484Z"
   },
   {
    "duration": 16,
    "start_time": "2022-10-28T10:35:17.220Z"
   },
   {
    "duration": 17,
    "start_time": "2022-10-28T10:35:39.850Z"
   },
   {
    "duration": 24,
    "start_time": "2022-10-28T10:37:28.694Z"
   },
   {
    "duration": 17,
    "start_time": "2022-10-28T10:41:07.493Z"
   },
   {
    "duration": 30,
    "start_time": "2022-10-28T10:44:27.288Z"
   },
   {
    "duration": 31,
    "start_time": "2022-10-28T10:45:30.015Z"
   },
   {
    "duration": 27,
    "start_time": "2022-10-28T10:46:09.660Z"
   },
   {
    "duration": 25,
    "start_time": "2022-10-28T10:46:29.057Z"
   },
   {
    "duration": 20,
    "start_time": "2022-10-28T10:47:02.019Z"
   },
   {
    "duration": 37,
    "start_time": "2022-10-28T10:47:17.613Z"
   },
   {
    "duration": 23,
    "start_time": "2022-10-28T10:49:15.778Z"
   },
   {
    "duration": 27,
    "start_time": "2022-10-28T10:49:43.009Z"
   },
   {
    "duration": 36,
    "start_time": "2022-10-28T10:52:00.243Z"
   },
   {
    "duration": 28,
    "start_time": "2022-10-28T10:55:37.631Z"
   },
   {
    "duration": 19,
    "start_time": "2022-10-28T10:59:14.202Z"
   },
   {
    "duration": 25,
    "start_time": "2022-10-28T10:59:25.949Z"
   },
   {
    "duration": 26,
    "start_time": "2022-10-28T10:59:56.219Z"
   },
   {
    "duration": 27,
    "start_time": "2022-10-28T11:00:29.156Z"
   },
   {
    "duration": 28,
    "start_time": "2022-10-28T11:01:24.530Z"
   },
   {
    "duration": 29,
    "start_time": "2022-10-28T11:02:23.834Z"
   },
   {
    "duration": 49,
    "start_time": "2022-10-28T11:18:13.868Z"
   },
   {
    "duration": 11,
    "start_time": "2022-10-28T11:21:27.185Z"
   },
   {
    "duration": 17,
    "start_time": "2022-10-28T11:26:30.760Z"
   },
   {
    "duration": 178,
    "start_time": "2022-10-28T11:26:51.790Z"
   },
   {
    "duration": 188,
    "start_time": "2022-10-28T11:28:03.614Z"
   },
   {
    "duration": 188,
    "start_time": "2022-10-28T11:28:25.697Z"
   },
   {
    "duration": 265,
    "start_time": "2022-10-28T11:33:21.673Z"
   },
   {
    "duration": 212,
    "start_time": "2022-10-28T11:34:19.235Z"
   },
   {
    "duration": 228,
    "start_time": "2022-10-28T11:34:54.686Z"
   },
   {
    "duration": 208,
    "start_time": "2022-10-28T11:35:47.158Z"
   },
   {
    "duration": 41,
    "start_time": "2022-10-28T11:48:10.354Z"
   },
   {
    "duration": 26,
    "start_time": "2022-10-28T11:50:04.950Z"
   },
   {
    "duration": 6,
    "start_time": "2022-10-28T11:52:41.665Z"
   },
   {
    "duration": 27,
    "start_time": "2022-10-28T11:53:36.157Z"
   },
   {
    "duration": 17,
    "start_time": "2022-10-28T11:54:43.896Z"
   },
   {
    "duration": 41,
    "start_time": "2022-10-28T11:54:52.355Z"
   },
   {
    "duration": 16,
    "start_time": "2022-10-28T11:57:03.100Z"
   },
   {
    "duration": 189,
    "start_time": "2022-10-28T11:57:11.958Z"
   },
   {
    "duration": 178,
    "start_time": "2022-10-28T12:04:12.734Z"
   },
   {
    "duration": 320,
    "start_time": "2022-10-28T12:39:57.339Z"
   },
   {
    "duration": 2649,
    "start_time": "2022-10-28T13:11:48.343Z"
   },
   {
    "duration": 11,
    "start_time": "2022-10-28T13:11:50.994Z"
   },
   {
    "duration": 15,
    "start_time": "2022-10-28T13:11:51.006Z"
   },
   {
    "duration": 19,
    "start_time": "2022-10-28T13:11:51.023Z"
   },
   {
    "duration": 6,
    "start_time": "2022-10-28T13:11:51.044Z"
   },
   {
    "duration": 9,
    "start_time": "2022-10-28T13:11:51.051Z"
   },
   {
    "duration": 6,
    "start_time": "2022-10-28T13:11:51.061Z"
   },
   {
    "duration": 13,
    "start_time": "2022-10-28T13:11:51.069Z"
   },
   {
    "duration": 55,
    "start_time": "2022-10-28T13:11:51.084Z"
   },
   {
    "duration": 325,
    "start_time": "2022-10-28T13:11:51.142Z"
   },
   {
    "duration": 4,
    "start_time": "2022-10-28T13:11:51.469Z"
   },
   {
    "duration": 10,
    "start_time": "2022-10-28T13:11:51.474Z"
   },
   {
    "duration": 190,
    "start_time": "2022-10-28T13:11:51.486Z"
   },
   {
    "duration": 10,
    "start_time": "2022-10-28T13:11:51.677Z"
   },
   {
    "duration": 20,
    "start_time": "2022-10-28T13:11:51.689Z"
   },
   {
    "duration": 24,
    "start_time": "2022-10-28T13:11:51.710Z"
   },
   {
    "duration": 19,
    "start_time": "2022-10-28T13:11:51.735Z"
   },
   {
    "duration": 207,
    "start_time": "2022-10-28T13:11:51.756Z"
   },
   {
    "duration": 181,
    "start_time": "2022-10-28T13:11:51.965Z"
   },
   {
    "duration": 17,
    "start_time": "2022-10-28T13:11:52.148Z"
   },
   {
    "duration": 4,
    "start_time": "2022-10-28T13:11:52.166Z"
   },
   {
    "duration": 9,
    "start_time": "2022-10-28T13:11:52.171Z"
   },
   {
    "duration": 8,
    "start_time": "2022-10-28T13:11:52.182Z"
   },
   {
    "duration": 6,
    "start_time": "2022-10-28T13:11:52.192Z"
   },
   {
    "duration": 410,
    "start_time": "2022-10-28T13:11:52.199Z"
   },
   {
    "duration": 6,
    "start_time": "2022-10-28T13:11:52.610Z"
   },
   {
    "duration": 29,
    "start_time": "2022-10-28T13:11:52.617Z"
   },
   {
    "duration": 170,
    "start_time": "2022-10-28T13:11:52.649Z"
   },
   {
    "duration": 197,
    "start_time": "2022-10-28T13:11:52.821Z"
   },
   {
    "duration": 180,
    "start_time": "2022-10-28T13:11:53.020Z"
   },
   {
    "duration": 184,
    "start_time": "2022-10-28T13:11:53.202Z"
   },
   {
    "duration": 170,
    "start_time": "2022-10-28T13:11:53.388Z"
   },
   {
    "duration": 171,
    "start_time": "2022-10-28T13:11:53.560Z"
   },
   {
    "duration": 175,
    "start_time": "2022-10-28T13:11:53.733Z"
   },
   {
    "duration": 200,
    "start_time": "2022-10-28T13:11:53.910Z"
   },
   {
    "duration": 177,
    "start_time": "2022-10-28T13:11:54.112Z"
   },
   {
    "duration": 191,
    "start_time": "2022-10-28T13:11:54.291Z"
   },
   {
    "duration": 171,
    "start_time": "2022-10-28T13:11:54.484Z"
   },
   {
    "duration": 167,
    "start_time": "2022-10-28T13:11:54.657Z"
   },
   {
    "duration": 130,
    "start_time": "2022-10-28T13:11:54.826Z"
   },
   {
    "duration": 127,
    "start_time": "2022-10-28T13:11:54.957Z"
   },
   {
    "duration": 48,
    "start_time": "2022-10-28T13:11:55.086Z"
   },
   {
    "duration": 0,
    "start_time": "2022-10-28T13:11:55.136Z"
   },
   {
    "duration": 0,
    "start_time": "2022-10-28T13:11:55.138Z"
   },
   {
    "duration": 0,
    "start_time": "2022-10-28T13:11:55.139Z"
   },
   {
    "duration": 0,
    "start_time": "2022-10-28T13:11:55.140Z"
   },
   {
    "duration": 0,
    "start_time": "2022-10-28T13:11:55.141Z"
   },
   {
    "duration": 0,
    "start_time": "2022-10-28T13:11:55.143Z"
   },
   {
    "duration": 0,
    "start_time": "2022-10-28T13:11:55.144Z"
   },
   {
    "duration": 0,
    "start_time": "2022-10-28T13:11:55.145Z"
   },
   {
    "duration": 0,
    "start_time": "2022-10-28T13:11:55.146Z"
   },
   {
    "duration": 155,
    "start_time": "2022-10-28T13:12:20.467Z"
   },
   {
    "duration": 142,
    "start_time": "2022-10-28T13:12:21.276Z"
   },
   {
    "duration": 151,
    "start_time": "2022-10-28T13:12:21.450Z"
   },
   {
    "duration": 146,
    "start_time": "2022-10-28T13:12:21.619Z"
   },
   {
    "duration": 318,
    "start_time": "2022-10-28T13:12:21.964Z"
   },
   {
    "duration": 139,
    "start_time": "2022-10-28T13:12:22.286Z"
   },
   {
    "duration": 520,
    "start_time": "2022-10-28T13:12:22.706Z"
   },
   {
    "duration": 28,
    "start_time": "2022-10-28T13:12:23.752Z"
   },
   {
    "duration": 187,
    "start_time": "2022-10-28T13:12:24.351Z"
   },
   {
    "duration": 2665,
    "start_time": "2022-10-28T16:29:13.767Z"
   },
   {
    "duration": 9,
    "start_time": "2022-10-28T16:29:16.434Z"
   },
   {
    "duration": 5,
    "start_time": "2022-10-28T16:29:16.445Z"
   },
   {
    "duration": 15,
    "start_time": "2022-10-28T16:29:16.451Z"
   },
   {
    "duration": 7,
    "start_time": "2022-10-28T16:29:16.468Z"
   },
   {
    "duration": 13,
    "start_time": "2022-10-28T16:29:16.476Z"
   },
   {
    "duration": 7,
    "start_time": "2022-10-28T16:29:16.490Z"
   },
   {
    "duration": 18,
    "start_time": "2022-10-28T16:29:16.498Z"
   },
   {
    "duration": 35,
    "start_time": "2022-10-28T16:29:16.517Z"
   },
   {
    "duration": 332,
    "start_time": "2022-10-28T16:29:16.555Z"
   },
   {
    "duration": 4,
    "start_time": "2022-10-28T16:29:16.889Z"
   },
   {
    "duration": 18,
    "start_time": "2022-10-28T16:29:16.895Z"
   },
   {
    "duration": 181,
    "start_time": "2022-10-28T16:29:16.915Z"
   },
   {
    "duration": 12,
    "start_time": "2022-10-28T16:29:17.098Z"
   },
   {
    "duration": 20,
    "start_time": "2022-10-28T16:29:17.112Z"
   },
   {
    "duration": 6,
    "start_time": "2022-10-28T16:29:17.134Z"
   },
   {
    "duration": 18,
    "start_time": "2022-10-28T16:29:17.142Z"
   },
   {
    "duration": 224,
    "start_time": "2022-10-28T16:29:17.161Z"
   },
   {
    "duration": 179,
    "start_time": "2022-10-28T16:29:17.387Z"
   },
   {
    "duration": 15,
    "start_time": "2022-10-28T16:29:17.568Z"
   },
   {
    "duration": 3,
    "start_time": "2022-10-28T16:29:17.584Z"
   },
   {
    "duration": 20,
    "start_time": "2022-10-28T16:29:17.589Z"
   },
   {
    "duration": 13,
    "start_time": "2022-10-28T16:29:17.611Z"
   },
   {
    "duration": 7,
    "start_time": "2022-10-28T16:29:17.625Z"
   },
   {
    "duration": 401,
    "start_time": "2022-10-28T16:29:17.633Z"
   },
   {
    "duration": 6,
    "start_time": "2022-10-28T16:29:18.036Z"
   },
   {
    "duration": 27,
    "start_time": "2022-10-28T16:29:18.043Z"
   },
   {
    "duration": 172,
    "start_time": "2022-10-28T16:29:18.073Z"
   },
   {
    "duration": 183,
    "start_time": "2022-10-28T16:29:18.247Z"
   },
   {
    "duration": 185,
    "start_time": "2022-10-28T16:29:18.431Z"
   },
   {
    "duration": 181,
    "start_time": "2022-10-28T16:29:18.617Z"
   },
   {
    "duration": 157,
    "start_time": "2022-10-28T16:29:18.809Z"
   },
   {
    "duration": 165,
    "start_time": "2022-10-28T16:29:18.967Z"
   },
   {
    "duration": 170,
    "start_time": "2022-10-28T16:29:19.133Z"
   },
   {
    "duration": 191,
    "start_time": "2022-10-28T16:29:19.305Z"
   },
   {
    "duration": 215,
    "start_time": "2022-10-28T16:29:19.498Z"
   },
   {
    "duration": 219,
    "start_time": "2022-10-28T16:29:19.715Z"
   },
   {
    "duration": 148,
    "start_time": "2022-10-28T16:29:19.935Z"
   },
   {
    "duration": 155,
    "start_time": "2022-10-28T16:29:20.085Z"
   },
   {
    "duration": 125,
    "start_time": "2022-10-28T16:29:20.242Z"
   },
   {
    "duration": 140,
    "start_time": "2022-10-28T16:29:20.369Z"
   },
   {
    "duration": 158,
    "start_time": "2022-10-28T16:29:20.510Z"
   },
   {
    "duration": 152,
    "start_time": "2022-10-28T16:29:20.669Z"
   },
   {
    "duration": 162,
    "start_time": "2022-10-28T16:29:20.823Z"
   },
   {
    "duration": 143,
    "start_time": "2022-10-28T16:29:20.986Z"
   },
   {
    "duration": 312,
    "start_time": "2022-10-28T16:29:21.131Z"
   },
   {
    "duration": 143,
    "start_time": "2022-10-28T16:29:21.445Z"
   },
   {
    "duration": 536,
    "start_time": "2022-10-28T16:29:21.589Z"
   },
   {
    "duration": 27,
    "start_time": "2022-10-28T16:29:22.127Z"
   },
   {
    "duration": 212,
    "start_time": "2022-10-28T16:29:22.156Z"
   },
   {
    "duration": 8,
    "start_time": "2022-10-28T16:32:06.451Z"
   },
   {
    "duration": 14,
    "start_time": "2022-10-28T16:32:37.514Z"
   },
   {
    "duration": 76,
    "start_time": "2022-10-28T16:32:41.003Z"
   },
   {
    "duration": 7,
    "start_time": "2022-10-28T16:33:00.428Z"
   },
   {
    "duration": 3044,
    "start_time": "2022-10-31T03:36:08.741Z"
   },
   {
    "duration": 2615,
    "start_time": "2022-10-31T03:36:46.054Z"
   },
   {
    "duration": 2050,
    "start_time": "2022-10-31T03:37:14.206Z"
   },
   {
    "duration": 3,
    "start_time": "2022-10-31T03:37:43.635Z"
   },
   {
    "duration": 3,
    "start_time": "2022-10-31T03:39:36.185Z"
   },
   {
    "duration": 2188,
    "start_time": "2022-10-31T03:39:36.204Z"
   },
   {
    "duration": 9,
    "start_time": "2022-10-31T03:39:38.394Z"
   },
   {
    "duration": 9,
    "start_time": "2022-10-31T03:39:38.405Z"
   },
   {
    "duration": 12,
    "start_time": "2022-10-31T03:39:38.416Z"
   },
   {
    "duration": 6,
    "start_time": "2022-10-31T03:39:38.430Z"
   },
   {
    "duration": 40,
    "start_time": "2022-10-31T03:39:38.438Z"
   },
   {
    "duration": 9,
    "start_time": "2022-10-31T03:39:38.479Z"
   },
   {
    "duration": 11,
    "start_time": "2022-10-31T03:39:38.490Z"
   },
   {
    "duration": 40,
    "start_time": "2022-10-31T03:39:38.503Z"
   },
   {
    "duration": 372,
    "start_time": "2022-10-31T03:39:38.547Z"
   },
   {
    "duration": 5,
    "start_time": "2022-10-31T03:39:38.920Z"
   },
   {
    "duration": 12,
    "start_time": "2022-10-31T03:39:38.927Z"
   },
   {
    "duration": 197,
    "start_time": "2022-10-31T03:39:38.940Z"
   },
   {
    "duration": 10,
    "start_time": "2022-10-31T03:39:39.138Z"
   },
   {
    "duration": 36,
    "start_time": "2022-10-31T03:39:39.150Z"
   },
   {
    "duration": 6,
    "start_time": "2022-10-31T03:39:39.188Z"
   },
   {
    "duration": 17,
    "start_time": "2022-10-31T03:39:39.195Z"
   },
   {
    "duration": 202,
    "start_time": "2022-10-31T03:39:39.214Z"
   },
   {
    "duration": 193,
    "start_time": "2022-10-31T03:39:39.418Z"
   },
   {
    "duration": 17,
    "start_time": "2022-10-31T03:39:39.613Z"
   },
   {
    "duration": 4,
    "start_time": "2022-10-31T03:39:39.631Z"
   },
   {
    "duration": 9,
    "start_time": "2022-10-31T03:39:39.636Z"
   },
   {
    "duration": 5,
    "start_time": "2022-10-31T03:39:39.646Z"
   },
   {
    "duration": 24,
    "start_time": "2022-10-31T03:39:39.653Z"
   },
   {
    "duration": 456,
    "start_time": "2022-10-31T03:39:39.678Z"
   },
   {
    "duration": 6,
    "start_time": "2022-10-31T03:39:40.136Z"
   },
   {
    "duration": 29,
    "start_time": "2022-10-31T03:39:40.143Z"
   },
   {
    "duration": 165,
    "start_time": "2022-10-31T03:39:40.178Z"
   },
   {
    "duration": 188,
    "start_time": "2022-10-31T03:39:40.345Z"
   },
   {
    "duration": 193,
    "start_time": "2022-10-31T03:39:40.534Z"
   },
   {
    "duration": 186,
    "start_time": "2022-10-31T03:39:40.728Z"
   },
   {
    "duration": 158,
    "start_time": "2022-10-31T03:39:40.915Z"
   },
   {
    "duration": 156,
    "start_time": "2022-10-31T03:39:41.077Z"
   },
   {
    "duration": 164,
    "start_time": "2022-10-31T03:39:41.235Z"
   },
   {
    "duration": 118,
    "start_time": "2022-10-31T03:39:41.401Z"
   },
   {
    "duration": 175,
    "start_time": "2022-10-31T03:39:41.522Z"
   },
   {
    "duration": 200,
    "start_time": "2022-10-31T03:39:41.699Z"
   },
   {
    "duration": 158,
    "start_time": "2022-10-31T03:39:41.900Z"
   },
   {
    "duration": 168,
    "start_time": "2022-10-31T03:39:42.059Z"
   },
   {
    "duration": 132,
    "start_time": "2022-10-31T03:39:42.228Z"
   },
   {
    "duration": 132,
    "start_time": "2022-10-31T03:39:42.361Z"
   },
   {
    "duration": 175,
    "start_time": "2022-10-31T03:39:42.495Z"
   },
   {
    "duration": 160,
    "start_time": "2022-10-31T03:39:42.672Z"
   },
   {
    "duration": 174,
    "start_time": "2022-10-31T03:39:42.834Z"
   },
   {
    "duration": 160,
    "start_time": "2022-10-31T03:39:43.010Z"
   },
   {
    "duration": 496,
    "start_time": "2022-10-31T03:39:43.176Z"
   },
   {
    "duration": 166,
    "start_time": "2022-10-31T03:39:43.676Z"
   },
   {
    "duration": 463,
    "start_time": "2022-10-31T03:39:43.843Z"
   },
   {
    "duration": 27,
    "start_time": "2022-10-31T03:39:44.307Z"
   },
   {
    "duration": 217,
    "start_time": "2022-10-31T03:39:44.335Z"
   },
   {
    "duration": 2083,
    "start_time": "2022-10-31T03:41:03.899Z"
   },
   {
    "duration": 2087,
    "start_time": "2022-10-31T03:42:07.068Z"
   },
   {
    "duration": 57,
    "start_time": "2022-10-31T03:43:43.519Z"
   },
   {
    "duration": 41,
    "start_time": "2022-10-31T03:44:23.644Z"
   },
   {
    "duration": 12,
    "start_time": "2022-10-31T03:56:38.577Z"
   },
   {
    "duration": 7,
    "start_time": "2022-10-31T03:56:50.843Z"
   },
   {
    "duration": 66,
    "start_time": "2022-10-31T03:58:13.058Z"
   },
   {
    "duration": 176,
    "start_time": "2022-10-31T04:08:01.287Z"
   },
   {
    "duration": 109,
    "start_time": "2022-10-31T04:08:09.279Z"
   },
   {
    "duration": 2,
    "start_time": "2022-10-31T04:08:14.593Z"
   },
   {
    "duration": 2017,
    "start_time": "2022-10-31T04:08:14.598Z"
   },
   {
    "duration": 10,
    "start_time": "2022-10-31T04:08:16.618Z"
   },
   {
    "duration": 7,
    "start_time": "2022-10-31T04:08:16.630Z"
   },
   {
    "duration": 9,
    "start_time": "2022-10-31T04:08:16.639Z"
   },
   {
    "duration": 7,
    "start_time": "2022-10-31T04:08:16.676Z"
   },
   {
    "duration": 13,
    "start_time": "2022-10-31T04:08:16.685Z"
   },
   {
    "duration": 8,
    "start_time": "2022-10-31T04:08:16.700Z"
   },
   {
    "duration": 12,
    "start_time": "2022-10-31T04:08:16.710Z"
   },
   {
    "duration": 61,
    "start_time": "2022-10-31T04:08:16.723Z"
   },
   {
    "duration": 348,
    "start_time": "2022-10-31T04:08:16.786Z"
   },
   {
    "duration": 5,
    "start_time": "2022-10-31T04:08:17.135Z"
   },
   {
    "duration": 11,
    "start_time": "2022-10-31T04:08:17.141Z"
   },
   {
    "duration": 11,
    "start_time": "2022-10-31T04:08:17.153Z"
   },
   {
    "duration": 180,
    "start_time": "2022-10-31T04:08:17.165Z"
   },
   {
    "duration": 10,
    "start_time": "2022-10-31T04:08:17.346Z"
   },
   {
    "duration": 33,
    "start_time": "2022-10-31T04:08:17.358Z"
   },
   {
    "duration": 7,
    "start_time": "2022-10-31T04:08:17.392Z"
   },
   {
    "duration": 21,
    "start_time": "2022-10-31T04:08:17.400Z"
   },
   {
    "duration": 202,
    "start_time": "2022-10-31T04:08:17.423Z"
   },
   {
    "duration": 195,
    "start_time": "2022-10-31T04:08:17.627Z"
   },
   {
    "duration": 12,
    "start_time": "2022-10-31T04:08:17.823Z"
   },
   {
    "duration": 5,
    "start_time": "2022-10-31T04:08:17.837Z"
   },
   {
    "duration": 9,
    "start_time": "2022-10-31T04:08:17.843Z"
   },
   {
    "duration": 5,
    "start_time": "2022-10-31T04:08:17.853Z"
   },
   {
    "duration": 5,
    "start_time": "2022-10-31T04:08:17.877Z"
   },
   {
    "duration": 549,
    "start_time": "2022-10-31T04:08:17.883Z"
   },
   {
    "duration": 7,
    "start_time": "2022-10-31T04:08:18.433Z"
   },
   {
    "duration": 25,
    "start_time": "2022-10-31T04:08:18.443Z"
   },
   {
    "duration": 179,
    "start_time": "2022-10-31T04:08:18.477Z"
   },
   {
    "duration": 193,
    "start_time": "2022-10-31T04:08:18.657Z"
   },
   {
    "duration": 183,
    "start_time": "2022-10-31T04:08:18.852Z"
   },
   {
    "duration": 196,
    "start_time": "2022-10-31T04:08:19.037Z"
   },
   {
    "duration": 166,
    "start_time": "2022-10-31T04:08:19.235Z"
   },
   {
    "duration": 164,
    "start_time": "2022-10-31T04:08:19.403Z"
   },
   {
    "duration": 160,
    "start_time": "2022-10-31T04:08:19.569Z"
   },
   {
    "duration": 118,
    "start_time": "2022-10-31T04:08:19.731Z"
   },
   {
    "duration": 175,
    "start_time": "2022-10-31T04:08:19.851Z"
   },
   {
    "duration": 190,
    "start_time": "2022-10-31T04:08:20.028Z"
   },
   {
    "duration": 162,
    "start_time": "2022-10-31T04:08:20.219Z"
   },
   {
    "duration": 173,
    "start_time": "2022-10-31T04:08:20.382Z"
   },
   {
    "duration": 132,
    "start_time": "2022-10-31T04:08:20.557Z"
   },
   {
    "duration": 129,
    "start_time": "2022-10-31T04:08:20.690Z"
   },
   {
    "duration": 169,
    "start_time": "2022-10-31T04:08:20.821Z"
   },
   {
    "duration": 152,
    "start_time": "2022-10-31T04:08:20.993Z"
   },
   {
    "duration": 169,
    "start_time": "2022-10-31T04:08:21.147Z"
   },
   {
    "duration": 145,
    "start_time": "2022-10-31T04:08:21.318Z"
   },
   {
    "duration": 304,
    "start_time": "2022-10-31T04:08:21.464Z"
   },
   {
    "duration": 144,
    "start_time": "2022-10-31T04:08:21.770Z"
   },
   {
    "duration": 452,
    "start_time": "2022-10-31T04:08:21.915Z"
   },
   {
    "duration": 28,
    "start_time": "2022-10-31T04:08:22.369Z"
   },
   {
    "duration": 210,
    "start_time": "2022-10-31T04:08:22.398Z"
   },
   {
    "duration": 5,
    "start_time": "2022-10-31T04:10:58.695Z"
   },
   {
    "duration": 188,
    "start_time": "2022-10-31T04:14:00.127Z"
   },
   {
    "duration": 180,
    "start_time": "2022-10-31T04:14:43.348Z"
   },
   {
    "duration": 184,
    "start_time": "2022-10-31T04:15:08.022Z"
   },
   {
    "duration": 191,
    "start_time": "2022-10-31T04:15:15.127Z"
   },
   {
    "duration": 237,
    "start_time": "2022-10-31T04:15:25.084Z"
   },
   {
    "duration": 531,
    "start_time": "2022-10-31T04:18:00.905Z"
   },
   {
    "duration": 222,
    "start_time": "2022-10-31T04:18:27.248Z"
   },
   {
    "duration": 224,
    "start_time": "2022-10-31T04:23:23.241Z"
   },
   {
    "duration": 178,
    "start_time": "2022-10-31T04:27:29.147Z"
   },
   {
    "duration": 198,
    "start_time": "2022-10-31T04:28:37.399Z"
   },
   {
    "duration": 183,
    "start_time": "2022-10-31T04:37:52.284Z"
   },
   {
    "duration": 166,
    "start_time": "2022-10-31T04:38:21.474Z"
   },
   {
    "duration": 191,
    "start_time": "2022-10-31T04:38:36.462Z"
   },
   {
    "duration": 177,
    "start_time": "2022-10-31T04:38:53.188Z"
   },
   {
    "duration": 177,
    "start_time": "2022-10-31T04:39:08.891Z"
   },
   {
    "duration": 175,
    "start_time": "2022-10-31T04:39:20.728Z"
   },
   {
    "duration": 237,
    "start_time": "2022-10-31T04:40:28.796Z"
   },
   {
    "duration": 4,
    "start_time": "2022-10-31T04:50:02.342Z"
   },
   {
    "duration": 8,
    "start_time": "2022-10-31T04:50:14.369Z"
   },
   {
    "duration": 9,
    "start_time": "2022-10-31T04:50:51.131Z"
   },
   {
    "duration": 11,
    "start_time": "2022-10-31T04:51:23.943Z"
   },
   {
    "duration": 9,
    "start_time": "2022-10-31T04:51:49.343Z"
   },
   {
    "duration": 3,
    "start_time": "2022-10-31T04:52:02.763Z"
   },
   {
    "duration": 2052,
    "start_time": "2022-10-31T04:52:02.769Z"
   },
   {
    "duration": 9,
    "start_time": "2022-10-31T04:52:04.823Z"
   },
   {
    "duration": 8,
    "start_time": "2022-10-31T04:52:04.833Z"
   },
   {
    "duration": 34,
    "start_time": "2022-10-31T04:52:04.843Z"
   },
   {
    "duration": 7,
    "start_time": "2022-10-31T04:52:04.879Z"
   },
   {
    "duration": 10,
    "start_time": "2022-10-31T04:52:04.888Z"
   },
   {
    "duration": 10,
    "start_time": "2022-10-31T04:52:04.900Z"
   },
   {
    "duration": 10,
    "start_time": "2022-10-31T04:52:04.911Z"
   },
   {
    "duration": 78,
    "start_time": "2022-10-31T04:52:04.923Z"
   },
   {
    "duration": 403,
    "start_time": "2022-10-31T04:52:05.003Z"
   },
   {
    "duration": 5,
    "start_time": "2022-10-31T04:52:05.407Z"
   },
   {
    "duration": 8,
    "start_time": "2022-10-31T04:52:05.413Z"
   },
   {
    "duration": 8,
    "start_time": "2022-10-31T04:52:05.423Z"
   },
   {
    "duration": 200,
    "start_time": "2022-10-31T04:52:05.433Z"
   },
   {
    "duration": 12,
    "start_time": "2022-10-31T04:52:05.635Z"
   },
   {
    "duration": 38,
    "start_time": "2022-10-31T04:52:05.649Z"
   },
   {
    "duration": 6,
    "start_time": "2022-10-31T04:52:05.689Z"
   },
   {
    "duration": 19,
    "start_time": "2022-10-31T04:52:05.696Z"
   },
   {
    "duration": 208,
    "start_time": "2022-10-31T04:52:05.716Z"
   },
   {
    "duration": 198,
    "start_time": "2022-10-31T04:52:05.926Z"
   },
   {
    "duration": 14,
    "start_time": "2022-10-31T04:52:06.126Z"
   },
   {
    "duration": 209,
    "start_time": "2022-10-31T04:52:06.142Z"
   },
   {
    "duration": 234,
    "start_time": "2022-10-31T04:52:06.353Z"
   },
   {
    "duration": 3,
    "start_time": "2022-10-31T04:52:06.589Z"
   },
   {
    "duration": 12,
    "start_time": "2022-10-31T04:52:06.594Z"
   },
   {
    "duration": 0,
    "start_time": "2022-10-31T04:52:06.608Z"
   },
   {
    "duration": 0,
    "start_time": "2022-10-31T04:52:06.610Z"
   },
   {
    "duration": 0,
    "start_time": "2022-10-31T04:52:06.611Z"
   },
   {
    "duration": 0,
    "start_time": "2022-10-31T04:52:06.613Z"
   },
   {
    "duration": 0,
    "start_time": "2022-10-31T04:52:06.614Z"
   },
   {
    "duration": 0,
    "start_time": "2022-10-31T04:52:06.616Z"
   },
   {
    "duration": 0,
    "start_time": "2022-10-31T04:52:06.617Z"
   },
   {
    "duration": 0,
    "start_time": "2022-10-31T04:52:06.618Z"
   },
   {
    "duration": 0,
    "start_time": "2022-10-31T04:52:06.620Z"
   },
   {
    "duration": 0,
    "start_time": "2022-10-31T04:52:06.622Z"
   },
   {
    "duration": 0,
    "start_time": "2022-10-31T04:52:06.623Z"
   },
   {
    "duration": 0,
    "start_time": "2022-10-31T04:52:06.624Z"
   },
   {
    "duration": 0,
    "start_time": "2022-10-31T04:52:06.626Z"
   },
   {
    "duration": 1,
    "start_time": "2022-10-31T04:52:07.047Z"
   },
   {
    "duration": 0,
    "start_time": "2022-10-31T04:52:07.050Z"
   },
   {
    "duration": 0,
    "start_time": "2022-10-31T04:52:07.051Z"
   },
   {
    "duration": 0,
    "start_time": "2022-10-31T04:52:07.052Z"
   },
   {
    "duration": 0,
    "start_time": "2022-10-31T04:52:07.053Z"
   },
   {
    "duration": 0,
    "start_time": "2022-10-31T04:52:07.054Z"
   },
   {
    "duration": 0,
    "start_time": "2022-10-31T04:52:07.055Z"
   },
   {
    "duration": 0,
    "start_time": "2022-10-31T04:52:07.057Z"
   },
   {
    "duration": 0,
    "start_time": "2022-10-31T04:52:07.059Z"
   },
   {
    "duration": 0,
    "start_time": "2022-10-31T04:52:07.077Z"
   },
   {
    "duration": 0,
    "start_time": "2022-10-31T04:52:07.078Z"
   },
   {
    "duration": 0,
    "start_time": "2022-10-31T04:52:07.080Z"
   },
   {
    "duration": 1,
    "start_time": "2022-10-31T04:52:07.082Z"
   },
   {
    "duration": 0,
    "start_time": "2022-10-31T04:52:07.083Z"
   },
   {
    "duration": 0,
    "start_time": "2022-10-31T04:52:07.084Z"
   },
   {
    "duration": 0,
    "start_time": "2022-10-31T04:52:07.085Z"
   },
   {
    "duration": 12,
    "start_time": "2022-10-31T04:53:01.186Z"
   },
   {
    "duration": 2,
    "start_time": "2022-10-31T04:53:12.376Z"
   },
   {
    "duration": 2024,
    "start_time": "2022-10-31T04:53:12.380Z"
   },
   {
    "duration": 9,
    "start_time": "2022-10-31T04:53:14.406Z"
   },
   {
    "duration": 34,
    "start_time": "2022-10-31T04:53:14.416Z"
   },
   {
    "duration": 45,
    "start_time": "2022-10-31T04:53:14.453Z"
   },
   {
    "duration": 41,
    "start_time": "2022-10-31T04:53:14.499Z"
   },
   {
    "duration": 35,
    "start_time": "2022-10-31T04:53:14.542Z"
   },
   {
    "duration": 60,
    "start_time": "2022-10-31T04:53:14.578Z"
   },
   {
    "duration": 38,
    "start_time": "2022-10-31T04:53:14.640Z"
   },
   {
    "duration": 71,
    "start_time": "2022-10-31T04:53:14.679Z"
   },
   {
    "duration": 315,
    "start_time": "2022-10-31T04:53:14.753Z"
   },
   {
    "duration": 6,
    "start_time": "2022-10-31T04:53:15.070Z"
   },
   {
    "duration": 63,
    "start_time": "2022-10-31T04:53:15.078Z"
   },
   {
    "duration": 38,
    "start_time": "2022-10-31T04:53:15.142Z"
   },
   {
    "duration": 232,
    "start_time": "2022-10-31T04:53:15.182Z"
   },
   {
    "duration": 9,
    "start_time": "2022-10-31T04:53:15.416Z"
   },
   {
    "duration": 50,
    "start_time": "2022-10-31T04:53:15.427Z"
   },
   {
    "duration": 21,
    "start_time": "2022-10-31T04:53:15.479Z"
   },
   {
    "duration": 61,
    "start_time": "2022-10-31T04:53:15.502Z"
   },
   {
    "duration": 208,
    "start_time": "2022-10-31T04:53:15.564Z"
   },
   {
    "duration": 193,
    "start_time": "2022-10-31T04:53:15.773Z"
   },
   {
    "duration": 22,
    "start_time": "2022-10-31T04:53:15.969Z"
   },
   {
    "duration": 193,
    "start_time": "2022-10-31T04:53:15.993Z"
   },
   {
    "duration": 220,
    "start_time": "2022-10-31T04:53:16.188Z"
   },
   {
    "duration": 2,
    "start_time": "2022-10-31T04:53:16.410Z"
   },
   {
    "duration": 62,
    "start_time": "2022-10-31T04:53:16.414Z"
   },
   {
    "duration": 58,
    "start_time": "2022-10-31T04:53:16.478Z"
   },
   {
    "duration": 57,
    "start_time": "2022-10-31T04:53:16.538Z"
   },
   {
    "duration": 53,
    "start_time": "2022-10-31T04:53:16.600Z"
   },
   {
    "duration": 412,
    "start_time": "2022-10-31T04:53:16.655Z"
   },
   {
    "duration": 8,
    "start_time": "2022-10-31T04:53:17.068Z"
   },
   {
    "duration": 32,
    "start_time": "2022-10-31T04:53:17.079Z"
   },
   {
    "duration": 226,
    "start_time": "2022-10-31T04:53:17.112Z"
   },
   {
    "duration": 195,
    "start_time": "2022-10-31T04:53:17.340Z"
   },
   {
    "duration": 189,
    "start_time": "2022-10-31T04:53:17.536Z"
   },
   {
    "duration": 187,
    "start_time": "2022-10-31T04:53:17.726Z"
   },
   {
    "duration": 166,
    "start_time": "2022-10-31T04:53:17.914Z"
   },
   {
    "duration": 169,
    "start_time": "2022-10-31T04:53:18.081Z"
   },
   {
    "duration": 177,
    "start_time": "2022-10-31T04:53:18.251Z"
   },
   {
    "duration": 122,
    "start_time": "2022-10-31T04:53:18.430Z"
   },
   {
    "duration": 183,
    "start_time": "2022-10-31T04:53:18.554Z"
   },
   {
    "duration": 191,
    "start_time": "2022-10-31T04:53:18.739Z"
   },
   {
    "duration": 180,
    "start_time": "2022-10-31T04:53:18.932Z"
   },
   {
    "duration": 170,
    "start_time": "2022-10-31T04:53:19.114Z"
   },
   {
    "duration": 136,
    "start_time": "2022-10-31T04:53:19.286Z"
   },
   {
    "duration": 136,
    "start_time": "2022-10-31T04:53:19.424Z"
   },
   {
    "duration": 173,
    "start_time": "2022-10-31T04:53:19.562Z"
   },
   {
    "duration": 151,
    "start_time": "2022-10-31T04:53:19.737Z"
   },
   {
    "duration": 163,
    "start_time": "2022-10-31T04:53:19.890Z"
   },
   {
    "duration": 525,
    "start_time": "2022-10-31T04:53:20.055Z"
   },
   {
    "duration": 306,
    "start_time": "2022-10-31T04:53:20.582Z"
   },
   {
    "duration": 152,
    "start_time": "2022-10-31T04:53:20.890Z"
   },
   {
    "duration": 451,
    "start_time": "2022-10-31T04:53:21.045Z"
   },
   {
    "duration": 26,
    "start_time": "2022-10-31T04:53:21.498Z"
   },
   {
    "duration": 204,
    "start_time": "2022-10-31T04:53:21.526Z"
   },
   {
    "duration": 7,
    "start_time": "2022-10-31T04:54:57.392Z"
   },
   {
    "duration": 25,
    "start_time": "2022-10-31T04:55:01.402Z"
   },
   {
    "duration": 4,
    "start_time": "2022-10-31T04:55:22.352Z"
   },
   {
    "duration": 5,
    "start_time": "2022-10-31T04:55:32.984Z"
   },
   {
    "duration": 6,
    "start_time": "2022-10-31T04:56:16.200Z"
   },
   {
    "duration": 206,
    "start_time": "2022-10-31T04:59:52.693Z"
   },
   {
    "duration": 196,
    "start_time": "2022-10-31T05:00:18.634Z"
   },
   {
    "duration": 187,
    "start_time": "2022-10-31T05:01:17.756Z"
   },
   {
    "duration": 214,
    "start_time": "2022-10-31T05:01:24.922Z"
   },
   {
    "duration": 708,
    "start_time": "2022-10-31T05:02:27.266Z"
   },
   {
    "duration": 740,
    "start_time": "2022-10-31T05:02:57.706Z"
   },
   {
    "duration": 241,
    "start_time": "2022-10-31T05:03:46.050Z"
   },
   {
    "duration": 220,
    "start_time": "2022-10-31T05:04:08.788Z"
   },
   {
    "duration": 714,
    "start_time": "2022-10-31T05:11:09.763Z"
   },
   {
    "duration": 233,
    "start_time": "2022-10-31T05:11:18.534Z"
   },
   {
    "duration": 590,
    "start_time": "2022-10-31T05:11:30.113Z"
   },
   {
    "duration": 185,
    "start_time": "2022-10-31T05:12:09.116Z"
   },
   {
    "duration": 2,
    "start_time": "2022-10-31T05:15:44.761Z"
   },
   {
    "duration": 3,
    "start_time": "2022-10-31T05:15:50.563Z"
   },
   {
    "duration": 1952,
    "start_time": "2022-10-31T05:15:50.568Z"
   },
   {
    "duration": 8,
    "start_time": "2022-10-31T05:15:52.522Z"
   },
   {
    "duration": 17,
    "start_time": "2022-10-31T05:15:52.531Z"
   },
   {
    "duration": 15,
    "start_time": "2022-10-31T05:15:52.550Z"
   },
   {
    "duration": 12,
    "start_time": "2022-10-31T05:15:52.567Z"
   },
   {
    "duration": 10,
    "start_time": "2022-10-31T05:15:52.581Z"
   },
   {
    "duration": 7,
    "start_time": "2022-10-31T05:15:52.593Z"
   },
   {
    "duration": 8,
    "start_time": "2022-10-31T05:15:52.601Z"
   },
   {
    "duration": 35,
    "start_time": "2022-10-31T05:15:52.611Z"
   },
   {
    "duration": 337,
    "start_time": "2022-10-31T05:15:52.649Z"
   },
   {
    "duration": 5,
    "start_time": "2022-10-31T05:15:52.988Z"
   },
   {
    "duration": 10,
    "start_time": "2022-10-31T05:15:52.994Z"
   },
   {
    "duration": 13,
    "start_time": "2022-10-31T05:15:53.005Z"
   },
   {
    "duration": 192,
    "start_time": "2022-10-31T05:15:53.020Z"
   },
   {
    "duration": 11,
    "start_time": "2022-10-31T05:15:53.213Z"
   },
   {
    "duration": 21,
    "start_time": "2022-10-31T05:15:53.226Z"
   },
   {
    "duration": 28,
    "start_time": "2022-10-31T05:15:53.249Z"
   },
   {
    "duration": 18,
    "start_time": "2022-10-31T05:15:53.278Z"
   },
   {
    "duration": 224,
    "start_time": "2022-10-31T05:15:53.298Z"
   },
   {
    "duration": 185,
    "start_time": "2022-10-31T05:15:53.524Z"
   },
   {
    "duration": 12,
    "start_time": "2022-10-31T05:15:53.711Z"
   },
   {
    "duration": 197,
    "start_time": "2022-10-31T05:15:53.724Z"
   },
   {
    "duration": 218,
    "start_time": "2022-10-31T05:15:53.923Z"
   },
   {
    "duration": 514,
    "start_time": "2022-10-31T05:15:54.143Z"
   },
   {
    "duration": 0,
    "start_time": "2022-10-31T05:15:54.660Z"
   },
   {
    "duration": 0,
    "start_time": "2022-10-31T05:15:54.661Z"
   },
   {
    "duration": 0,
    "start_time": "2022-10-31T05:15:54.662Z"
   },
   {
    "duration": 0,
    "start_time": "2022-10-31T05:15:54.663Z"
   },
   {
    "duration": 0,
    "start_time": "2022-10-31T05:15:54.664Z"
   },
   {
    "duration": 0,
    "start_time": "2022-10-31T05:15:54.665Z"
   },
   {
    "duration": 0,
    "start_time": "2022-10-31T05:15:54.667Z"
   },
   {
    "duration": 0,
    "start_time": "2022-10-31T05:15:54.668Z"
   },
   {
    "duration": 0,
    "start_time": "2022-10-31T05:15:54.669Z"
   },
   {
    "duration": 0,
    "start_time": "2022-10-31T05:15:54.670Z"
   },
   {
    "duration": 0,
    "start_time": "2022-10-31T05:15:54.671Z"
   },
   {
    "duration": 0,
    "start_time": "2022-10-31T05:15:54.672Z"
   },
   {
    "duration": 0,
    "start_time": "2022-10-31T05:15:54.674Z"
   },
   {
    "duration": 0,
    "start_time": "2022-10-31T05:15:54.675Z"
   },
   {
    "duration": 0,
    "start_time": "2022-10-31T05:15:54.676Z"
   },
   {
    "duration": 0,
    "start_time": "2022-10-31T05:15:54.678Z"
   },
   {
    "duration": 0,
    "start_time": "2022-10-31T05:15:54.678Z"
   },
   {
    "duration": 0,
    "start_time": "2022-10-31T05:15:54.680Z"
   },
   {
    "duration": 0,
    "start_time": "2022-10-31T05:15:54.681Z"
   },
   {
    "duration": 0,
    "start_time": "2022-10-31T05:15:54.682Z"
   },
   {
    "duration": 0,
    "start_time": "2022-10-31T05:15:54.682Z"
   },
   {
    "duration": 0,
    "start_time": "2022-10-31T05:15:54.683Z"
   },
   {
    "duration": 0,
    "start_time": "2022-10-31T05:15:54.685Z"
   },
   {
    "duration": 0,
    "start_time": "2022-10-31T05:15:54.686Z"
   },
   {
    "duration": 0,
    "start_time": "2022-10-31T05:15:54.688Z"
   },
   {
    "duration": 0,
    "start_time": "2022-10-31T05:15:54.689Z"
   },
   {
    "duration": 0,
    "start_time": "2022-10-31T05:15:54.691Z"
   },
   {
    "duration": 0,
    "start_time": "2022-10-31T05:15:54.692Z"
   },
   {
    "duration": 0,
    "start_time": "2022-10-31T05:15:54.694Z"
   },
   {
    "duration": 0,
    "start_time": "2022-10-31T05:15:54.695Z"
   },
   {
    "duration": 0,
    "start_time": "2022-10-31T05:15:54.697Z"
   },
   {
    "duration": 203,
    "start_time": "2022-10-31T05:16:33.033Z"
   },
   {
    "duration": 221,
    "start_time": "2022-10-31T05:16:41.453Z"
   },
   {
    "duration": 3,
    "start_time": "2022-10-31T05:17:23.562Z"
   },
   {
    "duration": 5,
    "start_time": "2022-10-31T05:17:42.638Z"
   },
   {
    "duration": 616,
    "start_time": "2022-10-31T05:18:08.376Z"
   },
   {
    "duration": 211,
    "start_time": "2022-10-31T05:18:52.226Z"
   },
   {
    "duration": 194,
    "start_time": "2022-10-31T05:19:32.577Z"
   },
   {
    "duration": 47,
    "start_time": "2022-10-31T05:20:23.275Z"
   },
   {
    "duration": 48,
    "start_time": "2022-10-31T05:20:31.471Z"
   },
   {
    "duration": 187,
    "start_time": "2022-10-31T05:20:39.108Z"
   },
   {
    "duration": 678,
    "start_time": "2022-10-31T05:20:57.157Z"
   },
   {
    "duration": 23,
    "start_time": "2022-10-31T05:21:56.582Z"
   },
   {
    "duration": 8,
    "start_time": "2022-10-31T05:22:16.569Z"
   },
   {
    "duration": 23,
    "start_time": "2022-10-31T05:22:20.524Z"
   },
   {
    "duration": 177,
    "start_time": "2022-10-31T05:23:17.347Z"
   },
   {
    "duration": 180,
    "start_time": "2022-10-31T05:23:20.822Z"
   },
   {
    "duration": 189,
    "start_time": "2022-10-31T05:23:26.606Z"
   },
   {
    "duration": 189,
    "start_time": "2022-10-31T05:23:31.421Z"
   },
   {
    "duration": 177,
    "start_time": "2022-10-31T05:23:44.603Z"
   },
   {
    "duration": 31,
    "start_time": "2022-10-31T05:24:03.290Z"
   },
   {
    "duration": 25,
    "start_time": "2022-10-31T05:24:15.591Z"
   },
   {
    "duration": 26,
    "start_time": "2022-10-31T05:25:07.170Z"
   },
   {
    "duration": 32,
    "start_time": "2022-10-31T05:25:51.377Z"
   },
   {
    "duration": 183,
    "start_time": "2022-10-31T05:26:10.048Z"
   },
   {
    "duration": 159,
    "start_time": "2022-10-31T05:26:13.310Z"
   },
   {
    "duration": 168,
    "start_time": "2022-10-31T05:26:15.851Z"
   },
   {
    "duration": 1007,
    "start_time": "2022-10-31T05:26:17.474Z"
   },
   {
    "duration": 3,
    "start_time": "2022-10-31T05:26:48.966Z"
   },
   {
    "duration": 1982,
    "start_time": "2022-10-31T05:26:48.971Z"
   },
   {
    "duration": 13,
    "start_time": "2022-10-31T05:26:50.955Z"
   },
   {
    "duration": 7,
    "start_time": "2022-10-31T05:26:50.977Z"
   },
   {
    "duration": 10,
    "start_time": "2022-10-31T05:26:50.986Z"
   },
   {
    "duration": 6,
    "start_time": "2022-10-31T05:26:50.998Z"
   },
   {
    "duration": 17,
    "start_time": "2022-10-31T05:26:51.006Z"
   },
   {
    "duration": 10,
    "start_time": "2022-10-31T05:26:51.025Z"
   },
   {
    "duration": 41,
    "start_time": "2022-10-31T05:26:51.037Z"
   },
   {
    "duration": 39,
    "start_time": "2022-10-31T05:26:51.081Z"
   },
   {
    "duration": 329,
    "start_time": "2022-10-31T05:26:51.123Z"
   },
   {
    "duration": 4,
    "start_time": "2022-10-31T05:26:51.454Z"
   },
   {
    "duration": 7,
    "start_time": "2022-10-31T05:26:51.460Z"
   },
   {
    "duration": 7,
    "start_time": "2022-10-31T05:26:51.477Z"
   },
   {
    "duration": 193,
    "start_time": "2022-10-31T05:26:51.485Z"
   },
   {
    "duration": 10,
    "start_time": "2022-10-31T05:26:51.680Z"
   },
   {
    "duration": 19,
    "start_time": "2022-10-31T05:26:51.692Z"
   },
   {
    "duration": 6,
    "start_time": "2022-10-31T05:26:51.713Z"
   },
   {
    "duration": 26,
    "start_time": "2022-10-31T05:26:51.721Z"
   },
   {
    "duration": 208,
    "start_time": "2022-10-31T05:26:51.749Z"
   },
   {
    "duration": 197,
    "start_time": "2022-10-31T05:26:51.959Z"
   },
   {
    "duration": 19,
    "start_time": "2022-10-31T05:26:52.158Z"
   },
   {
    "duration": 204,
    "start_time": "2022-10-31T05:26:52.179Z"
   },
   {
    "duration": 233,
    "start_time": "2022-10-31T05:26:52.384Z"
   },
   {
    "duration": 5,
    "start_time": "2022-10-31T05:26:52.619Z"
   },
   {
    "duration": 10,
    "start_time": "2022-10-31T05:26:52.625Z"
   },
   {
    "duration": 5,
    "start_time": "2022-10-31T05:26:52.637Z"
   },
   {
    "duration": 8,
    "start_time": "2022-10-31T05:26:52.643Z"
   },
   {
    "duration": 6,
    "start_time": "2022-10-31T05:26:52.677Z"
   },
   {
    "duration": 8,
    "start_time": "2022-10-31T05:26:52.685Z"
   },
   {
    "duration": 341,
    "start_time": "2022-10-31T05:26:52.694Z"
   },
   {
    "duration": 8,
    "start_time": "2022-10-31T05:26:53.037Z"
   },
   {
    "duration": 32,
    "start_time": "2022-10-31T05:26:53.046Z"
   },
   {
    "duration": 184,
    "start_time": "2022-10-31T05:26:53.080Z"
   },
   {
    "duration": 204,
    "start_time": "2022-10-31T05:26:53.266Z"
   },
   {
    "duration": 194,
    "start_time": "2022-10-31T05:26:53.472Z"
   },
   {
    "duration": 2,
    "start_time": "2022-10-31T05:26:53.677Z"
   },
   {
    "duration": 181,
    "start_time": "2022-10-31T05:26:53.681Z"
   },
   {
    "duration": 177,
    "start_time": "2022-10-31T05:26:53.864Z"
   },
   {
    "duration": 181,
    "start_time": "2022-10-31T05:26:54.042Z"
   },
   {
    "duration": 128,
    "start_time": "2022-10-31T05:26:54.225Z"
   },
   {
    "duration": 171,
    "start_time": "2022-10-31T05:26:54.355Z"
   },
   {
    "duration": 203,
    "start_time": "2022-10-31T05:26:54.527Z"
   },
   {
    "duration": 172,
    "start_time": "2022-10-31T05:26:54.732Z"
   },
   {
    "duration": 170,
    "start_time": "2022-10-31T05:26:54.906Z"
   },
   {
    "duration": 168,
    "start_time": "2022-10-31T05:26:55.078Z"
   },
   {
    "duration": 209,
    "start_time": "2022-10-31T05:26:55.250Z"
   },
   {
    "duration": 182,
    "start_time": "2022-10-31T05:26:55.461Z"
   },
   {
    "duration": 185,
    "start_time": "2022-10-31T05:26:55.645Z"
   },
   {
    "duration": 197,
    "start_time": "2022-10-31T05:26:55.832Z"
   },
   {
    "duration": 682,
    "start_time": "2022-10-31T05:26:56.031Z"
   },
   {
    "duration": 382,
    "start_time": "2022-10-31T05:26:56.715Z"
   },
   {
    "duration": 186,
    "start_time": "2022-10-31T05:26:57.099Z"
   },
   {
    "duration": 517,
    "start_time": "2022-10-31T05:26:57.286Z"
   },
   {
    "duration": 31,
    "start_time": "2022-10-31T05:26:57.804Z"
   },
   {
    "duration": 229,
    "start_time": "2022-10-31T05:26:57.838Z"
   },
   {
    "duration": 227,
    "start_time": "2022-10-31T05:28:25.194Z"
   },
   {
    "duration": 177,
    "start_time": "2022-10-31T05:28:43.849Z"
   },
   {
    "duration": 194,
    "start_time": "2022-10-31T05:29:06.871Z"
   },
   {
    "duration": 178,
    "start_time": "2022-10-31T05:29:16.403Z"
   },
   {
    "duration": 192,
    "start_time": "2022-10-31T05:29:27.984Z"
   },
   {
    "duration": 21,
    "start_time": "2022-10-31T05:33:09.673Z"
   },
   {
    "duration": 164,
    "start_time": "2022-10-31T05:33:22.149Z"
   },
   {
    "duration": 435,
    "start_time": "2022-10-31T05:33:35.333Z"
   },
   {
    "duration": 353,
    "start_time": "2022-10-31T05:34:07.618Z"
   },
   {
    "duration": 406,
    "start_time": "2022-10-31T05:34:16.903Z"
   },
   {
    "duration": 367,
    "start_time": "2022-10-31T05:34:36.477Z"
   },
   {
    "duration": 129,
    "start_time": "2022-10-31T05:36:42.632Z"
   },
   {
    "duration": 49,
    "start_time": "2022-10-31T05:37:41.567Z"
   },
   {
    "duration": 11,
    "start_time": "2022-10-31T05:39:52.702Z"
   },
   {
    "duration": 5,
    "start_time": "2022-10-31T05:40:00.950Z"
   },
   {
    "duration": 5,
    "start_time": "2022-10-31T05:40:08.904Z"
   },
   {
    "duration": 6,
    "start_time": "2022-10-31T05:40:43.272Z"
   },
   {
    "duration": 5,
    "start_time": "2022-10-31T05:41:31.689Z"
   },
   {
    "duration": 5,
    "start_time": "2022-10-31T05:41:32.722Z"
   },
   {
    "duration": 7,
    "start_time": "2022-10-31T05:41:33.600Z"
   },
   {
    "duration": 190,
    "start_time": "2022-10-31T05:42:28.818Z"
   },
   {
    "duration": 1197,
    "start_time": "2022-10-31T20:23:36.537Z"
   },
   {
    "duration": 2111,
    "start_time": "2022-10-31T20:23:37.736Z"
   },
   {
    "duration": 13,
    "start_time": "2022-10-31T20:23:39.848Z"
   },
   {
    "duration": 6,
    "start_time": "2022-10-31T20:23:39.863Z"
   },
   {
    "duration": 131,
    "start_time": "2022-10-31T20:23:39.871Z"
   },
   {
    "duration": 6,
    "start_time": "2022-10-31T20:23:40.003Z"
   },
   {
    "duration": 18,
    "start_time": "2022-10-31T20:23:40.011Z"
   },
   {
    "duration": 25,
    "start_time": "2022-10-31T20:23:40.031Z"
   },
   {
    "duration": 11,
    "start_time": "2022-10-31T20:23:40.058Z"
   },
   {
    "duration": 47,
    "start_time": "2022-10-31T20:23:40.073Z"
   },
   {
    "duration": 369,
    "start_time": "2022-10-31T20:23:40.122Z"
   },
   {
    "duration": 6,
    "start_time": "2022-10-31T20:23:40.493Z"
   },
   {
    "duration": 12,
    "start_time": "2022-10-31T20:23:40.501Z"
   },
   {
    "duration": 13,
    "start_time": "2022-10-31T20:23:40.514Z"
   },
   {
    "duration": 234,
    "start_time": "2022-10-31T20:23:40.530Z"
   },
   {
    "duration": 12,
    "start_time": "2022-10-31T20:23:40.766Z"
   },
   {
    "duration": 22,
    "start_time": "2022-10-31T20:23:40.780Z"
   },
   {
    "duration": 7,
    "start_time": "2022-10-31T20:23:40.804Z"
   },
   {
    "duration": 47,
    "start_time": "2022-10-31T20:23:40.812Z"
   },
   {
    "duration": 209,
    "start_time": "2022-10-31T20:23:40.861Z"
   },
   {
    "duration": 207,
    "start_time": "2022-10-31T20:23:41.072Z"
   },
   {
    "duration": 13,
    "start_time": "2022-10-31T20:23:41.281Z"
   },
   {
    "duration": 251,
    "start_time": "2022-10-31T20:23:41.296Z"
   },
   {
    "duration": 284,
    "start_time": "2022-10-31T20:23:41.555Z"
   },
   {
    "duration": 4,
    "start_time": "2022-10-31T20:23:41.840Z"
   },
   {
    "duration": 6,
    "start_time": "2022-10-31T20:23:41.854Z"
   },
   {
    "duration": 10,
    "start_time": "2022-10-31T20:23:41.862Z"
   },
   {
    "duration": 7,
    "start_time": "2022-10-31T20:23:41.876Z"
   },
   {
    "duration": 9,
    "start_time": "2022-10-31T20:23:41.885Z"
   },
   {
    "duration": 8,
    "start_time": "2022-10-31T20:23:41.895Z"
   },
   {
    "duration": 366,
    "start_time": "2022-10-31T20:23:41.906Z"
   },
   {
    "duration": 6,
    "start_time": "2022-10-31T20:23:42.274Z"
   },
   {
    "duration": 25,
    "start_time": "2022-10-31T20:23:42.282Z"
   },
   {
    "duration": 308,
    "start_time": "2022-10-31T20:23:42.308Z"
   },
   {
    "duration": 214,
    "start_time": "2022-10-31T20:23:42.618Z"
   },
   {
    "duration": 190,
    "start_time": "2022-10-31T20:23:42.834Z"
   },
   {
    "duration": 196,
    "start_time": "2022-10-31T20:23:43.026Z"
   },
   {
    "duration": 180,
    "start_time": "2022-10-31T20:23:43.224Z"
   },
   {
    "duration": 185,
    "start_time": "2022-10-31T20:23:43.406Z"
   },
   {
    "duration": 197,
    "start_time": "2022-10-31T20:23:43.593Z"
   },
   {
    "duration": 129,
    "start_time": "2022-10-31T20:23:43.792Z"
   },
   {
    "duration": 192,
    "start_time": "2022-10-31T20:23:43.922Z"
   },
   {
    "duration": 214,
    "start_time": "2022-10-31T20:23:44.116Z"
   },
   {
    "duration": 319,
    "start_time": "2022-10-31T20:23:44.331Z"
   },
   {
    "duration": 176,
    "start_time": "2022-10-31T20:23:44.654Z"
   },
   {
    "duration": 150,
    "start_time": "2022-10-31T20:23:44.832Z"
   },
   {
    "duration": 141,
    "start_time": "2022-10-31T20:23:44.984Z"
   },
   {
    "duration": 194,
    "start_time": "2022-10-31T20:23:45.126Z"
   },
   {
    "duration": 366,
    "start_time": "2022-10-31T20:23:45.321Z"
   },
   {
    "duration": 407,
    "start_time": "2022-10-31T20:23:45.689Z"
   },
   {
    "duration": 365,
    "start_time": "2022-10-31T20:23:46.098Z"
   },
   {
    "duration": 339,
    "start_time": "2022-10-31T20:23:46.465Z"
   },
   {
    "duration": 153,
    "start_time": "2022-10-31T20:23:46.806Z"
   },
   {
    "duration": 512,
    "start_time": "2022-10-31T20:23:46.962Z"
   },
   {
    "duration": 7,
    "start_time": "2022-10-31T20:23:47.476Z"
   },
   {
    "duration": 10,
    "start_time": "2022-10-31T20:23:47.485Z"
   },
   {
    "duration": 5,
    "start_time": "2022-10-31T20:23:47.496Z"
   },
   {
    "duration": 51,
    "start_time": "2022-10-31T20:23:47.503Z"
   },
   {
    "duration": 227,
    "start_time": "2022-10-31T20:23:47.556Z"
   },
   {
    "duration": 15,
    "start_time": "2022-10-31T20:25:33.468Z"
   },
   {
    "duration": 110,
    "start_time": "2022-10-31T20:25:36.951Z"
   },
   {
    "duration": 105,
    "start_time": "2022-10-31T20:26:00.569Z"
   },
   {
    "duration": 148,
    "start_time": "2022-10-31T20:26:03.408Z"
   },
   {
    "duration": 46,
    "start_time": "2022-11-01T03:30:26.729Z"
   },
   {
    "duration": 38,
    "start_time": "2022-11-01T03:30:34.813Z"
   },
   {
    "duration": 6,
    "start_time": "2022-11-01T03:30:39.172Z"
   },
   {
    "duration": 1226,
    "start_time": "2022-11-01T03:30:54.292Z"
   },
   {
    "duration": 2663,
    "start_time": "2022-11-01T03:30:55.520Z"
   },
   {
    "duration": 12,
    "start_time": "2022-11-01T03:30:58.185Z"
   },
   {
    "duration": 6,
    "start_time": "2022-11-01T03:30:58.200Z"
   },
   {
    "duration": 98,
    "start_time": "2022-11-01T03:30:58.208Z"
   },
   {
    "duration": 5,
    "start_time": "2022-11-01T03:30:58.308Z"
   },
   {
    "duration": 25,
    "start_time": "2022-11-01T03:30:58.315Z"
   },
   {
    "duration": 8,
    "start_time": "2022-11-01T03:30:58.342Z"
   },
   {
    "duration": 11,
    "start_time": "2022-11-01T03:30:58.352Z"
   },
   {
    "duration": 30,
    "start_time": "2022-11-01T03:30:58.365Z"
   },
   {
    "duration": 351,
    "start_time": "2022-11-01T03:30:58.397Z"
   },
   {
    "duration": 5,
    "start_time": "2022-11-01T03:30:58.750Z"
   },
   {
    "duration": 7,
    "start_time": "2022-11-01T03:30:58.756Z"
   },
   {
    "duration": 8,
    "start_time": "2022-11-01T03:30:58.765Z"
   },
   {
    "duration": 198,
    "start_time": "2022-11-01T03:30:58.775Z"
   },
   {
    "duration": 11,
    "start_time": "2022-11-01T03:30:58.975Z"
   },
   {
    "duration": 19,
    "start_time": "2022-11-01T03:30:58.988Z"
   },
   {
    "duration": 31,
    "start_time": "2022-11-01T03:30:59.009Z"
   },
   {
    "duration": 16,
    "start_time": "2022-11-01T03:30:59.041Z"
   },
   {
    "duration": 204,
    "start_time": "2022-11-01T03:30:59.059Z"
   },
   {
    "duration": 187,
    "start_time": "2022-11-01T03:30:59.265Z"
   },
   {
    "duration": 13,
    "start_time": "2022-11-01T03:30:59.453Z"
   },
   {
    "duration": 194,
    "start_time": "2022-11-01T03:30:59.467Z"
   },
   {
    "duration": 206,
    "start_time": "2022-11-01T03:30:59.663Z"
   },
   {
    "duration": 4,
    "start_time": "2022-11-01T03:30:59.870Z"
   },
   {
    "duration": 8,
    "start_time": "2022-11-01T03:30:59.875Z"
   },
   {
    "duration": 156,
    "start_time": "2022-11-01T03:30:59.885Z"
   },
   {
    "duration": 3,
    "start_time": "2022-11-01T03:31:00.045Z"
   },
   {
    "duration": 8,
    "start_time": "2022-11-01T03:31:00.050Z"
   },
   {
    "duration": 6,
    "start_time": "2022-11-01T03:31:00.060Z"
   },
   {
    "duration": 6,
    "start_time": "2022-11-01T03:31:00.068Z"
   },
   {
    "duration": 337,
    "start_time": "2022-11-01T03:31:00.076Z"
   },
   {
    "duration": 8,
    "start_time": "2022-11-01T03:31:00.414Z"
   },
   {
    "duration": 39,
    "start_time": "2022-11-01T03:31:00.424Z"
   },
   {
    "duration": 297,
    "start_time": "2022-11-01T03:31:00.465Z"
   },
   {
    "duration": 188,
    "start_time": "2022-11-01T03:31:00.763Z"
   },
   {
    "duration": 202,
    "start_time": "2022-11-01T03:31:00.953Z"
   },
   {
    "duration": 202,
    "start_time": "2022-11-01T03:31:01.157Z"
   },
   {
    "duration": 172,
    "start_time": "2022-11-01T03:31:01.361Z"
   },
   {
    "duration": 172,
    "start_time": "2022-11-01T03:31:01.534Z"
   },
   {
    "duration": 176,
    "start_time": "2022-11-01T03:31:01.707Z"
   },
   {
    "duration": 125,
    "start_time": "2022-11-01T03:31:01.885Z"
   },
   {
    "duration": 178,
    "start_time": "2022-11-01T03:31:02.012Z"
   },
   {
    "duration": 188,
    "start_time": "2022-11-01T03:31:02.192Z"
   },
   {
    "duration": 274,
    "start_time": "2022-11-01T03:31:02.382Z"
   },
   {
    "duration": 171,
    "start_time": "2022-11-01T03:31:02.658Z"
   },
   {
    "duration": 127,
    "start_time": "2022-11-01T03:31:02.830Z"
   },
   {
    "duration": 123,
    "start_time": "2022-11-01T03:31:02.963Z"
   },
   {
    "duration": 180,
    "start_time": "2022-11-01T03:31:03.088Z"
   },
   {
    "duration": 323,
    "start_time": "2022-11-01T03:31:03.270Z"
   },
   {
    "duration": 352,
    "start_time": "2022-11-01T03:31:03.595Z"
   },
   {
    "duration": 333,
    "start_time": "2022-11-01T03:31:03.948Z"
   },
   {
    "duration": 340,
    "start_time": "2022-11-01T03:31:04.283Z"
   },
   {
    "duration": 157,
    "start_time": "2022-11-01T03:31:04.625Z"
   },
   {
    "duration": 462,
    "start_time": "2022-11-01T03:31:04.783Z"
   },
   {
    "duration": 6,
    "start_time": "2022-11-01T03:31:05.246Z"
   },
   {
    "duration": 13,
    "start_time": "2022-11-01T03:31:05.253Z"
   },
   {
    "duration": 7,
    "start_time": "2022-11-01T03:31:05.267Z"
   },
   {
    "duration": 28,
    "start_time": "2022-11-01T03:31:05.275Z"
   },
   {
    "duration": 223,
    "start_time": "2022-11-01T03:31:05.305Z"
   },
   {
    "duration": 1997,
    "start_time": "2022-11-01T03:31:10.991Z"
   },
   {
    "duration": 5,
    "start_time": "2022-11-01T03:43:19.515Z"
   },
   {
    "duration": 99,
    "start_time": "2022-11-01T03:45:13.835Z"
   },
   {
    "duration": 5,
    "start_time": "2022-11-01T03:45:27.037Z"
   },
   {
    "duration": 7,
    "start_time": "2022-11-01T03:49:22.599Z"
   },
   {
    "duration": 8,
    "start_time": "2022-11-01T03:49:36.369Z"
   },
   {
    "duration": 6,
    "start_time": "2022-11-01T03:49:47.961Z"
   },
   {
    "duration": 5,
    "start_time": "2022-11-01T03:50:06.127Z"
   },
   {
    "duration": 6,
    "start_time": "2022-11-01T03:51:21.587Z"
   },
   {
    "duration": 6,
    "start_time": "2022-11-01T03:51:33.032Z"
   },
   {
    "duration": 6,
    "start_time": "2022-11-01T03:53:06.166Z"
   },
   {
    "duration": 6,
    "start_time": "2022-11-01T03:53:14.672Z"
   },
   {
    "duration": 5,
    "start_time": "2022-11-01T03:53:24.287Z"
   },
   {
    "duration": 5,
    "start_time": "2022-11-01T03:53:41.811Z"
   },
   {
    "duration": 8,
    "start_time": "2022-11-01T03:55:36.498Z"
   },
   {
    "duration": 6,
    "start_time": "2022-11-01T03:57:42.005Z"
   },
   {
    "duration": 5,
    "start_time": "2022-11-01T03:59:23.664Z"
   },
   {
    "duration": 193,
    "start_time": "2022-11-01T03:59:45.875Z"
   },
   {
    "duration": 4,
    "start_time": "2022-11-01T03:59:56.514Z"
   },
   {
    "duration": 6,
    "start_time": "2022-11-01T04:00:25.174Z"
   },
   {
    "duration": 5,
    "start_time": "2022-11-01T04:00:42.796Z"
   },
   {
    "duration": 7,
    "start_time": "2022-11-01T04:01:46.156Z"
   },
   {
    "duration": 3,
    "start_time": "2022-11-01T04:04:35.211Z"
   },
   {
    "duration": 197,
    "start_time": "2022-11-01T04:13:35.050Z"
   },
   {
    "duration": 203,
    "start_time": "2022-11-01T04:14:10.613Z"
   },
   {
    "duration": 174,
    "start_time": "2022-11-01T04:14:27.798Z"
   },
   {
    "duration": 352,
    "start_time": "2022-11-01T04:15:56.389Z"
   },
   {
    "duration": 193,
    "start_time": "2022-11-01T04:18:13.268Z"
   },
   {
    "duration": 173,
    "start_time": "2022-11-01T04:20:47.708Z"
   },
   {
    "duration": 40,
    "start_time": "2022-11-01T04:21:05.414Z"
   },
   {
    "duration": 153,
    "start_time": "2022-11-01T04:21:09.728Z"
   },
   {
    "duration": 62,
    "start_time": "2022-11-01T04:21:18.476Z"
   },
   {
    "duration": 139,
    "start_time": "2022-11-01T04:21:22.575Z"
   },
   {
    "duration": 147,
    "start_time": "2022-11-01T04:22:22.539Z"
   },
   {
    "duration": 148,
    "start_time": "2022-11-01T04:22:42.415Z"
   },
   {
    "duration": 141,
    "start_time": "2022-11-01T04:24:32.496Z"
   },
   {
    "duration": 6,
    "start_time": "2022-11-01T04:25:02.589Z"
   },
   {
    "duration": 134,
    "start_time": "2022-11-01T04:25:03.657Z"
   },
   {
    "duration": 130,
    "start_time": "2022-11-01T04:26:20.010Z"
   },
   {
    "duration": 130,
    "start_time": "2022-11-01T04:26:27.412Z"
   },
   {
    "duration": 207,
    "start_time": "2022-11-01T04:27:20.642Z"
   },
   {
    "duration": 7,
    "start_time": "2022-11-01T04:29:02.778Z"
   },
   {
    "duration": 7,
    "start_time": "2022-11-01T04:29:22.121Z"
   },
   {
    "duration": 6,
    "start_time": "2022-11-01T04:29:31.289Z"
   },
   {
    "duration": 687,
    "start_time": "2022-11-01T04:31:53.506Z"
   },
   {
    "duration": 3,
    "start_time": "2022-11-01T04:32:13.618Z"
   },
   {
    "duration": 2129,
    "start_time": "2022-11-01T04:32:13.624Z"
   },
   {
    "duration": 10,
    "start_time": "2022-11-01T04:32:15.755Z"
   },
   {
    "duration": 33,
    "start_time": "2022-11-01T04:32:15.766Z"
   },
   {
    "duration": 35,
    "start_time": "2022-11-01T04:32:15.801Z"
   },
   {
    "duration": 112,
    "start_time": "2022-11-01T04:32:15.838Z"
   },
   {
    "duration": 58,
    "start_time": "2022-11-01T04:32:15.952Z"
   },
   {
    "duration": 13,
    "start_time": "2022-11-01T04:32:16.012Z"
   },
   {
    "duration": 29,
    "start_time": "2022-11-01T04:32:16.026Z"
   },
   {
    "duration": 61,
    "start_time": "2022-11-01T04:32:16.057Z"
   },
   {
    "duration": 328,
    "start_time": "2022-11-01T04:32:16.120Z"
   },
   {
    "duration": 6,
    "start_time": "2022-11-01T04:32:16.450Z"
   },
   {
    "duration": 37,
    "start_time": "2022-11-01T04:32:16.457Z"
   },
   {
    "duration": 28,
    "start_time": "2022-11-01T04:32:16.496Z"
   },
   {
    "duration": 203,
    "start_time": "2022-11-01T04:32:16.526Z"
   },
   {
    "duration": 14,
    "start_time": "2022-11-01T04:32:16.731Z"
   },
   {
    "duration": 45,
    "start_time": "2022-11-01T04:32:16.746Z"
   },
   {
    "duration": 22,
    "start_time": "2022-11-01T04:32:16.793Z"
   },
   {
    "duration": 57,
    "start_time": "2022-11-01T04:32:16.817Z"
   },
   {
    "duration": 216,
    "start_time": "2022-11-01T04:32:16.876Z"
   },
   {
    "duration": 265,
    "start_time": "2022-11-01T04:32:17.094Z"
   },
   {
    "duration": 18,
    "start_time": "2022-11-01T04:32:17.361Z"
   },
   {
    "duration": 213,
    "start_time": "2022-11-01T04:32:17.380Z"
   },
   {
    "duration": 7,
    "start_time": "2022-11-01T04:32:17.595Z"
   },
   {
    "duration": 244,
    "start_time": "2022-11-01T04:32:17.603Z"
   },
   {
    "duration": 4,
    "start_time": "2022-11-01T04:32:17.848Z"
   },
   {
    "duration": 22,
    "start_time": "2022-11-01T04:32:17.853Z"
   },
   {
    "duration": 22,
    "start_time": "2022-11-01T04:32:17.878Z"
   },
   {
    "duration": 177,
    "start_time": "2022-11-01T04:32:17.905Z"
   },
   {
    "duration": 8,
    "start_time": "2022-11-01T04:32:18.083Z"
   },
   {
    "duration": 5,
    "start_time": "2022-11-01T04:32:18.092Z"
   },
   {
    "duration": 6,
    "start_time": "2022-11-01T04:32:18.098Z"
   },
   {
    "duration": 9,
    "start_time": "2022-11-01T04:32:18.106Z"
   },
   {
    "duration": 26,
    "start_time": "2022-11-01T04:32:18.116Z"
   },
   {
    "duration": 6,
    "start_time": "2022-11-01T04:32:18.143Z"
   },
   {
    "duration": 534,
    "start_time": "2022-11-01T04:32:18.150Z"
   },
   {
    "duration": 6,
    "start_time": "2022-11-01T04:32:18.686Z"
   },
   {
    "duration": 25,
    "start_time": "2022-11-01T04:32:18.694Z"
   },
   {
    "duration": 218,
    "start_time": "2022-11-01T04:32:18.720Z"
   },
   {
    "duration": 189,
    "start_time": "2022-11-01T04:32:18.940Z"
   },
   {
    "duration": 193,
    "start_time": "2022-11-01T04:32:19.138Z"
   },
   {
    "duration": 213,
    "start_time": "2022-11-01T04:32:19.332Z"
   },
   {
    "duration": 8,
    "start_time": "2022-11-01T04:32:19.548Z"
   },
   {
    "duration": 149,
    "start_time": "2022-11-01T04:32:19.559Z"
   },
   {
    "duration": 178,
    "start_time": "2022-11-01T04:32:19.710Z"
   },
   {
    "duration": 167,
    "start_time": "2022-11-01T04:32:19.890Z"
   },
   {
    "duration": 121,
    "start_time": "2022-11-01T04:32:20.058Z"
   },
   {
    "duration": 180,
    "start_time": "2022-11-01T04:32:20.180Z"
   },
   {
    "duration": 204,
    "start_time": "2022-11-01T04:32:20.362Z"
   },
   {
    "duration": 188,
    "start_time": "2022-11-01T04:32:20.568Z"
   },
   {
    "duration": 169,
    "start_time": "2022-11-01T04:32:20.757Z"
   },
   {
    "duration": 157,
    "start_time": "2022-11-01T04:32:20.928Z"
   },
   {
    "duration": 131,
    "start_time": "2022-11-01T04:32:21.086Z"
   },
   {
    "duration": 343,
    "start_time": "2022-11-01T04:32:21.231Z"
   },
   {
    "duration": 357,
    "start_time": "2022-11-01T04:32:21.576Z"
   },
   {
    "duration": 340,
    "start_time": "2022-11-01T04:32:21.938Z"
   },
   {
    "duration": 369,
    "start_time": "2022-11-01T04:32:22.280Z"
   },
   {
    "duration": 325,
    "start_time": "2022-11-01T04:32:22.650Z"
   },
   {
    "duration": 143,
    "start_time": "2022-11-01T04:32:22.977Z"
   },
   {
    "duration": 463,
    "start_time": "2022-11-01T04:32:23.121Z"
   },
   {
    "duration": 5,
    "start_time": "2022-11-01T04:32:23.586Z"
   },
   {
    "duration": 9,
    "start_time": "2022-11-01T04:32:23.593Z"
   },
   {
    "duration": 14,
    "start_time": "2022-11-01T04:32:23.603Z"
   },
   {
    "duration": 39,
    "start_time": "2022-11-01T04:32:23.619Z"
   },
   {
    "duration": 193,
    "start_time": "2022-11-01T04:32:23.660Z"
   },
   {
    "duration": 188,
    "start_time": "2022-11-01T04:32:51.181Z"
   },
   {
    "duration": 53,
    "start_time": "2022-11-01T04:34:58.664Z"
   },
   {
    "duration": 18,
    "start_time": "2022-11-01T04:40:11.642Z"
   },
   {
    "duration": 10,
    "start_time": "2022-11-01T04:40:43.627Z"
   },
   {
    "duration": 12,
    "start_time": "2022-11-01T04:41:34.343Z"
   },
   {
    "duration": 10,
    "start_time": "2022-11-01T04:41:50.115Z"
   },
   {
    "duration": 201,
    "start_time": "2022-11-01T04:41:56.710Z"
   },
   {
    "duration": 188,
    "start_time": "2022-11-01T04:43:39.859Z"
   },
   {
    "duration": 171,
    "start_time": "2022-11-01T04:43:55.953Z"
   },
   {
    "duration": 1120,
    "start_time": "2022-11-01T18:45:25.042Z"
   },
   {
    "duration": 1828,
    "start_time": "2022-11-01T18:45:26.163Z"
   },
   {
    "duration": 8,
    "start_time": "2022-11-01T18:45:27.993Z"
   },
   {
    "duration": 6,
    "start_time": "2022-11-01T18:45:28.003Z"
   },
   {
    "duration": 112,
    "start_time": "2022-11-01T18:45:28.011Z"
   },
   {
    "duration": 5,
    "start_time": "2022-11-01T18:45:28.124Z"
   },
   {
    "duration": 10,
    "start_time": "2022-11-01T18:45:28.130Z"
   },
   {
    "duration": 7,
    "start_time": "2022-11-01T18:45:28.141Z"
   },
   {
    "duration": 28,
    "start_time": "2022-11-01T18:45:28.149Z"
   },
   {
    "duration": 31,
    "start_time": "2022-11-01T18:45:28.179Z"
   },
   {
    "duration": 320,
    "start_time": "2022-11-01T18:45:28.212Z"
   },
   {
    "duration": 5,
    "start_time": "2022-11-01T18:45:28.534Z"
   },
   {
    "duration": 7,
    "start_time": "2022-11-01T18:45:28.541Z"
   },
   {
    "duration": 28,
    "start_time": "2022-11-01T18:45:28.549Z"
   },
   {
    "duration": 171,
    "start_time": "2022-11-01T18:45:28.579Z"
   },
   {
    "duration": 9,
    "start_time": "2022-11-01T18:45:28.752Z"
   },
   {
    "duration": 32,
    "start_time": "2022-11-01T18:45:28.763Z"
   },
   {
    "duration": 9,
    "start_time": "2022-11-01T18:45:28.797Z"
   },
   {
    "duration": 19,
    "start_time": "2022-11-01T18:45:28.808Z"
   },
   {
    "duration": 198,
    "start_time": "2022-11-01T18:45:28.828Z"
   },
   {
    "duration": 175,
    "start_time": "2022-11-01T18:45:29.027Z"
   },
   {
    "duration": 13,
    "start_time": "2022-11-01T18:45:29.204Z"
   },
   {
    "duration": 183,
    "start_time": "2022-11-01T18:45:29.219Z"
   },
   {
    "duration": 6,
    "start_time": "2022-11-01T18:45:29.404Z"
   },
   {
    "duration": 221,
    "start_time": "2022-11-01T18:45:29.411Z"
   },
   {
    "duration": 3,
    "start_time": "2022-11-01T18:45:29.634Z"
   },
   {
    "duration": 18,
    "start_time": "2022-11-01T18:45:29.639Z"
   },
   {
    "duration": 8,
    "start_time": "2022-11-01T18:45:29.661Z"
   },
   {
    "duration": 145,
    "start_time": "2022-11-01T18:45:29.671Z"
   },
   {
    "duration": 7,
    "start_time": "2022-11-01T18:45:29.818Z"
   },
   {
    "duration": 4,
    "start_time": "2022-11-01T18:45:29.826Z"
   },
   {
    "duration": 7,
    "start_time": "2022-11-01T18:45:29.832Z"
   },
   {
    "duration": 13,
    "start_time": "2022-11-01T18:45:29.840Z"
   },
   {
    "duration": 23,
    "start_time": "2022-11-01T18:45:29.855Z"
   },
   {
    "duration": 5,
    "start_time": "2022-11-01T18:45:29.879Z"
   },
   {
    "duration": 368,
    "start_time": "2022-11-01T18:45:29.886Z"
   },
   {
    "duration": 6,
    "start_time": "2022-11-01T18:45:30.256Z"
   },
   {
    "duration": 41,
    "start_time": "2022-11-01T18:45:30.263Z"
   },
   {
    "duration": 193,
    "start_time": "2022-11-01T18:45:30.305Z"
   },
   {
    "duration": 186,
    "start_time": "2022-11-01T18:45:30.500Z"
   },
   {
    "duration": 191,
    "start_time": "2022-11-01T18:45:30.688Z"
   },
   {
    "duration": 208,
    "start_time": "2022-11-01T18:45:30.881Z"
   },
   {
    "duration": 8,
    "start_time": "2022-11-01T18:45:31.090Z"
   },
   {
    "duration": 141,
    "start_time": "2022-11-01T18:45:31.099Z"
   },
   {
    "duration": 155,
    "start_time": "2022-11-01T18:45:31.242Z"
   },
   {
    "duration": 146,
    "start_time": "2022-11-01T18:45:31.399Z"
   },
   {
    "duration": 108,
    "start_time": "2022-11-01T18:45:31.546Z"
   },
   {
    "duration": 159,
    "start_time": "2022-11-01T18:45:31.655Z"
   },
   {
    "duration": 265,
    "start_time": "2022-11-01T18:45:31.816Z"
   },
   {
    "duration": 156,
    "start_time": "2022-11-01T18:45:32.083Z"
   },
   {
    "duration": 164,
    "start_time": "2022-11-01T18:45:32.241Z"
   },
   {
    "duration": 142,
    "start_time": "2022-11-01T18:45:32.407Z"
   },
   {
    "duration": 136,
    "start_time": "2022-11-01T18:45:32.551Z"
   },
   {
    "duration": 191,
    "start_time": "2022-11-01T18:45:32.688Z"
   },
   {
    "duration": 342,
    "start_time": "2022-11-01T18:45:32.881Z"
   },
   {
    "duration": 310,
    "start_time": "2022-11-01T18:45:33.225Z"
   },
   {
    "duration": 306,
    "start_time": "2022-11-01T18:45:33.536Z"
   },
   {
    "duration": 281,
    "start_time": "2022-11-01T18:45:33.844Z"
   },
   {
    "duration": 130,
    "start_time": "2022-11-01T18:45:34.127Z"
   },
   {
    "duration": 525,
    "start_time": "2022-11-01T18:45:34.258Z"
   },
   {
    "duration": 5,
    "start_time": "2022-11-01T18:45:34.784Z"
   },
   {
    "duration": 6,
    "start_time": "2022-11-01T18:45:34.791Z"
   },
   {
    "duration": 8,
    "start_time": "2022-11-01T18:45:34.799Z"
   },
   {
    "duration": 24,
    "start_time": "2022-11-01T18:45:34.809Z"
   },
   {
    "duration": 193,
    "start_time": "2022-11-01T18:45:34.835Z"
   },
   {
    "duration": 14,
    "start_time": "2022-11-01T18:47:01.241Z"
   },
   {
    "duration": 77,
    "start_time": "2022-11-01T18:47:06.683Z"
   },
   {
    "duration": 12,
    "start_time": "2022-11-01T18:47:23.231Z"
   },
   {
    "duration": 101,
    "start_time": "2022-11-01T18:47:27.781Z"
   }
  ],
  "kernelspec": {
   "display_name": "Python 3 (ipykernel)",
   "language": "python",
   "name": "python3"
  },
  "language_info": {
   "codemirror_mode": {
    "name": "ipython",
    "version": 3
   },
   "file_extension": ".py",
   "mimetype": "text/x-python",
   "name": "python",
   "nbconvert_exporter": "python",
   "pygments_lexer": "ipython3",
   "version": "3.9.13"
  },
  "toc": {
   "base_numbering": 1,
   "nav_menu": {},
   "number_sections": true,
   "sideBar": true,
   "skip_h1_title": true,
   "title_cell": "Table of Contents",
   "title_sidebar": "Contents",
   "toc_cell": false,
   "toc_position": {},
   "toc_section_display": true,
   "toc_window_display": false
  }
 },
 "nbformat": 4,
 "nbformat_minor": 2
}
