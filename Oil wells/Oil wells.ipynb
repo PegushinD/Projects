{
 "cells": [
  {
   "cell_type": "markdown",
   "metadata": {},
   "source": [
    "# Выбор локации для скважины"
   ]
  },
  {
   "cell_type": "markdown",
   "metadata": {},
   "source": [
    "Допустим, вы работаете в добывающей компании «ГлавРосГосНефть». Нужно решить, где бурить новую скважину.\n",
    "\n",
    "Вам предоставлены пробы нефти в трёх регионах: в каждом 10 000 месторождений, где измерили качество нефти и объём её запасов. Постройте модель машинного обучения, которая поможет определить регион, где добыча принесёт наибольшую прибыль. Проанализируйте возможную прибыль и риски техникой *Bootstrap.*\n",
    "\n",
    "Шаги для выбора локации:\n",
    "\n",
    "- В избранном регионе ищут месторождения, для каждого определяют значения признаков;\n",
    "- Строят модель и оценивают объём запасов;\n",
    "- Выбирают месторождения с самым высокими оценками значений. Количество месторождений зависит от бюджета компании и стоимости разработки одной скважины;\n",
    "- Прибыль равна суммарной прибыли отобранных месторождений."
   ]
  },
  {
   "cell_type": "markdown",
   "metadata": {},
   "source": [
    "  **Чтобы выполнить поставленную задачу нам необходимо будет проделать несколько подготовительный действий и непосредственно проанализировать возможную прибыль в каждом из регонов. Дествовать будем следующим образом:**\n",
    "- импортируем необходмые для работы библиотеки\n",
    "- загрузим файлы с данными и изучим их размер, типы данных, наличие пропусков и коррелирующих значений\n",
    "- выделим из датасетов признаки по которым модель будет обучаться и целевые показатели, котрые модель будет предсказывать\n",
    "- разобъем данные на обучающуюю и валидационную выборки для обучения модели \n",
    "- проведем масштабирование признаков для лучшего обучения модели\n",
    "- обучим модель линейной регрессии и предскажем объем сырья на каждой их скважин\n",
    "- на основании предсказаний получим средний запас сырья в каждом из регионов и оценим работу модели с помощью метрики RMSE, которая покажет насколько модель ошибается относительно целевых показателей\n",
    "- расчитаем достаточный объем сырья для безубыточной разработки сквадин и сравним его со средними запасми сырья в каждом из регионов\n",
    "- выберем 200 скважин с самыми высокими предсказанными значениями, найдем общую сумму целевых показателей по этим скважинам и расчитаем прибыль для полученного обхема сырья\n",
    "- с помощью техники Bootstrap найдем среднюю прибыль 95% доверительный интервал и процент риска убытков\n",
    "- на основании полученных данных предложим регион для разработки с наименьшим риском убытков"
   ]
  },
  {
   "cell_type": "markdown",
   "metadata": {},
   "source": [
    "## Загрузка и подготовка данных"
   ]
  },
  {
   "cell_type": "code",
   "execution_count": 2,
   "metadata": {},
   "outputs": [],
   "source": [
    "# импортируем беблиотеки и необходимые инструменты\n",
    "import pandas as pd\n",
    "import numpy as np\n",
    "from sklearn.model_selection import train_test_split\n",
    "from sklearn.preprocessing import StandardScaler \n",
    "from sklearn.linear_model import LinearRegression\n",
    "from sklearn.metrics import mean_squared_error\n",
    "from numpy.random import RandomState"
   ]
  },
  {
   "cell_type": "code",
   "execution_count": 3,
   "metadata": {},
   "outputs": [],
   "source": [
    "# откроем файлы с данными и изучим их\n",
    "region_0 = pd.read_csv('/datasets/geo_data_0.csv')\n",
    "region_1 = pd.read_csv('/datasets/geo_data_1.csv')\n",
    "region_2 = pd.read_csv('/datasets/geo_data_2.csv')"
   ]
  },
  {
   "cell_type": "code",
   "execution_count": 4,
   "metadata": {},
   "outputs": [
    {
     "data": {
      "text/html": [
       "<div>\n",
       "<style scoped>\n",
       "    .dataframe tbody tr th:only-of-type {\n",
       "        vertical-align: middle;\n",
       "    }\n",
       "\n",
       "    .dataframe tbody tr th {\n",
       "        vertical-align: top;\n",
       "    }\n",
       "\n",
       "    .dataframe thead th {\n",
       "        text-align: right;\n",
       "    }\n",
       "</style>\n",
       "<table border=\"1\" class=\"dataframe\">\n",
       "  <thead>\n",
       "    <tr style=\"text-align: right;\">\n",
       "      <th></th>\n",
       "      <th>id</th>\n",
       "      <th>f0</th>\n",
       "      <th>f1</th>\n",
       "      <th>f2</th>\n",
       "      <th>product</th>\n",
       "    </tr>\n",
       "  </thead>\n",
       "  <tbody>\n",
       "    <tr>\n",
       "      <th>0</th>\n",
       "      <td>txEyH</td>\n",
       "      <td>0.705745</td>\n",
       "      <td>-0.497823</td>\n",
       "      <td>1.221170</td>\n",
       "      <td>105.280062</td>\n",
       "    </tr>\n",
       "    <tr>\n",
       "      <th>1</th>\n",
       "      <td>2acmU</td>\n",
       "      <td>1.334711</td>\n",
       "      <td>-0.340164</td>\n",
       "      <td>4.365080</td>\n",
       "      <td>73.037750</td>\n",
       "    </tr>\n",
       "    <tr>\n",
       "      <th>2</th>\n",
       "      <td>409Wp</td>\n",
       "      <td>1.022732</td>\n",
       "      <td>0.151990</td>\n",
       "      <td>1.419926</td>\n",
       "      <td>85.265647</td>\n",
       "    </tr>\n",
       "    <tr>\n",
       "      <th>3</th>\n",
       "      <td>iJLyR</td>\n",
       "      <td>-0.032172</td>\n",
       "      <td>0.139033</td>\n",
       "      <td>2.978566</td>\n",
       "      <td>168.620776</td>\n",
       "    </tr>\n",
       "    <tr>\n",
       "      <th>4</th>\n",
       "      <td>Xdl7t</td>\n",
       "      <td>1.988431</td>\n",
       "      <td>0.155413</td>\n",
       "      <td>4.751769</td>\n",
       "      <td>154.036647</td>\n",
       "    </tr>\n",
       "  </tbody>\n",
       "</table>\n",
       "</div>"
      ],
      "text/plain": [
       "      id        f0        f1        f2     product\n",
       "0  txEyH  0.705745 -0.497823  1.221170  105.280062\n",
       "1  2acmU  1.334711 -0.340164  4.365080   73.037750\n",
       "2  409Wp  1.022732  0.151990  1.419926   85.265647\n",
       "3  iJLyR -0.032172  0.139033  2.978566  168.620776\n",
       "4  Xdl7t  1.988431  0.155413  4.751769  154.036647"
      ]
     },
     "execution_count": 4,
     "metadata": {},
     "output_type": "execute_result"
    }
   ],
   "source": [
    "region_0.head()"
   ]
  },
  {
   "cell_type": "code",
   "execution_count": 5,
   "metadata": {},
   "outputs": [
    {
     "name": "stdout",
     "output_type": "stream",
     "text": [
      "<class 'pandas.core.frame.DataFrame'>\n",
      "RangeIndex: 100000 entries, 0 to 99999\n",
      "Data columns (total 5 columns):\n",
      " #   Column   Non-Null Count   Dtype  \n",
      "---  ------   --------------   -----  \n",
      " 0   id       100000 non-null  object \n",
      " 1   f0       100000 non-null  float64\n",
      " 2   f1       100000 non-null  float64\n",
      " 3   f2       100000 non-null  float64\n",
      " 4   product  100000 non-null  float64\n",
      "dtypes: float64(4), object(1)\n",
      "memory usage: 3.8+ MB\n"
     ]
    }
   ],
   "source": [
    "region_0.info()"
   ]
  },
  {
   "cell_type": "code",
   "execution_count": 6,
   "metadata": {},
   "outputs": [
    {
     "data": {
      "text/html": [
       "<div>\n",
       "<style scoped>\n",
       "    .dataframe tbody tr th:only-of-type {\n",
       "        vertical-align: middle;\n",
       "    }\n",
       "\n",
       "    .dataframe tbody tr th {\n",
       "        vertical-align: top;\n",
       "    }\n",
       "\n",
       "    .dataframe thead th {\n",
       "        text-align: right;\n",
       "    }\n",
       "</style>\n",
       "<table border=\"1\" class=\"dataframe\">\n",
       "  <thead>\n",
       "    <tr style=\"text-align: right;\">\n",
       "      <th></th>\n",
       "      <th>f0</th>\n",
       "      <th>f1</th>\n",
       "      <th>f2</th>\n",
       "      <th>product</th>\n",
       "    </tr>\n",
       "  </thead>\n",
       "  <tbody>\n",
       "    <tr>\n",
       "      <th>f0</th>\n",
       "      <td>1.000000</td>\n",
       "      <td>-0.440723</td>\n",
       "      <td>-0.003153</td>\n",
       "      <td>0.143536</td>\n",
       "    </tr>\n",
       "    <tr>\n",
       "      <th>f1</th>\n",
       "      <td>-0.440723</td>\n",
       "      <td>1.000000</td>\n",
       "      <td>0.001724</td>\n",
       "      <td>-0.192356</td>\n",
       "    </tr>\n",
       "    <tr>\n",
       "      <th>f2</th>\n",
       "      <td>-0.003153</td>\n",
       "      <td>0.001724</td>\n",
       "      <td>1.000000</td>\n",
       "      <td>0.483663</td>\n",
       "    </tr>\n",
       "    <tr>\n",
       "      <th>product</th>\n",
       "      <td>0.143536</td>\n",
       "      <td>-0.192356</td>\n",
       "      <td>0.483663</td>\n",
       "      <td>1.000000</td>\n",
       "    </tr>\n",
       "  </tbody>\n",
       "</table>\n",
       "</div>"
      ],
      "text/plain": [
       "               f0        f1        f2   product\n",
       "f0       1.000000 -0.440723 -0.003153  0.143536\n",
       "f1      -0.440723  1.000000  0.001724 -0.192356\n",
       "f2      -0.003153  0.001724  1.000000  0.483663\n",
       "product  0.143536 -0.192356  0.483663  1.000000"
      ]
     },
     "execution_count": 6,
     "metadata": {},
     "output_type": "execute_result"
    }
   ],
   "source": [
    "region_0.corr()"
   ]
  },
  {
   "cell_type": "code",
   "execution_count": 7,
   "metadata": {},
   "outputs": [
    {
     "name": "stdout",
     "output_type": "stream",
     "text": [
      "<class 'pandas.core.frame.DataFrame'>\n",
      "RangeIndex: 100000 entries, 0 to 99999\n",
      "Data columns (total 5 columns):\n",
      " #   Column   Non-Null Count   Dtype  \n",
      "---  ------   --------------   -----  \n",
      " 0   id       100000 non-null  object \n",
      " 1   f0       100000 non-null  float64\n",
      " 2   f1       100000 non-null  float64\n",
      " 3   f2       100000 non-null  float64\n",
      " 4   product  100000 non-null  float64\n",
      "dtypes: float64(4), object(1)\n",
      "memory usage: 3.8+ MB\n"
     ]
    }
   ],
   "source": [
    "region_1.info()"
   ]
  },
  {
   "cell_type": "code",
   "execution_count": 8,
   "metadata": {},
   "outputs": [
    {
     "data": {
      "text/html": [
       "<div>\n",
       "<style scoped>\n",
       "    .dataframe tbody tr th:only-of-type {\n",
       "        vertical-align: middle;\n",
       "    }\n",
       "\n",
       "    .dataframe tbody tr th {\n",
       "        vertical-align: top;\n",
       "    }\n",
       "\n",
       "    .dataframe thead th {\n",
       "        text-align: right;\n",
       "    }\n",
       "</style>\n",
       "<table border=\"1\" class=\"dataframe\">\n",
       "  <thead>\n",
       "    <tr style=\"text-align: right;\">\n",
       "      <th></th>\n",
       "      <th>f0</th>\n",
       "      <th>f1</th>\n",
       "      <th>f2</th>\n",
       "      <th>product</th>\n",
       "    </tr>\n",
       "  </thead>\n",
       "  <tbody>\n",
       "    <tr>\n",
       "      <th>f0</th>\n",
       "      <td>1.000000</td>\n",
       "      <td>0.182287</td>\n",
       "      <td>-0.001777</td>\n",
       "      <td>-0.030491</td>\n",
       "    </tr>\n",
       "    <tr>\n",
       "      <th>f1</th>\n",
       "      <td>0.182287</td>\n",
       "      <td>1.000000</td>\n",
       "      <td>-0.002595</td>\n",
       "      <td>-0.010155</td>\n",
       "    </tr>\n",
       "    <tr>\n",
       "      <th>f2</th>\n",
       "      <td>-0.001777</td>\n",
       "      <td>-0.002595</td>\n",
       "      <td>1.000000</td>\n",
       "      <td>0.999397</td>\n",
       "    </tr>\n",
       "    <tr>\n",
       "      <th>product</th>\n",
       "      <td>-0.030491</td>\n",
       "      <td>-0.010155</td>\n",
       "      <td>0.999397</td>\n",
       "      <td>1.000000</td>\n",
       "    </tr>\n",
       "  </tbody>\n",
       "</table>\n",
       "</div>"
      ],
      "text/plain": [
       "               f0        f1        f2   product\n",
       "f0       1.000000  0.182287 -0.001777 -0.030491\n",
       "f1       0.182287  1.000000 -0.002595 -0.010155\n",
       "f2      -0.001777 -0.002595  1.000000  0.999397\n",
       "product -0.030491 -0.010155  0.999397  1.000000"
      ]
     },
     "execution_count": 8,
     "metadata": {},
     "output_type": "execute_result"
    }
   ],
   "source": [
    "region_1.corr()"
   ]
  },
  {
   "cell_type": "markdown",
   "metadata": {},
   "source": [
    "Во втором исследуемом регионе корреляция Пирсона между признаком f2 и целевым показателем практически еденица, обученная нами модель будет приедсказывать целевые показатели в этом регионе точнее всего\n",
    "\n"
   ]
  },
  {
   "cell_type": "code",
   "execution_count": 9,
   "metadata": {},
   "outputs": [
    {
     "name": "stdout",
     "output_type": "stream",
     "text": [
      "<class 'pandas.core.frame.DataFrame'>\n",
      "RangeIndex: 100000 entries, 0 to 99999\n",
      "Data columns (total 5 columns):\n",
      " #   Column   Non-Null Count   Dtype  \n",
      "---  ------   --------------   -----  \n",
      " 0   id       100000 non-null  object \n",
      " 1   f0       100000 non-null  float64\n",
      " 2   f1       100000 non-null  float64\n",
      " 3   f2       100000 non-null  float64\n",
      " 4   product  100000 non-null  float64\n",
      "dtypes: float64(4), object(1)\n",
      "memory usage: 3.8+ MB\n"
     ]
    }
   ],
   "source": [
    "region_2.info()"
   ]
  },
  {
   "cell_type": "code",
   "execution_count": 10,
   "metadata": {},
   "outputs": [
    {
     "data": {
      "text/html": [
       "<div>\n",
       "<style scoped>\n",
       "    .dataframe tbody tr th:only-of-type {\n",
       "        vertical-align: middle;\n",
       "    }\n",
       "\n",
       "    .dataframe tbody tr th {\n",
       "        vertical-align: top;\n",
       "    }\n",
       "\n",
       "    .dataframe thead th {\n",
       "        text-align: right;\n",
       "    }\n",
       "</style>\n",
       "<table border=\"1\" class=\"dataframe\">\n",
       "  <thead>\n",
       "    <tr style=\"text-align: right;\">\n",
       "      <th></th>\n",
       "      <th>f0</th>\n",
       "      <th>f1</th>\n",
       "      <th>f2</th>\n",
       "      <th>product</th>\n",
       "    </tr>\n",
       "  </thead>\n",
       "  <tbody>\n",
       "    <tr>\n",
       "      <th>f0</th>\n",
       "      <td>1.000000</td>\n",
       "      <td>0.000528</td>\n",
       "      <td>-0.000448</td>\n",
       "      <td>-0.001987</td>\n",
       "    </tr>\n",
       "    <tr>\n",
       "      <th>f1</th>\n",
       "      <td>0.000528</td>\n",
       "      <td>1.000000</td>\n",
       "      <td>0.000779</td>\n",
       "      <td>-0.001012</td>\n",
       "    </tr>\n",
       "    <tr>\n",
       "      <th>f2</th>\n",
       "      <td>-0.000448</td>\n",
       "      <td>0.000779</td>\n",
       "      <td>1.000000</td>\n",
       "      <td>0.445871</td>\n",
       "    </tr>\n",
       "    <tr>\n",
       "      <th>product</th>\n",
       "      <td>-0.001987</td>\n",
       "      <td>-0.001012</td>\n",
       "      <td>0.445871</td>\n",
       "      <td>1.000000</td>\n",
       "    </tr>\n",
       "  </tbody>\n",
       "</table>\n",
       "</div>"
      ],
      "text/plain": [
       "               f0        f1        f2   product\n",
       "f0       1.000000  0.000528 -0.000448 -0.001987\n",
       "f1       0.000528  1.000000  0.000779 -0.001012\n",
       "f2      -0.000448  0.000779  1.000000  0.445871\n",
       "product -0.001987 -0.001012  0.445871  1.000000"
      ]
     },
     "execution_count": 10,
     "metadata": {},
     "output_type": "execute_result"
    }
   ],
   "source": [
    "region_2.corr()"
   ]
  },
  {
   "cell_type": "markdown",
   "metadata": {},
   "source": [
    "*В каждом из прдоставленных нам датасетов содержатся по 10 000 строк с данными все столбцы кроме id содержат числовые значения, именно то что нужно для обучения нашей можели линейной регрессии.*\n",
    "\n",
    "*Пропуски в данных отстутсвкют, датасеты одинкавы по размерам, сильнокоррелирующих признаков в данных нет, единственно в данных по региону 1 есть признак от значения котрого напрямую зависит целевой показатель количества сырья*"
   ]
  },
  {
   "cell_type": "markdown",
   "metadata": {},
   "source": [
    "## Обучение и проверка модели"
   ]
  },
  {
   "cell_type": "code",
   "execution_count": 11,
   "metadata": {},
   "outputs": [],
   "source": [
    "# разобъем данные на признаки и целевой показатель для всех регионов\n",
    "features_0 = region_0.drop(['product', 'id'], axis = 1)\n",
    "target_0 = region_0['product']"
   ]
  },
  {
   "cell_type": "code",
   "execution_count": 12,
   "metadata": {},
   "outputs": [],
   "source": [
    "features_1 = region_1.drop(['product', 'id'], axis = 1)\n",
    "target_1 = region_1['product']"
   ]
  },
  {
   "cell_type": "code",
   "execution_count": 13,
   "metadata": {},
   "outputs": [],
   "source": [
    "features_2 = region_2.drop(['product', 'id'], axis = 1)\n",
    "target_2 = region_2['product']"
   ]
  },
  {
   "cell_type": "code",
   "execution_count": 15,
   "metadata": {},
   "outputs": [],
   "source": [
    "# разобъем полученные датасеты на обучающую и валидационные выборки\n",
    "features_train_0, features_valid_0, target_train_0, target_valid_0 = train_test_split(features_0, target_0, \n",
    "                                                                                      test_size = 0.25, random_state = 12345)"
   ]
  },
  {
   "cell_type": "code",
   "execution_count": 16,
   "metadata": {},
   "outputs": [],
   "source": [
    "features_train_1, features_valid_1, target_train_1, target_valid_1 = train_test_split(features_1, target_1, \n",
    "                                                                                      test_size = 0.25, random_state = 12345)"
   ]
  },
  {
   "cell_type": "code",
   "execution_count": 17,
   "metadata": {},
   "outputs": [],
   "source": [
    "features_train_2, features_valid_2, target_train_2, target_valid_2 = train_test_split(features_2, target_2, \n",
    "                                                                                      test_size = 0.25, random_state = 12345)"
   ]
  },
  {
   "cell_type": "code",
   "execution_count": 23,
   "metadata": {},
   "outputs": [],
   "source": [
    "# масштабируем признаки\n",
    "scaler = StandardScaler()\n",
    "scaler.fit(features_train_0) \n",
    "features_train_0 = scaler.transform(features_train_0)\n",
    "features_valid_0 = scaler.transform(features_valid_0)\n",
    "\n",
    "features_train_1 = scaler.transform(features_train_1)\n",
    "features_valid_1 = scaler.transform(features_valid_1)\n",
    "\n",
    "features_train_2 = scaler.transform(features_train_2)\n",
    "features_valid_2 = scaler.transform(features_valid_2)"
   ]
  },
  {
   "cell_type": "code",
   "execution_count": 25,
   "metadata": {},
   "outputs": [
    {
     "name": "stdout",
     "output_type": "stream",
     "text": [
      "RMSE региона 0: 37.5794217150813\n",
      "Средний запас предсказанного сырья региона 0: 92.59256778438035\n"
     ]
    }
   ],
   "source": [
    "# обучим модель линейной регрессии, именно она нам подходит потому что остальные недостаточно предсказуемые\n",
    "model = LinearRegression()\n",
    "model.fit(features_train_0, target_train_0)\n",
    "predicted_valid_0 = model.predict(features_valid_0)\n",
    "mse = mean_squared_error(target_valid_0, predicted_valid_0)\n",
    "mean_predicted_valid_0 = predicted_valid_0.sum()/len(predicted_valid_0)\n",
    "print('RMSE региона 0:', mse**0.5)\n",
    "print('Средний запас предсказанного сырья региона 0:', mean_predicted_valid_0 )"
   ]
  },
  {
   "cell_type": "code",
   "execution_count": 28,
   "metadata": {},
   "outputs": [
    {
     "name": "stdout",
     "output_type": "stream",
     "text": [
      "RMSE региона 1: 0.893099286775617\n",
      "Средний запас предсказанного сырья региона 1: 68.728546895446\n"
     ]
    }
   ],
   "source": [
    "model.fit(features_train_1, target_train_1)\n",
    "predicted_valid_1 = model.predict(features_valid_1)\n",
    "mse = mean_squared_error(target_valid_1, predicted_valid_1)\n",
    "mean_predicted_valid_1 = predicted_valid_1.sum()/len(predicted_valid_1)\n",
    "print('RMSE региона 1:', mse**0.5)\n",
    "print('Средний запас предсказанного сырья региона 1:', mean_predicted_valid_1 )"
   ]
  },
  {
   "cell_type": "code",
   "execution_count": 31,
   "metadata": {},
   "outputs": [
    {
     "name": "stdout",
     "output_type": "stream",
     "text": [
      "RMSE региона 2: 40.02970873393434\n",
      "Средний запас предсказанного сырья региона 2: 94.96504596800489\n"
     ]
    }
   ],
   "source": [
    "model.fit(features_train_2, target_train_2)\n",
    "predicted_valid_2 = model.predict(features_valid_2)\n",
    "mse = mean_squared_error(target_valid_2, predicted_valid_2)\n",
    "mean_predicted_valid_2 = predicted_valid_2.sum()/len(predicted_valid_2)\n",
    "print('RMSE региона 2:', mse**0.5)\n",
    "print('Средний запас предсказанного сырья региона 2:', mean_predicted_valid_2 )"
   ]
  },
  {
   "cell_type": "markdown",
   "metadata": {},
   "source": [
    "*Самый высокий запас предсказаного запаса сырья в регионе 2, в регионе 0 самый низкий показатель метрики RMSE то есть модель по данному региону наиболе точно предсказала запасы сырья. В регионе 1 и самый маленький предсказанный запась и самая низкая точность предсказания, несмотря на то что именно в этих данных один из признаков сильно скоррелиорван с целевым показателем*"
   ]
  },
  {
   "cell_type": "markdown",
   "metadata": {},
   "source": [
    "## Подготовка к расчету прибыли"
   ]
  },
  {
   "cell_type": "code",
   "execution_count": 32,
   "metadata": {},
   "outputs": [],
   "source": [
    "#Все ключевые значения для расчётов сохраним в отдельных переменных\n",
    "WELL = 500 # количество исследуемых скважин\n",
    "BEST_WELL = 200 # количество скважин выбранных по наилучшим предсказанным показателям\n",
    "BUDGET = 10000000000 # бюджет на разработку 200 скважин в одном регионе\n",
    "INCOME_PRODUCT = 450000 # доход с еденицы продукта(1 тыс баррелей)\n"
   ]
  },
  {
   "cell_type": "code",
   "execution_count": 33,
   "metadata": {},
   "outputs": [
    {
     "name": "stdout",
     "output_type": "stream",
     "text": [
      "Доставточный объем продукта для безубыточной разработки: 111.11111111111111\n"
     ]
    }
   ],
   "source": [
    "# Найдем достаточный объем продукта для безубыточной разработки в регионах\n",
    "sufficient_volume = BUDGET / BEST_WELL / INCOME_PRODUCT\n",
    "print('Доставточный объем продукта для безубыточной разработки:', sufficient_volume)"
   ]
  },
  {
   "cell_type": "code",
   "execution_count": 34,
   "metadata": {
    "scrolled": true
   },
   "outputs": [
    {
     "name": "stdout",
     "output_type": "stream",
     "text": [
      "Средний запас сырья в регионе недостаточен для безубыточной разработки\n",
      "Средний запас сырья в регионе недостаточен для безубыточной разработки\n",
      "Средний запас сырья в регионе недостаточен для безубыточной разработки\n"
     ]
    }
   ],
   "source": [
    "list_pred = [mean_predicted_valid_0, mean_predicted_valid_1, mean_predicted_valid_2]\n",
    "for i in list_pred:\n",
    "    if i > sufficient_volume:\n",
    "        print('Средний запас сырья в регионе достаточен для безубыточной разработки')\n",
    "    else:\n",
    "        print(f'Средний запас сырья в регионе недостаточен для безубыточной разработки')"
   ]
  },
  {
   "cell_type": "markdown",
   "metadata": {},
   "source": [
    "*если рассматривать средний запас сырья по всем изучаемым точкам то во всех регионах этот показатель меньше чем минимально необходимый для безубыточной разработки, для более детального изучения отсеим точки с минимальным запасом сырья и изучим тольк 200 самых лучших скважин*"
   ]
  },
  {
   "cell_type": "markdown",
   "metadata": {},
   "source": [
    "## Подсчет прибыли"
   ]
  },
  {
   "cell_type": "code",
   "execution_count": 36,
   "metadata": {},
   "outputs": [],
   "source": [
    "# приведем к единому показателю индексы целевого показателя и полученных предсказаний?\n",
    "# предсказания приведем к типу Series\n",
    "target_valid_0 = target_valid_0.reset_index(drop=True)\n",
    "predicted_valid_0 = pd.Series(predicted_valid_0)\n",
    "target_valid_1 = target_valid_1.reset_index(drop=True)\n",
    "predicted_valid_1 = pd.Series(predicted_valid_1)\n",
    "target_valid_2 = target_valid_2.reset_index(drop=True)\n",
    "predicted_valid_2 = pd.Series(predicted_valid_2)"
   ]
  },
  {
   "cell_type": "code",
   "execution_count": 37,
   "metadata": {},
   "outputs": [],
   "source": [
    "#напишем функцию которая выберет 200 скважин с макимальными предсказаниям и подсчитает прибыль по целевому показателю\n",
    "def profit(target, predictions, BEST_WELL):\n",
    "    predictions_sorted = predictions.sort_values(ascending=False)\n",
    "    best_selected = target[predictions_sorted.index][:BEST_WELL]\n",
    "    income = best_selected.sum() * INCOME_PRODUCT - BUDGET\n",
    "    return income"
   ]
  },
  {
   "cell_type": "code",
   "execution_count": 40,
   "metadata": {},
   "outputs": [
    {
     "name": "stdout",
     "output_type": "stream",
     "text": [
      "Прибыль в регионе 0 составляет: 3.3208260431398506 млрд.р.\n",
      "Прибыль в регионе 1 составляет: 2.4150866966815108 млрд.р.\n",
      "Прибыль в регионе 2 составляет: 2.7103499635998327 млрд.р.\n"
     ]
    }
   ],
   "source": [
    "#подсчитаем прибыль в каждом регионе\n",
    "print('Прибыль в регионе 0 составляет:', profit(target_valid_0, predicted_valid_0, BEST_WELL)/ 10**9, 'млрд.р.')\n",
    "print('Прибыль в регионе 1 составляет:', profit(target_valid_1, predicted_valid_1, BEST_WELL)/ 10**9, 'млрд.р.')\n",
    "print('Прибыль в регионе 2 составляет:', profit(target_valid_2, predicted_valid_2, BEST_WELL)/ 10**9, 'млрд.р.')"
   ]
  },
  {
   "cell_type": "markdown",
   "metadata": {},
   "source": [
    "*После исследования 200 лучших скважин в каждом из регионов на основе предсказанных данных, получили что наибольшая возможная прибыль будет получена в регионе 0, самая низкая брибыль в регионе 1, но помимо предсказанной возможной прибыли нам необходимо выяснить насколько велик риск убытков*"
   ]
  },
  {
   "cell_type": "markdown",
   "metadata": {},
   "source": [
    "## Риски и прибыль для каждого региона"
   ]
  },
  {
   "cell_type": "markdown",
   "metadata": {},
   "source": [
    "###  Применим технику Bootstrap с 1000 выборок."
   ]
  },
  {
   "cell_type": "code",
   "execution_count": 42,
   "metadata": {},
   "outputs": [],
   "source": [
    "state = np.random.RandomState(12345)"
   ]
  },
  {
   "cell_type": "code",
   "execution_count": 46,
   "metadata": {},
   "outputs": [],
   "source": [
    "# Напишем фунцию которая расчитает нам среднюю прибыль, найдет доверительный интервал и покажет размер риска убытков\n",
    "def bootstrap(target, predictions):\n",
    "    values = []\n",
    "    for i in range(1000):\n",
    "        target_subsample = target.sample(n = 500, replace=True, random_state=state)\n",
    "        predictions_subsumple = predictions[target_subsample.index]\n",
    "        values.append(profit(target_subsample, predictions_subsumple, BEST_WELL))\n",
    "        \n",
    "    values = pd.Series(values)\n",
    "    values_mean = int(values.mean())\n",
    "    lower = int(values.quantile(q=0.025))\n",
    "    upper = int(values.quantile(q=0.975))\n",
    "    risk = int(len(values[values < 0]) / len(values) * 100)\n",
    "    return values_mean, lower, upper, risk"
   ]
  },
  {
   "cell_type": "markdown",
   "metadata": {},
   "source": [
    "### Посчитаем для каждого из регионов среднюю прибыль, 95-й доверительный интервал и риск убытков\n"
   ]
  },
  {
   "cell_type": "code",
   "execution_count": 47,
   "metadata": {},
   "outputs": [
    {
     "name": "stdout",
     "output_type": "stream",
     "text": [
      "Средняя прибыль 200 лучших месторождений региона 0: 421563306\n",
      "Нижняя граница доверительного интервала региона_0: -119499349\n",
      "Верхняя граница доверительного интервала региона 0: 947039988\n",
      "Риск убытков региона 0: 6 %\n"
     ]
    }
   ],
   "source": [
    "values_mean_region_0, lower_region_0, upper_Region_0, risk__region_0  = (\n",
    "    bootstrap(target_valid_0, predicted_valid_0)\n",
    ")\n",
    "print(f'Средняя прибыль 200 лучших месторождений региона 0: {values_mean_region_0}')\n",
    "print(f'Нижняя граница доверительного интервала региона_0: {lower_region_0}')\n",
    "print(f'Верхняя граница доверительного интервала региона 0: {upper_Region_0}')\n",
    "print(f'Риск убытков региона 0: {risk__region_0} %' )\n"
   ]
  },
  {
   "cell_type": "code",
   "execution_count": 52,
   "metadata": {},
   "outputs": [
    {
     "name": "stdout",
     "output_type": "stream",
     "text": [
      "Средняя прибыль 200 лучших месторождений региона 1: 500458025\n",
      "Нижняя граница доверительного интервала региона_1: 90252863\n",
      "Верхняя граница доверительного интервала региона 1: 925784776\n",
      "Риск убытков региона 1: 1 %\n"
     ]
    }
   ],
   "source": [
    "values_mean_region_1, lower_region_1, upper_Region_1, risk__region_1  = (\n",
    "    bootstrap(target_valid_1, predicted_valid_1)\n",
    ")\n",
    "print(f'Средняя прибыль 200 лучших месторождений региона 1: {values_mean_region_1}')\n",
    "print(f'Нижняя граница доверительного интервала региона_1: {lower_region_1}')\n",
    "print(f'Верхняя граница доверительного интервала региона 1: {upper_Region_1}')\n",
    "print(f'Риск убытков региона 1: {risk__region_1} %' )"
   ]
  },
  {
   "cell_type": "code",
   "execution_count": 55,
   "metadata": {},
   "outputs": [
    {
     "name": "stdout",
     "output_type": "stream",
     "text": [
      "Средняя прибыль 200 лучших месторождений региона 2: 426072856\n",
      "Нижняя граница доверительного интервала региона_2: -142980564\n",
      "Верхняя граница доверительного интервала региона 2: 950219453\n",
      "Риск убытков региона 0: 7 %\n"
     ]
    }
   ],
   "source": [
    "values_mean_region_2, lower_region_2, upper_Region_2, risk__region_2  = (\n",
    "    bootstrap(target_valid_2, predicted_valid_2)\n",
    ")\n",
    "print(f'Средняя прибыль 200 лучших месторождений региона 2: {values_mean_region_2}')\n",
    "print(f'Нижняя граница доверительного интервала региона_2: {lower_region_2}')\n",
    "print(f'Верхняя граница доверительного интервала региона 2: {upper_Region_2}')\n",
    "print(f'Риск убытков региона 0: {risk__region_2} %' )"
   ]
  },
  {
   "cell_type": "markdown",
   "metadata": {},
   "source": [
    "***Мы провели исследование по определения самого перспективного региона для дальнейшей разработки, изуили исходные данные, обучили модель для предсказания количесвта сырья в каждой из скважин, сравнили предсказания с целевыми показателями, расчитали тьочку безубыточности разработки, отобрали 200 скважин в каждом из регионов с самыми высокими запасами сырья, расчитали их среднюю прогнозируемую прибыль а так же вычислили процент риска убытков.***\n",
    "\n",
    "***На основание всей проделанной выше работы, а так же условий которые были нам даны о том что риск убытков от разработки не должен превышать 2,5% мы пришли к выводу что сав=мым перспективным для разработки является регион 1 у него самый высокий показатель средней прибыли 200 самых лучших точек и риск аозникновения убытков от разработки всего одни процент.***\n"
   ]
  }
 ],
 "metadata": {
  "ExecuteTimeLog": [
   {
    "duration": 425,
    "start_time": "2023-01-09T03:52:38.945Z"
   },
   {
    "duration": 512,
    "start_time": "2023-01-09T03:53:21.017Z"
   },
   {
    "duration": 148,
    "start_time": "2023-01-09T03:53:39.527Z"
   },
   {
    "duration": 1251,
    "start_time": "2023-01-09T03:56:13.335Z"
   },
   {
    "duration": 65,
    "start_time": "2023-01-09T03:57:04.641Z"
   },
   {
    "duration": 14,
    "start_time": "2023-01-09T03:57:16.123Z"
   },
   {
    "duration": 13,
    "start_time": "2023-01-09T03:57:59.981Z"
   },
   {
    "duration": 14,
    "start_time": "2023-01-09T03:58:24.089Z"
   },
   {
    "duration": 9,
    "start_time": "2023-01-09T04:05:11.713Z"
   },
   {
    "duration": 1076,
    "start_time": "2023-01-10T03:31:54.891Z"
   },
   {
    "duration": 684,
    "start_time": "2023-01-10T03:31:55.969Z"
   },
   {
    "duration": 15,
    "start_time": "2023-01-10T03:31:56.655Z"
   },
   {
    "duration": 12,
    "start_time": "2023-01-10T03:31:56.671Z"
   },
   {
    "duration": 12,
    "start_time": "2023-01-10T03:31:56.685Z"
   },
   {
    "duration": 22,
    "start_time": "2023-01-10T03:31:56.699Z"
   },
   {
    "duration": 5,
    "start_time": "2023-01-10T03:31:56.723Z"
   },
   {
    "duration": 7,
    "start_time": "2023-01-10T03:32:50.780Z"
   },
   {
    "duration": 6,
    "start_time": "2023-01-10T03:33:28.451Z"
   },
   {
    "duration": 7,
    "start_time": "2023-01-10T03:33:46.272Z"
   },
   {
    "duration": 9,
    "start_time": "2023-01-10T03:33:49.146Z"
   },
   {
    "duration": 8,
    "start_time": "2023-01-10T03:33:49.479Z"
   },
   {
    "duration": 6,
    "start_time": "2023-01-10T03:33:50.031Z"
   },
   {
    "duration": 8,
    "start_time": "2023-01-10T03:37:26.081Z"
   },
   {
    "duration": 7,
    "start_time": "2023-01-10T03:40:29.187Z"
   },
   {
    "duration": 8,
    "start_time": "2023-01-10T03:41:30.819Z"
   },
   {
    "duration": 14,
    "start_time": "2023-01-10T03:42:02.840Z"
   },
   {
    "duration": 16,
    "start_time": "2023-01-10T03:42:33.607Z"
   },
   {
    "duration": 15,
    "start_time": "2023-01-10T03:43:41.866Z"
   },
   {
    "duration": 13,
    "start_time": "2023-01-10T03:44:25.331Z"
   },
   {
    "duration": 16,
    "start_time": "2023-01-10T03:52:28.874Z"
   },
   {
    "duration": 21,
    "start_time": "2023-01-10T03:52:56.897Z"
   },
   {
    "duration": 17,
    "start_time": "2023-01-10T03:53:21.904Z"
   },
   {
    "duration": 15,
    "start_time": "2023-01-10T03:54:19.528Z"
   },
   {
    "duration": 20,
    "start_time": "2023-01-10T03:54:22.955Z"
   },
   {
    "duration": 15,
    "start_time": "2023-01-10T03:54:23.322Z"
   },
   {
    "duration": 23,
    "start_time": "2023-01-10T03:54:24.072Z"
   },
   {
    "duration": 3,
    "start_time": "2023-01-10T04:15:09.569Z"
   },
   {
    "duration": 120,
    "start_time": "2023-01-10T04:18:53.952Z"
   },
   {
    "duration": 8,
    "start_time": "2023-01-10T04:20:49.554Z"
   },
   {
    "duration": 51,
    "start_time": "2023-01-10T04:21:08.284Z"
   },
   {
    "duration": 8,
    "start_time": "2023-01-10T04:21:54.085Z"
   },
   {
    "duration": 1020,
    "start_time": "2023-01-10T04:24:10.743Z"
   },
   {
    "duration": 361,
    "start_time": "2023-01-10T04:24:11.765Z"
   },
   {
    "duration": 14,
    "start_time": "2023-01-10T04:24:12.216Z"
   },
   {
    "duration": 13,
    "start_time": "2023-01-10T04:24:18.798Z"
   },
   {
    "duration": 16,
    "start_time": "2023-01-10T04:24:22.612Z"
   },
   {
    "duration": 14,
    "start_time": "2023-01-10T04:24:24.683Z"
   },
   {
    "duration": 15,
    "start_time": "2023-01-10T04:24:26.519Z"
   },
   {
    "duration": 13,
    "start_time": "2023-01-10T04:24:32.017Z"
   },
   {
    "duration": 14,
    "start_time": "2023-01-10T04:24:35.311Z"
   },
   {
    "duration": 5,
    "start_time": "2023-01-10T04:24:39.994Z"
   },
   {
    "duration": 5,
    "start_time": "2023-01-10T04:24:42.061Z"
   },
   {
    "duration": 6,
    "start_time": "2023-01-10T04:24:44.324Z"
   },
   {
    "duration": 17,
    "start_time": "2023-01-10T04:24:44.804Z"
   },
   {
    "duration": 19,
    "start_time": "2023-01-10T04:24:45.273Z"
   },
   {
    "duration": 18,
    "start_time": "2023-01-10T04:24:47.363Z"
   },
   {
    "duration": 8,
    "start_time": "2023-01-10T04:25:21.131Z"
   },
   {
    "duration": 8,
    "start_time": "2023-01-10T04:27:01.494Z"
   },
   {
    "duration": 3,
    "start_time": "2023-01-10T04:33:22.489Z"
   },
   {
    "duration": 115,
    "start_time": "2023-01-10T04:35:46.831Z"
   },
   {
    "duration": 1000,
    "start_time": "2023-01-11T03:41:57.157Z"
   },
   {
    "duration": 616,
    "start_time": "2023-01-11T03:41:58.159Z"
   },
   {
    "duration": 16,
    "start_time": "2023-01-11T03:41:58.777Z"
   },
   {
    "duration": 13,
    "start_time": "2023-01-11T03:41:58.795Z"
   },
   {
    "duration": 15,
    "start_time": "2023-01-11T03:41:58.810Z"
   },
   {
    "duration": 12,
    "start_time": "2023-01-11T03:41:58.826Z"
   },
   {
    "duration": 15,
    "start_time": "2023-01-11T03:41:58.840Z"
   },
   {
    "duration": 47,
    "start_time": "2023-01-11T03:41:58.856Z"
   },
   {
    "duration": 14,
    "start_time": "2023-01-11T03:41:58.905Z"
   },
   {
    "duration": 6,
    "start_time": "2023-01-11T03:41:58.921Z"
   },
   {
    "duration": 8,
    "start_time": "2023-01-11T03:41:58.929Z"
   },
   {
    "duration": 10,
    "start_time": "2023-01-11T03:41:58.938Z"
   },
   {
    "duration": 54,
    "start_time": "2023-01-11T03:41:58.950Z"
   },
   {
    "duration": 19,
    "start_time": "2023-01-11T03:41:59.007Z"
   },
   {
    "duration": 19,
    "start_time": "2023-01-11T03:41:59.028Z"
   },
   {
    "duration": 108,
    "start_time": "2023-01-11T03:41:59.049Z"
   },
   {
    "duration": 0,
    "start_time": "2023-01-11T03:41:59.158Z"
   },
   {
    "duration": 10,
    "start_time": "2023-01-11T03:46:29.956Z"
   },
   {
    "duration": 35,
    "start_time": "2023-01-11T03:46:45.579Z"
   },
   {
    "duration": 36,
    "start_time": "2023-01-11T03:53:31.513Z"
   },
   {
    "duration": 59,
    "start_time": "2023-01-11T04:03:31.786Z"
   },
   {
    "duration": 4,
    "start_time": "2023-01-11T04:03:53.685Z"
   },
   {
    "duration": 5,
    "start_time": "2023-01-11T04:04:02.881Z"
   },
   {
    "duration": 6,
    "start_time": "2023-01-11T04:04:12.096Z"
   },
   {
    "duration": 11,
    "start_time": "2023-01-11T04:04:13.946Z"
   },
   {
    "duration": 13,
    "start_time": "2023-01-11T04:04:14.277Z"
   },
   {
    "duration": 13,
    "start_time": "2023-01-11T04:04:15.002Z"
   },
   {
    "duration": 26,
    "start_time": "2023-01-11T04:04:16.874Z"
   },
   {
    "duration": 16,
    "start_time": "2023-01-11T04:05:19.384Z"
   },
   {
    "duration": 14,
    "start_time": "2023-01-11T04:05:32.832Z"
   },
   {
    "duration": 14,
    "start_time": "2023-01-11T04:21:27.995Z"
   },
   {
    "duration": 14,
    "start_time": "2023-01-11T04:21:44.510Z"
   },
   {
    "duration": 14,
    "start_time": "2023-01-11T04:23:01.467Z"
   },
   {
    "duration": 14,
    "start_time": "2023-01-11T04:23:52.087Z"
   },
   {
    "duration": 3,
    "start_time": "2023-01-11T04:44:59.732Z"
   },
   {
    "duration": 3,
    "start_time": "2023-01-11T04:59:06.670Z"
   },
   {
    "duration": 3,
    "start_time": "2023-01-11T05:00:44.324Z"
   },
   {
    "duration": 3,
    "start_time": "2023-01-11T05:01:38.813Z"
   },
   {
    "duration": 4,
    "start_time": "2023-01-11T05:06:49.832Z"
   },
   {
    "duration": 5,
    "start_time": "2023-01-11T05:07:18.199Z"
   },
   {
    "duration": 1037,
    "start_time": "2023-01-13T03:29:52.431Z"
   },
   {
    "duration": 2002,
    "start_time": "2023-01-13T03:29:53.470Z"
   },
   {
    "duration": 16,
    "start_time": "2023-01-13T03:29:55.474Z"
   },
   {
    "duration": 18,
    "start_time": "2023-01-13T03:29:55.492Z"
   },
   {
    "duration": 19,
    "start_time": "2023-01-13T03:29:55.512Z"
   },
   {
    "duration": 13,
    "start_time": "2023-01-13T03:29:55.533Z"
   },
   {
    "duration": 15,
    "start_time": "2023-01-13T03:29:55.548Z"
   },
   {
    "duration": 13,
    "start_time": "2023-01-13T03:29:55.564Z"
   },
   {
    "duration": 43,
    "start_time": "2023-01-13T03:29:55.579Z"
   },
   {
    "duration": 4,
    "start_time": "2023-01-13T03:29:55.624Z"
   },
   {
    "duration": 14,
    "start_time": "2023-01-13T03:29:55.630Z"
   },
   {
    "duration": 11,
    "start_time": "2023-01-13T03:29:55.646Z"
   },
   {
    "duration": 16,
    "start_time": "2023-01-13T03:29:55.659Z"
   },
   {
    "duration": 12,
    "start_time": "2023-01-13T03:29:55.677Z"
   },
   {
    "duration": 12,
    "start_time": "2023-01-13T03:29:55.691Z"
   },
   {
    "duration": 33,
    "start_time": "2023-01-13T03:29:55.704Z"
   },
   {
    "duration": 184,
    "start_time": "2023-01-13T03:29:55.738Z"
   },
   {
    "duration": 109,
    "start_time": "2023-01-13T03:29:55.924Z"
   },
   {
    "duration": 88,
    "start_time": "2023-01-13T03:29:56.035Z"
   },
   {
    "duration": 99,
    "start_time": "2023-01-13T03:29:56.124Z"
   },
   {
    "duration": 7,
    "start_time": "2023-01-13T03:29:56.225Z"
   },
   {
    "duration": 3,
    "start_time": "2023-01-13T03:30:58.572Z"
   },
   {
    "duration": 90,
    "start_time": "2023-01-13T03:31:47.560Z"
   },
   {
    "duration": 4,
    "start_time": "2023-01-13T03:32:07.935Z"
   },
   {
    "duration": 3,
    "start_time": "2023-01-13T03:32:44.218Z"
   },
   {
    "duration": 3,
    "start_time": "2023-01-13T04:09:45.204Z"
   },
   {
    "duration": 80,
    "start_time": "2023-01-13T04:14:35.270Z"
   },
   {
    "duration": 11,
    "start_time": "2023-01-13T04:14:42.245Z"
   },
   {
    "duration": 3,
    "start_time": "2023-01-13T04:20:40.206Z"
   },
   {
    "duration": 3,
    "start_time": "2023-01-13T04:20:41.290Z"
   },
   {
    "duration": 2,
    "start_time": "2023-01-13T04:20:46.673Z"
   },
   {
    "duration": 2,
    "start_time": "2023-01-13T04:21:10.745Z"
   },
   {
    "duration": 3,
    "start_time": "2023-01-13T04:21:45.332Z"
   },
   {
    "duration": 3,
    "start_time": "2023-01-13T04:21:47.696Z"
   },
   {
    "duration": 8,
    "start_time": "2023-01-13T04:21:48.401Z"
   },
   {
    "duration": 3,
    "start_time": "2023-01-13T04:22:53.929Z"
   },
   {
    "duration": 4,
    "start_time": "2023-01-13T04:22:55.015Z"
   },
   {
    "duration": 8,
    "start_time": "2023-01-13T04:22:55.521Z"
   },
   {
    "duration": 4,
    "start_time": "2023-01-13T04:23:27.756Z"
   },
   {
    "duration": 32,
    "start_time": "2023-01-13T04:23:48.918Z"
   },
   {
    "duration": 3,
    "start_time": "2023-01-13T04:24:05.945Z"
   },
   {
    "duration": 4,
    "start_time": "2023-01-13T04:24:06.463Z"
   },
   {
    "duration": 29,
    "start_time": "2023-01-13T04:24:07.421Z"
   },
   {
    "duration": 22,
    "start_time": "2023-01-13T04:24:53.027Z"
   },
   {
    "duration": 16,
    "start_time": "2023-01-13T04:24:54.820Z"
   },
   {
    "duration": 15,
    "start_time": "2023-01-13T04:25:01.489Z"
   },
   {
    "duration": 3,
    "start_time": "2023-01-13T04:25:05.822Z"
   },
   {
    "duration": 3,
    "start_time": "2023-01-13T04:25:06.085Z"
   },
   {
    "duration": 4,
    "start_time": "2023-01-13T04:25:06.468Z"
   },
   {
    "duration": 3,
    "start_time": "2023-01-13T04:25:07.333Z"
   },
   {
    "duration": 3,
    "start_time": "2023-01-13T04:25:08.380Z"
   },
   {
    "duration": 30,
    "start_time": "2023-01-13T04:25:09.355Z"
   },
   {
    "duration": 5,
    "start_time": "2023-01-13T04:30:27.363Z"
   },
   {
    "duration": 3,
    "start_time": "2023-01-13T04:30:27.909Z"
   },
   {
    "duration": 19,
    "start_time": "2023-01-13T04:30:28.573Z"
   },
   {
    "duration": 1133,
    "start_time": "2023-01-13T16:23:00.935Z"
   },
   {
    "duration": 1194,
    "start_time": "2023-01-13T16:23:02.071Z"
   },
   {
    "duration": 27,
    "start_time": "2023-01-13T16:23:03.267Z"
   },
   {
    "duration": 65,
    "start_time": "2023-01-13T16:23:03.296Z"
   },
   {
    "duration": 23,
    "start_time": "2023-01-13T16:23:03.363Z"
   },
   {
    "duration": 57,
    "start_time": "2023-01-13T16:23:03.388Z"
   },
   {
    "duration": 25,
    "start_time": "2023-01-13T16:23:03.446Z"
   },
   {
    "duration": 37,
    "start_time": "2023-01-13T16:23:03.473Z"
   },
   {
    "duration": 125,
    "start_time": "2023-01-13T16:23:03.515Z"
   },
   {
    "duration": 4,
    "start_time": "2023-01-13T16:23:03.642Z"
   },
   {
    "duration": 7,
    "start_time": "2023-01-13T16:23:03.648Z"
   },
   {
    "duration": 12,
    "start_time": "2023-01-13T16:23:03.657Z"
   },
   {
    "duration": 19,
    "start_time": "2023-01-13T16:23:03.671Z"
   },
   {
    "duration": 35,
    "start_time": "2023-01-13T16:23:03.702Z"
   },
   {
    "duration": 29,
    "start_time": "2023-01-13T16:23:03.739Z"
   },
   {
    "duration": 34,
    "start_time": "2023-01-13T16:23:03.769Z"
   },
   {
    "duration": 110,
    "start_time": "2023-01-13T16:23:03.805Z"
   },
   {
    "duration": 115,
    "start_time": "2023-01-13T16:23:03.997Z"
   },
   {
    "duration": 3,
    "start_time": "2023-01-13T16:23:04.122Z"
   },
   {
    "duration": 117,
    "start_time": "2023-01-13T16:23:04.127Z"
   },
   {
    "duration": 14,
    "start_time": "2023-01-13T16:23:04.246Z"
   },
   {
    "duration": 9,
    "start_time": "2023-01-13T16:23:04.262Z"
   },
   {
    "duration": 7,
    "start_time": "2023-01-13T16:23:04.273Z"
   },
   {
    "duration": 25,
    "start_time": "2023-01-13T16:23:04.282Z"
   },
   {
    "duration": 3,
    "start_time": "2023-01-13T16:45:39.826Z"
   },
   {
    "duration": 23,
    "start_time": "2023-01-13T16:45:40.535Z"
   },
   {
    "duration": 6,
    "start_time": "2023-01-13T17:16:21.507Z"
   },
   {
    "duration": 6,
    "start_time": "2023-01-13T17:17:08.335Z"
   },
   {
    "duration": 101,
    "start_time": "2023-01-13T17:24:39.330Z"
   },
   {
    "duration": 4,
    "start_time": "2023-01-13T17:24:52.188Z"
   },
   {
    "duration": 13,
    "start_time": "2023-01-13T17:24:53.410Z"
   },
   {
    "duration": 4,
    "start_time": "2023-01-13T17:25:15.817Z"
   },
   {
    "duration": 1577,
    "start_time": "2023-01-13T17:25:17.095Z"
   },
   {
    "duration": 1726,
    "start_time": "2023-01-13T17:25:40.617Z"
   },
   {
    "duration": 1712,
    "start_time": "2023-01-13T17:27:05.428Z"
   },
   {
    "duration": 1720,
    "start_time": "2023-01-13T17:28:21.300Z"
   },
   {
    "duration": 1719,
    "start_time": "2023-01-13T17:31:32.162Z"
   },
   {
    "duration": 4,
    "start_time": "2023-01-13T17:32:03.791Z"
   },
   {
    "duration": 20,
    "start_time": "2023-01-13T17:32:04.137Z"
   },
   {
    "duration": 6,
    "start_time": "2023-01-13T17:32:55.922Z"
   },
   {
    "duration": 8,
    "start_time": "2023-01-13T17:33:21.585Z"
   },
   {
    "duration": 4,
    "start_time": "2023-01-13T17:33:31.285Z"
   },
   {
    "duration": 8,
    "start_time": "2023-01-13T17:33:32.466Z"
   },
   {
    "duration": 1732,
    "start_time": "2023-01-13T17:35:18.490Z"
   },
   {
    "duration": 4,
    "start_time": "2023-01-13T17:36:53.685Z"
   },
   {
    "duration": 1838,
    "start_time": "2023-01-13T17:36:55.145Z"
   },
   {
    "duration": 6,
    "start_time": "2023-01-13T17:41:29.314Z"
   },
   {
    "duration": 10,
    "start_time": "2023-01-13T17:41:29.836Z"
   },
   {
    "duration": 19,
    "start_time": "2023-01-13T17:42:18.413Z"
   },
   {
    "duration": 5,
    "start_time": "2023-01-13T17:42:28.240Z"
   },
   {
    "duration": 17,
    "start_time": "2023-01-13T17:42:32.324Z"
   },
   {
    "duration": 7,
    "start_time": "2023-01-13T17:42:50.003Z"
   },
   {
    "duration": 1618,
    "start_time": "2023-01-13T17:42:50.926Z"
   },
   {
    "duration": 1643,
    "start_time": "2023-01-13T18:00:48.669Z"
   },
   {
    "duration": 1630,
    "start_time": "2023-01-13T18:03:31.682Z"
   },
   {
    "duration": 1685,
    "start_time": "2023-01-13T18:03:34.837Z"
   },
   {
    "duration": 1695,
    "start_time": "2023-01-13T18:04:11.974Z"
   },
   {
    "duration": 1645,
    "start_time": "2023-01-13T18:04:13.672Z"
   },
   {
    "duration": 1690,
    "start_time": "2023-01-13T18:04:15.319Z"
   },
   {
    "duration": 4,
    "start_time": "2023-01-13T18:17:10.113Z"
   },
   {
    "duration": 1575,
    "start_time": "2023-01-13T18:17:11.117Z"
   },
   {
    "duration": 1033,
    "start_time": "2023-01-14T10:51:50.758Z"
   },
   {
    "duration": 1648,
    "start_time": "2023-01-14T10:51:51.793Z"
   },
   {
    "duration": 18,
    "start_time": "2023-01-14T10:51:53.443Z"
   },
   {
    "duration": 35,
    "start_time": "2023-01-14T10:51:53.463Z"
   },
   {
    "duration": 22,
    "start_time": "2023-01-14T10:51:53.500Z"
   },
   {
    "duration": 13,
    "start_time": "2023-01-14T10:51:53.524Z"
   },
   {
    "duration": 33,
    "start_time": "2023-01-14T10:51:53.538Z"
   },
   {
    "duration": 13,
    "start_time": "2023-01-14T10:51:53.573Z"
   },
   {
    "duration": 29,
    "start_time": "2023-01-14T10:51:53.587Z"
   },
   {
    "duration": 5,
    "start_time": "2023-01-14T10:51:53.618Z"
   },
   {
    "duration": 35,
    "start_time": "2023-01-14T10:51:53.624Z"
   },
   {
    "duration": 36,
    "start_time": "2023-01-14T10:51:53.661Z"
   },
   {
    "duration": 28,
    "start_time": "2023-01-14T10:51:53.699Z"
   },
   {
    "duration": 19,
    "start_time": "2023-01-14T10:51:53.729Z"
   },
   {
    "duration": 37,
    "start_time": "2023-01-14T10:51:53.750Z"
   },
   {
    "duration": 31,
    "start_time": "2023-01-14T10:51:53.789Z"
   },
   {
    "duration": 203,
    "start_time": "2023-01-14T10:51:53.821Z"
   },
   {
    "duration": 199,
    "start_time": "2023-01-14T10:51:54.026Z"
   },
   {
    "duration": 191,
    "start_time": "2023-01-14T10:51:54.226Z"
   },
   {
    "duration": 20,
    "start_time": "2023-01-14T10:51:54.419Z"
   },
   {
    "duration": 21,
    "start_time": "2023-01-14T10:51:54.441Z"
   },
   {
    "duration": 8,
    "start_time": "2023-01-14T10:51:54.463Z"
   },
   {
    "duration": 32,
    "start_time": "2023-01-14T10:51:54.473Z"
   },
   {
    "duration": 37,
    "start_time": "2023-01-14T10:51:54.507Z"
   },
   {
    "duration": 7,
    "start_time": "2023-01-14T10:51:54.546Z"
   },
   {
    "duration": 1555,
    "start_time": "2023-01-14T10:51:54.555Z"
   },
   {
    "duration": 1580,
    "start_time": "2023-01-14T10:51:56.113Z"
   },
   {
    "duration": 1588,
    "start_time": "2023-01-14T10:51:57.696Z"
   },
   {
    "duration": 1723,
    "start_time": "2023-01-14T11:09:57.138Z"
   },
   {
    "duration": 4,
    "start_time": "2023-01-14T11:10:09.337Z"
   },
   {
    "duration": 1528,
    "start_time": "2023-01-14T11:10:10.666Z"
   },
   {
    "duration": 1538,
    "start_time": "2023-01-14T11:11:12.839Z"
   },
   {
    "duration": 6,
    "start_time": "2023-01-14T11:12:21.220Z"
   },
   {
    "duration": 1655,
    "start_time": "2023-01-14T11:12:23.220Z"
   },
   {
    "duration": 10,
    "start_time": "2023-01-14T11:29:56.425Z"
   },
   {
    "duration": 22,
    "start_time": "2023-01-14T11:29:57.366Z"
   },
   {
    "duration": 4,
    "start_time": "2023-01-14T11:34:19.517Z"
   },
   {
    "duration": 19,
    "start_time": "2023-01-14T11:34:23.236Z"
   },
   {
    "duration": 1499,
    "start_time": "2023-01-14T11:34:51.436Z"
   },
   {
    "duration": 3,
    "start_time": "2023-01-14T11:38:50.322Z"
   },
   {
    "duration": 9,
    "start_time": "2023-01-14T11:38:52.872Z"
   },
   {
    "duration": 17,
    "start_time": "2023-01-14T11:39:22.771Z"
   },
   {
    "duration": 19,
    "start_time": "2023-01-14T11:40:38.505Z"
   },
   {
    "duration": 4,
    "start_time": "2023-01-14T11:40:45.461Z"
   },
   {
    "duration": 1472,
    "start_time": "2023-01-14T11:40:45.604Z"
   },
   {
    "duration": 3,
    "start_time": "2023-01-14T11:42:40.512Z"
   },
   {
    "duration": 17,
    "start_time": "2023-01-14T11:45:42.623Z"
   },
   {
    "duration": 7,
    "start_time": "2023-01-14T11:46:09.242Z"
   },
   {
    "duration": 1894,
    "start_time": "2023-01-14T11:46:12.638Z"
   },
   {
    "duration": 5,
    "start_time": "2023-01-14T11:46:32.921Z"
   },
   {
    "duration": 1532,
    "start_time": "2023-01-14T11:46:33.824Z"
   },
   {
    "duration": 4,
    "start_time": "2023-01-14T11:48:27.940Z"
   },
   {
    "duration": 1543,
    "start_time": "2023-01-14T11:48:29.040Z"
   },
   {
    "duration": 5,
    "start_time": "2023-01-14T11:49:05.798Z"
   },
   {
    "duration": 5,
    "start_time": "2023-01-14T11:49:43.542Z"
   },
   {
    "duration": 3,
    "start_time": "2023-01-14T11:50:13.840Z"
   },
   {
    "duration": 14,
    "start_time": "2023-01-14T11:50:14.416Z"
   },
   {
    "duration": 3,
    "start_time": "2023-01-14T11:50:33.543Z"
   },
   {
    "duration": 15,
    "start_time": "2023-01-14T11:50:34.065Z"
   },
   {
    "duration": 3,
    "start_time": "2023-01-14T11:50:43.654Z"
   },
   {
    "duration": 20,
    "start_time": "2023-01-14T11:50:44.043Z"
   },
   {
    "duration": 5,
    "start_time": "2023-01-14T11:51:56.743Z"
   },
   {
    "duration": 1515,
    "start_time": "2023-01-14T11:51:58.323Z"
   },
   {
    "duration": 5,
    "start_time": "2023-01-14T11:53:48.365Z"
   },
   {
    "duration": 1552,
    "start_time": "2023-01-14T11:53:49.247Z"
   },
   {
    "duration": 4,
    "start_time": "2023-01-14T11:57:35.657Z"
   },
   {
    "duration": 1507,
    "start_time": "2023-01-14T11:57:38.454Z"
   },
   {
    "duration": 1156,
    "start_time": "2023-01-14T12:56:19.975Z"
   },
   {
    "duration": 359,
    "start_time": "2023-01-14T12:56:21.133Z"
   },
   {
    "duration": 22,
    "start_time": "2023-01-14T12:56:21.494Z"
   },
   {
    "duration": 15,
    "start_time": "2023-01-14T12:56:21.518Z"
   },
   {
    "duration": 17,
    "start_time": "2023-01-14T12:56:21.535Z"
   },
   {
    "duration": 14,
    "start_time": "2023-01-14T12:56:21.553Z"
   },
   {
    "duration": 48,
    "start_time": "2023-01-14T12:56:21.570Z"
   },
   {
    "duration": 13,
    "start_time": "2023-01-14T12:56:21.620Z"
   },
   {
    "duration": 18,
    "start_time": "2023-01-14T12:56:21.634Z"
   },
   {
    "duration": 4,
    "start_time": "2023-01-14T12:56:21.655Z"
   },
   {
    "duration": 13,
    "start_time": "2023-01-14T12:56:21.660Z"
   },
   {
    "duration": 13,
    "start_time": "2023-01-14T12:56:21.674Z"
   },
   {
    "duration": 32,
    "start_time": "2023-01-14T12:56:21.689Z"
   },
   {
    "duration": 12,
    "start_time": "2023-01-14T12:56:21.723Z"
   },
   {
    "duration": 12,
    "start_time": "2023-01-14T12:56:21.737Z"
   },
   {
    "duration": 165,
    "start_time": "2023-01-14T12:56:21.751Z"
   },
   {
    "duration": 14,
    "start_time": "2023-01-14T12:56:21.918Z"
   },
   {
    "duration": 182,
    "start_time": "2023-01-14T12:56:21.934Z"
   },
   {
    "duration": 102,
    "start_time": "2023-01-14T12:56:22.118Z"
   },
   {
    "duration": 102,
    "start_time": "2023-01-14T12:56:22.221Z"
   },
   {
    "duration": 10,
    "start_time": "2023-01-14T12:56:22.325Z"
   },
   {
    "duration": 21,
    "start_time": "2023-01-14T12:56:22.337Z"
   },
   {
    "duration": 9,
    "start_time": "2023-01-14T12:56:22.360Z"
   },
   {
    "duration": 6,
    "start_time": "2023-01-14T12:56:22.371Z"
   },
   {
    "duration": 22,
    "start_time": "2023-01-14T12:56:22.379Z"
   },
   {
    "duration": 6,
    "start_time": "2023-01-14T12:56:22.402Z"
   },
   {
    "duration": 1547,
    "start_time": "2023-01-14T12:56:22.410Z"
   },
   {
    "duration": 100,
    "start_time": "2023-01-14T12:56:23.959Z"
   },
   {
    "duration": 0,
    "start_time": "2023-01-14T12:56:24.061Z"
   },
   {
    "duration": 18,
    "start_time": "2023-01-14T12:58:44.117Z"
   },
   {
    "duration": 4,
    "start_time": "2023-01-14T13:02:02.366Z"
   },
   {
    "duration": 20,
    "start_time": "2023-01-14T13:02:04.508Z"
   },
   {
    "duration": 4,
    "start_time": "2023-01-14T13:05:23.149Z"
   },
   {
    "duration": 1575,
    "start_time": "2023-01-14T13:05:29.416Z"
   },
   {
    "duration": 3,
    "start_time": "2023-01-14T13:08:58.330Z"
   },
   {
    "duration": 4,
    "start_time": "2023-01-14T13:09:09.398Z"
   },
   {
    "duration": 9,
    "start_time": "2023-01-14T13:12:05.619Z"
   },
   {
    "duration": 3,
    "start_time": "2023-01-14T13:12:26.712Z"
   },
   {
    "duration": 3,
    "start_time": "2023-01-14T13:12:35.642Z"
   },
   {
    "duration": 4,
    "start_time": "2023-01-14T13:12:55.471Z"
   },
   {
    "duration": 1386,
    "start_time": "2023-01-14T13:12:59.271Z"
   },
   {
    "duration": 1295,
    "start_time": "2023-01-14T13:16:30.873Z"
   },
   {
    "duration": 1349,
    "start_time": "2023-01-14T13:16:48.952Z"
   },
   {
    "duration": 1308,
    "start_time": "2023-01-14T13:17:12.611Z"
   },
   {
    "duration": 1324,
    "start_time": "2023-01-14T13:17:36.781Z"
   },
   {
    "duration": 1313,
    "start_time": "2023-01-14T13:18:54.950Z"
   },
   {
    "duration": 47,
    "start_time": "2023-01-14T16:22:54.402Z"
   },
   {
    "duration": 1222,
    "start_time": "2023-01-14T16:22:56.571Z"
   },
   {
    "duration": 3069,
    "start_time": "2023-01-14T16:23:28.710Z"
   },
   {
    "duration": 15,
    "start_time": "2023-01-14T16:23:31.781Z"
   },
   {
    "duration": 21,
    "start_time": "2023-01-14T16:23:34.522Z"
   },
   {
    "duration": 22,
    "start_time": "2023-01-14T16:23:37.681Z"
   },
   {
    "duration": 24,
    "start_time": "2023-01-14T16:23:44.089Z"
   },
   {
    "duration": 16,
    "start_time": "2023-01-14T16:23:51.443Z"
   },
   {
    "duration": 14,
    "start_time": "2023-01-14T16:25:05.622Z"
   },
   {
    "duration": 17,
    "start_time": "2023-01-14T16:25:08.181Z"
   },
   {
    "duration": 5,
    "start_time": "2023-01-14T16:30:22.142Z"
   },
   {
    "duration": 4,
    "start_time": "2023-01-14T16:30:22.523Z"
   },
   {
    "duration": 5,
    "start_time": "2023-01-14T16:30:23.622Z"
   },
   {
    "duration": 13,
    "start_time": "2023-01-14T16:30:29.161Z"
   },
   {
    "duration": 14,
    "start_time": "2023-01-14T16:31:10.621Z"
   },
   {
    "duration": 11,
    "start_time": "2023-01-14T16:31:10.983Z"
   },
   {
    "duration": 13,
    "start_time": "2023-01-14T16:31:11.492Z"
   },
   {
    "duration": 61,
    "start_time": "2023-01-14T16:32:16.184Z"
   },
   {
    "duration": 4,
    "start_time": "2023-01-14T16:32:20.623Z"
   },
   {
    "duration": 4,
    "start_time": "2023-01-14T16:32:40.899Z"
   },
   {
    "duration": 23,
    "start_time": "2023-01-14T16:37:11.950Z"
   },
   {
    "duration": 14,
    "start_time": "2023-01-14T16:38:46.400Z"
   },
   {
    "duration": 16,
    "start_time": "2023-01-14T16:39:35.340Z"
   },
   {
    "duration": 11,
    "start_time": "2023-01-14T16:39:41.349Z"
   },
   {
    "duration": 12,
    "start_time": "2023-01-14T16:40:44.340Z"
   },
   {
    "duration": 12,
    "start_time": "2023-01-14T16:40:45.900Z"
   },
   {
    "duration": 16,
    "start_time": "2023-01-14T16:40:53.879Z"
   },
   {
    "duration": 12,
    "start_time": "2023-01-14T16:42:38.651Z"
   },
   {
    "duration": 12,
    "start_time": "2023-01-14T16:42:41.271Z"
   },
   {
    "duration": 5,
    "start_time": "2023-01-14T16:55:57.822Z"
   },
   {
    "duration": 69,
    "start_time": "2023-01-14T16:56:00.535Z"
   },
   {
    "duration": 3,
    "start_time": "2023-01-14T16:56:02.032Z"
   },
   {
    "duration": 3,
    "start_time": "2023-01-14T16:57:12.764Z"
   },
   {
    "duration": 4,
    "start_time": "2023-01-14T16:57:28.053Z"
   },
   {
    "duration": 4,
    "start_time": "2023-01-14T17:02:01.544Z"
   },
   {
    "duration": 5,
    "start_time": "2023-01-14T17:05:53.573Z"
   },
   {
    "duration": 3,
    "start_time": "2023-01-14T17:05:53.975Z"
   },
   {
    "duration": 16,
    "start_time": "2023-01-14T17:06:24.482Z"
   },
   {
    "duration": 19,
    "start_time": "2023-01-14T17:07:25.254Z"
   },
   {
    "duration": 19,
    "start_time": "2023-01-14T17:07:45.354Z"
   },
   {
    "duration": 2,
    "start_time": "2023-01-14T17:11:13.494Z"
   },
   {
    "duration": 3,
    "start_time": "2023-01-14T17:11:29.315Z"
   },
   {
    "duration": 4,
    "start_time": "2023-01-14T17:11:55.365Z"
   },
   {
    "duration": 6,
    "start_time": "2023-01-14T17:13:17.085Z"
   },
   {
    "duration": 1374,
    "start_time": "2023-01-14T17:13:22.394Z"
   },
   {
    "duration": 4,
    "start_time": "2023-01-14T17:14:02.105Z"
   },
   {
    "duration": 1276,
    "start_time": "2023-01-14T17:14:04.246Z"
   },
   {
    "duration": 1252,
    "start_time": "2023-01-14T17:14:10.395Z"
   },
   {
    "duration": 1312,
    "start_time": "2023-01-14T17:14:19.765Z"
   },
   {
    "duration": 1292,
    "start_time": "2023-01-14T17:14:25.213Z"
   },
   {
    "duration": 1279,
    "start_time": "2023-01-14T17:14:32.244Z"
   },
   {
    "duration": 1328,
    "start_time": "2023-01-14T17:14:36.455Z"
   },
   {
    "duration": 1299,
    "start_time": "2023-01-14T17:14:50.114Z"
   },
   {
    "duration": 1306,
    "start_time": "2023-01-14T17:14:55.905Z"
   },
   {
    "duration": 1248,
    "start_time": "2023-01-14T17:15:31.884Z"
   }
  ],
  "kernelspec": {
   "display_name": "Python 3 (ipykernel)",
   "language": "python",
   "name": "python3"
  },
  "language_info": {
   "codemirror_mode": {
    "name": "ipython",
    "version": 3
   },
   "file_extension": ".py",
   "mimetype": "text/x-python",
   "name": "python",
   "nbconvert_exporter": "python",
   "pygments_lexer": "ipython3",
   "version": "3.9.16"
  },
  "toc": {
   "base_numbering": 1,
   "nav_menu": {},
   "number_sections": true,
   "sideBar": true,
   "skip_h1_title": true,
   "title_cell": "Table of Contents",
   "title_sidebar": "Contents",
   "toc_cell": true,
   "toc_position": {
    "height": "calc(100% - 180px)",
    "left": "10px",
    "top": "150px",
    "width": "345.6px"
   },
   "toc_section_display": true,
   "toc_window_display": false
  }
 },
 "nbformat": 4,
 "nbformat_minor": 2
}
