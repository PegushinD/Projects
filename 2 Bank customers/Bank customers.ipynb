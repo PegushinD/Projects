{
 "cells": [
  {
   "cell_type": "markdown",
   "metadata": {
    "toc": true
   },
   "source": [
    "<h1>Содержание<span class=\"tocSkip\"></span></h1>\n",
    "<div class=\"toc\"><ul class=\"toc-item\"><li><span><a href=\"#Подготовка-данных\" data-toc-modified-id=\"Подготовка-данных-1\"><span class=\"toc-item-num\">1&nbsp;&nbsp;</span>Подготовка данных</a></span></li><li><span><a href=\"#Исследование-задачи\" data-toc-modified-id=\"Исследование-задачи-2\"><span class=\"toc-item-num\">2&nbsp;&nbsp;</span>Исследование задачи</a></span><ul class=\"toc-item\"><li><span><a href=\"#Исследование-баланса-классов-целевого-признака\" data-toc-modified-id=\"Исследование-баланса-классов-целевого-признака-2.1\"><span class=\"toc-item-num\">2.1&nbsp;&nbsp;</span>Исследование баланса классов целевого признака</a></span></li><li><span><a href=\"#Подготовка-выборки-для-обучения-модели\" data-toc-modified-id=\"Подготовка-выборки-для-обучения-модели-2.2\"><span class=\"toc-item-num\">2.2&nbsp;&nbsp;</span>Подготовка выборки для обучения модели</a></span></li><li><span><a href=\"#Обучение-модели-логистической-регрессии\" data-toc-modified-id=\"Обучение-модели-логистической-регрессии-2.3\"><span class=\"toc-item-num\">2.3&nbsp;&nbsp;</span>Обучение модели логистической регрессии</a></span></li><li><span><a href=\"#Обучение-модели-случайного-леса\" data-toc-modified-id=\"Обучение-модели-случайного-леса-2.4\"><span class=\"toc-item-num\">2.4&nbsp;&nbsp;</span>Обучение модели случайного леса</a></span></li></ul></li><li><span><a href=\"#Борьба-с-дисбалансом\" data-toc-modified-id=\"Борьба-с-дисбалансом-3\"><span class=\"toc-item-num\">3&nbsp;&nbsp;</span>Борьба с дисбалансом</a></span><ul class=\"toc-item\"><li><span><a href=\"#Подготовка-тренировочно,-валидационной-и-тестовой-выборок\" data-toc-modified-id=\"Подготовка-тренировочно,-валидационной-и-тестовой-выборок-3.1\"><span class=\"toc-item-num\">3.1&nbsp;&nbsp;</span>Подготовка тренировочно, валидационной и тестовой выборок</a></span></li><li><span><a href=\"#Выравнивание-балланса-классов\" data-toc-modified-id=\"Выравнивание-балланса-классов-3.2\"><span class=\"toc-item-num\">3.2&nbsp;&nbsp;</span>Выравнивание балланса классов</a></span></li><li><span><a href=\"#Обучение-модели-случайного-леса\" data-toc-modified-id=\"Обучение-модели-случайного-леса-3.3\"><span class=\"toc-item-num\">3.3&nbsp;&nbsp;</span>Обучение модели случайного леса</a></span></li><li><span><a href=\"#Обучение-модели-логистической-регрессии\" data-toc-modified-id=\"Обучение-модели-логистической-регрессии-3.4\"><span class=\"toc-item-num\">3.4&nbsp;&nbsp;</span>Обучение модели логистической регрессии</a></span></li></ul></li><li><span><a href=\"#Тестирование-модели\" data-toc-modified-id=\"Тестирование-модели-4\"><span class=\"toc-item-num\">4&nbsp;&nbsp;</span>Тестирование модели</a></span><ul class=\"toc-item\"><li><span><a href=\"#Проверка-работы-лучшей-модели-на-тестовой-выборке\" data-toc-modified-id=\"Проверка-работы-лучшей-модели-на-тестовой-выборке-4.1\"><span class=\"toc-item-num\">4.1&nbsp;&nbsp;</span>Проверка работы лучшей модели на тестовой выборке</a></span></li><li><span><a href=\"#Поиск-модели-с-лучшими-гиперпараметрами-для-тестовой-выборки\" data-toc-modified-id=\"Поиск-модели-с-лучшими-гиперпараметрами-для-тестовой-выборки-4.2\"><span class=\"toc-item-num\">4.2&nbsp;&nbsp;</span>Поиск модели с лучшими гиперпараметрами для тестовой выборки</a></span></li></ul></li><li><span><a href=\"#Общий-вывод\" data-toc-modified-id=\"Общий-вывод-5\"><span class=\"toc-item-num\">5&nbsp;&nbsp;</span>Общий вывод</a></span></li></ul></div>"
   ]
  },
  {
   "cell_type": "markdown",
   "metadata": {},
   "source": [
    "# Отток клиентов"
   ]
  },
  {
   "cell_type": "markdown",
   "metadata": {},
   "source": [
    "Из «Бета-Банка» стали уходить клиенты. Каждый месяц. Немного, но заметно. Банковские маркетологи посчитали: сохранять текущих клиентов дешевле, чем привлекать новых.\n",
    "\n",
    "Нужно спрогнозировать, уйдёт клиент из банка в ближайшее время или нет. Вам предоставлены исторические данные о поведении клиентов и расторжении договоров с банком. \n",
    "\n",
    "Постройте модель с предельно большим значением *F1*-меры. Чтобы сдать проект успешно, нужно довести метрику до 0.59. Проверьте *F1*-меру на тестовой выборке самостоятельно.\n",
    "\n",
    "Дополнительно измеряйте *AUC-ROC*, сравнивайте её значение с *F1*-мерой.\n",
    "\n",
    "Источник данных: [https://www.kaggle.com/barelydedicated/bank-customer-churn-modeling](https://www.kaggle.com/barelydedicated/bank-customer-churn-modeling)"
   ]
  },
  {
   "cell_type": "markdown",
   "metadata": {},
   "source": [
    "Итак нам предоставили исторчические данные об оттоке клиентов банка, на их основании требуется создать модель машинного обучения которая предсказывала бы возможный отказ клиента от услуг банка.\n",
    "\n",
    "- Начнем с загрузки файла с данными и его изучения, проверим наличие явных дубликатов и пропущенных значений, исправим все ошибки которые найдем чтобы потом они не повлияли на полученные результаты и не мешали в процессе обц=учения модели.\n",
    "\n",
    "- Подготовим данные для обучения модели: выделим признаки на которых модель будет обучаться и целевые показатели которые необходмо будет изучить.\n",
    "\n",
    "- Выделим  из исходных данных тренировочну, валидациолнную и тестовую выборки, на тренировочной и валидационной выборках мы будем обучать нашу моделm и подбирать оптимальные гиперпараметры, чтобы получить оптимальное значение f1 меры и значение AUC-ROC, на тестовой проверим работоспособность наилучшей модели.\n",
    "\n",
    "- Затем изучим сбалансированность классов, идеальное соотношение класов 1:1, обучим модель логистической регрессии и модель случайного леса на \"сырых\" несбаллансированных выборках, сравним с работой константной модели которая предсказывает ответы только наибольшего класса.\n",
    "\n",
    "- Проведем работу по устранению дисбалланса классов, применим технику увеличения выборки для выравнивания количества положительных и отрицательных значений, а так же масштабируем признаки для облегчения обучения нашей модели.\n",
    "\n",
    "- Обучим модель случайного леса и логистической ргрессии на сбалансироваанных данных, выберем модель с самыми хорошими показателями f1-меры и AUC_ROC. Показатель f1 меры не должен быть ниже 0,59.\n",
    "\n",
    "И, наконец, проверим нашу лучшую модель на тестовой выборке, если показатели нужных нам метрик будут выше целевых показателей - задача выполнена, если ниже, возвращаемся к предыдущим пунктам.\n",
    "\n",
    "\n"
   ]
  },
  {
   "cell_type": "markdown",
   "metadata": {},
   "source": [
    "## Подготовка данных"
   ]
  },
  {
   "cell_type": "code",
   "execution_count": 1,
   "metadata": {},
   "outputs": [],
   "source": [
    "#Импортируем все необходимые нам функции в отдельной строке,\n",
    "#чтобы была возможность добавлять новый импорт без необходимость перезапуска всех ячеек\n",
    "import pandas as pd\n",
    "from sklearn.model_selection import train_test_split\n",
    "from sklearn.linear_model import LogisticRegression \n",
    "from sklearn.ensemble import RandomForestClassifier\n",
    "from sklearn.metrics import f1_score\n",
    "from sklearn.metrics import roc_auc_score\n",
    "from sklearn.metrics import recall_score\n",
    "from sklearn.preprocessing import StandardScaler\n",
    "from sklearn.utils import shuffle\n",
    "from sklearn.metrics import accuracy_score\n",
    "import random"
   ]
  },
  {
   "cell_type": "code",
   "execution_count": 3,
   "metadata": {},
   "outputs": [
    {
     "name": "stdout",
     "output_type": "stream",
     "text": [
      "<class 'pandas.core.frame.DataFrame'>\n",
      "RangeIndex: 10000 entries, 0 to 9999\n",
      "Data columns (total 14 columns):\n",
      " #   Column           Non-Null Count  Dtype  \n",
      "---  ------           --------------  -----  \n",
      " 0   RowNumber        10000 non-null  int64  \n",
      " 1   CustomerId       10000 non-null  int64  \n",
      " 2   Surname          10000 non-null  object \n",
      " 3   CreditScore      10000 non-null  int64  \n",
      " 4   Geography        10000 non-null  object \n",
      " 5   Gender           10000 non-null  object \n",
      " 6   Age              10000 non-null  int64  \n",
      " 7   Tenure           9091 non-null   float64\n",
      " 8   Balance          10000 non-null  float64\n",
      " 9   NumOfProducts    10000 non-null  int64  \n",
      " 10  HasCrCard        10000 non-null  int64  \n",
      " 11  IsActiveMember   10000 non-null  int64  \n",
      " 12  EstimatedSalary  10000 non-null  float64\n",
      " 13  Exited           10000 non-null  int64  \n",
      "dtypes: float64(3), int64(8), object(3)\n",
      "memory usage: 1.1+ MB\n"
     ]
    },
    {
     "data": {
      "text/plain": [
       "None"
      ]
     },
     "metadata": {},
     "output_type": "display_data"
    },
    {
     "data": {
      "text/html": [
       "<div>\n",
       "<style scoped>\n",
       "    .dataframe tbody tr th:only-of-type {\n",
       "        vertical-align: middle;\n",
       "    }\n",
       "\n",
       "    .dataframe tbody tr th {\n",
       "        vertical-align: top;\n",
       "    }\n",
       "\n",
       "    .dataframe thead th {\n",
       "        text-align: right;\n",
       "    }\n",
       "</style>\n",
       "<table border=\"1\" class=\"dataframe\">\n",
       "  <thead>\n",
       "    <tr style=\"text-align: right;\">\n",
       "      <th></th>\n",
       "      <th>RowNumber</th>\n",
       "      <th>CustomerId</th>\n",
       "      <th>Surname</th>\n",
       "      <th>CreditScore</th>\n",
       "      <th>Geography</th>\n",
       "      <th>Gender</th>\n",
       "      <th>Age</th>\n",
       "      <th>Tenure</th>\n",
       "      <th>Balance</th>\n",
       "      <th>NumOfProducts</th>\n",
       "      <th>HasCrCard</th>\n",
       "      <th>IsActiveMember</th>\n",
       "      <th>EstimatedSalary</th>\n",
       "      <th>Exited</th>\n",
       "    </tr>\n",
       "  </thead>\n",
       "  <tbody>\n",
       "    <tr>\n",
       "      <th>0</th>\n",
       "      <td>1</td>\n",
       "      <td>15634602</td>\n",
       "      <td>Hargrave</td>\n",
       "      <td>619</td>\n",
       "      <td>France</td>\n",
       "      <td>Female</td>\n",
       "      <td>42</td>\n",
       "      <td>2.0</td>\n",
       "      <td>0.00</td>\n",
       "      <td>1</td>\n",
       "      <td>1</td>\n",
       "      <td>1</td>\n",
       "      <td>101348.88</td>\n",
       "      <td>1</td>\n",
       "    </tr>\n",
       "    <tr>\n",
       "      <th>1</th>\n",
       "      <td>2</td>\n",
       "      <td>15647311</td>\n",
       "      <td>Hill</td>\n",
       "      <td>608</td>\n",
       "      <td>Spain</td>\n",
       "      <td>Female</td>\n",
       "      <td>41</td>\n",
       "      <td>1.0</td>\n",
       "      <td>83807.86</td>\n",
       "      <td>1</td>\n",
       "      <td>0</td>\n",
       "      <td>1</td>\n",
       "      <td>112542.58</td>\n",
       "      <td>0</td>\n",
       "    </tr>\n",
       "    <tr>\n",
       "      <th>2</th>\n",
       "      <td>3</td>\n",
       "      <td>15619304</td>\n",
       "      <td>Onio</td>\n",
       "      <td>502</td>\n",
       "      <td>France</td>\n",
       "      <td>Female</td>\n",
       "      <td>42</td>\n",
       "      <td>8.0</td>\n",
       "      <td>159660.80</td>\n",
       "      <td>3</td>\n",
       "      <td>1</td>\n",
       "      <td>0</td>\n",
       "      <td>113931.57</td>\n",
       "      <td>1</td>\n",
       "    </tr>\n",
       "    <tr>\n",
       "      <th>3</th>\n",
       "      <td>4</td>\n",
       "      <td>15701354</td>\n",
       "      <td>Boni</td>\n",
       "      <td>699</td>\n",
       "      <td>France</td>\n",
       "      <td>Female</td>\n",
       "      <td>39</td>\n",
       "      <td>1.0</td>\n",
       "      <td>0.00</td>\n",
       "      <td>2</td>\n",
       "      <td>0</td>\n",
       "      <td>0</td>\n",
       "      <td>93826.63</td>\n",
       "      <td>0</td>\n",
       "    </tr>\n",
       "    <tr>\n",
       "      <th>4</th>\n",
       "      <td>5</td>\n",
       "      <td>15737888</td>\n",
       "      <td>Mitchell</td>\n",
       "      <td>850</td>\n",
       "      <td>Spain</td>\n",
       "      <td>Female</td>\n",
       "      <td>43</td>\n",
       "      <td>2.0</td>\n",
       "      <td>125510.82</td>\n",
       "      <td>1</td>\n",
       "      <td>1</td>\n",
       "      <td>1</td>\n",
       "      <td>79084.10</td>\n",
       "      <td>0</td>\n",
       "    </tr>\n",
       "  </tbody>\n",
       "</table>\n",
       "</div>"
      ],
      "text/plain": [
       "   RowNumber  CustomerId   Surname  CreditScore Geography  Gender  Age  \\\n",
       "0          1    15634602  Hargrave          619    France  Female   42   \n",
       "1          2    15647311      Hill          608     Spain  Female   41   \n",
       "2          3    15619304      Onio          502    France  Female   42   \n",
       "3          4    15701354      Boni          699    France  Female   39   \n",
       "4          5    15737888  Mitchell          850     Spain  Female   43   \n",
       "\n",
       "   Tenure    Balance  NumOfProducts  HasCrCard  IsActiveMember  \\\n",
       "0     2.0       0.00              1          1               1   \n",
       "1     1.0   83807.86              1          0               1   \n",
       "2     8.0  159660.80              3          1               0   \n",
       "3     1.0       0.00              2          0               0   \n",
       "4     2.0  125510.82              1          1               1   \n",
       "\n",
       "   EstimatedSalary  Exited  \n",
       "0        101348.88       1  \n",
       "1        112542.58       0  \n",
       "2        113931.57       1  \n",
       "3         93826.63       0  \n",
       "4         79084.10       0  "
      ]
     },
     "execution_count": 3,
     "metadata": {},
     "output_type": "execute_result"
    }
   ],
   "source": [
    "#прочитаем файл с данными, выведем информацию о датасете и первые 5 строк\n",
    "data = pd.read_csv('Churn.csv')\n",
    "display(data.info())\n",
    "data.head()"
   ]
  },
  {
   "cell_type": "code",
   "execution_count": 4,
   "metadata": {},
   "outputs": [
    {
     "data": {
      "text/plain": [
       "RowNumber            0\n",
       "CustomerId           0\n",
       "Surname              0\n",
       "CreditScore          0\n",
       "Geography            0\n",
       "Gender               0\n",
       "Age                  0\n",
       "Tenure             909\n",
       "Balance              0\n",
       "NumOfProducts        0\n",
       "HasCrCard            0\n",
       "IsActiveMember       0\n",
       "EstimatedSalary      0\n",
       "Exited               0\n",
       "dtype: int64"
      ]
     },
     "execution_count": 4,
     "metadata": {},
     "output_type": "execute_result"
    }
   ],
   "source": [
    "#Проверим данные на наличие пропущенных значений\n",
    "data.isna().sum()"
   ]
  },
  {
   "cell_type": "code",
   "execution_count": 5,
   "metadata": {},
   "outputs": [
    {
     "data": {
      "text/plain": [
       "count    9091.000000\n",
       "mean        4.997690\n",
       "std         2.894723\n",
       "min         0.000000\n",
       "25%         2.000000\n",
       "50%         5.000000\n",
       "75%         7.000000\n",
       "max        10.000000\n",
       "Name: Tenure, dtype: float64"
      ]
     },
     "execution_count": 5,
     "metadata": {},
     "output_type": "execute_result"
    }
   ],
   "source": [
    "data['Tenure'].describe()"
   ]
  },
  {
   "cell_type": "markdown",
   "metadata": {},
   "source": [
    "*Пропущенные значения в столбце сколько лет является клиентом банка. Причин пропуско может быть много, какие именно мы не знаем, возможно это новые клиенты. заменим на 0 все пропуски*"
   ]
  },
  {
   "cell_type": "markdown",
   "metadata": {},
   "source": [
    "*После замены пропущенных значений на 0 сильно изменились значения среднего, медианы и стандартного отклонения. Следовательно замена была сделана некорректно. Заменим пропущенные значения медианными.*"
   ]
  },
  {
   "cell_type": "code",
   "execution_count": 6,
   "metadata": {},
   "outputs": [
    {
     "data": {
      "text/plain": [
       "count    10000.00000\n",
       "mean         4.99790\n",
       "std          2.76001\n",
       "min          0.00000\n",
       "25%          3.00000\n",
       "50%          5.00000\n",
       "75%          7.00000\n",
       "max         10.00000\n",
       "Name: Tenure, dtype: float64"
      ]
     },
     "execution_count": 6,
     "metadata": {},
     "output_type": "execute_result"
    }
   ],
   "source": [
    "data = data.fillna(data['Tenure'].median())\n",
    "data.isna().sum()\n",
    "data['Tenure'].describe()"
   ]
  },
  {
   "cell_type": "markdown",
   "metadata": {},
   "source": [
    "Проверим данные на скоррелированность\n"
   ]
  },
  {
   "cell_type": "code",
   "execution_count": 7,
   "metadata": {},
   "outputs": [
    {
     "data": {
      "text/html": [
       "<div>\n",
       "<style scoped>\n",
       "    .dataframe tbody tr th:only-of-type {\n",
       "        vertical-align: middle;\n",
       "    }\n",
       "\n",
       "    .dataframe tbody tr th {\n",
       "        vertical-align: top;\n",
       "    }\n",
       "\n",
       "    .dataframe thead th {\n",
       "        text-align: right;\n",
       "    }\n",
       "</style>\n",
       "<table border=\"1\" class=\"dataframe\">\n",
       "  <thead>\n",
       "    <tr style=\"text-align: right;\">\n",
       "      <th></th>\n",
       "      <th>CreditScore</th>\n",
       "      <th>Age</th>\n",
       "      <th>Tenure</th>\n",
       "      <th>Balance</th>\n",
       "      <th>EstimatedSalary</th>\n",
       "    </tr>\n",
       "  </thead>\n",
       "  <tbody>\n",
       "    <tr>\n",
       "      <th>CreditScore</th>\n",
       "      <td>1.000000</td>\n",
       "      <td>-0.003965</td>\n",
       "      <td>-0.000060</td>\n",
       "      <td>0.006268</td>\n",
       "      <td>-0.001384</td>\n",
       "    </tr>\n",
       "    <tr>\n",
       "      <th>Age</th>\n",
       "      <td>-0.003965</td>\n",
       "      <td>1.000000</td>\n",
       "      <td>-0.012606</td>\n",
       "      <td>0.028308</td>\n",
       "      <td>-0.007201</td>\n",
       "    </tr>\n",
       "    <tr>\n",
       "      <th>Tenure</th>\n",
       "      <td>-0.000060</td>\n",
       "      <td>-0.012606</td>\n",
       "      <td>1.000000</td>\n",
       "      <td>-0.007535</td>\n",
       "      <td>0.010049</td>\n",
       "    </tr>\n",
       "    <tr>\n",
       "      <th>Balance</th>\n",
       "      <td>0.006268</td>\n",
       "      <td>0.028308</td>\n",
       "      <td>-0.007535</td>\n",
       "      <td>1.000000</td>\n",
       "      <td>0.012797</td>\n",
       "    </tr>\n",
       "    <tr>\n",
       "      <th>EstimatedSalary</th>\n",
       "      <td>-0.001384</td>\n",
       "      <td>-0.007201</td>\n",
       "      <td>0.010049</td>\n",
       "      <td>0.012797</td>\n",
       "      <td>1.000000</td>\n",
       "    </tr>\n",
       "  </tbody>\n",
       "</table>\n",
       "</div>"
      ],
      "text/plain": [
       "                 CreditScore       Age    Tenure   Balance  EstimatedSalary\n",
       "CreditScore         1.000000 -0.003965 -0.000060  0.006268        -0.001384\n",
       "Age                -0.003965  1.000000 -0.012606  0.028308        -0.007201\n",
       "Tenure             -0.000060 -0.012606  1.000000 -0.007535         0.010049\n",
       "Balance             0.006268  0.028308 -0.007535  1.000000         0.012797\n",
       "EstimatedSalary    -0.001384 -0.007201  0.010049  0.012797         1.000000"
      ]
     },
     "execution_count": 7,
     "metadata": {},
     "output_type": "execute_result"
    }
   ],
   "source": [
    "data_num = data[['CreditScore', 'Age','Tenure', 'Balance', 'EstimatedSalary']]\n",
    "data_num.corr()"
   ]
  },
  {
   "cell_type": "markdown",
   "metadata": {},
   "source": [
    "*Сильно-скоррелированные данные в нашем датасете отсутствуют*"
   ]
  },
  {
   "cell_type": "code",
   "execution_count": 8,
   "metadata": {},
   "outputs": [
    {
     "data": {
      "text/plain": [
       "(10000, 2945)"
      ]
     },
     "execution_count": 8,
     "metadata": {},
     "output_type": "execute_result"
    }
   ],
   "source": [
    "# переведем все категоривльные признаки в численные методом OHE, что бы избежать дамми- ловушки используем drop_first\n",
    "data_ohe = pd.get_dummies(data, drop_first=True)\n",
    "data_ohe.shape"
   ]
  },
  {
   "cell_type": "markdown",
   "metadata": {},
   "source": [
    "*Получили почти 3 тыс колонок, это очень сильно усложнит обучение и увеличит время расчетов,\n",
    "избавимся от части исходных данных которые не повлияют на дальнйшее обучение  модели, это колонки RowNumber, CustomerId и Surname и перезапишим переменную data_ohe*"
   ]
  },
  {
   "cell_type": "code",
   "execution_count": 9,
   "metadata": {},
   "outputs": [],
   "source": [
    "data = data.drop(['RowNumber', 'CustomerId', 'Surname'], axis=1)\n"
   ]
  },
  {
   "cell_type": "code",
   "execution_count": 10,
   "metadata": {},
   "outputs": [
    {
     "data": {
      "text/plain": [
       "(10000, 12)"
      ]
     },
     "metadata": {},
     "output_type": "display_data"
    },
    {
     "data": {
      "text/html": [
       "<div>\n",
       "<style scoped>\n",
       "    .dataframe tbody tr th:only-of-type {\n",
       "        vertical-align: middle;\n",
       "    }\n",
       "\n",
       "    .dataframe tbody tr th {\n",
       "        vertical-align: top;\n",
       "    }\n",
       "\n",
       "    .dataframe thead th {\n",
       "        text-align: right;\n",
       "    }\n",
       "</style>\n",
       "<table border=\"1\" class=\"dataframe\">\n",
       "  <thead>\n",
       "    <tr style=\"text-align: right;\">\n",
       "      <th></th>\n",
       "      <th>CreditScore</th>\n",
       "      <th>Age</th>\n",
       "      <th>Tenure</th>\n",
       "      <th>Balance</th>\n",
       "      <th>NumOfProducts</th>\n",
       "      <th>HasCrCard</th>\n",
       "      <th>IsActiveMember</th>\n",
       "      <th>EstimatedSalary</th>\n",
       "      <th>Exited</th>\n",
       "      <th>Geography_Germany</th>\n",
       "      <th>Geography_Spain</th>\n",
       "      <th>Gender_Male</th>\n",
       "    </tr>\n",
       "  </thead>\n",
       "  <tbody>\n",
       "    <tr>\n",
       "      <th>0</th>\n",
       "      <td>619</td>\n",
       "      <td>42</td>\n",
       "      <td>2.0</td>\n",
       "      <td>0.00</td>\n",
       "      <td>1</td>\n",
       "      <td>1</td>\n",
       "      <td>1</td>\n",
       "      <td>101348.88</td>\n",
       "      <td>1</td>\n",
       "      <td>0</td>\n",
       "      <td>0</td>\n",
       "      <td>0</td>\n",
       "    </tr>\n",
       "    <tr>\n",
       "      <th>1</th>\n",
       "      <td>608</td>\n",
       "      <td>41</td>\n",
       "      <td>1.0</td>\n",
       "      <td>83807.86</td>\n",
       "      <td>1</td>\n",
       "      <td>0</td>\n",
       "      <td>1</td>\n",
       "      <td>112542.58</td>\n",
       "      <td>0</td>\n",
       "      <td>0</td>\n",
       "      <td>1</td>\n",
       "      <td>0</td>\n",
       "    </tr>\n",
       "    <tr>\n",
       "      <th>2</th>\n",
       "      <td>502</td>\n",
       "      <td>42</td>\n",
       "      <td>8.0</td>\n",
       "      <td>159660.80</td>\n",
       "      <td>3</td>\n",
       "      <td>1</td>\n",
       "      <td>0</td>\n",
       "      <td>113931.57</td>\n",
       "      <td>1</td>\n",
       "      <td>0</td>\n",
       "      <td>0</td>\n",
       "      <td>0</td>\n",
       "    </tr>\n",
       "    <tr>\n",
       "      <th>3</th>\n",
       "      <td>699</td>\n",
       "      <td>39</td>\n",
       "      <td>1.0</td>\n",
       "      <td>0.00</td>\n",
       "      <td>2</td>\n",
       "      <td>0</td>\n",
       "      <td>0</td>\n",
       "      <td>93826.63</td>\n",
       "      <td>0</td>\n",
       "      <td>0</td>\n",
       "      <td>0</td>\n",
       "      <td>0</td>\n",
       "    </tr>\n",
       "    <tr>\n",
       "      <th>4</th>\n",
       "      <td>850</td>\n",
       "      <td>43</td>\n",
       "      <td>2.0</td>\n",
       "      <td>125510.82</td>\n",
       "      <td>1</td>\n",
       "      <td>1</td>\n",
       "      <td>1</td>\n",
       "      <td>79084.10</td>\n",
       "      <td>0</td>\n",
       "      <td>0</td>\n",
       "      <td>1</td>\n",
       "      <td>0</td>\n",
       "    </tr>\n",
       "  </tbody>\n",
       "</table>\n",
       "</div>"
      ],
      "text/plain": [
       "   CreditScore  Age  Tenure    Balance  NumOfProducts  HasCrCard  \\\n",
       "0          619   42     2.0       0.00              1          1   \n",
       "1          608   41     1.0   83807.86              1          0   \n",
       "2          502   42     8.0  159660.80              3          1   \n",
       "3          699   39     1.0       0.00              2          0   \n",
       "4          850   43     2.0  125510.82              1          1   \n",
       "\n",
       "   IsActiveMember  EstimatedSalary  Exited  Geography_Germany  \\\n",
       "0               1        101348.88       1                  0   \n",
       "1               1        112542.58       0                  0   \n",
       "2               0        113931.57       1                  0   \n",
       "3               0         93826.63       0                  0   \n",
       "4               1         79084.10       0                  0   \n",
       "\n",
       "   Geography_Spain  Gender_Male  \n",
       "0                0            0  \n",
       "1                1            0  \n",
       "2                0            0  \n",
       "3                0            0  \n",
       "4                1            0  "
      ]
     },
     "execution_count": 10,
     "metadata": {},
     "output_type": "execute_result"
    }
   ],
   "source": [
    "#повторим применение метода   OHE  на измененном датасете\n",
    "data_ohe = pd.get_dummies(data, drop_first = True)\n",
    "display(data_ohe.shape)\n",
    "data_ohe.head()"
   ]
  },
  {
   "cell_type": "markdown",
   "metadata": {},
   "source": [
    "*Получили датасет с 12 колонками и только численными признаками, на таких данных сможем обучить несколько видов моделей*"
   ]
  },
  {
   "cell_type": "markdown",
   "metadata": {},
   "source": [
    "## Исследование задачи"
   ]
  },
  {
   "cell_type": "markdown",
   "metadata": {},
   "source": [
    "### Исследование баланса классов целевого признака"
   ]
  },
  {
   "cell_type": "code",
   "execution_count": 11,
   "metadata": {},
   "outputs": [
    {
     "data": {
      "text/plain": [
       "0    7963\n",
       "1    2037\n",
       "Name: Exited, dtype: int64"
      ]
     },
     "execution_count": 11,
     "metadata": {},
     "output_type": "execute_result"
    }
   ],
   "source": [
    "#Изучим балланс классов целевого показателя с помощбю метода value_counts\n",
    "data.Exited.value_counts()"
   ]
  },
  {
   "cell_type": "markdown",
   "metadata": {},
   "source": [
    "*В нашем наборе данных наблюдается дисбалланс классов в соотношении примерно 1 к 4, что может в дальнейшем повлиять на правильность итерпритеции результатов работы нашей модели.\n",
    " Обучим для начала модель на сырых данных, без учета дисбалланса*"
   ]
  },
  {
   "cell_type": "markdown",
   "metadata": {},
   "source": [
    "### Подготовка выборки для обучения модели"
   ]
  },
  {
   "cell_type": "code",
   "execution_count": 12,
   "metadata": {},
   "outputs": [],
   "source": [
    "#выделим из исходныз данных признаки и целевой показательи\n",
    "features = data_ohe.drop('Exited', axis=1)\n",
    "target = data_ohe['Exited']"
   ]
  },
  {
   "cell_type": "code",
   "execution_count": 13,
   "metadata": {},
   "outputs": [],
   "source": [
    "#разобъем датасеты на обучающую и валидационную выборки\n",
    "features_train, features_test_valid, target_train, target_train_valid = train_test_split(features, target, test_size=0.4,\n",
    "                                                                                        random_state=12345)"
   ]
  },
  {
   "cell_type": "code",
   "execution_count": 14,
   "metadata": {},
   "outputs": [],
   "source": [
    "#валидационную выборку разобъем на 2 равные части чтобы получить тестовый датасет\n",
    "features_test, features_valid, target_test, target_valid = train_test_split(features_test_valid, target_train_valid,\n",
    "                                                                           test_size=0.5,\n",
    "                                                                           random_state=12345)"
   ]
  },
  {
   "cell_type": "code",
   "execution_count": 15,
   "metadata": {},
   "outputs": [
    {
     "data": {
      "text/plain": [
       "0    4804\n",
       "1    1196\n",
       "Name: Exited, dtype: int64"
      ]
     },
     "execution_count": 15,
     "metadata": {},
     "output_type": "execute_result"
    }
   ],
   "source": [
    "#соотношение классов в обучающей выборке осталось таим же как во всем даатасете 1:4\n",
    "target_train.value_counts()"
   ]
  },
  {
   "cell_type": "code",
   "execution_count": 16,
   "metadata": {},
   "outputs": [
    {
     "data": {
      "text/plain": [
       "0    1577\n",
       "1     423\n",
       "Name: Exited, dtype: int64"
      ]
     },
     "execution_count": 16,
     "metadata": {},
     "output_type": "execute_result"
    }
   ],
   "source": [
    "target_valid.value_counts()"
   ]
  },
  {
   "cell_type": "code",
   "execution_count": 17,
   "metadata": {},
   "outputs": [
    {
     "data": {
      "text/plain": [
       "0    1582\n",
       "1     418\n",
       "Name: Exited, dtype: int64"
      ]
     },
     "execution_count": 17,
     "metadata": {},
     "output_type": "execute_result"
    }
   ],
   "source": [
    "target_test.value_counts()"
   ]
  },
  {
   "cell_type": "markdown",
   "metadata": {},
   "source": [
    "### Обучение модели логистической регрессии"
   ]
  },
  {
   "cell_type": "code",
   "execution_count": 18,
   "metadata": {},
   "outputs": [
    {
     "data": {
      "text/plain": [
       "'f1 мера:'"
      ]
     },
     "metadata": {},
     "output_type": "display_data"
    },
    {
     "data": {
      "text/plain": [
       "0.13441955193482688"
      ]
     },
     "metadata": {},
     "output_type": "display_data"
    },
    {
     "data": {
      "text/plain": [
       "'auc_roc:'"
      ]
     },
     "metadata": {},
     "output_type": "display_data"
    },
    {
     "data": {
      "text/plain": [
       "0.6407713721627831"
      ]
     },
     "metadata": {},
     "output_type": "display_data"
    }
   ],
   "source": [
    "#обучим модель логистической регрессии на несбалансированных выборках\n",
    "model = LogisticRegression(random_state=12345, solver='liblinear')\n",
    "model.fit(features_train, target_train)\n",
    "predicted_valid = model.predict(features_valid)\n",
    "display('f1 мера:', f1_score(target_valid, predicted_valid))\n",
    "\n",
    "probabilities_valid = model.predict_proba(features_valid)\n",
    "probabilities_one_valid = probabilities_valid[:, 1]\n",
    "display('auc_roc:', roc_auc_score(target_valid, probabilities_one_valid))"
   ]
  },
  {
   "cell_type": "markdown",
   "metadata": {},
   "source": [
    "*f1 мера позволяет нам контролировать одновременно точность и полноту предсказания модели, чем ближе к нулю ее показатель темь ниже показатели точности и полноты в нащем случае этот показатель всего 0.1344, метрика auc_roc по сути показывает вероятность правильного предсказания положительного класса, для модели которая всегда предсказывает случайно эта метрика равно 0,5 наша модель лишь на 14 процентов лучше вероятности в 50%*"
   ]
  },
  {
   "cell_type": "markdown",
   "metadata": {},
   "source": [
    "### Обучение модели случайного леса\n"
   ]
  },
  {
   "cell_type": "code",
   "execution_count": 19,
   "metadata": {
    "scrolled": true
   },
   "outputs": [
    {
     "data": {
      "text/plain": [
       "'Значение f1 лучшей модели 0.5407066052227343'"
      ]
     },
     "metadata": {},
     "output_type": "display_data"
    },
    {
     "data": {
      "text/plain": [
       "'Максимальная глубина дерева лучшей модели: 10'"
      ]
     },
     "metadata": {},
     "output_type": "display_data"
    },
    {
     "data": {
      "text/plain": [
       "'Количество деревьев лучшей модели: 6'"
      ]
     },
     "metadata": {},
     "output_type": "display_data"
    }
   ],
   "source": [
    "# обучим и выясним модель случайного леса с лучшими гиперпараметрами на \"сырых\" данных\n",
    "best_model = None\n",
    "best_result = 0\n",
    "best_est = 0\n",
    "best_depth = 0\n",
    "for est in range(1, 100, 1):\n",
    "    for depth in range(1, 11):\n",
    "        model = RandomForestClassifier(random_state=12345, n_estimators=est, max_depth=depth)\n",
    "        model.fit(features_train, target_train)\n",
    "        predicted_valid = model.predict(features_valid)\n",
    "        result = f1_score(target_valid, predicted_valid)\n",
    "        if result > best_result:\n",
    "            best_model = model\n",
    "            best_result = result\n",
    "            best_est = est\n",
    "            best_depth = depth\n",
    "            \n",
    "display(f'Значение f1 лучшей модели {best_result}')\n",
    "display(f'Максимальная глубина дерева лучшей модели: {best_depth}')\n",
    "display(f'Количество деревьев лучшей модели: {best_est}')\n"
   ]
  },
  {
   "cell_type": "code",
   "execution_count": 20,
   "metadata": {},
   "outputs": [
    {
     "data": {
      "text/plain": [
       "'auc_roc 0.8281247423437685'"
      ]
     },
     "metadata": {},
     "output_type": "display_data"
    },
    {
     "data": {
      "text/plain": [
       "'accuracy_score: 0.842'"
      ]
     },
     "metadata": {},
     "output_type": "display_data"
    }
   ],
   "source": [
    "#вычислим auc_roc для лучшей модели случайного леса\n",
    "model = RandomForestClassifier(random_state=12345, n_estimators=6, max_depth=7)\n",
    "model.fit(features_train, target_train)\n",
    "predicted_valid = model.predict(features_valid)\n",
    "probabilities_valid = model.predict_proba(features_valid)\n",
    "probabilities_one_valid = probabilities_valid[:,1]\n",
    "roc_auc = roc_auc_score(target_valid, probabilities_one_valid)\n",
    "display(f'auc_roc {roc_auc}')                     \n",
    "display(f'accuracy_score: {accuracy_score(target_valid, predicted_valid)}')"
   ]
  },
  {
   "cell_type": "markdown",
   "metadata": {},
   "source": [
    " *Метрики леса решений намного лучше показателей модели логистической регрессии, и вероятность правильно предсказать 1 увеличилась до 82%, но соотношение классов у нас неверное, поэтому сравним accuracy нашей модели с моделью которая предсказывает только 0*"
   ]
  },
  {
   "cell_type": "code",
   "execution_count": 21,
   "metadata": {},
   "outputs": [
    {
     "data": {
      "text/plain": [
       "'accuracy_score констатной модели: 0.7885'"
      ]
     },
     "metadata": {},
     "output_type": "display_data"
    }
   ],
   "source": [
    "\n",
    "target_pred_constant = pd.Series([0]*len(target_valid))\n",
    "display(f'accuracy_score констатной модели: {accuracy_score(target_valid, target_pred_constant)}')"
   ]
  },
  {
   "cell_type": "code",
   "execution_count": 24,
   "metadata": {},
   "outputs": [
    {
     "data": {
      "text/plain": [
       "'f1 констатной модели: 0.3491539413949649'"
      ]
     },
     "metadata": {},
     "output_type": "display_data"
    }
   ],
   "source": [
    "target_pred_constant = pd.Series([1]*len(target_valid))\n",
    "display(f'f1 констатной модели: {f1_score(target_valid, target_pred_constant)}')"
   ]
  },
  {
   "cell_type": "markdown",
   "metadata": {},
   "source": [
    "*accuracy_score обученной нами модели выше константной, но не намного, на это так же влияет сильная разбалансировка классов*"
   ]
  },
  {
   "cell_type": "markdown",
   "metadata": {},
   "source": [
    "## Борьба с дисбалансом"
   ]
  },
  {
   "cell_type": "markdown",
   "metadata": {},
   "source": [
    "*Для увеличения показателей нашей модели изменим подход к формированию обучающей, валидационной и тестовой выборок. во-первых в первую очередь разобъем исходный датасет на выборки, при разбивке исползуем аргумнент stratify, а затем к каждей выборке признаков применим OHE, и во- вторых обучим модель случайного леса с применением аргумента  class_weight для придания болшего веса редкому классу*"
   ]
  },
  {
   "cell_type": "markdown",
   "metadata": {},
   "source": [
    "### Подготовка тренировочно, валидационной и тестовой выборок"
   ]
  },
  {
   "cell_type": "code",
   "execution_count": 25,
   "metadata": {},
   "outputs": [],
   "source": [
    "features = data.drop('Exited', axis=1)\n",
    "target = data['Exited']"
   ]
  },
  {
   "cell_type": "markdown",
   "metadata": {},
   "source": [
    "*Разделение на выборки проведем так же как и при подготовке данных для обучения первой модели: сначала разобъейм весь датасет на обучающую и валидационную выборки в соотношени 60/40, затем валидационную разобъем на валитдационную и тестовую в соотношении 50/50*"
   ]
  },
  {
   "cell_type": "code",
   "execution_count": 26,
   "metadata": {},
   "outputs": [],
   "source": [
    "features_train, features_test_valid, target_train, target_train_valid = train_test_split(features, target, test_size=0.4,\n",
    "                                                                                        random_state=12345,stratify = target)"
   ]
  },
  {
   "cell_type": "code",
   "execution_count": 27,
   "metadata": {},
   "outputs": [],
   "source": [
    "features_test, features_valid, target_test, target_valid = train_test_split(features_test_valid, target_train_valid,\n",
    "                                                                           test_size=0.5,\n",
    "                                                                           random_state=12345,\n",
    "                                                                           stratify = target_train_valid)"
   ]
  },
  {
   "cell_type": "code",
   "execution_count": 41,
   "metadata": {},
   "outputs": [],
   "source": [
    "#Ко всем выборкам с признаками применим технику прямого кодирования для перевода категориальных признаков в численные\n",
    "features_train_ohe = pd.get_dummies(features_train, drop_first = True)\n",
    "features_valid_ohe = pd.get_dummies(features_valid, drop_first = True)\n",
    "features_test_ohe = pd.get_dummies(features_test, drop_first = True)"
   ]
  },
  {
   "cell_type": "code",
   "execution_count": 35,
   "metadata": {
    "scrolled": true
   },
   "outputs": [
    {
     "data": {
      "text/plain": [
       "0    1592\n",
       "1     408\n",
       "Name: Exited, dtype: int64"
      ]
     },
     "execution_count": 35,
     "metadata": {},
     "output_type": "execute_result"
    }
   ],
   "source": [
    "target_test.value_counts()"
   ]
  },
  {
   "cell_type": "markdown",
   "metadata": {},
   "source": [
    "### Выравнивание балланса классов"
   ]
  },
  {
   "cell_type": "markdown",
   "metadata": {},
   "source": [
    "*В получившихся выборках наблюдается большой дисбалланс классов, применим технику upsamling, для выравнивания, для этого напишем фукцию которая для каждого набора признаков и целей увеличит количесвто положительных значений так чтобы  их количество сравнялось с отрицательными. Соотношение классов сейчас 1:4, соответственно положительный класс необходимо увеличить в 4 раза*"
   ]
  },
  {
   "cell_type": "code",
   "execution_count": 36,
   "metadata": {},
   "outputs": [],
   "source": [
    "def upsample(features, target, repeat):\n",
    "    features_zeros = features[target == 0]\n",
    "    features_ones = features[target == 1]\n",
    "    target_zeros = target[target == 0]\n",
    "    target_ones = target[target == 1]\n",
    "    repeat = repeat\n",
    "    features_up = shuffle(pd.concat([features_zeros] + [features_ones] * repeat), random_state = 12345)\n",
    "    target_up = shuffle(pd.concat([target_zeros] + [target_ones] * repeat),random_state = 12345)\n",
    "    return features_up, target_up\n",
    "\n",
    "\n",
    "features_train_up, target_train_up = upsample(features_train_ohe, target_train, 4)"
   ]
  },
  {
   "cell_type": "markdown",
   "metadata": {},
   "source": [
    "### Обучение модели случайного леса"
   ]
  },
  {
   "cell_type": "code",
   "execution_count": 37,
   "metadata": {},
   "outputs": [
    {
     "data": {
      "text/plain": [
       "'Значение f1 лучшей модели 0.618063112078346'"
      ]
     },
     "metadata": {},
     "output_type": "display_data"
    },
    {
     "data": {
      "text/plain": [
       "'Максимальная глубина дерева лучшей модели: 9'"
      ]
     },
     "metadata": {},
     "output_type": "display_data"
    },
    {
     "data": {
      "text/plain": [
       "'Количество деревьев лучшей модели: 47'"
      ]
     },
     "metadata": {},
     "output_type": "display_data"
    },
    {
     "name": "stdout",
     "output_type": "stream",
     "text": [
      "CPU times: total: 4min\n",
      "Wall time: 4min 7s\n"
     ]
    }
   ],
   "source": [
    "%%time\n",
    "#Найдем наилучшие гиперпараметры для модели случайного леса, с аргументом выравнивающим вес классов\n",
    "\n",
    "best_model = None\n",
    "best_result = 0\n",
    "best_est = 0\n",
    "best_depth = 0\n",
    "for est in range(1, 100, 1):\n",
    "    for depth in range(1, 11):\n",
    "        model = RandomForestClassifier(random_state=12345, n_estimators=est, max_depth=depth)\n",
    "        model.fit(features_train_up, target_train_up)\n",
    "        predicted_valid = model.predict(features_valid_ohe)\n",
    "        result = f1_score(target_valid, predicted_valid)\n",
    "        if result > best_result:\n",
    "            best_model = model\n",
    "            best_result = result\n",
    "            best_est = est\n",
    "            best_depth = depth\n",
    "            \n",
    "display(f'Значение f1 лучшей модели {best_result}')\n",
    "display(f'Максимальная глубина дерева лучшей модели: {best_depth}')\n",
    "display(f'Количество деревьев лучшей модели: {best_est}')\n",
    "\n"
   ]
  },
  {
   "cell_type": "code",
   "execution_count": 38,
   "metadata": {},
   "outputs": [
    {
     "data": {
      "text/plain": [
       "'auc_roc:'"
      ]
     },
     "metadata": {},
     "output_type": "display_data"
    },
    {
     "data": {
      "text/plain": [
       "0.847514694972322"
      ]
     },
     "metadata": {},
     "output_type": "display_data"
    }
   ],
   "source": [
    "#получим показатель метрики auc_roc для лучшей модели\n",
    "model = RandomForestClassifier(random_state=12345, n_estimators=9, max_depth=9, class_weight='balanced')\n",
    "model.fit(features_train_up, target_train_up)\n",
    "probabilities_valid = model.predict_proba(features_valid_ohe)\n",
    "probabilities_one_valid = probabilities_valid[:,1]\n",
    "display('auc_roc:', roc_auc_score(target_valid, probabilities_one_valid))"
   ]
  },
  {
   "cell_type": "markdown",
   "metadata": {},
   "source": [
    "*Получили хороший результат как f1 так и auc_roc,точность и полнота нашей модели на довольно высоком уровне, выше чем тот порог метрики который мы установили, а вероятность верно предсказать положительный клас увеличилась до 84,7%/*"
   ]
  },
  {
   "cell_type": "markdown",
   "metadata": {},
   "source": [
    "### Обучение модели логистической регрессии"
   ]
  },
  {
   "cell_type": "code",
   "execution_count": 39,
   "metadata": {},
   "outputs": [
    {
     "data": {
      "text/plain": [
       "'f1 мера:'"
      ]
     },
     "metadata": {},
     "output_type": "display_data"
    },
    {
     "data": {
      "text/plain": [
       "0.44761904761904764"
      ]
     },
     "metadata": {},
     "output_type": "display_data"
    },
    {
     "data": {
      "text/plain": [
       "'auc_roc:'"
      ]
     },
     "metadata": {},
     "output_type": "display_data"
    },
    {
     "data": {
      "text/plain": [
       "0.7065555540131812"
      ]
     },
     "metadata": {},
     "output_type": "display_data"
    }
   ],
   "source": [
    "#Обучим на этих же выборках модель логистической регрессии\n",
    "model = LogisticRegression(random_state=12345, solver='liblinear')\n",
    "model.fit(features_train_up, target_train_up)\n",
    "predicted_valid = model.predict(features_valid_ohe)\n",
    "display('f1 мера:', f1_score(target_valid, predicted_valid))\n",
    "\n",
    "probabilities_valid = model.predict_proba(features_valid_ohe)\n",
    "probabilities_one_valid = probabilities_valid[:, 1]\n",
    "display('auc_roc:', roc_auc_score(target_valid, probabilities_one_valid))"
   ]
  },
  {
   "cell_type": "markdown",
   "metadata": {},
   "source": [
    "\n",
    "**Мы обучили 2 типа моделей: случайный лес и логистическая регрессия. Лучший показатель метрики f1 показала модель случайного леса с количеством деревьев 47 и максимальной глубиной ветвления 9. Теперь  на тестовой выборке проверим работу лучшей модели случайного леса.**\n"
   ]
  },
  {
   "cell_type": "markdown",
   "metadata": {},
   "source": [
    "## Тестирование модели"
   ]
  },
  {
   "cell_type": "markdown",
   "metadata": {},
   "source": [
    "### Проверка работы лучшей модели на тестовой выборке"
   ]
  },
  {
   "cell_type": "markdown",
   "metadata": {},
   "source": [
    "*Проверим на тестовых данных модель показавшую лучшие метрики на валидационной выборке*"
   ]
  },
  {
   "cell_type": "code",
   "execution_count": 42,
   "metadata": {},
   "outputs": [
    {
     "data": {
      "text/plain": [
       "'Значение f1 лучшей модели 0.630901287553648'"
      ]
     },
     "metadata": {},
     "output_type": "display_data"
    },
    {
     "data": {
      "text/plain": [
       "'auc_roc лучшей модели 0.8710618041186323'"
      ]
     },
     "metadata": {},
     "output_type": "display_data"
    }
   ],
   "source": [
    "model = RandomForestClassifier(random_state=12345, n_estimators=47, max_depth=9,)\n",
    "model.fit(features_train_up, target_train_up)\n",
    "predicted_test = model.predict(features_test_ohe)\n",
    "result = f1_score(target_test, predicted_test)\n",
    "display(f'Значение f1 лучшей модели {result}')\n",
    "\n",
    "probabilities_test = model.predict_proba(features_test_ohe)\n",
    "probabilities_one_test = probabilities_test[:, 1]\n",
    "display(f'auc_roc лучшей модели {roc_auc_score(target_test, probabilities_one_test)}')"
   ]
  },
  {
   "cell_type": "markdown",
   "metadata": {},
   "source": [
    "**Показатели как f1 так и auc_roc даже лучше чем у этой же модели на валидационной выборке, мы добились хороших показателй полноты, точности а так же вероятности верно предсказать положительный класс, а можно ли еще увеличить метрики? Попробуем изменить гиперпараметры модели случайного леса**"
   ]
  },
  {
   "cell_type": "markdown",
   "metadata": {},
   "source": [
    "### Поиск модели с лучшими гиперпараметрами для тестовой выборки"
   ]
  },
  {
   "cell_type": "markdown",
   "metadata": {},
   "source": [
    "## Общий вывод"
   ]
  },
  {
   "cell_type": "markdown",
   "metadata": {},
   "source": [
    "**Мы достигли целей данного проекта, для этого мы провели ряд действий и пришли к следующим выводам:**\n",
    " - исследовали исходные данные подготовили данные для обучения модели, обучили модель на \"сырых\" выборках и пришли к выводу что дисбалланс классов приводит к некорректному обучению модели\n",
    " - сбалансировали данные методом увличения выборки и обучили модели на увеличенных данных\n",
    " - обучили 2 типа моделей: логистическую регрессию и модель случайного леса и пришли к выводу что на наших данных эффективнее работает модель случайного леса\n",
    " - проверили работу модели на тестовых данных.\n",
    " \n",
    " **В итоге превысили целевой показатель f1 меры в 0,59 и довели auc_roc до показателя в 87% вероятности правильного предсказания положительного класса**"
   ]
  },
  {
   "cell_type": "code",
   "execution_count": 45,
   "metadata": {},
   "outputs": [
    {
     "data": {
      "image/png": "[encoded data removed]",
      "text/plain": [
       "<Figure size 640x480 with 1 Axes>"
      ]
     },
     "metadata": {},
     "output_type": "display_data"
    }
   ],
   "source": [
    "import seaborn as sns\n",
    "import matplotlib.pylab as plt\n",
    "feature_importance = model.feature_importances_\n",
    "feature_imp = pd.DataFrame(sorted(zip(feature_importance, features.columns)), columns=['Value','Feature'])\n",
    "sns.barplot(x=\"Value\", y=\"Feature\", data=feature_imp.sort_values(by=\"Value\", ascending=False))\n",
    "plt.title('Feature importance')\n",
    "plt.tight_layout()\n",
    "plt.show();"
   ]
  }
 ],
 "metadata": {
  "ExecuteTimeLog": [
   {
    "duration": 1147,
    "start_time": "2022-12-19T03:46:36.330Z"
   },
   {
    "duration": 190,
    "start_time": "2022-12-19T03:47:40.071Z"
   },
   {
    "duration": 57,
    "start_time": "2022-12-19T03:47:54.956Z"
   },
   {
    "duration": 17,
    "start_time": "2022-12-19T03:48:50.284Z"
   },
   {
    "duration": 7,
    "start_time": "2022-12-19T04:03:05.796Z"
   },
   {
    "duration": 141,
    "start_time": "2022-12-19T04:07:34.152Z"
   },
   {
    "duration": 25,
    "start_time": "2022-12-19T04:07:40.949Z"
   },
   {
    "duration": 11,
    "start_time": "2022-12-19T04:08:15.530Z"
   },
   {
    "duration": 11,
    "start_time": "2022-12-19T04:08:25.344Z"
   },
   {
    "duration": 30,
    "start_time": "2022-12-19T04:19:50.841Z"
   },
   {
    "duration": 11,
    "start_time": "2022-12-19T04:27:22.967Z"
   },
   {
    "duration": 381,
    "start_time": "2022-12-19T04:27:37.713Z"
   },
   {
    "duration": 235,
    "start_time": "2022-12-19T04:28:39.953Z"
   },
   {
    "duration": 80,
    "start_time": "2022-12-19T04:38:19.190Z"
   },
   {
    "duration": 11,
    "start_time": "2022-12-19T04:38:27.268Z"
   },
   {
    "duration": 11,
    "start_time": "2022-12-19T04:38:38.623Z"
   },
   {
    "duration": 10,
    "start_time": "2022-12-19T04:39:00.017Z"
   },
   {
    "duration": 12,
    "start_time": "2022-12-19T04:39:31.348Z"
   },
   {
    "duration": 5,
    "start_time": "2022-12-19T04:39:46.060Z"
   },
   {
    "duration": 14,
    "start_time": "2022-12-19T04:40:24.419Z"
   },
   {
    "duration": 14,
    "start_time": "2022-12-19T04:40:47.504Z"
   },
   {
    "duration": 15,
    "start_time": "2022-12-19T04:41:01.862Z"
   },
   {
    "duration": 14,
    "start_time": "2022-12-19T04:41:24.092Z"
   },
   {
    "duration": 12,
    "start_time": "2022-12-19T04:42:25.476Z"
   },
   {
    "duration": 12,
    "start_time": "2022-12-19T04:42:36.610Z"
   },
   {
    "duration": 3,
    "start_time": "2022-12-19T04:43:00.628Z"
   },
   {
    "duration": 62,
    "start_time": "2022-12-19T04:43:00.635Z"
   },
   {
    "duration": 20,
    "start_time": "2022-12-19T04:43:00.700Z"
   },
   {
    "duration": 30,
    "start_time": "2022-12-19T04:43:00.722Z"
   },
   {
    "duration": 30,
    "start_time": "2022-12-19T04:43:00.755Z"
   },
   {
    "duration": 22,
    "start_time": "2022-12-19T04:43:00.787Z"
   },
   {
    "duration": 241,
    "start_time": "2022-12-19T04:43:00.811Z"
   },
   {
    "duration": 4,
    "start_time": "2022-12-19T04:43:01.056Z"
   },
   {
    "duration": 5,
    "start_time": "2022-12-19T04:43:28.011Z"
   },
   {
    "duration": 19,
    "start_time": "2022-12-19T04:44:45.346Z"
   },
   {
    "duration": 26,
    "start_time": "2022-12-19T04:45:37.763Z"
   },
   {
    "duration": 53,
    "start_time": "2022-12-19T13:19:25.537Z"
   },
   {
    "duration": 1121,
    "start_time": "2022-12-19T13:19:31.431Z"
   },
   {
    "duration": 92,
    "start_time": "2022-12-19T13:19:32.554Z"
   },
   {
    "duration": 19,
    "start_time": "2022-12-19T13:19:32.648Z"
   },
   {
    "duration": 13,
    "start_time": "2022-12-19T13:19:32.669Z"
   },
   {
    "duration": 24,
    "start_time": "2022-12-19T13:19:32.685Z"
   },
   {
    "duration": 11,
    "start_time": "2022-12-19T13:19:32.711Z"
   },
   {
    "duration": 17,
    "start_time": "2022-12-19T13:19:32.724Z"
   },
   {
    "duration": 210,
    "start_time": "2022-12-19T13:19:32.743Z"
   },
   {
    "duration": 4,
    "start_time": "2022-12-19T13:19:32.955Z"
   },
   {
    "duration": 36,
    "start_time": "2022-12-19T13:19:32.961Z"
   },
   {
    "duration": 3,
    "start_time": "2022-12-19T13:20:10.903Z"
   },
   {
    "duration": 49,
    "start_time": "2022-12-19T13:20:10.908Z"
   },
   {
    "duration": 13,
    "start_time": "2022-12-19T13:20:10.959Z"
   },
   {
    "duration": 10,
    "start_time": "2022-12-19T13:20:10.974Z"
   },
   {
    "duration": 10,
    "start_time": "2022-12-19T13:20:10.986Z"
   },
   {
    "duration": 2,
    "start_time": "2022-12-19T13:20:10.997Z"
   },
   {
    "duration": 24,
    "start_time": "2022-12-19T13:20:11.000Z"
   },
   {
    "duration": 222,
    "start_time": "2022-12-19T13:20:11.025Z"
   },
   {
    "duration": 5,
    "start_time": "2022-12-19T13:20:11.249Z"
   },
   {
    "duration": 45,
    "start_time": "2022-12-19T13:20:11.255Z"
   },
   {
    "duration": 10,
    "start_time": "2022-12-19T13:20:45.172Z"
   },
   {
    "duration": 10,
    "start_time": "2022-12-19T13:21:01.569Z"
   },
   {
    "duration": 12,
    "start_time": "2022-12-19T13:23:30.613Z"
   },
   {
    "duration": 10,
    "start_time": "2022-12-19T13:23:43.167Z"
   },
   {
    "duration": 8,
    "start_time": "2022-12-19T13:23:47.830Z"
   },
   {
    "duration": 3,
    "start_time": "2022-12-19T13:23:57.141Z"
   },
   {
    "duration": 57,
    "start_time": "2022-12-19T13:23:57.147Z"
   },
   {
    "duration": 13,
    "start_time": "2022-12-19T13:23:57.205Z"
   },
   {
    "duration": 10,
    "start_time": "2022-12-19T13:23:57.220Z"
   },
   {
    "duration": 11,
    "start_time": "2022-12-19T13:23:57.232Z"
   },
   {
    "duration": 32,
    "start_time": "2022-12-19T13:23:57.244Z"
   },
   {
    "duration": 20,
    "start_time": "2022-12-19T13:23:57.278Z"
   },
   {
    "duration": 242,
    "start_time": "2022-12-19T13:23:57.300Z"
   },
   {
    "duration": 10,
    "start_time": "2022-12-19T13:23:57.544Z"
   },
   {
    "duration": 42,
    "start_time": "2022-12-19T13:23:57.557Z"
   },
   {
    "duration": 1704,
    "start_time": "2022-12-20T03:31:06.293Z"
   },
   {
    "duration": 255,
    "start_time": "2022-12-20T03:31:08.012Z"
   },
   {
    "duration": 37,
    "start_time": "2022-12-20T03:31:08.274Z"
   },
   {
    "duration": 133,
    "start_time": "2022-12-20T03:31:08.314Z"
   },
   {
    "duration": 82,
    "start_time": "2022-12-20T03:31:08.450Z"
   },
   {
    "duration": 37,
    "start_time": "2022-12-20T03:31:08.534Z"
   },
   {
    "duration": 113,
    "start_time": "2022-12-20T03:31:08.573Z"
   },
   {
    "duration": 356,
    "start_time": "2022-12-20T03:31:08.693Z"
   },
   {
    "duration": 8,
    "start_time": "2022-12-20T03:31:09.057Z"
   },
   {
    "duration": 103,
    "start_time": "2022-12-20T03:31:09.076Z"
   },
   {
    "duration": 11,
    "start_time": "2022-12-20T03:41:47.084Z"
   },
   {
    "duration": 10,
    "start_time": "2022-12-20T04:14:39.215Z"
   },
   {
    "duration": 16,
    "start_time": "2022-12-20T04:14:47.348Z"
   },
   {
    "duration": 7,
    "start_time": "2022-12-20T04:17:01.492Z"
   },
   {
    "duration": 6,
    "start_time": "2022-12-20T04:17:53.299Z"
   },
   {
    "duration": 6,
    "start_time": "2022-12-20T04:18:56.184Z"
   },
   {
    "duration": 6,
    "start_time": "2022-12-20T04:19:13.134Z"
   },
   {
    "duration": 8,
    "start_time": "2022-12-20T04:19:54.576Z"
   },
   {
    "duration": 160,
    "start_time": "2022-12-20T04:31:36.705Z"
   },
   {
    "duration": 131,
    "start_time": "2022-12-20T04:31:48.924Z"
   },
   {
    "duration": 90,
    "start_time": "2022-12-20T04:31:54.885Z"
   },
   {
    "duration": 90,
    "start_time": "2022-12-20T04:32:49.609Z"
   },
   {
    "duration": 46,
    "start_time": "2022-12-20T10:11:56.401Z"
   },
   {
    "duration": 1089,
    "start_time": "2022-12-20T10:12:06.883Z"
   },
   {
    "duration": 85,
    "start_time": "2022-12-20T10:12:07.974Z"
   },
   {
    "duration": 20,
    "start_time": "2022-12-20T10:12:08.061Z"
   },
   {
    "duration": 8,
    "start_time": "2022-12-20T10:12:08.083Z"
   },
   {
    "duration": 24,
    "start_time": "2022-12-20T10:12:08.093Z"
   },
   {
    "duration": 23,
    "start_time": "2022-12-20T10:12:08.118Z"
   },
   {
    "duration": 18,
    "start_time": "2022-12-20T10:12:08.143Z"
   },
   {
    "duration": 210,
    "start_time": "2022-12-20T10:12:08.163Z"
   },
   {
    "duration": 3,
    "start_time": "2022-12-20T10:12:08.375Z"
   },
   {
    "duration": 30,
    "start_time": "2022-12-20T10:12:08.381Z"
   },
   {
    "duration": 4,
    "start_time": "2022-12-20T10:12:08.413Z"
   },
   {
    "duration": 12,
    "start_time": "2022-12-20T10:12:08.418Z"
   },
   {
    "duration": 101,
    "start_time": "2022-12-20T10:12:08.435Z"
   },
   {
    "duration": 0,
    "start_time": "2022-12-20T10:12:08.538Z"
   },
   {
    "duration": 0,
    "start_time": "2022-12-20T10:12:08.539Z"
   },
   {
    "duration": 7,
    "start_time": "2022-12-20T10:13:14.182Z"
   },
   {
    "duration": 5,
    "start_time": "2022-12-20T10:13:20.308Z"
   },
   {
    "duration": 73,
    "start_time": "2022-12-20T10:13:21.381Z"
   },
   {
    "duration": 230,
    "start_time": "2022-12-20T10:13:29.013Z"
   },
   {
    "duration": 12,
    "start_time": "2022-12-20T10:20:55.773Z"
   },
   {
    "duration": 5,
    "start_time": "2022-12-20T10:22:13.879Z"
   },
   {
    "duration": 5,
    "start_time": "2022-12-20T10:22:45.774Z"
   },
   {
    "duration": 17,
    "start_time": "2022-12-20T10:23:23.373Z"
   },
   {
    "duration": 241153,
    "start_time": "2022-12-20T10:29:10.302Z"
   },
   {
    "duration": 62759,
    "start_time": "2022-12-20T10:39:24.758Z"
   },
   {
    "duration": 49,
    "start_time": "2022-12-20T10:45:24.017Z"
   },
   {
    "duration": 7,
    "start_time": "2022-12-20T11:04:55.327Z"
   },
   {
    "duration": 7,
    "start_time": "2022-12-20T11:05:19.840Z"
   },
   {
    "duration": 6,
    "start_time": "2022-12-20T11:06:06.455Z"
   },
   {
    "duration": 11,
    "start_time": "2022-12-20T11:06:28.566Z"
   },
   {
    "duration": 9,
    "start_time": "2022-12-20T11:06:33.641Z"
   },
   {
    "duration": 3,
    "start_time": "2022-12-20T11:08:03.808Z"
   },
   {
    "duration": 10,
    "start_time": "2022-12-20T11:08:10.136Z"
   },
   {
    "duration": 9,
    "start_time": "2022-12-20T11:08:19.212Z"
   },
   {
    "duration": 6,
    "start_time": "2022-12-20T11:08:24.169Z"
   },
   {
    "duration": 1083,
    "start_time": "2022-12-20T15:57:59.115Z"
   },
   {
    "duration": 90,
    "start_time": "2022-12-20T15:58:00.307Z"
   },
   {
    "duration": 19,
    "start_time": "2022-12-20T15:58:01.323Z"
   },
   {
    "duration": 8,
    "start_time": "2022-12-20T15:58:03.157Z"
   },
   {
    "duration": 8,
    "start_time": "2022-12-20T15:58:07.398Z"
   },
   {
    "duration": 14,
    "start_time": "2022-12-20T15:58:11.473Z"
   },
   {
    "duration": 17,
    "start_time": "2022-12-20T15:58:23.749Z"
   },
   {
    "duration": 218,
    "start_time": "2022-12-20T15:58:35.531Z"
   },
   {
    "duration": 4,
    "start_time": "2022-12-20T15:58:49.985Z"
   },
   {
    "duration": 19,
    "start_time": "2022-12-20T15:58:59.684Z"
   },
   {
    "duration": 5,
    "start_time": "2022-12-20T15:59:22.773Z"
   },
   {
    "duration": 5,
    "start_time": "2022-12-20T15:59:24.437Z"
   },
   {
    "duration": 6,
    "start_time": "2022-12-20T15:59:38.396Z"
   },
   {
    "duration": 5,
    "start_time": "2022-12-20T16:00:58.625Z"
   },
   {
    "duration": 4,
    "start_time": "2022-12-20T16:01:07.099Z"
   },
   {
    "duration": 6,
    "start_time": "2022-12-20T16:01:11.534Z"
   },
   {
    "duration": 4,
    "start_time": "2022-12-20T16:01:22.653Z"
   },
   {
    "duration": 5,
    "start_time": "2022-12-20T16:01:57.087Z"
   },
   {
    "duration": 79,
    "start_time": "2022-12-20T16:02:52.354Z"
   },
   {
    "duration": 6,
    "start_time": "2022-12-20T16:05:31.587Z"
   },
   {
    "duration": 5,
    "start_time": "2022-12-20T16:26:15.666Z"
   },
   {
    "duration": 8,
    "start_time": "2022-12-20T16:27:37.380Z"
   },
   {
    "duration": 6,
    "start_time": "2022-12-20T16:27:55.462Z"
   },
   {
    "duration": 4,
    "start_time": "2022-12-20T16:28:00.378Z"
   },
   {
    "duration": 8,
    "start_time": "2022-12-20T16:30:40.706Z"
   },
   {
    "duration": 6,
    "start_time": "2022-12-20T16:30:41.118Z"
   },
   {
    "duration": 111,
    "start_time": "2022-12-20T16:54:04.551Z"
   },
   {
    "duration": 18,
    "start_time": "2022-12-20T16:54:20.859Z"
   },
   {
    "duration": 3,
    "start_time": "2022-12-20T16:55:48.315Z"
   },
   {
    "duration": 13,
    "start_time": "2022-12-20T16:58:58.986Z"
   },
   {
    "duration": 188378,
    "start_time": "2022-12-20T16:59:52.159Z"
   },
   {
    "duration": 44,
    "start_time": "2022-12-20T17:08:37.044Z"
   },
   {
    "duration": 196176,
    "start_time": "2022-12-20T17:21:34.086Z"
   },
   {
    "duration": 3,
    "start_time": "2022-12-20T17:42:46.588Z"
   },
   {
    "duration": 14,
    "start_time": "2022-12-20T17:46:52.304Z"
   },
   {
    "duration": 20,
    "start_time": "2022-12-20T17:47:17.520Z"
   },
   {
    "duration": 22,
    "start_time": "2022-12-20T17:48:12.505Z"
   },
   {
    "duration": 27,
    "start_time": "2022-12-20T17:48:15.688Z"
   },
   {
    "duration": 24,
    "start_time": "2022-12-20T17:48:29.363Z"
   },
   {
    "duration": 24,
    "start_time": "2022-12-20T17:48:53.472Z"
   },
   {
    "duration": 188222,
    "start_time": "2022-12-20T17:49:33.636Z"
   },
   {
    "duration": 16,
    "start_time": "2022-12-20T18:02:32.251Z"
   },
   {
    "duration": 16,
    "start_time": "2022-12-20T18:03:10.650Z"
   },
   {
    "duration": 22,
    "start_time": "2022-12-20T18:03:20.088Z"
   },
   {
    "duration": 24,
    "start_time": "2022-12-20T18:03:31.418Z"
   },
   {
    "duration": 118,
    "start_time": "2022-12-20T18:09:22.309Z"
   },
   {
    "duration": 13,
    "start_time": "2022-12-20T18:15:00.621Z"
   },
   {
    "duration": 171,
    "start_time": "2022-12-20T18:15:54.729Z"
   },
   {
    "duration": 169,
    "start_time": "2022-12-20T18:16:32.976Z"
   },
   {
    "duration": 1047,
    "start_time": "2022-12-21T03:34:57.409Z"
   },
   {
    "duration": 86,
    "start_time": "2022-12-21T03:34:58.458Z"
   },
   {
    "duration": 17,
    "start_time": "2022-12-21T03:34:58.546Z"
   },
   {
    "duration": 6,
    "start_time": "2022-12-21T03:34:58.927Z"
   },
   {
    "duration": 8,
    "start_time": "2022-12-21T03:34:59.342Z"
   },
   {
    "duration": 11,
    "start_time": "2022-12-21T03:35:00.529Z"
   },
   {
    "duration": 17,
    "start_time": "2022-12-21T03:35:01.441Z"
   },
   {
    "duration": 186,
    "start_time": "2022-12-21T03:35:03.222Z"
   },
   {
    "duration": 4,
    "start_time": "2022-12-21T03:35:04.897Z"
   },
   {
    "duration": 18,
    "start_time": "2022-12-21T03:35:05.466Z"
   },
   {
    "duration": 5,
    "start_time": "2022-12-21T03:35:07.741Z"
   },
   {
    "duration": 5,
    "start_time": "2022-12-21T03:35:10.788Z"
   },
   {
    "duration": 6,
    "start_time": "2022-12-21T03:35:11.482Z"
   },
   {
    "duration": 5,
    "start_time": "2022-12-21T03:35:12.262Z"
   },
   {
    "duration": 4,
    "start_time": "2022-12-21T03:35:13.081Z"
   },
   {
    "duration": 4,
    "start_time": "2022-12-21T03:35:13.978Z"
   },
   {
    "duration": 5,
    "start_time": "2022-12-21T03:35:15.473Z"
   },
   {
    "duration": 111,
    "start_time": "2022-12-21T03:35:17.911Z"
   },
   {
    "duration": 180680,
    "start_time": "2022-12-21T03:35:25.051Z"
   },
   {
    "duration": 38,
    "start_time": "2022-12-21T03:43:50.760Z"
   },
   {
    "duration": 6,
    "start_time": "2022-12-21T03:43:54.367Z"
   },
   {
    "duration": 4,
    "start_time": "2022-12-21T03:43:59.710Z"
   },
   {
    "duration": 7,
    "start_time": "2022-12-21T03:44:01.858Z"
   },
   {
    "duration": 6,
    "start_time": "2022-12-21T03:44:02.669Z"
   },
   {
    "duration": 16,
    "start_time": "2022-12-21T03:44:03.390Z"
   },
   {
    "duration": 183175,
    "start_time": "2022-12-21T03:44:08.006Z"
   },
   {
    "duration": 564,
    "start_time": "2022-12-21T03:49:55.731Z"
   },
   {
    "duration": 26,
    "start_time": "2022-12-21T03:50:00.640Z"
   },
   {
    "duration": 165,
    "start_time": "2022-12-21T03:51:58.436Z"
   },
   {
    "duration": 167,
    "start_time": "2022-12-21T03:52:07.451Z"
   },
   {
    "duration": 184,
    "start_time": "2022-12-21T03:52:57.222Z"
   },
   {
    "duration": 31,
    "start_time": "2022-12-21T03:53:31.294Z"
   },
   {
    "duration": 182398,
    "start_time": "2022-12-21T03:54:31.537Z"
   },
   {
    "duration": 32,
    "start_time": "2022-12-21T03:57:55.535Z"
   },
   {
    "duration": 13,
    "start_time": "2022-12-21T03:58:58.167Z"
   },
   {
    "duration": 77,
    "start_time": "2022-12-21T04:01:29.248Z"
   },
   {
    "duration": 32,
    "start_time": "2022-12-21T04:02:22.579Z"
   },
   {
    "duration": 37,
    "start_time": "2022-12-21T04:02:32.070Z"
   },
   {
    "duration": 12,
    "start_time": "2022-12-21T04:02:38.198Z"
   },
   {
    "duration": 13,
    "start_time": "2022-12-21T04:02:41.890Z"
   },
   {
    "duration": 31,
    "start_time": "2022-12-21T04:02:51.085Z"
   },
   {
    "duration": 28,
    "start_time": "2022-12-21T04:03:01.835Z"
   },
   {
    "duration": 32,
    "start_time": "2022-12-21T04:03:14.928Z"
   },
   {
    "duration": 27,
    "start_time": "2022-12-21T04:03:25.280Z"
   },
   {
    "duration": 29,
    "start_time": "2022-12-21T04:03:33.120Z"
   },
   {
    "duration": 27,
    "start_time": "2022-12-21T04:04:07.783Z"
   },
   {
    "duration": 19,
    "start_time": "2022-12-21T04:04:15.835Z"
   },
   {
    "duration": 26,
    "start_time": "2022-12-21T04:04:43.482Z"
   },
   {
    "duration": 20,
    "start_time": "2022-12-21T04:18:06.297Z"
   },
   {
    "duration": 16,
    "start_time": "2022-12-21T04:18:37.435Z"
   },
   {
    "duration": 10,
    "start_time": "2022-12-21T04:18:45.727Z"
   },
   {
    "duration": 94,
    "start_time": "2022-12-21T04:19:30.558Z"
   },
   {
    "duration": 18,
    "start_time": "2022-12-21T04:19:35.932Z"
   },
   {
    "duration": 9,
    "start_time": "2022-12-21T04:19:52.072Z"
   },
   {
    "duration": 4,
    "start_time": "2022-12-21T04:19:59.296Z"
   },
   {
    "duration": 5,
    "start_time": "2022-12-21T04:20:24.215Z"
   },
   {
    "duration": 5,
    "start_time": "2022-12-21T04:20:29.819Z"
   },
   {
    "duration": 3,
    "start_time": "2022-12-21T04:26:33.797Z"
   },
   {
    "duration": 18,
    "start_time": "2022-12-21T04:36:56.906Z"
   },
   {
    "duration": 19,
    "start_time": "2022-12-21T04:37:03.498Z"
   },
   {
    "duration": 20,
    "start_time": "2022-12-21T04:38:03.111Z"
   },
   {
    "duration": 23,
    "start_time": "2022-12-21T04:39:09.922Z"
   },
   {
    "duration": 184184,
    "start_time": "2022-12-21T04:39:21.419Z"
   },
   {
    "duration": 252060,
    "start_time": "2022-12-21T04:45:48.216Z"
   },
   {
    "duration": 714,
    "start_time": "2022-12-21T04:50:24.128Z"
   },
   {
    "duration": 33,
    "start_time": "2022-12-21T04:50:32.692Z"
   },
   {
    "duration": 231,
    "start_time": "2022-12-21T04:50:36.640Z"
   },
   {
    "duration": 158,
    "start_time": "2022-12-21T04:50:53.062Z"
   },
   {
    "duration": 251292,
    "start_time": "2022-12-21T04:52:56.899Z"
   },
   {
    "duration": 61,
    "start_time": "2022-12-21T04:57:21.494Z"
   },
   {
    "duration": 27,
    "start_time": "2022-12-21T05:03:53.059Z"
   },
   {
    "duration": 245878,
    "start_time": "2022-12-21T05:04:35.205Z"
   },
   {
    "duration": 222,
    "start_time": "2022-12-21T05:09:22.137Z"
   },
   {
    "duration": 255,
    "start_time": "2022-12-21T05:09:36.071Z"
   },
   {
    "duration": 230,
    "start_time": "2022-12-21T05:11:03.806Z"
   },
   {
    "duration": 75,
    "start_time": "2022-12-21T05:12:06.348Z"
   },
   {
    "duration": 1143,
    "start_time": "2022-12-21T06:32:23.654Z"
   },
   {
    "duration": 170,
    "start_time": "2022-12-21T06:32:24.799Z"
   },
   {
    "duration": 18,
    "start_time": "2022-12-21T06:32:24.971Z"
   },
   {
    "duration": 44,
    "start_time": "2022-12-21T06:32:24.991Z"
   },
   {
    "duration": 62,
    "start_time": "2022-12-21T06:32:25.037Z"
   },
   {
    "duration": 36,
    "start_time": "2022-12-21T06:32:25.101Z"
   },
   {
    "duration": 52,
    "start_time": "2022-12-21T06:32:25.139Z"
   },
   {
    "duration": 231,
    "start_time": "2022-12-21T06:32:25.193Z"
   },
   {
    "duration": 4,
    "start_time": "2022-12-21T06:32:25.426Z"
   },
   {
    "duration": 70,
    "start_time": "2022-12-21T06:32:25.434Z"
   },
   {
    "duration": 39,
    "start_time": "2022-12-21T06:32:25.505Z"
   },
   {
    "duration": 22,
    "start_time": "2022-12-21T06:32:25.546Z"
   },
   {
    "duration": 46,
    "start_time": "2022-12-21T06:32:25.569Z"
   },
   {
    "duration": 56,
    "start_time": "2022-12-21T06:32:25.617Z"
   },
   {
    "duration": 44,
    "start_time": "2022-12-21T06:32:25.675Z"
   },
   {
    "duration": 65,
    "start_time": "2022-12-21T06:32:25.722Z"
   },
   {
    "duration": 33,
    "start_time": "2022-12-21T06:32:25.788Z"
   },
   {
    "duration": 167,
    "start_time": "2022-12-21T06:32:25.823Z"
   },
   {
    "duration": 190896,
    "start_time": "2022-12-21T06:32:26.082Z"
   },
   {
    "duration": 39,
    "start_time": "2022-12-21T06:35:36.980Z"
   },
   {
    "duration": 6,
    "start_time": "2022-12-21T06:35:37.020Z"
   },
   {
    "duration": 8,
    "start_time": "2022-12-21T06:35:37.028Z"
   },
   {
    "duration": 13,
    "start_time": "2022-12-21T06:35:37.037Z"
   },
   {
    "duration": 26,
    "start_time": "2022-12-21T06:35:37.052Z"
   },
   {
    "duration": 18,
    "start_time": "2022-12-21T06:35:37.080Z"
   },
   {
    "duration": 5,
    "start_time": "2022-12-21T06:35:37.100Z"
   },
   {
    "duration": 25,
    "start_time": "2022-12-21T06:35:37.107Z"
   },
   {
    "duration": 266170,
    "start_time": "2022-12-21T06:35:37.134Z"
   },
   {
    "duration": 838,
    "start_time": "2022-12-21T06:40:03.305Z"
   },
   {
    "duration": 48,
    "start_time": "2022-12-21T06:40:04.145Z"
   },
   {
    "duration": 235,
    "start_time": "2022-12-21T06:40:04.194Z"
   },
   {
    "duration": 66,
    "start_time": "2022-12-21T06:40:04.431Z"
   },
   {
    "duration": 257327,
    "start_time": "2022-12-21T06:40:04.579Z"
   },
   {
    "duration": 111,
    "start_time": "2022-12-21T06:44:21.907Z"
   },
   {
    "duration": 0,
    "start_time": "2022-12-21T06:44:22.020Z"
   },
   {
    "duration": 7,
    "start_time": "2022-12-21T06:45:04.208Z"
   },
   {
    "duration": 7,
    "start_time": "2022-12-21T09:39:46.578Z"
   },
   {
    "duration": 9,
    "start_time": "2022-12-21T09:41:13.011Z"
   },
   {
    "duration": 3,
    "start_time": "2022-12-21T09:42:34.707Z"
   },
   {
    "duration": 6,
    "start_time": "2022-12-21T09:42:56.323Z"
   },
   {
    "duration": 20,
    "start_time": "2022-12-21T09:48:44.186Z"
   },
   {
    "duration": 4,
    "start_time": "2022-12-21T09:49:21.704Z"
   },
   {
    "duration": 5,
    "start_time": "2022-12-21T09:49:22.057Z"
   },
   {
    "duration": 6,
    "start_time": "2022-12-21T09:49:22.425Z"
   },
   {
    "duration": 47,
    "start_time": "2022-12-21T09:49:27.487Z"
   },
   {
    "duration": 72,
    "start_time": "2022-12-21T09:51:30.458Z"
   },
   {
    "duration": 76,
    "start_time": "2022-12-21T09:52:24.381Z"
   },
   {
    "duration": 71,
    "start_time": "2022-12-21T09:53:47.102Z"
   },
   {
    "duration": 67,
    "start_time": "2022-12-21T09:54:00.110Z"
   },
   {
    "duration": 46,
    "start_time": "2022-12-21T09:54:18.508Z"
   },
   {
    "duration": 14,
    "start_time": "2022-12-21T09:55:38.399Z"
   },
   {
    "duration": 5,
    "start_time": "2022-12-21T09:56:07.120Z"
   },
   {
    "duration": 4,
    "start_time": "2022-12-21T09:58:19.601Z"
   },
   {
    "duration": 11,
    "start_time": "2022-12-21T09:58:58.641Z"
   },
   {
    "duration": 263885,
    "start_time": "2022-12-21T10:01:09.283Z"
   },
   {
    "duration": 263175,
    "start_time": "2022-12-21T10:07:38.458Z"
   },
   {
    "duration": 3,
    "start_time": "2022-12-21T10:19:07.801Z"
   },
   {
    "duration": 44,
    "start_time": "2022-12-21T10:19:07.865Z"
   },
   {
    "duration": 12,
    "start_time": "2022-12-21T10:19:07.911Z"
   },
   {
    "duration": 22,
    "start_time": "2022-12-21T10:19:07.924Z"
   },
   {
    "duration": 15,
    "start_time": "2022-12-21T10:19:07.948Z"
   },
   {
    "duration": 36,
    "start_time": "2022-12-21T10:19:07.964Z"
   },
   {
    "duration": 27,
    "start_time": "2022-12-21T10:19:08.002Z"
   },
   {
    "duration": 194,
    "start_time": "2022-12-21T10:19:08.030Z"
   },
   {
    "duration": 4,
    "start_time": "2022-12-21T10:19:08.226Z"
   },
   {
    "duration": 39,
    "start_time": "2022-12-21T10:19:08.232Z"
   },
   {
    "duration": 23,
    "start_time": "2022-12-21T10:19:08.274Z"
   },
   {
    "duration": 19,
    "start_time": "2022-12-21T10:19:08.299Z"
   },
   {
    "duration": 19,
    "start_time": "2022-12-21T10:19:08.319Z"
   },
   {
    "duration": 16,
    "start_time": "2022-12-21T10:19:08.339Z"
   },
   {
    "duration": 12,
    "start_time": "2022-12-21T10:19:08.357Z"
   },
   {
    "duration": 12,
    "start_time": "2022-12-21T10:19:08.371Z"
   },
   {
    "duration": 10,
    "start_time": "2022-12-21T10:19:08.385Z"
   },
   {
    "duration": 87,
    "start_time": "2022-12-21T10:19:08.397Z"
   },
   {
    "duration": 194888,
    "start_time": "2022-12-21T10:19:08.486Z"
   },
   {
    "duration": 45,
    "start_time": "2022-12-21T10:22:23.379Z"
   },
   {
    "duration": 6,
    "start_time": "2022-12-21T10:22:23.426Z"
   },
   {
    "duration": 29,
    "start_time": "2022-12-21T10:22:23.433Z"
   },
   {
    "duration": 22,
    "start_time": "2022-12-21T10:22:23.464Z"
   },
   {
    "duration": 24,
    "start_time": "2022-12-21T10:22:23.488Z"
   },
   {
    "duration": 43,
    "start_time": "2022-12-21T10:22:23.513Z"
   },
   {
    "duration": 5,
    "start_time": "2022-12-21T10:22:23.558Z"
   },
   {
    "duration": 27,
    "start_time": "2022-12-21T10:22:23.565Z"
   },
   {
    "duration": 265707,
    "start_time": "2022-12-21T10:22:23.595Z"
   },
   {
    "duration": 765,
    "start_time": "2022-12-21T10:26:49.305Z"
   },
   {
    "duration": 37,
    "start_time": "2022-12-21T10:26:50.071Z"
   },
   {
    "duration": 246,
    "start_time": "2022-12-21T10:26:50.110Z"
   },
   {
    "duration": 121,
    "start_time": "2022-12-21T10:26:50.357Z"
   },
   {
    "duration": 259417,
    "start_time": "2022-12-21T10:26:50.480Z"
   },
   {
    "duration": 2,
    "start_time": "2022-12-21T10:31:09.899Z"
   },
   {
    "duration": 259385,
    "start_time": "2022-12-21T10:36:02.362Z"
   },
   {
    "duration": 257932,
    "start_time": "2022-12-21T10:47:59.647Z"
   },
   {
    "duration": 263002,
    "start_time": "2022-12-21T11:03:06.748Z"
   },
   {
    "duration": 12,
    "start_time": "2022-12-21T11:08:41.999Z"
   },
   {
    "duration": 6,
    "start_time": "2022-12-21T11:10:23.137Z"
   },
   {
    "duration": 6,
    "start_time": "2022-12-21T11:10:28.545Z"
   },
   {
    "duration": 9,
    "start_time": "2022-12-21T11:10:46.865Z"
   },
   {
    "duration": 112,
    "start_time": "2022-12-21T11:10:58.137Z"
   },
   {
    "duration": 91,
    "start_time": "2022-12-21T11:12:23.845Z"
   },
   {
    "duration": 265342,
    "start_time": "2022-12-21T11:12:46.647Z"
   },
   {
    "duration": 722,
    "start_time": "2022-12-21T11:21:47.299Z"
   },
   {
    "duration": 101,
    "start_time": "2022-12-21T11:22:33.997Z"
   },
   {
    "duration": 100,
    "start_time": "2022-12-21T11:22:49.509Z"
   },
   {
    "duration": 76,
    "start_time": "2022-12-21T11:23:08.748Z"
   },
   {
    "duration": 95,
    "start_time": "2022-12-21T11:23:16.645Z"
   },
   {
    "duration": 70,
    "start_time": "2022-12-21T11:23:23.246Z"
   },
   {
    "duration": 228,
    "start_time": "2022-12-21T11:37:40.297Z"
   },
   {
    "duration": 72,
    "start_time": "2022-12-21T11:37:58.897Z"
   },
   {
    "duration": 12,
    "start_time": "2022-12-21T12:07:14.886Z"
   },
   {
    "duration": 11,
    "start_time": "2022-12-21T12:07:55.191Z"
   },
   {
    "duration": 264067,
    "start_time": "2022-12-21T12:09:32.057Z"
   },
   {
    "duration": 67,
    "start_time": "2022-12-21T12:13:56.125Z"
   },
   {
    "duration": 2,
    "start_time": "2022-12-21T12:38:53.728Z"
   },
   {
    "duration": 84,
    "start_time": "2022-12-21T12:40:42.550Z"
   },
   {
    "duration": 82,
    "start_time": "2022-12-21T12:41:52.371Z"
   },
   {
    "duration": 270462,
    "start_time": "2022-12-21T12:46:34.377Z"
   },
   {
    "duration": 359,
    "start_time": "2022-12-21T12:52:00.493Z"
   },
   {
    "duration": 1137,
    "start_time": "2022-12-21T17:00:26.045Z"
   },
   {
    "duration": 93,
    "start_time": "2022-12-21T17:00:56.166Z"
   },
   {
    "duration": 50,
    "start_time": "2022-12-21T17:01:18.000Z"
   },
   {
    "duration": 52,
    "start_time": "2022-12-21T17:02:40.377Z"
   },
   {
    "duration": 19,
    "start_time": "2022-12-21T17:02:41.013Z"
   },
   {
    "duration": 59,
    "start_time": "2022-12-21T17:03:19.397Z"
   },
   {
    "duration": 13,
    "start_time": "2022-12-21T17:03:31.394Z"
   },
   {
    "duration": 15,
    "start_time": "2022-12-21T17:03:48.159Z"
   },
   {
    "duration": 18,
    "start_time": "2022-12-21T17:08:43.252Z"
   },
   {
    "duration": 194,
    "start_time": "2022-12-21T17:08:51.264Z"
   },
   {
    "duration": 4,
    "start_time": "2022-12-21T17:09:32.497Z"
   },
   {
    "duration": 25,
    "start_time": "2022-12-21T17:11:04.667Z"
   },
   {
    "duration": 23,
    "start_time": "2022-12-21T17:11:24.817Z"
   },
   {
    "duration": 5,
    "start_time": "2022-12-21T17:13:25.315Z"
   },
   {
    "duration": 5,
    "start_time": "2022-12-21T17:13:48.702Z"
   },
   {
    "duration": 6,
    "start_time": "2022-12-21T17:13:52.379Z"
   },
   {
    "duration": 5,
    "start_time": "2022-12-21T17:13:55.558Z"
   },
   {
    "duration": 5,
    "start_time": "2022-12-21T17:14:03.988Z"
   },
   {
    "duration": 7,
    "start_time": "2022-12-21T17:14:14.565Z"
   },
   {
    "duration": 6,
    "start_time": "2022-12-21T17:14:16.482Z"
   },
   {
    "duration": 123,
    "start_time": "2022-12-21T17:19:38.930Z"
   },
   {
    "duration": 4,
    "start_time": "2022-12-21T17:20:38.482Z"
   },
   {
    "duration": 62,
    "start_time": "2022-12-21T17:20:38.488Z"
   },
   {
    "duration": 8,
    "start_time": "2022-12-21T17:20:38.552Z"
   },
   {
    "duration": 10,
    "start_time": "2022-12-21T17:20:38.561Z"
   },
   {
    "duration": 25,
    "start_time": "2022-12-21T17:20:38.573Z"
   },
   {
    "duration": 26,
    "start_time": "2022-12-21T17:20:38.600Z"
   },
   {
    "duration": 200,
    "start_time": "2022-12-21T17:20:38.628Z"
   },
   {
    "duration": 5,
    "start_time": "2022-12-21T17:20:38.830Z"
   },
   {
    "duration": 30,
    "start_time": "2022-12-21T17:20:38.836Z"
   },
   {
    "duration": 7,
    "start_time": "2022-12-21T17:20:38.867Z"
   },
   {
    "duration": 25,
    "start_time": "2022-12-21T17:20:38.876Z"
   },
   {
    "duration": 17,
    "start_time": "2022-12-21T17:20:38.902Z"
   },
   {
    "duration": 6,
    "start_time": "2022-12-21T17:20:38.922Z"
   },
   {
    "duration": 7,
    "start_time": "2022-12-21T17:20:38.930Z"
   },
   {
    "duration": 9,
    "start_time": "2022-12-21T17:20:38.938Z"
   },
   {
    "duration": 9,
    "start_time": "2022-12-21T17:20:38.949Z"
   },
   {
    "duration": 238,
    "start_time": "2022-12-21T17:20:38.960Z"
   },
   {
    "duration": 187351,
    "start_time": "2022-12-21T17:20:44.898Z"
   },
   {
    "duration": 54,
    "start_time": "2022-12-21T17:24:18.476Z"
   },
   {
    "duration": 6,
    "start_time": "2022-12-21T17:25:44.088Z"
   },
   {
    "duration": 6,
    "start_time": "2022-12-21T17:26:30.023Z"
   },
   {
    "duration": 9,
    "start_time": "2022-12-21T17:26:40.192Z"
   },
   {
    "duration": 7,
    "start_time": "2022-12-21T17:26:44.922Z"
   },
   {
    "duration": 17,
    "start_time": "2022-12-21T17:27:11.053Z"
   },
   {
    "duration": 5,
    "start_time": "2022-12-21T17:27:13.601Z"
   },
   {
    "duration": 17,
    "start_time": "2022-12-21T17:37:21.757Z"
   },
   {
    "duration": 17,
    "start_time": "2022-12-21T17:37:42.343Z"
   },
   {
    "duration": 256559,
    "start_time": "2022-12-21T17:38:03.872Z"
   },
   {
    "duration": 77,
    "start_time": "2022-12-21T17:43:03.249Z"
   },
   {
    "duration": 22,
    "start_time": "2022-12-21T17:45:07.312Z"
   },
   {
    "duration": 27,
    "start_time": "2022-12-21T17:45:40.035Z"
   },
   {
    "duration": 39,
    "start_time": "2022-12-21T17:45:47.591Z"
   },
   {
    "duration": 37,
    "start_time": "2022-12-21T17:46:35.182Z"
   },
   {
    "duration": 73,
    "start_time": "2022-12-21T17:46:39.252Z"
   },
   {
    "duration": 81,
    "start_time": "2022-12-21T17:46:53.835Z"
   },
   {
    "duration": 11,
    "start_time": "2022-12-21T17:47:51.775Z"
   },
   {
    "duration": 75,
    "start_time": "2022-12-21T17:47:58.178Z"
   },
   {
    "duration": 24,
    "start_time": "2022-12-21T17:48:00.538Z"
   },
   {
    "duration": 95,
    "start_time": "2022-12-21T17:48:04.520Z"
   },
   {
    "duration": 366,
    "start_time": "2022-12-21T17:48:18.916Z"
   },
   {
    "duration": 106,
    "start_time": "2022-12-21T17:49:49.094Z"
   },
   {
    "duration": 2,
    "start_time": "2022-12-21T17:49:56.213Z"
   },
   {
    "duration": 361,
    "start_time": "2022-12-21T17:49:58.668Z"
   },
   {
    "duration": 269150,
    "start_time": "2022-12-21T17:50:22.557Z"
   },
   {
    "duration": 1102,
    "start_time": "2022-12-21T17:56:58.875Z"
   },
   {
    "duration": 91,
    "start_time": "2022-12-21T17:56:59.979Z"
   },
   {
    "duration": 8,
    "start_time": "2022-12-21T17:57:00.072Z"
   },
   {
    "duration": 52,
    "start_time": "2022-12-21T17:57:00.082Z"
   },
   {
    "duration": 13,
    "start_time": "2022-12-21T17:57:00.136Z"
   },
   {
    "duration": 23,
    "start_time": "2022-12-21T17:57:00.151Z"
   },
   {
    "duration": 188,
    "start_time": "2022-12-21T17:57:00.176Z"
   },
   {
    "duration": 4,
    "start_time": "2022-12-21T17:57:00.367Z"
   },
   {
    "duration": 44,
    "start_time": "2022-12-21T17:57:00.373Z"
   },
   {
    "duration": 5,
    "start_time": "2022-12-21T17:57:00.420Z"
   },
   {
    "duration": 11,
    "start_time": "2022-12-21T17:57:00.427Z"
   },
   {
    "duration": 9,
    "start_time": "2022-12-21T17:57:00.439Z"
   },
   {
    "duration": 9,
    "start_time": "2022-12-21T17:57:00.449Z"
   },
   {
    "duration": 15,
    "start_time": "2022-12-21T17:57:00.459Z"
   },
   {
    "duration": 23,
    "start_time": "2022-12-21T17:57:00.475Z"
   },
   {
    "duration": 19,
    "start_time": "2022-12-21T17:57:00.503Z"
   },
   {
    "duration": 88,
    "start_time": "2022-12-21T17:57:00.524Z"
   },
   {
    "duration": 197368,
    "start_time": "2022-12-21T17:57:00.614Z"
   },
   {
    "duration": 58,
    "start_time": "2022-12-21T18:00:17.983Z"
   },
   {
    "duration": 5,
    "start_time": "2022-12-21T18:00:18.043Z"
   },
   {
    "duration": 20,
    "start_time": "2022-12-21T18:00:18.050Z"
   },
   {
    "duration": 25,
    "start_time": "2022-12-21T18:00:18.071Z"
   },
   {
    "duration": 7,
    "start_time": "2022-12-21T18:00:18.100Z"
   },
   {
    "duration": 43,
    "start_time": "2022-12-21T18:00:18.109Z"
   },
   {
    "duration": 8,
    "start_time": "2022-12-21T18:00:18.154Z"
   },
   {
    "duration": 14,
    "start_time": "2022-12-21T18:00:18.166Z"
   },
   {
    "duration": 261334,
    "start_time": "2022-12-21T18:00:18.182Z"
   },
   {
    "duration": 87,
    "start_time": "2022-12-21T18:04:39.519Z"
   },
   {
    "duration": 2,
    "start_time": "2022-12-21T18:04:39.613Z"
   },
   {
    "duration": 325,
    "start_time": "2022-12-21T18:04:39.617Z"
   },
   {
    "duration": 174,
    "start_time": "2022-12-21T18:04:39.944Z"
   },
   {
    "duration": 78,
    "start_time": "2022-12-21T18:04:40.120Z"
   },
   {
    "duration": 463,
    "start_time": "2022-12-21T18:04:40.205Z"
   },
   {
    "duration": 264089,
    "start_time": "2022-12-21T18:04:40.670Z"
   },
   {
    "duration": 2,
    "start_time": "2022-12-21T18:09:04.761Z"
   },
   {
    "duration": 359,
    "start_time": "2022-12-21T18:19:52.300Z"
   },
   {
    "duration": 356,
    "start_time": "2022-12-21T18:19:57.414Z"
   },
   {
    "duration": 5,
    "start_time": "2022-12-21T18:41:05.948Z"
   },
   {
    "duration": 2753,
    "start_time": "2022-12-22T14:43:31.560Z"
   },
   {
    "duration": 68,
    "start_time": "2022-12-22T14:43:34.315Z"
   },
   {
    "duration": 7,
    "start_time": "2022-12-22T14:43:34.385Z"
   },
   {
    "duration": 184,
    "start_time": "2022-12-22T14:43:34.394Z"
   },
   {
    "duration": 27,
    "start_time": "2022-12-22T14:43:34.580Z"
   },
   {
    "duration": 58,
    "start_time": "2022-12-22T14:43:34.609Z"
   },
   {
    "duration": 216,
    "start_time": "2022-12-22T14:43:34.669Z"
   },
   {
    "duration": 5,
    "start_time": "2022-12-22T14:43:34.887Z"
   },
   {
    "duration": 33,
    "start_time": "2022-12-22T14:43:34.893Z"
   },
   {
    "duration": 6,
    "start_time": "2022-12-22T14:43:34.930Z"
   },
   {
    "duration": 26,
    "start_time": "2022-12-22T14:43:34.938Z"
   },
   {
    "duration": 14,
    "start_time": "2022-12-22T14:43:34.965Z"
   },
   {
    "duration": 20,
    "start_time": "2022-12-22T14:43:34.981Z"
   },
   {
    "duration": 9,
    "start_time": "2022-12-22T14:43:35.003Z"
   },
   {
    "duration": 7,
    "start_time": "2022-12-22T14:43:35.014Z"
   },
   {
    "duration": 11,
    "start_time": "2022-12-22T14:43:35.023Z"
   },
   {
    "duration": 146,
    "start_time": "2022-12-22T14:43:35.035Z"
   },
   {
    "duration": 46391,
    "start_time": "2022-12-22T14:43:35.183Z"
   },
   {
    "duration": 0,
    "start_time": "2022-12-22T14:44:21.576Z"
   },
   {
    "duration": 0,
    "start_time": "2022-12-22T14:44:21.576Z"
   },
   {
    "duration": 0,
    "start_time": "2022-12-22T14:44:21.577Z"
   },
   {
    "duration": 0,
    "start_time": "2022-12-22T14:44:21.579Z"
   },
   {
    "duration": 0,
    "start_time": "2022-12-22T14:44:21.580Z"
   },
   {
    "duration": 0,
    "start_time": "2022-12-22T14:44:21.581Z"
   },
   {
    "duration": 5,
    "start_time": "2022-12-22T14:44:25.792Z"
   },
   {
    "duration": 8,
    "start_time": "2022-12-22T14:44:26.492Z"
   },
   {
    "duration": 6,
    "start_time": "2022-12-22T14:44:26.729Z"
   },
   {
    "duration": 16,
    "start_time": "2022-12-22T14:44:27.102Z"
   },
   {
    "duration": 18,
    "start_time": "2022-12-22T14:44:56.612Z"
   },
   {
    "duration": 1068,
    "start_time": "2022-12-23T16:56:56.246Z"
   },
   {
    "duration": 191,
    "start_time": "2022-12-23T16:56:57.866Z"
   },
   {
    "duration": 7,
    "start_time": "2022-12-23T16:57:03.514Z"
   },
   {
    "duration": 8,
    "start_time": "2022-12-23T16:57:05.878Z"
   },
   {
    "duration": 11,
    "start_time": "2022-12-23T16:57:09.930Z"
   },
   {
    "duration": 4,
    "start_time": "2022-12-23T16:59:00.736Z"
   },
   {
    "duration": 93,
    "start_time": "2022-12-23T16:59:42.630Z"
   },
   {
    "duration": 5,
    "start_time": "2022-12-23T17:01:04.749Z"
   },
   {
    "duration": 3,
    "start_time": "2022-12-23T17:05:58.850Z"
   },
   {
    "duration": 59,
    "start_time": "2022-12-23T17:05:58.856Z"
   },
   {
    "duration": 9,
    "start_time": "2022-12-23T17:05:58.918Z"
   },
   {
    "duration": 5,
    "start_time": "2022-12-23T17:06:16.737Z"
   },
   {
    "duration": 5,
    "start_time": "2022-12-23T17:06:31.865Z"
   },
   {
    "duration": 3,
    "start_time": "2022-12-23T17:07:14.868Z"
   },
   {
    "duration": 3,
    "start_time": "2022-12-23T17:07:19.247Z"
   },
   {
    "duration": 8,
    "start_time": "2022-12-23T17:07:58.719Z"
   },
   {
    "duration": 5,
    "start_time": "2022-12-23T17:08:12.676Z"
   },
   {
    "duration": 10,
    "start_time": "2022-12-23T17:08:28.114Z"
   },
   {
    "duration": 12,
    "start_time": "2022-12-23T17:11:23.941Z"
   },
   {
    "duration": 9,
    "start_time": "2022-12-23T17:13:59.029Z"
   },
   {
    "duration": 4,
    "start_time": "2022-12-23T17:14:55.977Z"
   },
   {
    "duration": 55,
    "start_time": "2022-12-23T17:14:58.434Z"
   },
   {
    "duration": 8,
    "start_time": "2022-12-23T17:15:02.526Z"
   },
   {
    "duration": 8,
    "start_time": "2022-12-23T17:15:05.237Z"
   },
   {
    "duration": 6,
    "start_time": "2022-12-23T17:15:06.025Z"
   },
   {
    "duration": 18,
    "start_time": "2022-12-23T17:20:04.283Z"
   },
   {
    "duration": 3,
    "start_time": "2022-12-23T17:24:02.416Z"
   },
   {
    "duration": 2,
    "start_time": "2022-12-23T17:25:51.539Z"
   },
   {
    "duration": 18,
    "start_time": "2022-12-23T17:25:53.012Z"
   },
   {
    "duration": 1112,
    "start_time": "2022-12-23T17:28:28.520Z"
   },
   {
    "duration": 1077,
    "start_time": "2022-12-23T17:32:17.567Z"
   },
   {
    "duration": 4,
    "start_time": "2022-12-23T17:32:55.436Z"
   },
   {
    "duration": 14,
    "start_time": "2022-12-23T17:33:07.325Z"
   },
   {
    "duration": 2,
    "start_time": "2022-12-23T17:34:33.773Z"
   },
   {
    "duration": 14,
    "start_time": "2022-12-23T17:34:34.729Z"
   },
   {
    "duration": 209,
    "start_time": "2022-12-23T17:34:42.165Z"
   },
   {
    "duration": 4,
    "start_time": "2022-12-23T17:34:43.722Z"
   },
   {
    "duration": 23,
    "start_time": "2022-12-23T17:34:48.118Z"
   },
   {
    "duration": 7,
    "start_time": "2022-12-23T17:35:06.218Z"
   },
   {
    "duration": 5,
    "start_time": "2022-12-23T17:35:10.964Z"
   },
   {
    "duration": 7,
    "start_time": "2022-12-23T17:35:11.818Z"
   },
   {
    "duration": 6,
    "start_time": "2022-12-23T17:35:12.489Z"
   },
   {
    "duration": 5,
    "start_time": "2022-12-23T17:35:13.441Z"
   },
   {
    "duration": 5,
    "start_time": "2022-12-23T17:35:13.767Z"
   },
   {
    "duration": 7,
    "start_time": "2022-12-23T17:35:14.427Z"
   },
   {
    "duration": 44,
    "start_time": "2022-12-23T17:35:15.971Z"
   },
   {
    "duration": 199747,
    "start_time": "2022-12-23T17:35:23.282Z"
   },
   {
    "duration": 43,
    "start_time": "2022-12-23T17:38:59.272Z"
   },
   {
    "duration": 7,
    "start_time": "2022-12-23T17:40:02.429Z"
   },
   {
    "duration": 9,
    "start_time": "2022-12-23T17:40:54.757Z"
   },
   {
    "duration": 10,
    "start_time": "2022-12-23T17:41:02.186Z"
   },
   {
    "duration": 12,
    "start_time": "2022-12-23T17:41:09.721Z"
   },
   {
    "duration": 11,
    "start_time": "2022-12-23T17:45:31.019Z"
   },
   {
    "duration": 7,
    "start_time": "2022-12-23T17:45:40.517Z"
   },
   {
    "duration": 6,
    "start_time": "2022-12-23T17:45:54.214Z"
   },
   {
    "duration": 8,
    "start_time": "2022-12-23T17:45:55.928Z"
   },
   {
    "duration": 7,
    "start_time": "2022-12-23T17:45:57.269Z"
   },
   {
    "duration": 30,
    "start_time": "2022-12-23T17:45:58.013Z"
   },
   {
    "duration": 8,
    "start_time": "2022-12-23T17:46:12.441Z"
   },
   {
    "duration": 4,
    "start_time": "2022-12-23T17:50:24.244Z"
   },
   {
    "duration": 13,
    "start_time": "2022-12-23T17:50:27.271Z"
   },
   {
    "duration": 258381,
    "start_time": "2022-12-23T17:50:28.613Z"
   },
   {
    "duration": 94,
    "start_time": "2022-12-23T17:54:46.996Z"
   },
   {
    "duration": 126,
    "start_time": "2022-12-23T17:54:47.092Z"
   },
   {
    "duration": 386,
    "start_time": "2022-12-23T17:55:49.402Z"
   },
   {
    "duration": 90,
    "start_time": "2022-12-23T17:57:02.527Z"
   },
   {
    "duration": 68,
    "start_time": "2022-12-23T17:57:45.237Z"
   },
   {
    "duration": 1136,
    "start_time": "2022-12-28T10:42:37.618Z"
   },
   {
    "duration": 109,
    "start_time": "2022-12-28T10:42:38.755Z"
   },
   {
    "duration": 7,
    "start_time": "2022-12-28T10:42:38.866Z"
   },
   {
    "duration": 12,
    "start_time": "2022-12-28T10:42:38.875Z"
   },
   {
    "duration": 13,
    "start_time": "2022-12-28T10:42:38.889Z"
   },
   {
    "duration": 10,
    "start_time": "2022-12-28T10:42:38.903Z"
   },
   {
    "duration": 4,
    "start_time": "2022-12-28T10:42:38.915Z"
   },
   {
    "duration": 14,
    "start_time": "2022-12-28T10:42:38.921Z"
   },
   {
    "duration": 227,
    "start_time": "2022-12-28T10:42:38.937Z"
   },
   {
    "duration": 4,
    "start_time": "2022-12-28T10:42:39.167Z"
   },
   {
    "duration": 23,
    "start_time": "2022-12-28T10:42:39.173Z"
   },
   {
    "duration": 20,
    "start_time": "2022-12-28T10:42:39.197Z"
   },
   {
    "duration": 6,
    "start_time": "2022-12-28T10:42:39.219Z"
   },
   {
    "duration": 7,
    "start_time": "2022-12-28T10:42:39.227Z"
   },
   {
    "duration": 6,
    "start_time": "2022-12-28T10:42:39.235Z"
   },
   {
    "duration": 12,
    "start_time": "2022-12-28T10:42:39.242Z"
   },
   {
    "duration": 13,
    "start_time": "2022-12-28T10:42:39.256Z"
   },
   {
    "duration": 9,
    "start_time": "2022-12-28T10:42:39.271Z"
   },
   {
    "duration": 231,
    "start_time": "2022-12-28T10:42:39.281Z"
   },
   {
    "duration": 199377,
    "start_time": "2022-12-28T10:42:39.514Z"
   },
   {
    "duration": 59,
    "start_time": "2022-12-28T10:45:58.893Z"
   },
   {
    "duration": 8,
    "start_time": "2022-12-28T10:45:58.954Z"
   },
   {
    "duration": 21,
    "start_time": "2022-12-28T10:45:58.964Z"
   },
   {
    "duration": 25,
    "start_time": "2022-12-28T10:45:58.988Z"
   },
   {
    "duration": 6,
    "start_time": "2022-12-28T10:45:59.015Z"
   },
   {
    "duration": 20,
    "start_time": "2022-12-28T10:45:59.023Z"
   },
   {
    "duration": 17,
    "start_time": "2022-12-28T10:45:59.045Z"
   },
   {
    "duration": 18,
    "start_time": "2022-12-28T10:45:59.067Z"
   },
   {
    "duration": 26,
    "start_time": "2022-12-28T10:45:59.087Z"
   },
   {
    "duration": 36,
    "start_time": "2022-12-28T10:45:59.115Z"
   },
   {
    "duration": 239,
    "start_time": "2022-12-28T10:45:59.153Z"
   },
   {
    "duration": 99,
    "start_time": "2022-12-28T10:45:59.398Z"
   },
   {
    "duration": 0,
    "start_time": "2022-12-28T10:45:59.500Z"
   },
   {
    "duration": 0,
    "start_time": "2022-12-28T10:45:59.501Z"
   },
   {
    "duration": 0,
    "start_time": "2022-12-28T10:45:59.501Z"
   },
   {
    "duration": 973,
    "start_time": "2022-12-28T10:48:04.407Z"
   }
  ],
  "kernelspec": {
   "display_name": "Python 3 (ipykernel)",
   "language": "python",
   "name": "python3"
  },
  "language_info": {
   "codemirror_mode": {
    "name": "ipython",
    "version": 3
   },
   "file_extension": ".py",
   "mimetype": "text/x-python",
   "name": "python",
   "nbconvert_exporter": "python",
   "pygments_lexer": "ipython3",
   "version": "3.9.16"
  },
  "toc": {
   "base_numbering": 1,
   "nav_menu": {},
   "number_sections": true,
   "sideBar": true,
   "skip_h1_title": true,
   "title_cell": "Содержание",
   "title_sidebar": "Contents",
   "toc_cell": true,
   "toc_position": {
    "height": "calc(100% - 180px)",
    "left": "10px",
    "top": "150px",
    "width": "345.6px"
   },
   "toc_section_display": true,
   "toc_window_display": true
  }
 },
 "nbformat": 4,
 "nbformat_minor": 2
}
